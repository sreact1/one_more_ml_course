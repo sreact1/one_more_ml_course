{
 "cells": [
  {
   "cell_type": "markdown",
   "metadata": {},
   "source": [
    "# template"
   ]
  },
  {
   "cell_type": "code",
   "execution_count": 1,
   "metadata": {},
   "outputs": [],
   "source": [
    "## template\n",
    "import math\n",
    "\n",
    "import numpy as np\n",
    "import torch\n",
    "from catboost.datasets import msrank_10k\n",
    "from sklearn.preprocessing import StandardScaler\n",
    "\n",
    "from typing import List\n",
    "\n",
    "\n",
    "class ListNet(torch.nn.Module):\n",
    "    def __init__(self, num_input_features: int, hidden_dim: int):\n",
    "        super().__init__()\n",
    "        self.hidden_dim = hidden_dim\n",
    "        # укажите архитектуру простой модели здесь\n",
    "        self.model = None\n",
    "\n",
    "    def forward(self, input_1: torch.Tensor) -> torch.Tensor:\n",
    "        logits = self.model(input_1)\n",
    "        return logits\n",
    "\n",
    "\n",
    "class Solution:\n",
    "    def __init__(self, n_epochs: int = 5, listnet_hidden_dim: int = 30,\n",
    "                 lr: float = 0.001, ndcg_top_k: int = 10):\n",
    "        self._prepare_data()\n",
    "        self.num_input_features = self.X_train.shape[1]\n",
    "        self.ndcg_top_k = ndcg_top_k\n",
    "        self.n_epochs = n_epochs\n",
    "\n",
    "        self.model = self._create_model(\n",
    "            self.num_input_features, listnet_hidden_dim)\n",
    "        self.optimizer = torch.optim.Adam(self.model.parameters(), lr=lr)\n",
    "\n",
    "    def _get_data(self) -> List[np.ndarray]:\n",
    "        train_df, test_df = msrank_10k()\n",
    "\n",
    "        X_train = train_df.drop([0, 1], axis=1).values\n",
    "        y_train = train_df[0].values\n",
    "        query_ids_train = train_df[1].values.astype(int)\n",
    "\n",
    "        X_test = test_df.drop([0, 1], axis=1).values\n",
    "        y_test = test_df[0].values\n",
    "        query_ids_test = test_df[1].values.astype(int)\n",
    "\n",
    "        return [X_train, y_train, query_ids_train, X_test, y_test, query_ids_test]\n",
    "\n",
    "    def _prepare_data(self) -> None:\n",
    "        (X_train, y_train, self.query_ids_train,\n",
    "            X_test, y_test, self.query_ids_test) = self._get_data()\n",
    "        # допишите ваш код здесь\n",
    "        pass\n",
    "\n",
    "    def _scale_features_in_query_groups(self, inp_feat_array: np.ndarray,\n",
    "                                        inp_query_ids: np.ndarray) -> np.ndarray:\n",
    "        # допишите ваш код здесь\n",
    "        pass\n",
    "\n",
    "    def _create_model(self, listnet_num_input_features: int,\n",
    "                      listnet_hidden_dim: int) -> torch.nn.Module:\n",
    "        torch.manual_seed(0)\n",
    "        # допишите ваш код здесь\n",
    "        net = ...\n",
    "        return net\n",
    "\n",
    "    def fit(self) -> List[float]:\n",
    "        # допишите ваш код здесь\n",
    "        pass\n",
    "\n",
    "    def _calc_loss(self, batch_ys: torch.FloatTensor,\n",
    "                   batch_pred: torch.FloatTensor) -> torch.FloatTensor:\n",
    "        # допишите ваш код здесь\n",
    "        pass\n",
    "\n",
    "    def _train_one_epoch(self) -> None:\n",
    "        self.model.train()\n",
    "        # допишите ваш код здесь\n",
    "        pass\n",
    "\n",
    "    def _eval_test_set(self) -> float:\n",
    "        with torch.no_grad():\n",
    "            self.model.eval()\n",
    "            ndcgs = []\n",
    "            # допишите ваш код здесь\n",
    "            return np.mean(ndcgs)\n",
    "\n",
    "    def _ndcg_k(self, ys_true: torch.Tensor, ys_pred: torch.Tensor,\n",
    "                ndcg_top_k: int) -> float:\n",
    "        # допишите ваш код здесь\n",
    "        pass\n"
   ]
  },
  {
   "cell_type": "markdown",
   "metadata": {},
   "source": [
    "# code to send"
   ]
  },
  {
   "cell_type": "code",
   "execution_count": 282,
   "metadata": {},
   "outputs": [],
   "source": [
    "## template\n",
    "import math\n",
    "\n",
    "import numpy as np\n",
    "import torch\n",
    "from catboost.datasets import msrank_10k\n",
    "from sklearn.preprocessing import StandardScaler\n",
    "\n",
    "from typing import List\n",
    "\n",
    "\n",
    "class ListNet(torch.nn.Module):\n",
    "    def __init__(self, num_input_features: int, hidden_dim: int):\n",
    "        super().__init__()\n",
    "        self.hidden_dim = hidden_dim\n",
    "        # укажите архитектуру простой модели здесь\n",
    "        self.model = torch.nn.Sequential(\n",
    "            torch.nn.Linear(num_input_features, self.hidden_dim),\n",
    "            torch.nn.ReLU(),\n",
    "            torch.nn.Linear(self.hidden_dim, 1),\n",
    "        )\n",
    "        self.out_activation = torch.nn.Sigmoid()\n",
    "\n",
    "    def forward(self, input_1: torch.Tensor) -> torch.Tensor:\n",
    "        logits = self.model(input_1)\n",
    "        return logits\n",
    "    \n",
    "class Solution:\n",
    "    def __init__(self, n_epochs: int = 5, listnet_hidden_dim: int = 30,\n",
    "                 lr: float = 0.001, ndcg_top_k: int = 10):\n",
    "        self._prepare_data()\n",
    "        self.num_input_features = self.X_train.shape[1]\n",
    "        self.ndcg_top_k = ndcg_top_k\n",
    "        self.n_epochs = n_epochs\n",
    "\n",
    "        self.model = self._create_model(\n",
    "            self.num_input_features, listnet_hidden_dim)\n",
    "        self.optimizer = torch.optim.Adam(self.model.parameters(), lr=lr)\n",
    "\n",
    "    def _get_data(self) -> List[np.ndarray]:\n",
    "        train_df, test_df = msrank_10k()\n",
    "\n",
    "        X_train = train_df.drop([0, 1], axis=1).values\n",
    "        y_train = train_df[0].values\n",
    "        query_ids_train = train_df[1].values.astype(int)\n",
    "\n",
    "        X_test = test_df.drop([0, 1], axis=1).values\n",
    "        y_test = test_df[0].values\n",
    "        query_ids_test = test_df[1].values.astype(int)\n",
    "\n",
    "        return [X_train, y_train, query_ids_train, X_test, y_test, query_ids_test]\n",
    "\n",
    "    def _prepare_data(self) -> None:\n",
    "        (X_train, y_train, self.query_ids_train,\n",
    "            X_test, y_test, self.query_ids_test) = self._get_data()\n",
    "        \n",
    "        self.X_train = torch.FloatTensor(self._scale_features_in_query_groups(\n",
    "            inp_feat_array=X_train, inp_query_ids=self.query_ids_train))\n",
    "        self.ys_train = torch.FloatTensor(y_train)\n",
    "        \n",
    "        \n",
    "        self.X_test = torch.FloatTensor(self._scale_features_in_query_groups(\n",
    "            inp_feat_array=X_test, inp_query_ids=self.query_ids_test))\n",
    "        self.ys_test = torch.FloatTensor(y_test)\n",
    "\n",
    "    def _scale_features_in_query_groups(self, inp_feat_array: np.ndarray,\n",
    "                                    inp_query_ids: np.ndarray) -> np.ndarray:\n",
    "    \n",
    "        inp_query_ids_uniq = np.unique(inp_query_ids)\n",
    "\n",
    "        for id_i in inp_query_ids_uniq:\n",
    "            scaler = StandardScaler()\n",
    "            inp_feat_array[inp_query_ids == id_i, :] = \\\n",
    "                scaler.fit_transform(inp_feat_array[inp_query_ids == id_i, :])\n",
    "\n",
    "        return inp_feat_array\n",
    "\n",
    "    def _create_model(self, listnet_num_input_features: int,\n",
    "                      listnet_hidden_dim: int) -> torch.nn.Module:\n",
    "        torch.manual_seed(0)\n",
    "        # допишите ваш код здесь\n",
    "        net = ListNet(num_input_features=listnet_num_input_features,\\\n",
    "                      hidden_dim=listnet_hidden_dim)\n",
    "        return net\n",
    "\n",
    "    \n",
    "    def fit(self) -> List[float]:\n",
    "        # допишите ваш код здесь\n",
    "#         self.model.train()\n",
    "        ndcg_k = []\n",
    "        for epoche in range(5):\n",
    "            self._train_one_epoch()\n",
    "            ndcg_k.append(self._eval_test_set())\n",
    "#             print('epoche {} finished'.format(epoche + 1))\n",
    "#             print('mean test nDCG top 10 score {}'.format(self._eval_test_set()))\n",
    "        return ndcg_k\n",
    "    \n",
    "    def _calc_loss(self, batch_ys: torch.FloatTensor,\n",
    "                   batch_pred: torch.FloatTensor) -> torch.FloatTensor:\n",
    "        # допишите ваш код здесь\n",
    "        #         def listnet_ce_loss(y_i, z_i):\n",
    "        #     \"\"\"\n",
    "        #     y_i: (n_i, 1) GT\n",
    "        #     z_i: (n_i, 1) preds\n",
    "        #     \"\"\"\n",
    "\n",
    "        P_y_i = torch.softmax(batch_ys, dim=0)\n",
    "        P_z_i = torch.softmax(batch_pred, dim=0)\n",
    "        \n",
    "#         return -torch.sum(P_y_i * torch.log(P_z_i))\n",
    "        return -torch.sum(P_y_i * torch.log(P_z_i/P_y_i))\n",
    "\n",
    "    def _train_one_epoch(self) -> None:\n",
    "        # допишите ваш код здесь\n",
    "        self.model.train()\n",
    "        ids_uniq = np.unique(self.query_ids_train)\n",
    "#         ids_uniq_rand = ids_uniq\n",
    "        ids_uniq_rand = ids_uniq[torch.randperm(len(ids_uniq))]\n",
    "        \n",
    "        for n_id in ids_uniq_rand:\n",
    "        \n",
    "            X_train_id = self.X_train[self.query_ids_train == n_id]\n",
    "            ys_train_id = self.ys_train[self.query_ids_train == n_id]\n",
    "            \n",
    "#             N_train = np.shape(X_train_id)[0]\n",
    "#             idx_rand = torch.randperm(N_train)\n",
    "#             X_train_id = X_train_id[idx_rand]\n",
    "#             ys_train_id = ys_train_id[idx_rand]\n",
    "            \n",
    "#             batch_X = X_train_id\n",
    "#             batch_ys = ys_train_id\n",
    "\n",
    "#             self.optimizer.zero_grad()\n",
    "#             # self.optimizer.no_grad()\n",
    "#             # torch.no_grad()\n",
    "            \n",
    "# #             if len(batch_X) > 0:\n",
    "#             batch_pred = self.model(batch_X).reshape(-1,)\n",
    "# #                 print('batch_pred')\n",
    "# #                 print(batch_pred)\n",
    "#             batch_loss = self._calc_loss(batch_ys=batch_ys, batch_pred=batch_pred)\n",
    "#             batch_loss.backward(retain_graph=False)\n",
    "# #             batch_loss.backward(retain_graph=True)\n",
    "#             self.optimizer.step()\n",
    "            \n",
    "            batch_size = 25\n",
    "            cur_batch = 0\n",
    "            N_train = np.shape(X_train_id)[0]\n",
    "\n",
    "            for n_batch in range(N_train // batch_size):\n",
    "                batch_X = X_train_id[cur_batch: cur_batch + batch_size]\n",
    "                batch_ys = ys_train_id[cur_batch: cur_batch + batch_size]\n",
    "                cur_batch += batch_size\n",
    "\n",
    "                self.optimizer.zero_grad()\n",
    "#                 if len(batch_X) > 0:\n",
    "                batch_pred = self.model(batch_X).reshape(-1,)\n",
    "                batch_loss = self._calc_loss(batch_ys=batch_ys, batch_pred=batch_pred)\n",
    "                batch_loss.backward(retain_graph=False)\n",
    "                self.optimizer.step()\n",
    "\n",
    "                \n",
    "    def _eval_test_set(self) -> float:\n",
    "        with torch.no_grad():\n",
    "            self.model.eval()\n",
    "            ndcgs = []\n",
    "            # допишите ваш код здесь\n",
    "            with torch.no_grad():\n",
    "                \n",
    "                ids_test_uniq = np.unique(self.query_ids_test)\n",
    "                \n",
    "                for id_test in ids_test_uniq:\n",
    "                    cur_X_test = self.X_test[self.query_ids_test == id_test]\n",
    "                    valid_pred = self.model(cur_X_test)\n",
    "#                     print('self.ys_test[self.query_ids_test == id_test]')\n",
    "#                     print(self.ys_test[self.query_ids_test == id_test])\n",
    "                    cur_ndcg_k = self._ndcg_k(\\\n",
    "                        ys_true=self.ys_test[self.query_ids_test == id_test],\\\n",
    "                        ys_pred=valid_pred,\\\n",
    "                        ndcg_top_k=10)\n",
    "        \n",
    "                    ndcgs.append(cur_ndcg_k)\n",
    "                \n",
    "                #  ndcgs_avg = sum(ndcgs) / len(ndcgs)\n",
    "                #  print('mean test nDCG top 10 score {}'.format(ndcgs_avg))\n",
    "            \n",
    "            return np.mean(ndcgs)\n",
    "        \n",
    "        \n",
    "    def _ndcg_k(self, ys_true: torch.Tensor, ys_pred: torch.Tensor,\n",
    "                ndcg_top_k: int) -> float:\n",
    "        # допишите ваш код здесь\n",
    "        ys_true = torch.reshape(ys_true, (-1,))\n",
    "        ys_pred = torch.reshape(ys_pred, (-1,))\n",
    "        \n",
    "        ys_pred_sorted = torch.sort(ys_pred, descending=True)\n",
    "        ys_true_sorted = ys_true[ys_pred_sorted[1]]\n",
    "        ys_true_sorted_sep = torch.sort(ys_true, descending=True)[0]\n",
    "        \n",
    "#         print('ys_true')\n",
    "#         print(np.shape(ys_true_sorted[:ndcg_top_k]))\n",
    "#         print(ys_true_sorted[:ndcg_top_k])\n",
    "#         print('ys_pred')\n",
    "#         print(np.shape(ys_pred_sorted[0][:ndcg_top_k]))\n",
    "#         print(ys_pred_sorted[0][:ndcg_top_k])\n",
    "        \n",
    "#         ndcg_k = self._ndcg(ys_true=ys_true_sorted[:self.ndcg_top_k],\\\n",
    "#                             ys_pred=ys_pred_sorted[0][:self.ndcg_top_k],\\\n",
    "#                             gain_scheme='exp2')\n",
    "        dcg_act = self._dcg(ys_true=ys_true_sorted[:self.ndcg_top_k],\\\n",
    "                            ys_pred=ys_pred_sorted[0][:self.ndcg_top_k],\\\n",
    "                            gain_scheme='exp2')\n",
    "        \n",
    "        dcg_max = self._dcg(ys_true=ys_true_sorted_sep[:self.ndcg_top_k],\\\n",
    "                            ys_pred=ys_true_sorted_sep[:self.ndcg_top_k],\\\n",
    "                            gain_scheme='exp2')\n",
    "        \n",
    "        try:\n",
    "            ndcg_k = dcg_act / dcg_max\n",
    "        except:\n",
    "            ndcg_k = 0\n",
    "            \n",
    "        if np.isnan(ndcg_k):\n",
    "            ndcg_k = 0\n",
    "        \n",
    "        return ndcg_k\n",
    "\n",
    "\n",
    "    def _ndcg(ys_true: torch.Tensor, ys_pred: torch.Tensor, gain_scheme: str = 'const') -> float:\n",
    "#     def _ndcg(self, ys_true: torch.Tensor, ys_pred: torch.Tensor, gain_scheme: str) -> float:\n",
    "        try:\n",
    "            ndcg_val = self._dcg(ys_true=ys_true, ys_pred=ys_pred, gain_scheme=gain_scheme) / \\\n",
    "                self._dcg(ys_true=ys_true, ys_pred=ys_true, gain_scheme=gain_scheme)\n",
    "        except:\n",
    "            ndcg_val = 0.\n",
    "        \n",
    "        return ndcg_val\n",
    "    \n",
    "    def _compute_gain(self, y_value: float, gain_scheme: str) -> float:\n",
    "#         if gain_scheme == 'exp2':\n",
    "#             return 2 ** y_value - 1.\n",
    "#         else:\n",
    "#             return y_value + 0.\n",
    "        return 2 ** y_value - 1.\n",
    "\n",
    "    def _dcg(self, ys_true: torch.Tensor, ys_pred: torch.Tensor, gain_scheme: str) -> float:\n",
    "        ys_pred_sorted = torch.sort(ys_pred, descending=True)\n",
    "        log2_list = [math.log2(x) for x in range(2, len(ys_pred) + 2)]\n",
    "\n",
    "        dcg_val = 0.\n",
    "        for i in range(len(log2_list)):\n",
    "            dcg_val += self._compute_gain(ys_true[ys_pred_sorted[1]][i].item(), \\\n",
    "                                          gain_scheme=gain_scheme) / log2_list[i]\n",
    "\n",
    "        return dcg_val\n",
    "     \n",
    "        "
   ]
  },
  {
   "cell_type": "code",
   "execution_count": null,
   "metadata": {},
   "outputs": [],
   "source": []
  },
  {
   "cell_type": "code",
   "execution_count": 283,
   "metadata": {},
   "outputs": [],
   "source": [
    "tst_sol1 = Solution()"
   ]
  },
  {
   "cell_type": "code",
   "execution_count": 284,
   "metadata": {},
   "outputs": [
    {
     "name": "stdout",
     "output_type": "stream",
     "text": [
      "CPU times: user 6.28 s, sys: 20.2 ms, total: 6.3 s\n",
      "Wall time: 2.75 s\n"
     ]
    },
    {
     "data": {
      "text/plain": [
       "[0.4383475148550584,\n",
       " 0.4460355182606021,\n",
       " 0.43370513192682997,\n",
       " 0.43956455185826937,\n",
       " 0.44388108952724925]"
      ]
     },
     "execution_count": 284,
     "metadata": {},
     "output_type": "execute_result"
    }
   ],
   "source": [
    "%%time\n",
    "tst_sol1.fit()"
   ]
  },
  {
   "cell_type": "code",
   "execution_count": 253,
   "metadata": {},
   "outputs": [
    {
     "name": "stdout",
     "output_type": "stream",
     "text": [
      "CPU times: user 11.7 s, sys: 140 ms, total: 11.9 s\n",
      "Wall time: 1.66 s\n"
     ]
    },
    {
     "data": {
      "text/plain": [
       "[0.4159571081953855,\n",
       " 0.4348203274238781,\n",
       " 0.4177221612058919,\n",
       " 0.4354188390581321,\n",
       " 0.4312588827113882]"
      ]
     },
     "execution_count": 253,
     "metadata": {},
     "output_type": "execute_result"
    }
   ],
   "source": [
    "%%time\n",
    "tst_sol1.fit()"
   ]
  },
  {
   "cell_type": "code",
   "execution_count": 126,
   "metadata": {},
   "outputs": [
    {
     "data": {
      "text/plain": [
       "tensor([0., 1., 2., 3., 4.])"
      ]
     },
     "execution_count": 126,
     "metadata": {},
     "output_type": "execute_result"
    }
   ],
   "source": [
    "torch.unique(tst_sol1.ys_train)\n",
    "torch.unique(tst_sol1.ys_test)"
   ]
  },
  {
   "cell_type": "code",
   "execution_count": 125,
   "metadata": {},
   "outputs": [
    {
     "data": {
      "text/plain": [
       "10000"
      ]
     },
     "execution_count": 125,
     "metadata": {},
     "output_type": "execute_result"
    }
   ],
   "source": [
    "np.shape(tst_sol1.X_train)[0]"
   ]
  },
  {
   "cell_type": "markdown",
   "metadata": {},
   "source": [
    "# solution"
   ]
  },
  {
   "cell_type": "code",
   "execution_count": null,
   "metadata": {},
   "outputs": [],
   "source": [
    "def _get_data(self) -> List[np.ndarray]:\n",
    "    train_df, test_df = msrank_10k()\n",
    "\n",
    "    X_train = train_df.drop([0, 1], axis=1).values\n",
    "    y_train = train_df[0].values\n",
    "    query_ids_train = train_df[1].values.astype(int)\n",
    "\n",
    "    X_test = test_df.drop([0, 1], axis=1).values\n",
    "    y_test = test_df[0].values\n",
    "    query_ids_test = test_df[1].values.astype(int)\n",
    "\n",
    "    return [X_train, y_train, query_ids_train, X_test, y_test, query_ids_test]"
   ]
  },
  {
   "cell_type": "code",
   "execution_count": 2,
   "metadata": {},
   "outputs": [
    {
     "data": {
      "text/html": [
       "<div>\n",
       "<style scoped>\n",
       "    .dataframe tbody tr th:only-of-type {\n",
       "        vertical-align: middle;\n",
       "    }\n",
       "\n",
       "    .dataframe tbody tr th {\n",
       "        vertical-align: top;\n",
       "    }\n",
       "\n",
       "    .dataframe thead th {\n",
       "        text-align: right;\n",
       "    }\n",
       "</style>\n",
       "<table border=\"1\" class=\"dataframe\">\n",
       "  <thead>\n",
       "    <tr style=\"text-align: right;\">\n",
       "      <th></th>\n",
       "      <th>0</th>\n",
       "      <th>1</th>\n",
       "      <th>2</th>\n",
       "      <th>3</th>\n",
       "      <th>4</th>\n",
       "      <th>5</th>\n",
       "      <th>6</th>\n",
       "      <th>7</th>\n",
       "      <th>8</th>\n",
       "      <th>9</th>\n",
       "      <th>...</th>\n",
       "      <th>128</th>\n",
       "      <th>129</th>\n",
       "      <th>130</th>\n",
       "      <th>131</th>\n",
       "      <th>132</th>\n",
       "      <th>133</th>\n",
       "      <th>134</th>\n",
       "      <th>135</th>\n",
       "      <th>136</th>\n",
       "      <th>137</th>\n",
       "    </tr>\n",
       "  </thead>\n",
       "  <tbody>\n",
       "    <tr>\n",
       "      <th>0</th>\n",
       "      <td>2.0</td>\n",
       "      <td>1</td>\n",
       "      <td>3</td>\n",
       "      <td>3</td>\n",
       "      <td>0</td>\n",
       "      <td>0</td>\n",
       "      <td>3</td>\n",
       "      <td>1.0</td>\n",
       "      <td>1.0</td>\n",
       "      <td>0.000000</td>\n",
       "      <td>...</td>\n",
       "      <td>62</td>\n",
       "      <td>11089534</td>\n",
       "      <td>2</td>\n",
       "      <td>116</td>\n",
       "      <td>64034</td>\n",
       "      <td>13</td>\n",
       "      <td>3</td>\n",
       "      <td>0</td>\n",
       "      <td>0</td>\n",
       "      <td>0.0</td>\n",
       "    </tr>\n",
       "    <tr>\n",
       "      <th>1</th>\n",
       "      <td>2.0</td>\n",
       "      <td>1</td>\n",
       "      <td>3</td>\n",
       "      <td>0</td>\n",
       "      <td>3</td>\n",
       "      <td>0</td>\n",
       "      <td>3</td>\n",
       "      <td>1.0</td>\n",
       "      <td>0.0</td>\n",
       "      <td>1.000000</td>\n",
       "      <td>...</td>\n",
       "      <td>54</td>\n",
       "      <td>11089534</td>\n",
       "      <td>2</td>\n",
       "      <td>124</td>\n",
       "      <td>64034</td>\n",
       "      <td>1</td>\n",
       "      <td>2</td>\n",
       "      <td>0</td>\n",
       "      <td>0</td>\n",
       "      <td>0.0</td>\n",
       "    </tr>\n",
       "    <tr>\n",
       "      <th>2</th>\n",
       "      <td>0.0</td>\n",
       "      <td>1</td>\n",
       "      <td>3</td>\n",
       "      <td>0</td>\n",
       "      <td>2</td>\n",
       "      <td>0</td>\n",
       "      <td>3</td>\n",
       "      <td>1.0</td>\n",
       "      <td>0.0</td>\n",
       "      <td>0.666667</td>\n",
       "      <td>...</td>\n",
       "      <td>45</td>\n",
       "      <td>3</td>\n",
       "      <td>1</td>\n",
       "      <td>124</td>\n",
       "      <td>3344</td>\n",
       "      <td>14</td>\n",
       "      <td>67</td>\n",
       "      <td>0</td>\n",
       "      <td>0</td>\n",
       "      <td>0.0</td>\n",
       "    </tr>\n",
       "    <tr>\n",
       "      <th>3</th>\n",
       "      <td>2.0</td>\n",
       "      <td>1</td>\n",
       "      <td>3</td>\n",
       "      <td>0</td>\n",
       "      <td>3</td>\n",
       "      <td>0</td>\n",
       "      <td>3</td>\n",
       "      <td>1.0</td>\n",
       "      <td>0.0</td>\n",
       "      <td>1.000000</td>\n",
       "      <td>...</td>\n",
       "      <td>56</td>\n",
       "      <td>11089534</td>\n",
       "      <td>13</td>\n",
       "      <td>123</td>\n",
       "      <td>63933</td>\n",
       "      <td>1</td>\n",
       "      <td>3</td>\n",
       "      <td>0</td>\n",
       "      <td>0</td>\n",
       "      <td>0.0</td>\n",
       "    </tr>\n",
       "    <tr>\n",
       "      <th>4</th>\n",
       "      <td>1.0</td>\n",
       "      <td>1</td>\n",
       "      <td>3</td>\n",
       "      <td>0</td>\n",
       "      <td>3</td>\n",
       "      <td>0</td>\n",
       "      <td>3</td>\n",
       "      <td>1.0</td>\n",
       "      <td>0.0</td>\n",
       "      <td>1.000000</td>\n",
       "      <td>...</td>\n",
       "      <td>64</td>\n",
       "      <td>5</td>\n",
       "      <td>7</td>\n",
       "      <td>256</td>\n",
       "      <td>49697</td>\n",
       "      <td>1</td>\n",
       "      <td>13</td>\n",
       "      <td>0</td>\n",
       "      <td>0</td>\n",
       "      <td>0.0</td>\n",
       "    </tr>\n",
       "  </tbody>\n",
       "</table>\n",
       "<p>5 rows × 138 columns</p>\n",
       "</div>"
      ],
      "text/plain": [
       "   0    1    2    3    4    5    6    7    8         9    ...  128       129  \\\n",
       "0  2.0    1    3    3    0    0    3  1.0  1.0  0.000000  ...   62  11089534   \n",
       "1  2.0    1    3    0    3    0    3  1.0  0.0  1.000000  ...   54  11089534   \n",
       "2  0.0    1    3    0    2    0    3  1.0  0.0  0.666667  ...   45         3   \n",
       "3  2.0    1    3    0    3    0    3  1.0  0.0  1.000000  ...   56  11089534   \n",
       "4  1.0    1    3    0    3    0    3  1.0  0.0  1.000000  ...   64         5   \n",
       "\n",
       "   130  131    132  133  134  135  136  137  \n",
       "0    2  116  64034   13    3    0    0  0.0  \n",
       "1    2  124  64034    1    2    0    0  0.0  \n",
       "2    1  124   3344   14   67    0    0  0.0  \n",
       "3   13  123  63933    1    3    0    0  0.0  \n",
       "4    7  256  49697    1   13    0    0  0.0  \n",
       "\n",
       "[5 rows x 138 columns]"
      ]
     },
     "execution_count": 2,
     "metadata": {},
     "output_type": "execute_result"
    }
   ],
   "source": [
    "train_df, test_df = msrank_10k()\n",
    "train_df.head()"
   ]
  },
  {
   "cell_type": "code",
   "execution_count": 10,
   "metadata": {},
   "outputs": [
    {
     "data": {
      "text/plain": [
       "(10000, 136)"
      ]
     },
     "execution_count": 10,
     "metadata": {},
     "output_type": "execute_result"
    }
   ],
   "source": [
    "X_train = train_df.drop([0, 1], axis=1).values\n",
    "np.shape(X_train)"
   ]
  },
  {
   "cell_type": "code",
   "execution_count": 29,
   "metadata": {},
   "outputs": [
    {
     "data": {
      "text/plain": [
       "array([[3., 3., 0., ..., 0., 0., 0.],\n",
       "       [3., 0., 3., ..., 0., 0., 0.],\n",
       "       [3., 0., 2., ..., 0., 0., 0.],\n",
       "       ...,\n",
       "       [2., 0., 2., ..., 0., 0., 0.],\n",
       "       [2., 0., 1., ..., 0., 0., 0.],\n",
       "       [2., 1., 1., ..., 0., 0., 0.]])"
      ]
     },
     "execution_count": 29,
     "metadata": {},
     "output_type": "execute_result"
    }
   ],
   "source": [
    "X_train"
   ]
  },
  {
   "cell_type": "code",
   "execution_count": 13,
   "metadata": {},
   "outputs": [
    {
     "data": {
      "text/plain": [
       "(10000,)"
      ]
     },
     "execution_count": 13,
     "metadata": {},
     "output_type": "execute_result"
    }
   ],
   "source": [
    "y_train = train_df[0].values\n",
    "np.shape(y_train)"
   ]
  },
  {
   "cell_type": "code",
   "execution_count": 16,
   "metadata": {},
   "outputs": [],
   "source": [
    "query_ids_train = train_df[1].values.astype(int)"
   ]
  },
  {
   "cell_type": "code",
   "execution_count": 17,
   "metadata": {},
   "outputs": [],
   "source": [
    "X_test = test_df.drop([0, 1], axis=1).values\n",
    "y_test = test_df[0].values\n",
    "query_ids_test = test_df[1].values.astype(int)"
   ]
  },
  {
   "cell_type": "code",
   "execution_count": 18,
   "metadata": {},
   "outputs": [
    {
     "data": {
      "text/plain": [
       "array([   1,    1,    1, ..., 1291, 1291, 1291])"
      ]
     },
     "execution_count": 18,
     "metadata": {},
     "output_type": "execute_result"
    }
   ],
   "source": [
    "train_df[1].values.astype(int)"
   ]
  },
  {
   "cell_type": "code",
   "execution_count": 75,
   "metadata": {},
   "outputs": [],
   "source": [
    "def _scale_features_in_query_groups(self, inp_feat_array: np.ndarray,\n",
    "                                    inp_query_ids: np.ndarray) -> np.ndarray:\n",
    "    \n",
    "    inp_query_ids_uniq = np.unique(inp_query_ids)\n",
    "    \n",
    "    for id_i in inp_query_ids_uniq:\n",
    "        scaler = StandardScaler()\n",
    "        inp_feat_array[inp_query_ids == id_i, :] = \\\n",
    "            scaler.fit_transform(inp_feat_array[inp_query_ids == id_i, :])\n",
    "        \n",
    "    return inp_feat_array"
   ]
  },
  {
   "cell_type": "code",
   "execution_count": 22,
   "metadata": {},
   "outputs": [
    {
     "data": {
      "text/html": [
       "<div>\n",
       "<style scoped>\n",
       "    .dataframe tbody tr th:only-of-type {\n",
       "        vertical-align: middle;\n",
       "    }\n",
       "\n",
       "    .dataframe tbody tr th {\n",
       "        vertical-align: top;\n",
       "    }\n",
       "\n",
       "    .dataframe thead th {\n",
       "        text-align: right;\n",
       "    }\n",
       "</style>\n",
       "<table border=\"1\" class=\"dataframe\">\n",
       "  <thead>\n",
       "    <tr style=\"text-align: right;\">\n",
       "      <th></th>\n",
       "      <th>0</th>\n",
       "      <th>1</th>\n",
       "      <th>2</th>\n",
       "      <th>3</th>\n",
       "      <th>4</th>\n",
       "      <th>5</th>\n",
       "      <th>6</th>\n",
       "      <th>7</th>\n",
       "      <th>8</th>\n",
       "      <th>9</th>\n",
       "      <th>...</th>\n",
       "      <th>128</th>\n",
       "      <th>129</th>\n",
       "      <th>130</th>\n",
       "      <th>131</th>\n",
       "      <th>132</th>\n",
       "      <th>133</th>\n",
       "      <th>134</th>\n",
       "      <th>135</th>\n",
       "      <th>136</th>\n",
       "      <th>137</th>\n",
       "    </tr>\n",
       "  </thead>\n",
       "  <tbody>\n",
       "    <tr>\n",
       "      <th>0</th>\n",
       "      <td>2.0</td>\n",
       "      <td>1</td>\n",
       "      <td>3</td>\n",
       "      <td>3</td>\n",
       "      <td>0</td>\n",
       "      <td>0</td>\n",
       "      <td>3</td>\n",
       "      <td>1.0</td>\n",
       "      <td>1.0</td>\n",
       "      <td>0.000000</td>\n",
       "      <td>...</td>\n",
       "      <td>62</td>\n",
       "      <td>11089534</td>\n",
       "      <td>2</td>\n",
       "      <td>116</td>\n",
       "      <td>64034</td>\n",
       "      <td>13</td>\n",
       "      <td>3</td>\n",
       "      <td>0</td>\n",
       "      <td>0</td>\n",
       "      <td>0.0</td>\n",
       "    </tr>\n",
       "    <tr>\n",
       "      <th>1</th>\n",
       "      <td>2.0</td>\n",
       "      <td>1</td>\n",
       "      <td>3</td>\n",
       "      <td>0</td>\n",
       "      <td>3</td>\n",
       "      <td>0</td>\n",
       "      <td>3</td>\n",
       "      <td>1.0</td>\n",
       "      <td>0.0</td>\n",
       "      <td>1.000000</td>\n",
       "      <td>...</td>\n",
       "      <td>54</td>\n",
       "      <td>11089534</td>\n",
       "      <td>2</td>\n",
       "      <td>124</td>\n",
       "      <td>64034</td>\n",
       "      <td>1</td>\n",
       "      <td>2</td>\n",
       "      <td>0</td>\n",
       "      <td>0</td>\n",
       "      <td>0.0</td>\n",
       "    </tr>\n",
       "    <tr>\n",
       "      <th>2</th>\n",
       "      <td>0.0</td>\n",
       "      <td>1</td>\n",
       "      <td>3</td>\n",
       "      <td>0</td>\n",
       "      <td>2</td>\n",
       "      <td>0</td>\n",
       "      <td>3</td>\n",
       "      <td>1.0</td>\n",
       "      <td>0.0</td>\n",
       "      <td>0.666667</td>\n",
       "      <td>...</td>\n",
       "      <td>45</td>\n",
       "      <td>3</td>\n",
       "      <td>1</td>\n",
       "      <td>124</td>\n",
       "      <td>3344</td>\n",
       "      <td>14</td>\n",
       "      <td>67</td>\n",
       "      <td>0</td>\n",
       "      <td>0</td>\n",
       "      <td>0.0</td>\n",
       "    </tr>\n",
       "    <tr>\n",
       "      <th>3</th>\n",
       "      <td>2.0</td>\n",
       "      <td>1</td>\n",
       "      <td>3</td>\n",
       "      <td>0</td>\n",
       "      <td>3</td>\n",
       "      <td>0</td>\n",
       "      <td>3</td>\n",
       "      <td>1.0</td>\n",
       "      <td>0.0</td>\n",
       "      <td>1.000000</td>\n",
       "      <td>...</td>\n",
       "      <td>56</td>\n",
       "      <td>11089534</td>\n",
       "      <td>13</td>\n",
       "      <td>123</td>\n",
       "      <td>63933</td>\n",
       "      <td>1</td>\n",
       "      <td>3</td>\n",
       "      <td>0</td>\n",
       "      <td>0</td>\n",
       "      <td>0.0</td>\n",
       "    </tr>\n",
       "    <tr>\n",
       "      <th>4</th>\n",
       "      <td>1.0</td>\n",
       "      <td>1</td>\n",
       "      <td>3</td>\n",
       "      <td>0</td>\n",
       "      <td>3</td>\n",
       "      <td>0</td>\n",
       "      <td>3</td>\n",
       "      <td>1.0</td>\n",
       "      <td>0.0</td>\n",
       "      <td>1.000000</td>\n",
       "      <td>...</td>\n",
       "      <td>64</td>\n",
       "      <td>5</td>\n",
       "      <td>7</td>\n",
       "      <td>256</td>\n",
       "      <td>49697</td>\n",
       "      <td>1</td>\n",
       "      <td>13</td>\n",
       "      <td>0</td>\n",
       "      <td>0</td>\n",
       "      <td>0.0</td>\n",
       "    </tr>\n",
       "  </tbody>\n",
       "</table>\n",
       "<p>5 rows × 138 columns</p>\n",
       "</div>"
      ],
      "text/plain": [
       "   0    1    2    3    4    5    6    7    8         9    ...  128       129  \\\n",
       "0  2.0    1    3    3    0    0    3  1.0  1.0  0.000000  ...   62  11089534   \n",
       "1  2.0    1    3    0    3    0    3  1.0  0.0  1.000000  ...   54  11089534   \n",
       "2  0.0    1    3    0    2    0    3  1.0  0.0  0.666667  ...   45         3   \n",
       "3  2.0    1    3    0    3    0    3  1.0  0.0  1.000000  ...   56  11089534   \n",
       "4  1.0    1    3    0    3    0    3  1.0  0.0  1.000000  ...   64         5   \n",
       "\n",
       "   130  131    132  133  134  135  136  137  \n",
       "0    2  116  64034   13    3    0    0  0.0  \n",
       "1    2  124  64034    1    2    0    0  0.0  \n",
       "2    1  124   3344   14   67    0    0  0.0  \n",
       "3   13  123  63933    1    3    0    0  0.0  \n",
       "4    7  256  49697    1   13    0    0  0.0  \n",
       "\n",
       "[5 rows x 138 columns]"
      ]
     },
     "execution_count": 22,
     "metadata": {},
     "output_type": "execute_result"
    }
   ],
   "source": [
    "train_df.head()"
   ]
  },
  {
   "cell_type": "code",
   "execution_count": 26,
   "metadata": {},
   "outputs": [],
   "source": [
    "scaler = StandardScaler()"
   ]
  },
  {
   "cell_type": "code",
   "execution_count": 27,
   "metadata": {},
   "outputs": [
    {
     "data": {
      "text/plain": [
       "['__class__',\n",
       " '__delattr__',\n",
       " '__dict__',\n",
       " '__dir__',\n",
       " '__doc__',\n",
       " '__eq__',\n",
       " '__format__',\n",
       " '__ge__',\n",
       " '__getattribute__',\n",
       " '__getstate__',\n",
       " '__gt__',\n",
       " '__hash__',\n",
       " '__init__',\n",
       " '__init_subclass__',\n",
       " '__le__',\n",
       " '__lt__',\n",
       " '__module__',\n",
       " '__ne__',\n",
       " '__new__',\n",
       " '__reduce__',\n",
       " '__reduce_ex__',\n",
       " '__repr__',\n",
       " '__setattr__',\n",
       " '__setstate__',\n",
       " '__sizeof__',\n",
       " '__str__',\n",
       " '__subclasshook__',\n",
       " '__weakref__',\n",
       " '_check_n_features',\n",
       " '_get_param_names',\n",
       " '_get_tags',\n",
       " '_more_tags',\n",
       " '_repr_html_',\n",
       " '_repr_html_inner',\n",
       " '_repr_mimebundle_',\n",
       " '_reset',\n",
       " '_validate_data',\n",
       " 'copy',\n",
       " 'fit',\n",
       " 'fit_transform',\n",
       " 'get_params',\n",
       " 'inverse_transform',\n",
       " 'partial_fit',\n",
       " 'set_params',\n",
       " 'transform',\n",
       " 'with_mean',\n",
       " 'with_std']"
      ]
     },
     "execution_count": 27,
     "metadata": {},
     "output_type": "execute_result"
    }
   ],
   "source": [
    "dir(scaler)"
   ]
  },
  {
   "cell_type": "code",
   "execution_count": 30,
   "metadata": {},
   "outputs": [
    {
     "data": {
      "text/plain": [
       "StandardScaler()"
      ]
     },
     "execution_count": 30,
     "metadata": {},
     "output_type": "execute_result"
    }
   ],
   "source": [
    "scaler.fit(X_train)"
   ]
  },
  {
   "cell_type": "code",
   "execution_count": 31,
   "metadata": {},
   "outputs": [
    {
     "data": {
      "text/plain": [
       "<bound method BaseEstimator.get_params of StandardScaler()>"
      ]
     },
     "execution_count": 31,
     "metadata": {},
     "output_type": "execute_result"
    }
   ],
   "source": [
    "scaler.get_params"
   ]
  },
  {
   "cell_type": "code",
   "execution_count": 35,
   "metadata": {},
   "outputs": [
    {
     "data": {
      "text/plain": [
       "array([[ 0.96937326,  4.72565641, -1.21789047, ..., -0.05501908,\n",
       "        -0.04255521, -0.01363624],\n",
       "       [ 0.96937326, -0.37232238,  1.79644119, ..., -0.05501908,\n",
       "        -0.04255521, -0.01363624],\n",
       "       [ 0.96937326, -0.37232238,  0.79166397, ..., -0.05501908,\n",
       "        -0.04255521, -0.01363624],\n",
       "       ...,\n",
       "       [ 0.10246818, -0.37232238,  0.79166397, ..., -0.05501908,\n",
       "        -0.04255521, -0.01363624],\n",
       "       [ 0.10246818, -0.37232238, -0.21311325, ..., -0.05501908,\n",
       "        -0.04255521, -0.01363624],\n",
       "       [ 0.10246818,  1.32700388, -0.21311325, ..., -0.05501908,\n",
       "        -0.04255521, -0.01363624]])"
      ]
     },
     "execution_count": 35,
     "metadata": {},
     "output_type": "execute_result"
    }
   ],
   "source": [
    "scaler.fit_transform(X_train)"
   ]
  },
  {
   "cell_type": "code",
   "execution_count": 43,
   "metadata": {},
   "outputs": [
    {
     "data": {
      "text/plain": [
       "(136,)"
      ]
     },
     "execution_count": 43,
     "metadata": {},
     "output_type": "execute_result"
    }
   ],
   "source": [
    "np.shape(scaler.fit_transform(X_train)[0])"
   ]
  },
  {
   "cell_type": "code",
   "execution_count": 50,
   "metadata": {},
   "outputs": [
    {
     "data": {
      "text/plain": [
       "(10000,)"
      ]
     },
     "execution_count": 50,
     "metadata": {},
     "output_type": "execute_result"
    }
   ],
   "source": [
    "np.shape(scaler.fit_transform(X_train)[:][0])\n",
    "np.shape(scaler.fit_transform(X_train)[:, 0])"
   ]
  },
  {
   "cell_type": "code",
   "execution_count": 65,
   "metadata": {},
   "outputs": [
    {
     "data": {
      "text/plain": [
       "array([[3., 3., 0., ..., 0., 0., 0.],\n",
       "       [3., 0., 3., ..., 0., 0., 0.],\n",
       "       [3., 0., 2., ..., 0., 0., 0.],\n",
       "       ...,\n",
       "       [6., 2., 2., ..., 0., 0., 0.],\n",
       "       [3., 0., 3., ..., 0., 0., 0.],\n",
       "       [6., 0., 3., ..., 0., 0., 0.]])"
      ]
     },
     "execution_count": 65,
     "metadata": {},
     "output_type": "execute_result"
    }
   ],
   "source": [
    "np.shape(scaler.fit_transform(X_train)[:100, 0])\n",
    "X_train[:100, :]"
   ]
  },
  {
   "cell_type": "code",
   "execution_count": 56,
   "metadata": {},
   "outputs": [
    {
     "data": {
      "text/plain": [
       "array([   1,   16,   31,   46,   61,   76,   91,  106,  121,  136,  151,\n",
       "        166,  181,  196,  211,  226,  241,  256,  271,  286,  301,  316,\n",
       "        331,  346,  361,  376,  391,  406,  421,  436,  451,  466,  481,\n",
       "        496,  511,  526,  541,  556,  571,  586,  601,  616,  631,  646,\n",
       "        661,  676,  691,  706,  721,  736,  751,  766,  781,  796,  811,\n",
       "        826,  841,  856,  871,  886,  901,  916,  931,  946,  961,  976,\n",
       "        991, 1006, 1021, 1036, 1051, 1066, 1081, 1096, 1111, 1126, 1141,\n",
       "       1156, 1171, 1186, 1201, 1216, 1231, 1246, 1261, 1276, 1291])"
      ]
     },
     "execution_count": 56,
     "metadata": {},
     "output_type": "execute_result"
    }
   ],
   "source": [
    "query_ids_train_uniq = np.unique(query_ids_train)\n",
    "query_ids_train_uniq"
   ]
  },
  {
   "cell_type": "code",
   "execution_count": 71,
   "metadata": {},
   "outputs": [
    {
     "data": {
      "text/plain": [
       "(86, 136)"
      ]
     },
     "execution_count": 71,
     "metadata": {},
     "output_type": "execute_result"
    }
   ],
   "source": [
    "np.shape(X_train[query_ids_train == query_ids_train_uniq[0], :])"
   ]
  },
  {
   "cell_type": "code",
   "execution_count": 74,
   "metadata": {},
   "outputs": [],
   "source": [
    "for id_i in query_ids_train_uniq:\n",
    "    scaler = StandardScaler()\n",
    "    X_train[query_ids_train == id_i, :] = \\\n",
    "        scaler.fit_transform(X_train[query_ids_train == id_i, :])"
   ]
  },
  {
   "cell_type": "code",
   "execution_count": 83,
   "metadata": {},
   "outputs": [
    {
     "data": {
      "text/plain": [
       "array([[ 0.31606376,  4.81705177, -2.17593133, ..., -0.11175774,\n",
       "        -0.19593518, -0.26622504],\n",
       "       [ 0.31606376, -0.23497813,  0.61705515, ..., -0.11175774,\n",
       "        -0.19593518, -0.26622504],\n",
       "       [ 0.31606376, -0.23497813, -0.31394034, ..., -0.11175774,\n",
       "        -0.19593518, -0.26622504],\n",
       "       ...,\n",
       "       [ 0.31606376,  4.81705177,  0.61705515, ..., -0.11175774,\n",
       "        -0.19593518, -0.26622504],\n",
       "       [-1.28284703, -0.23497813, -0.31394034, ..., -0.11175774,\n",
       "        -0.07383065,  1.91992331],\n",
       "       [ 0.31606376, -0.23497813,  0.61705515, ..., -0.11175774,\n",
       "        -0.19593518, -0.26622504]])"
      ]
     },
     "execution_count": 83,
     "metadata": {},
     "output_type": "execute_result"
    }
   ],
   "source": [
    "X_train[query_ids_train == query_ids_train_uniq[0], :]"
   ]
  },
  {
   "cell_type": "code",
   "execution_count": 86,
   "metadata": {},
   "outputs": [
    {
     "data": {
      "text/plain": [
       "tensor([[ 0.3161,  4.8171, -2.1759,  ..., -0.1118, -0.1959, -0.2662],\n",
       "        [ 0.3161, -0.2350,  0.6171,  ..., -0.1118, -0.1959, -0.2662],\n",
       "        [ 0.3161, -0.2350, -0.3139,  ..., -0.1118, -0.1959, -0.2662],\n",
       "        ...,\n",
       "        [ 0.3161,  4.8171,  0.6171,  ..., -0.1118, -0.1959, -0.2662],\n",
       "        [-1.2828, -0.2350, -0.3139,  ..., -0.1118, -0.0738,  1.9199],\n",
       "        [ 0.3161, -0.2350,  0.6171,  ..., -0.1118, -0.1959, -0.2662]],\n",
       "       dtype=torch.float64)"
      ]
     },
     "execution_count": 86,
     "metadata": {},
     "output_type": "execute_result"
    }
   ],
   "source": [
    "torch.tensor(X_train[query_ids_train == query_ids_train_uniq[0], :], dtype=float)"
   ]
  },
  {
   "cell_type": "code",
   "execution_count": 88,
   "metadata": {},
   "outputs": [
    {
     "data": {
      "text/plain": [
       "torch.float64"
      ]
     },
     "execution_count": 88,
     "metadata": {},
     "output_type": "execute_result"
    }
   ],
   "source": [
    "torch.tensor(X_train[query_ids_train == query_ids_train_uniq[0], :], dtype=float).dtype"
   ]
  },
  {
   "cell_type": "code",
   "execution_count": 99,
   "metadata": {},
   "outputs": [
    {
     "data": {
      "text/plain": [
       "tensor([[ 0.3161,  4.8171, -2.1759,  ..., -0.1118, -0.1959, -0.2662],\n",
       "        [ 0.3161, -0.2350,  0.6171,  ..., -0.1118, -0.1959, -0.2662],\n",
       "        [ 0.3161, -0.2350, -0.3139,  ..., -0.1118, -0.1959, -0.2662],\n",
       "        ...,\n",
       "        [ 0.4786, -0.4121,  1.3276,  ...,  0.0000, -0.1552, -0.3721],\n",
       "        [ 0.4786, -0.4121, -0.0675,  ...,  0.0000, -0.1552, -0.3721],\n",
       "        [ 0.4786,  1.7170, -0.0675,  ...,  0.0000, -0.1552, -0.3721]])"
      ]
     },
     "execution_count": 99,
     "metadata": {},
     "output_type": "execute_result"
    }
   ],
   "source": [
    "torch.FloatTensor(X_train[query_ids_train == query_ids_train_uniq[0], :])\n",
    "X_train_tens = torch.FloatTensor(X_train)\n",
    "X_train_tens"
   ]
  },
  {
   "cell_type": "code",
   "execution_count": 100,
   "metadata": {},
   "outputs": [
    {
     "data": {
      "text/plain": [
       "tensor([[ 0.3161,  4.8171, -2.1759,  ..., -0.1118, -0.1959, -0.2662],\n",
       "        [ 0.3161, -0.2350,  0.6171,  ..., -0.1118, -0.1959, -0.2662],\n",
       "        [ 0.3161, -0.2350, -0.3139,  ..., -0.1118, -0.1959, -0.2662],\n",
       "        ...,\n",
       "        [ 0.3161,  4.8171,  0.6171,  ..., -0.1118, -0.1959, -0.2662],\n",
       "        [-1.2828, -0.2350, -0.3139,  ..., -0.1118, -0.0738,  1.9199],\n",
       "        [ 0.3161, -0.2350,  0.6171,  ..., -0.1118, -0.1959, -0.2662]])"
      ]
     },
     "execution_count": 100,
     "metadata": {},
     "output_type": "execute_result"
    }
   ],
   "source": [
    "X_train_tens[query_ids_train == query_ids_train_uniq[0], :]"
   ]
  },
  {
   "cell_type": "code",
   "execution_count": 103,
   "metadata": {},
   "outputs": [
    {
     "data": {
      "text/plain": [
       "torch.Size([86, 136])"
      ]
     },
     "execution_count": 103,
     "metadata": {},
     "output_type": "execute_result"
    }
   ],
   "source": [
    "np.shape(X_train_tens[query_ids_train == query_ids_train_uniq[0], :])"
   ]
  },
  {
   "cell_type": "code",
   "execution_count": null,
   "metadata": {},
   "outputs": [],
   "source": []
  },
  {
   "cell_type": "code",
   "execution_count": null,
   "metadata": {},
   "outputs": [],
   "source": []
  },
  {
   "cell_type": "code",
   "execution_count": null,
   "metadata": {},
   "outputs": [],
   "source": []
  },
  {
   "cell_type": "code",
   "execution_count": null,
   "metadata": {},
   "outputs": [],
   "source": []
  },
  {
   "cell_type": "code",
   "execution_count": null,
   "metadata": {},
   "outputs": [],
   "source": []
  },
  {
   "cell_type": "code",
   "execution_count": null,
   "metadata": {},
   "outputs": [],
   "source": []
  },
  {
   "cell_type": "code",
   "execution_count": null,
   "metadata": {},
   "outputs": [],
   "source": []
  },
  {
   "cell_type": "code",
   "execution_count": null,
   "metadata": {},
   "outputs": [],
   "source": []
  },
  {
   "cell_type": "code",
   "execution_count": null,
   "metadata": {},
   "outputs": [],
   "source": []
  },
  {
   "cell_type": "code",
   "execution_count": null,
   "metadata": {},
   "outputs": [],
   "source": []
  },
  {
   "cell_type": "code",
   "execution_count": null,
   "metadata": {},
   "outputs": [],
   "source": []
  },
  {
   "cell_type": "code",
   "execution_count": null,
   "metadata": {},
   "outputs": [],
   "source": []
  },
  {
   "cell_type": "code",
   "execution_count": null,
   "metadata": {},
   "outputs": [],
   "source": []
  },
  {
   "cell_type": "code",
   "execution_count": null,
   "metadata": {},
   "outputs": [],
   "source": []
  },
  {
   "cell_type": "code",
   "execution_count": null,
   "metadata": {},
   "outputs": [],
   "source": []
  },
  {
   "cell_type": "code",
   "execution_count": null,
   "metadata": {},
   "outputs": [],
   "source": []
  },
  {
   "cell_type": "code",
   "execution_count": null,
   "metadata": {},
   "outputs": [],
   "source": []
  },
  {
   "cell_type": "code",
   "execution_count": null,
   "metadata": {},
   "outputs": [],
   "source": []
  },
  {
   "cell_type": "code",
   "execution_count": null,
   "metadata": {},
   "outputs": [],
   "source": []
  },
  {
   "cell_type": "code",
   "execution_count": null,
   "metadata": {},
   "outputs": [],
   "source": []
  },
  {
   "cell_type": "code",
   "execution_count": null,
   "metadata": {},
   "outputs": [],
   "source": []
  },
  {
   "cell_type": "code",
   "execution_count": null,
   "metadata": {},
   "outputs": [],
   "source": []
  }
 ],
 "metadata": {
  "kernelspec": {
   "display_name": "Python 3",
   "language": "python",
   "name": "python3"
  },
  "language_info": {
   "codemirror_mode": {
    "name": "ipython",
    "version": 3
   },
   "file_extension": ".py",
   "mimetype": "text/x-python",
   "name": "python",
   "nbconvert_exporter": "python",
   "pygments_lexer": "ipython3",
   "version": "3.7.3"
  },
  "toc": {
   "base_numbering": 1,
   "nav_menu": {},
   "number_sections": true,
   "sideBar": true,
   "skip_h1_title": false,
   "title_cell": "Table of Contents",
   "title_sidebar": "Contents",
   "toc_cell": false,
   "toc_position": {
    "height": "calc(100% - 180px)",
    "left": "10px",
    "top": "150px",
    "width": "165px"
   },
   "toc_section_display": true,
   "toc_window_display": true
  },
  "varInspector": {
   "cols": {
    "lenName": 16,
    "lenType": 16,
    "lenVar": 40
   },
   "kernels_config": {
    "python": {
     "delete_cmd_postfix": "",
     "delete_cmd_prefix": "del ",
     "library": "var_list.py",
     "varRefreshCmd": "print(var_dic_list())"
    },
    "r": {
     "delete_cmd_postfix": ") ",
     "delete_cmd_prefix": "rm(",
     "library": "var_list.r",
     "varRefreshCmd": "cat(var_dic_list()) "
    }
   },
   "types_to_exclude": [
    "module",
    "function",
    "builtin_function_or_method",
    "instance",
    "_Feature"
   ],
   "window_display": false
  }
 },
 "nbformat": 4,
 "nbformat_minor": 4
}
