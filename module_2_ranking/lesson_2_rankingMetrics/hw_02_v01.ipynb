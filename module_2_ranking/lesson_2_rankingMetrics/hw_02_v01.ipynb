{
 "cells": [
  {
   "cell_type": "code",
   "execution_count": 3,
   "metadata": {},
   "outputs": [],
   "source": [
    "## template\n",
    "import math\n",
    "from typing import List, Optional, Union\n",
    "\n",
    "import torch\n",
    "\n",
    "def num_swapped_pairs(ys_true: torch.Tensor, ys_pred: torch.Tensor) -> int:\n",
    "    pass\n",
    "\n",
    "\n",
    "def compute_gain(y_value: float, gain_scheme: str) -> float:\n",
    "    pass\n",
    "\n",
    "\n",
    "def dcg(ys_true: torch.Tensor, ys_pred: torch.Tensor, gain_scheme: str) -> float:\n",
    "    pass\n",
    "\n",
    "\n",
    "def ndcg(ys_true: torch.Tensor, ys_pred: torch.Tensor, gain_scheme: str = 'const') -> float:\n",
    "    pass\n",
    "\n",
    "\n",
    "def precission_at_k(ys_true: torch.Tensor, ys_pred: torch.Tensor, k: int) -> float:\n",
    "    pass\n",
    "\n",
    "\n",
    "def reciprocal_rank(ys_true: torch.Tensor, ys_pred: torch.Tensor) -> float:\n",
    "    pass\n",
    "\n",
    "\n",
    "def p_found(ys_true: torch.Tensor, ys_pred: torch.Tensor, p_break: float = 0.15 ) -> float:\n",
    "    pass\n",
    "\n",
    "\n",
    "def average_precision(ys_true: torch.Tensor, ys_pred: torch.Tensor) -> float:\n",
    "    pass"
   ]
  },
  {
   "cell_type": "markdown",
   "metadata": {},
   "source": [
    "# all funs"
   ]
  },
  {
   "cell_type": "code",
   "execution_count": 5,
   "metadata": {},
   "outputs": [],
   "source": [
    "import math\n",
    "from typing import List, Optional, Union\n",
    "\n",
    "import torch\n",
    "\n",
    "def num_swapped_pairs(ys_true: torch.Tensor, ys_pred: torch.Tensor) -> int:\n",
    "    \n",
    "    n_pairs = 0\n",
    "    ys_true_sorted = torch.sort(ys_true, descending=True)\n",
    "    \n",
    "    for i in range(len(ys_true_sorted[0]) - 1):\n",
    "        for j in range(i, len(ys_true_sorted[0])):\n",
    "            if (ys_pred[ys_true_sorted[1][i]] < ys_pred[ys_true_sorted[1][j]]) & \\\n",
    "                (ys_true_sorted[0][i] != ys_true_sorted[0][j]):\n",
    "                n_pairs += 1\n",
    "    \n",
    "    return n_pairs\n",
    "\n",
    "def compute_gain(y_value: float, gain_scheme: str) -> float:\n",
    "    if gain_scheme == 'exp2':\n",
    "        return 2 ** y_value - 1.\n",
    "    else:\n",
    "        return y_value + 0.\n",
    "\n",
    "def dcg(ys_true: torch.Tensor, ys_pred: torch.Tensor, gain_scheme: str) -> float:\n",
    "    ys_pred_sorted = torch.sort(ys_pred, descending=True)\n",
    "    log2_list = [math.log2(x) for x in range(2, len(ys_pred) + 2)]\n",
    "    \n",
    "    dcg_val = 0.\n",
    "    for i in range(len(log2_list)):\n",
    "        dcg_val += compute_gain(ys_true[ys_pred_sorted[1]][i].item(), \\\n",
    "                                gain_scheme=gain_scheme) / log2_list[i]\n",
    "    \n",
    "    return dcg_val\n",
    "\n",
    "def ndcg(ys_true: torch.Tensor, ys_pred: torch.Tensor, gain_scheme: str = 'const') -> float:\n",
    "    ndcg_val = dcg(ys_true=ys_true, ys_pred=ys_pred, gain_scheme=gain_scheme) / \\\n",
    "        dcg(ys_true=ys_true, ys_pred=ys_true, gain_scheme=gain_scheme)\n",
    "    return ndcg_val\n",
    "\n",
    "def precission_at_k(ys_true: torch.Tensor, ys_pred: torch.Tensor, k: int) -> float:\n",
    "    k_max = k\n",
    "    k = min(k, len(ys_true))\n",
    "    ys_pred_sorted = torch.sort(ys_pred, descending=True)\n",
    "    ys_true_sorted = ys_true[ys_pred_sorted[1]]\n",
    "\n",
    "    ys_true_k = ys_true_sorted[:k]\n",
    "    ys_pred_k = ys_pred_sorted[0][:k]\n",
    "    \n",
    "    if sum(ys_true).item() == 0:\n",
    "        prec_k_val = -1\n",
    "    else:\n",
    "\n",
    "        prec_k_val = sum(ys_true_k).item() / min(sum(ys_true).item(), k)\n",
    "    \n",
    "    return prec_k_val\n",
    "\n",
    "def reciprocal_rank(ys_true: torch.Tensor, ys_pred: torch.Tensor) -> float:\n",
    "    ys_pred_sorted = torch.sort(ys_pred, descending=True)\n",
    "    ys_true_sorted = ys_true[ys_pred_sorted[1]]\n",
    "    \n",
    "    if sum(ys_true_sorted.numpy() == 1) == 0:\n",
    "        return 0\n",
    "    else:\n",
    "        ys_true_idx = ((ys_true_sorted == 1).nonzero(as_tuple=True)[0])\n",
    "        return 1 / (ys_true_idx.item() + 1)\n",
    "\n",
    "def p_found(ys_true: torch.Tensor, ys_pred: torch.Tensor, p_break: float = 0.15) -> float:\n",
    "    ys_pred_sorted = torch.sort(ys_pred, descending=True)\n",
    "    ys_true_sorted = ys_true[ys_pred_sorted[1]] # pRel\n",
    "    \n",
    "    pLook = torch.zeros(len(ys_true))\n",
    "    pLook[0] = 1\n",
    "    \n",
    "    for i in range(1, len(ys_true)):\n",
    "        pLook[i] = pLook[i - 1] * (1 - ys_true_sorted[i - 1]) * (1 - p_break)\n",
    "    \n",
    "    pFound = sum(pLook * ys_true_sorted).item()\n",
    "    \n",
    "    return pFound\n",
    "\n",
    "def average_precision(ys_true: torch.Tensor, ys_pred: torch.Tensor) -> float:\n",
    "    if sum(ys_true) == 0:\n",
    "        return -1\n",
    "    else:\n",
    "        ys_pred_sorted = torch.sort(ys_pred, descending=True)\n",
    "        ys_true_sorted = ys_true[ys_pred_sorted[1]]\n",
    "        ys_true_sum = sum(ys_true).item()\n",
    "        \n",
    "        avg_prec = 0\n",
    "        recall_k_prev = 0\n",
    "        for i in range(len(ys_true)):\n",
    "            recall_k = sum(ys_true_sorted[:(i + 1)]).item() / ys_true_sum\n",
    "            prec_k = sum(ys_true_sorted[:(i + 1)]).item() / (i + 1)\n",
    "            avg_prec_i = (recall_k - recall_k_prev) * prec_k\n",
    "            recall_k_prev = recall_k\n",
    "            \n",
    "            avg_prec += avg_prec_i\n",
    "            \n",
    "        return avg_prec"
   ]
  },
  {
   "cell_type": "markdown",
   "metadata": {},
   "source": [
    "# num_swapped_pairs"
   ]
  },
  {
   "cell_type": "code",
   "execution_count": 62,
   "metadata": {},
   "outputs": [],
   "source": [
    "def num_swapped_pairs(ys_true: torch.Tensor, ys_pred: torch.Tensor) -> int:\n",
    "    \n",
    "    n_pairs = 0\n",
    "    ys_true_sorted = torch.sort(ys_true, descending=True)\n",
    "    \n",
    "    for i in range(len(ys_true_sorted[0]) - 1):\n",
    "        for j in range(i, len(ys_true_sorted[0])):\n",
    "            if (ys_pred[ys_true_sorted[1][i]] < ys_pred[ys_true_sorted[1][j]]) & \\\n",
    "                (ys_true_sorted[0][i] != ys_true_sorted[0][j]):\n",
    "                n_pairs += 1\n",
    "    \n",
    "    return n_pairs"
   ]
  },
  {
   "cell_type": "code",
   "execution_count": 19,
   "metadata": {},
   "outputs": [
    {
     "data": {
      "text/plain": [
       "tensor([0., 2., 3., 3., 2.])"
      ]
     },
     "execution_count": 19,
     "metadata": {},
     "output_type": "execute_result"
    }
   ],
   "source": [
    "ys_true = torch.tensor([0., 2., 3., 3., 2.])\n",
    "ys_pred = torch.tensor([0.2948, 0.0318, 0.0073, 0.4319, 0.7311])\n",
    "num_swapped_pairs = 5\n",
    "\n",
    "ys_true"
   ]
  },
  {
   "cell_type": "code",
   "execution_count": 24,
   "metadata": {},
   "outputs": [
    {
     "data": {
      "text/plain": [
       "torch.return_types.sort(\n",
       "values=tensor([3., 3., 2., 2., 0.]),\n",
       "indices=tensor([2, 3, 1, 4, 0]))"
      ]
     },
     "execution_count": 24,
     "metadata": {},
     "output_type": "execute_result"
    }
   ],
   "source": [
    "torch.sort(ys_true, descending=True)"
   ]
  },
  {
   "cell_type": "code",
   "execution_count": 31,
   "metadata": {},
   "outputs": [
    {
     "data": {
      "text/plain": [
       "torch.return_types.sort(\n",
       "values=tensor([0.7311, 0.4319, 0.2948, 0.0318, 0.0073]),\n",
       "indices=tensor([4, 3, 0, 1, 2]))"
      ]
     },
     "execution_count": 31,
     "metadata": {},
     "output_type": "execute_result"
    }
   ],
   "source": [
    "ys_pred_sorted"
   ]
  },
  {
   "cell_type": "code",
   "execution_count": 46,
   "metadata": {},
   "outputs": [
    {
     "data": {
      "text/plain": [
       "torch.Size([5])"
      ]
     },
     "execution_count": 46,
     "metadata": {},
     "output_type": "execute_result"
    }
   ],
   "source": [
    "ys_pred_sorted[0].size()\n",
    "ys_pred_sorted[0].shape"
   ]
  },
  {
   "cell_type": "code",
   "execution_count": 47,
   "metadata": {},
   "outputs": [
    {
     "data": {
      "text/plain": [
       "5"
      ]
     },
     "execution_count": 47,
     "metadata": {},
     "output_type": "execute_result"
    }
   ],
   "source": [
    "len(ys_pred_sorted[0])"
   ]
  },
  {
   "cell_type": "code",
   "execution_count": 34,
   "metadata": {},
   "outputs": [
    {
     "data": {
      "text/plain": [
       "tensor(0.7311)"
      ]
     },
     "execution_count": 34,
     "metadata": {},
     "output_type": "execute_result"
    }
   ],
   "source": [
    "ys_pred_sorted[0][0]"
   ]
  },
  {
   "cell_type": "code",
   "execution_count": 29,
   "metadata": {},
   "outputs": [
    {
     "data": {
      "text/plain": [
       "tensor([4, 3, 0, 1, 2])"
      ]
     },
     "execution_count": 29,
     "metadata": {},
     "output_type": "execute_result"
    }
   ],
   "source": [
    "ys_pred_sorted = torch.sort(ys_pred, descending=True)\n",
    "ys_pred_sorted_idx = ys_pred_sorted[1]\n",
    "ys_pred_sorted_idx"
   ]
  },
  {
   "cell_type": "code",
   "execution_count": 30,
   "metadata": {},
   "outputs": [
    {
     "data": {
      "text/plain": [
       "tensor([2, 3, 1, 4, 0])"
      ]
     },
     "execution_count": 30,
     "metadata": {},
     "output_type": "execute_result"
    }
   ],
   "source": [
    "ys_true_sorted = torch.sort(ys_true, descending=True)\n",
    "ys_true_sorted_idx = ys_true_sorted[1]\n",
    "ys_true_sorted_idx"
   ]
  },
  {
   "cell_type": "code",
   "execution_count": 61,
   "metadata": {},
   "outputs": [
    {
     "data": {
      "text/plain": [
       "5"
      ]
     },
     "execution_count": 61,
     "metadata": {},
     "output_type": "execute_result"
    }
   ],
   "source": [
    "n_pairs = 0\n",
    "\n",
    "for i in range(len(ys_pred_sorted[0]) - 1):\n",
    "    for j in range(i, len(ys_pred_sorted[0])):\n",
    "        if (ys_pred[ys_true_sorted[1][i]] < ys_pred[ys_true_sorted[1][j]]) & \\\n",
    "            (ys_true_sorted[0][i] != ys_true_sorted[0][j]):\n",
    "            n_pairs += 1\n",
    "\n",
    "n_pairs"
   ]
  },
  {
   "cell_type": "markdown",
   "metadata": {},
   "source": [
    "# dcg ndcg with compute_gain"
   ]
  },
  {
   "cell_type": "code",
   "execution_count": 130,
   "metadata": {},
   "outputs": [],
   "source": [
    "def compute_gain(y_value: float, gain_scheme: str) -> float:\n",
    "    if gain_scheme == 'exp2':\n",
    "        return 2 ** y_value - 1.\n",
    "    else:\n",
    "        return y_value + 0."
   ]
  },
  {
   "cell_type": "code",
   "execution_count": 78,
   "metadata": {},
   "outputs": [
    {
     "data": {
      "text/plain": [
       "['T',\n",
       " '__abs__',\n",
       " '__add__',\n",
       " '__and__',\n",
       " '__array__',\n",
       " '__array_priority__',\n",
       " '__array_wrap__',\n",
       " '__bool__',\n",
       " '__class__',\n",
       " '__complex__',\n",
       " '__contains__',\n",
       " '__deepcopy__',\n",
       " '__delattr__',\n",
       " '__delitem__',\n",
       " '__dict__',\n",
       " '__dir__',\n",
       " '__div__',\n",
       " '__doc__',\n",
       " '__eq__',\n",
       " '__float__',\n",
       " '__floordiv__',\n",
       " '__format__',\n",
       " '__ge__',\n",
       " '__getattribute__',\n",
       " '__getitem__',\n",
       " '__gt__',\n",
       " '__hash__',\n",
       " '__iadd__',\n",
       " '__iand__',\n",
       " '__idiv__',\n",
       " '__ifloordiv__',\n",
       " '__ilshift__',\n",
       " '__imul__',\n",
       " '__index__',\n",
       " '__init__',\n",
       " '__init_subclass__',\n",
       " '__int__',\n",
       " '__invert__',\n",
       " '__ior__',\n",
       " '__ipow__',\n",
       " '__irshift__',\n",
       " '__isub__',\n",
       " '__iter__',\n",
       " '__itruediv__',\n",
       " '__ixor__',\n",
       " '__le__',\n",
       " '__len__',\n",
       " '__long__',\n",
       " '__lshift__',\n",
       " '__lt__',\n",
       " '__matmul__',\n",
       " '__mod__',\n",
       " '__module__',\n",
       " '__mul__',\n",
       " '__ne__',\n",
       " '__neg__',\n",
       " '__new__',\n",
       " '__nonzero__',\n",
       " '__or__',\n",
       " '__pow__',\n",
       " '__radd__',\n",
       " '__rdiv__',\n",
       " '__reduce__',\n",
       " '__reduce_ex__',\n",
       " '__repr__',\n",
       " '__reversed__',\n",
       " '__rfloordiv__',\n",
       " '__rmul__',\n",
       " '__rpow__',\n",
       " '__rshift__',\n",
       " '__rsub__',\n",
       " '__rtruediv__',\n",
       " '__setattr__',\n",
       " '__setitem__',\n",
       " '__setstate__',\n",
       " '__sizeof__',\n",
       " '__str__',\n",
       " '__sub__',\n",
       " '__subclasshook__',\n",
       " '__torch_function__',\n",
       " '__truediv__',\n",
       " '__weakref__',\n",
       " '__xor__',\n",
       " '_backward_hooks',\n",
       " '_base',\n",
       " '_cdata',\n",
       " '_coalesced_',\n",
       " '_dimI',\n",
       " '_dimV',\n",
       " '_grad',\n",
       " '_grad_fn',\n",
       " '_indices',\n",
       " '_is_view',\n",
       " '_make_subclass',\n",
       " '_nnz',\n",
       " '_update_names',\n",
       " '_values',\n",
       " '_version',\n",
       " 'abs',\n",
       " 'abs_',\n",
       " 'absolute',\n",
       " 'absolute_',\n",
       " 'acos',\n",
       " 'acos_',\n",
       " 'acosh',\n",
       " 'acosh_',\n",
       " 'add',\n",
       " 'add_',\n",
       " 'addbmm',\n",
       " 'addbmm_',\n",
       " 'addcdiv',\n",
       " 'addcdiv_',\n",
       " 'addcmul',\n",
       " 'addcmul_',\n",
       " 'addmm',\n",
       " 'addmm_',\n",
       " 'addmv',\n",
       " 'addmv_',\n",
       " 'addr',\n",
       " 'addr_',\n",
       " 'align_as',\n",
       " 'align_to',\n",
       " 'all',\n",
       " 'allclose',\n",
       " 'amax',\n",
       " 'amin',\n",
       " 'angle',\n",
       " 'any',\n",
       " 'apply_',\n",
       " 'arccos',\n",
       " 'arccos_',\n",
       " 'arccosh',\n",
       " 'arccosh_',\n",
       " 'arcsin',\n",
       " 'arcsin_',\n",
       " 'arcsinh',\n",
       " 'arcsinh_',\n",
       " 'arctan',\n",
       " 'arctan_',\n",
       " 'arctanh',\n",
       " 'arctanh_',\n",
       " 'argmax',\n",
       " 'argmin',\n",
       " 'argsort',\n",
       " 'as_strided',\n",
       " 'as_strided_',\n",
       " 'as_subclass',\n",
       " 'asin',\n",
       " 'asin_',\n",
       " 'asinh',\n",
       " 'asinh_',\n",
       " 'atan',\n",
       " 'atan2',\n",
       " 'atan2_',\n",
       " 'atan_',\n",
       " 'atanh',\n",
       " 'atanh_',\n",
       " 'backward',\n",
       " 'baddbmm',\n",
       " 'baddbmm_',\n",
       " 'bernoulli',\n",
       " 'bernoulli_',\n",
       " 'bfloat16',\n",
       " 'bincount',\n",
       " 'bitwise_and',\n",
       " 'bitwise_and_',\n",
       " 'bitwise_not',\n",
       " 'bitwise_not_',\n",
       " 'bitwise_or',\n",
       " 'bitwise_or_',\n",
       " 'bitwise_xor',\n",
       " 'bitwise_xor_',\n",
       " 'bmm',\n",
       " 'bool',\n",
       " 'byte',\n",
       " 'cauchy_',\n",
       " 'ceil',\n",
       " 'ceil_',\n",
       " 'char',\n",
       " 'cholesky',\n",
       " 'cholesky_inverse',\n",
       " 'cholesky_solve',\n",
       " 'chunk',\n",
       " 'clamp',\n",
       " 'clamp_',\n",
       " 'clamp_max',\n",
       " 'clamp_max_',\n",
       " 'clamp_min',\n",
       " 'clamp_min_',\n",
       " 'clip',\n",
       " 'clip_',\n",
       " 'clone',\n",
       " 'coalesce',\n",
       " 'conj',\n",
       " 'contiguous',\n",
       " 'copy_',\n",
       " 'cos',\n",
       " 'cos_',\n",
       " 'cosh',\n",
       " 'cosh_',\n",
       " 'count_nonzero',\n",
       " 'cpu',\n",
       " 'cross',\n",
       " 'cuda',\n",
       " 'cummax',\n",
       " 'cummin',\n",
       " 'cumprod',\n",
       " 'cumsum',\n",
       " 'data',\n",
       " 'data_ptr',\n",
       " 'deg2rad',\n",
       " 'deg2rad_',\n",
       " 'dense_dim',\n",
       " 'dequantize',\n",
       " 'det',\n",
       " 'detach',\n",
       " 'detach_',\n",
       " 'device',\n",
       " 'diag',\n",
       " 'diag_embed',\n",
       " 'diagflat',\n",
       " 'diagonal',\n",
       " 'digamma',\n",
       " 'digamma_',\n",
       " 'dim',\n",
       " 'dist',\n",
       " 'div',\n",
       " 'div_',\n",
       " 'divide',\n",
       " 'divide_',\n",
       " 'dot',\n",
       " 'double',\n",
       " 'dtype',\n",
       " 'eig',\n",
       " 'element_size',\n",
       " 'eq',\n",
       " 'eq_',\n",
       " 'equal',\n",
       " 'erf',\n",
       " 'erf_',\n",
       " 'erfc',\n",
       " 'erfc_',\n",
       " 'erfinv',\n",
       " 'erfinv_',\n",
       " 'exp',\n",
       " 'exp2',\n",
       " 'exp2_',\n",
       " 'exp_',\n",
       " 'expand',\n",
       " 'expand_as',\n",
       " 'expm1',\n",
       " 'expm1_',\n",
       " 'exponential_',\n",
       " 'fft',\n",
       " 'fill_',\n",
       " 'fill_diagonal_',\n",
       " 'fix',\n",
       " 'fix_',\n",
       " 'flatten',\n",
       " 'flip',\n",
       " 'fliplr',\n",
       " 'flipud',\n",
       " 'float',\n",
       " 'floor',\n",
       " 'floor_',\n",
       " 'floor_divide',\n",
       " 'floor_divide_',\n",
       " 'fmod',\n",
       " 'fmod_',\n",
       " 'frac',\n",
       " 'frac_',\n",
       " 'gather',\n",
       " 'gcd',\n",
       " 'gcd_',\n",
       " 'ge',\n",
       " 'ge_',\n",
       " 'geometric_',\n",
       " 'geqrf',\n",
       " 'ger',\n",
       " 'get_device',\n",
       " 'grad',\n",
       " 'grad_fn',\n",
       " 'greater',\n",
       " 'greater_',\n",
       " 'greater_equal',\n",
       " 'greater_equal_',\n",
       " 'gt',\n",
       " 'gt_',\n",
       " 'half',\n",
       " 'hardshrink',\n",
       " 'has_names',\n",
       " 'heaviside',\n",
       " 'heaviside_',\n",
       " 'histc',\n",
       " 'hypot',\n",
       " 'hypot_',\n",
       " 'i0',\n",
       " 'i0_',\n",
       " 'ifft',\n",
       " 'imag',\n",
       " 'index_add',\n",
       " 'index_add_',\n",
       " 'index_copy',\n",
       " 'index_copy_',\n",
       " 'index_fill',\n",
       " 'index_fill_',\n",
       " 'index_put',\n",
       " 'index_put_',\n",
       " 'index_select',\n",
       " 'indices',\n",
       " 'int',\n",
       " 'int_repr',\n",
       " 'inverse',\n",
       " 'irfft',\n",
       " 'is_coalesced',\n",
       " 'is_complex',\n",
       " 'is_contiguous',\n",
       " 'is_cuda',\n",
       " 'is_distributed',\n",
       " 'is_floating_point',\n",
       " 'is_leaf',\n",
       " 'is_meta',\n",
       " 'is_mkldnn',\n",
       " 'is_nonzero',\n",
       " 'is_pinned',\n",
       " 'is_quantized',\n",
       " 'is_same_size',\n",
       " 'is_set_to',\n",
       " 'is_shared',\n",
       " 'is_signed',\n",
       " 'is_sparse',\n",
       " 'isclose',\n",
       " 'isfinite',\n",
       " 'isinf',\n",
       " 'isnan',\n",
       " 'isneginf',\n",
       " 'isposinf',\n",
       " 'isreal',\n",
       " 'istft',\n",
       " 'item',\n",
       " 'kthvalue',\n",
       " 'layout',\n",
       " 'lcm',\n",
       " 'lcm_',\n",
       " 'le',\n",
       " 'le_',\n",
       " 'lerp',\n",
       " 'lerp_',\n",
       " 'less',\n",
       " 'less_',\n",
       " 'less_equal',\n",
       " 'less_equal_',\n",
       " 'lgamma',\n",
       " 'lgamma_',\n",
       " 'log',\n",
       " 'log10',\n",
       " 'log10_',\n",
       " 'log1p',\n",
       " 'log1p_',\n",
       " 'log2',\n",
       " 'log2_',\n",
       " 'log_',\n",
       " 'log_normal_',\n",
       " 'log_softmax',\n",
       " 'logaddexp',\n",
       " 'logaddexp2',\n",
       " 'logcumsumexp',\n",
       " 'logdet',\n",
       " 'logical_and',\n",
       " 'logical_and_',\n",
       " 'logical_not',\n",
       " 'logical_not_',\n",
       " 'logical_or',\n",
       " 'logical_or_',\n",
       " 'logical_xor',\n",
       " 'logical_xor_',\n",
       " 'logit',\n",
       " 'logit_',\n",
       " 'logsumexp',\n",
       " 'long',\n",
       " 'lstsq',\n",
       " 'lt',\n",
       " 'lt_',\n",
       " 'lu',\n",
       " 'lu_solve',\n",
       " 'map2_',\n",
       " 'map_',\n",
       " 'masked_fill',\n",
       " 'masked_fill_',\n",
       " 'masked_scatter',\n",
       " 'masked_scatter_',\n",
       " 'masked_select',\n",
       " 'matmul',\n",
       " 'matrix_exp',\n",
       " 'matrix_power',\n",
       " 'max',\n",
       " 'maximum',\n",
       " 'mean',\n",
       " 'median',\n",
       " 'min',\n",
       " 'minimum',\n",
       " 'mm',\n",
       " 'mode',\n",
       " 'movedim',\n",
       " 'mul',\n",
       " 'mul_',\n",
       " 'multinomial',\n",
       " 'multiply',\n",
       " 'multiply_',\n",
       " 'mv',\n",
       " 'mvlgamma',\n",
       " 'mvlgamma_',\n",
       " 'name',\n",
       " 'names',\n",
       " 'nanquantile',\n",
       " 'nansum',\n",
       " 'narrow',\n",
       " 'narrow_copy',\n",
       " 'ndim',\n",
       " 'ndimension',\n",
       " 'ne',\n",
       " 'ne_',\n",
       " 'neg',\n",
       " 'neg_',\n",
       " 'negative',\n",
       " 'negative_',\n",
       " 'nelement',\n",
       " 'new',\n",
       " 'new_empty',\n",
       " 'new_full',\n",
       " 'new_ones',\n",
       " 'new_tensor',\n",
       " 'new_zeros',\n",
       " 'nextafter',\n",
       " 'nextafter_',\n",
       " 'nonzero',\n",
       " 'norm',\n",
       " 'normal_',\n",
       " 'not_equal',\n",
       " 'not_equal_',\n",
       " 'numel',\n",
       " 'numpy',\n",
       " 'orgqr',\n",
       " 'ormqr',\n",
       " 'outer',\n",
       " 'output_nr',\n",
       " 'permute',\n",
       " 'pin_memory',\n",
       " 'pinverse',\n",
       " 'polygamma',\n",
       " 'polygamma_',\n",
       " 'pow',\n",
       " 'pow_',\n",
       " 'prelu',\n",
       " 'prod',\n",
       " 'put_',\n",
       " 'q_per_channel_axis',\n",
       " 'q_per_channel_scales',\n",
       " 'q_per_channel_zero_points',\n",
       " 'q_scale',\n",
       " 'q_zero_point',\n",
       " 'qr',\n",
       " 'qscheme',\n",
       " 'quantile',\n",
       " 'rad2deg',\n",
       " 'rad2deg_',\n",
       " 'random_',\n",
       " 'real',\n",
       " 'reciprocal',\n",
       " 'reciprocal_',\n",
       " 'record_stream',\n",
       " 'refine_names',\n",
       " 'register_hook',\n",
       " 'reinforce',\n",
       " 'relu',\n",
       " 'relu_',\n",
       " 'remainder',\n",
       " 'remainder_',\n",
       " 'rename',\n",
       " 'rename_',\n",
       " 'renorm',\n",
       " 'renorm_',\n",
       " 'repeat',\n",
       " 'repeat_interleave',\n",
       " 'requires_grad',\n",
       " 'requires_grad_',\n",
       " 'reshape',\n",
       " 'reshape_as',\n",
       " 'resize',\n",
       " 'resize_',\n",
       " 'resize_as',\n",
       " 'resize_as_',\n",
       " 'retain_grad',\n",
       " 'rfft',\n",
       " 'roll',\n",
       " 'rot90',\n",
       " 'round',\n",
       " 'round_',\n",
       " 'rsqrt',\n",
       " 'rsqrt_',\n",
       " 'scatter',\n",
       " 'scatter_',\n",
       " 'scatter_add',\n",
       " 'scatter_add_',\n",
       " 'select',\n",
       " 'set_',\n",
       " 'sgn',\n",
       " 'sgn_',\n",
       " 'shape',\n",
       " 'share_memory_',\n",
       " 'short',\n",
       " 'sigmoid',\n",
       " 'sigmoid_',\n",
       " 'sign',\n",
       " 'sign_',\n",
       " 'signbit',\n",
       " 'sin',\n",
       " 'sin_',\n",
       " 'sinh',\n",
       " 'sinh_',\n",
       " 'size',\n",
       " 'slogdet',\n",
       " 'smm',\n",
       " 'softmax',\n",
       " 'solve',\n",
       " 'sort',\n",
       " 'sparse_dim',\n",
       " 'sparse_mask',\n",
       " 'sparse_resize_',\n",
       " 'sparse_resize_and_clear_',\n",
       " 'split',\n",
       " 'split_with_sizes',\n",
       " 'sqrt',\n",
       " 'sqrt_',\n",
       " 'square',\n",
       " 'square_',\n",
       " 'squeeze',\n",
       " 'squeeze_',\n",
       " 'sspaddmm',\n",
       " 'std',\n",
       " 'stft',\n",
       " 'storage',\n",
       " 'storage_offset',\n",
       " 'storage_type',\n",
       " 'stride',\n",
       " 'sub',\n",
       " 'sub_',\n",
       " 'subtract',\n",
       " 'subtract_',\n",
       " 'sum',\n",
       " 'sum_to_size',\n",
       " 'svd',\n",
       " 'symeig',\n",
       " 't',\n",
       " 't_',\n",
       " 'take',\n",
       " 'tan',\n",
       " 'tan_',\n",
       " 'tanh',\n",
       " 'tanh_',\n",
       " 'to',\n",
       " 'to_dense',\n",
       " 'to_mkldnn',\n",
       " 'to_sparse',\n",
       " 'tolist',\n",
       " 'topk',\n",
       " 'trace',\n",
       " 'transpose',\n",
       " 'transpose_',\n",
       " 'triangular_solve',\n",
       " 'tril',\n",
       " 'tril_',\n",
       " 'triu',\n",
       " 'triu_',\n",
       " 'true_divide',\n",
       " 'true_divide_',\n",
       " 'trunc',\n",
       " 'trunc_',\n",
       " 'type',\n",
       " 'type_as',\n",
       " 'unbind',\n",
       " 'unflatten',\n",
       " 'unfold',\n",
       " 'uniform_',\n",
       " 'unique',\n",
       " 'unique_consecutive',\n",
       " 'unsafe_chunk',\n",
       " 'unsafe_split',\n",
       " 'unsafe_split_with_sizes',\n",
       " 'unsqueeze',\n",
       " 'unsqueeze_',\n",
       " 'values',\n",
       " 'var',\n",
       " 'vdot',\n",
       " 'view',\n",
       " 'view_as',\n",
       " 'where',\n",
       " 'zero_']"
      ]
     },
     "execution_count": 78,
     "metadata": {},
     "output_type": "execute_result"
    }
   ],
   "source": [
    "dir(sum(2 ** torch.tensor([2, 3])))"
   ]
  },
  {
   "cell_type": "code",
   "execution_count": 99,
   "metadata": {},
   "outputs": [
    {
     "data": {
      "text/plain": [
       "12"
      ]
     },
     "execution_count": 99,
     "metadata": {},
     "output_type": "execute_result"
    }
   ],
   "source": [
    "sum(2 ** torch.tensor([2, 3])).numpy()\n",
    "sum(2 ** torch.tensor([2, 3])).item()"
   ]
  },
  {
   "cell_type": "code",
   "execution_count": 224,
   "metadata": {},
   "outputs": [
    {
     "data": {
      "text/plain": [
       "[1.0, 1.584962500721156, 2.0, 2.321928094887362]"
      ]
     },
     "execution_count": 224,
     "metadata": {},
     "output_type": "execute_result"
    }
   ],
   "source": [
    "2 ** 3 - 1\n",
    "tst3 = [math.log2(x) for x in range(2, 6)]\n",
    "torch.tensor([2, 2, 3, 3]) / torch.tensor(tst3)\n",
    "([2, 2, 3, 3]) # / tst3\n",
    "tst3"
   ]
  },
  {
   "cell_type": "code",
   "execution_count": 230,
   "metadata": {},
   "outputs": [],
   "source": [
    "# def dcg(ys_true: torch.Tensor, ys_pred: torch.Tensor, gain_scheme: str) -> float:\n",
    "#     ys_pred_sorted = torch.sort(ys_pred, descending=True)\n",
    "#     log2_tensor = torch.tensor([math.log2(x) for x in range(2, len(ys_pred) + 2)])\n",
    "#     dcg_val = compute_gain(ys_true[ys_pred_sorted[1]], gain_scheme=gain_scheme) / \\\n",
    "#         log2_tensor\n",
    "#     return sum(dcg_val).item()\n",
    "\n",
    "def dcg(ys_true: torch.Tensor, ys_pred: torch.Tensor, gain_scheme: str) -> float:\n",
    "    ys_pred_sorted = torch.sort(ys_pred, descending=True)\n",
    "    log2_list = [math.log2(x) for x in range(2, len(ys_pred) + 2)]\n",
    "    \n",
    "    dcg_val = 0.\n",
    "    for i in range(len(log2_list)):\n",
    "        dcg_val += compute_gain(ys_true[ys_pred_sorted[1]][i].item(), \\\n",
    "                                gain_scheme=gain_scheme) / log2_list[i]\n",
    "    \n",
    "    return dcg_val"
   ]
  },
  {
   "cell_type": "code",
   "execution_count": 231,
   "metadata": {},
   "outputs": [
    {
     "data": {
      "text/plain": [
       "6.454395572359223"
      ]
     },
     "execution_count": 231,
     "metadata": {},
     "output_type": "execute_result"
    }
   ],
   "source": [
    "tst2 = dcg(ys_true=torch.tensor([2, 3, 1, 4]), ys_pred = torch.tensor([4, 2, 1, 3]), gain_scheme='const')\n",
    "tst2"
   ]
  },
  {
   "cell_type": "code",
   "execution_count": 214,
   "metadata": {},
   "outputs": [
    {
     "data": {
      "text/plain": [
       "7.551795482635498"
      ]
     },
     "execution_count": 214,
     "metadata": {},
     "output_type": "execute_result"
    }
   ],
   "source": [
    "ys_true = torch.tensor([2, 2, 2, 1, 1, 1, 3, 3, 3])\n",
    "ys_pred = torch.tensor([1, 1, 1, 3, 3, 3, 2, 2, 2])\n",
    "dcg(ys_true=ys_true, ys_pred=ys_pred, gain_scheme='const')"
   ]
  },
  {
   "cell_type": "code",
   "execution_count": 215,
   "metadata": {},
   "outputs": [
    {
     "data": {
      "text/plain": [
       "13.196569442749023"
      ]
     },
     "execution_count": 215,
     "metadata": {},
     "output_type": "execute_result"
    }
   ],
   "source": [
    "dcg(ys_true=ys_true, ys_pred=ys_pred, gain_scheme='exp2')"
   ]
  },
  {
   "cell_type": "code",
   "execution_count": 216,
   "metadata": {},
   "outputs": [
    {
     "data": {
      "text/plain": [
       "tensor([2, 3, 1, 4])"
      ]
     },
     "execution_count": 216,
     "metadata": {},
     "output_type": "execute_result"
    }
   ],
   "source": [
    "ys_true = torch.tensor([2, 3, 1, 4])\n",
    "ys_pred = torch.tensor([4, 2, 1, 3])\n",
    "ys_true"
   ]
  },
  {
   "cell_type": "code",
   "execution_count": 199,
   "metadata": {},
   "outputs": [
    {
     "data": {
      "text/plain": [
       "array([ 2,  3,  4,  5,  6,  7,  8,  9, 10])"
      ]
     },
     "execution_count": 199,
     "metadata": {},
     "output_type": "execute_result"
    }
   ],
   "source": [
    "# math.log2(list(range(2, len(ys_true) + 1)))\n",
    "# math.log2(ys_true)\n",
    "torch.log2(ys_true + 0.)\n",
    "torch.log2(torch.tensor(range(2, len(ys_true) + 2)).float())\n",
    "# math.log2(torch.tensor(range(2, len(ys_true) + 2)).numpy())\n",
    "# math.log2(torch.tensor(range(2, len(ys_true) + 2)).numpy().reshape(-1))\n",
    "# math.log2(torch.tensor(range(2, len(ys_true) + 2)).numpy().flatten())\n",
    "torch.tensor(range(2, len(ys_true) + 2)).numpy().reshape(-1)\n",
    "torch.tensor(range(2, len(ys_true) + 2)).numpy().flatten()\n",
    "torch.tensor(range(2, len(ys_true) + 2)).numpy()"
   ]
  },
  {
   "cell_type": "code",
   "execution_count": 124,
   "metadata": {},
   "outputs": [
    {
     "data": {
      "text/plain": [
       "tensor([0, 1, 2])"
      ]
     },
     "execution_count": 124,
     "metadata": {},
     "output_type": "execute_result"
    }
   ],
   "source": [
    "torch.tensor(range(3))"
   ]
  },
  {
   "cell_type": "code",
   "execution_count": 129,
   "metadata": {},
   "outputs": [
    {
     "data": {
      "text/plain": [
       "tensor([2.0000, 1.8928, 0.5000, 1.7227])"
      ]
     },
     "execution_count": 129,
     "metadata": {},
     "output_type": "execute_result"
    }
   ],
   "source": [
    "ys_true / torch.log2(torch.tensor(range(2, len(ys_true) + 2)).float())"
   ]
  },
  {
   "cell_type": "code",
   "execution_count": 133,
   "metadata": {},
   "outputs": [
    {
     "data": {
      "text/plain": [
       "tensor([2.0000, 1.8928, 0.5000, 1.7227])"
      ]
     },
     "execution_count": 133,
     "metadata": {},
     "output_type": "execute_result"
    }
   ],
   "source": [
    "compute_gain(ys_true, gain_scheme='const') / \\\n",
    "    torch.log2(torch.tensor(range(2, len(ys_true) + 2)).float())"
   ]
  },
  {
   "cell_type": "code",
   "execution_count": 134,
   "metadata": {},
   "outputs": [
    {
     "data": {
      "text/plain": [
       "tensor([3.0000, 4.4165, 0.5000, 6.4601])"
      ]
     },
     "execution_count": 134,
     "metadata": {},
     "output_type": "execute_result"
    }
   ],
   "source": [
    "compute_gain(ys_true, gain_scheme='exp2') / \\\n",
    "    torch.log2(torch.tensor(range(2, len(ys_true) + 2)).float())"
   ]
  },
  {
   "cell_type": "code",
   "execution_count": 205,
   "metadata": {},
   "outputs": [
    {
     "data": {
      "text/plain": [
       "1.584962500721156"
      ]
     },
     "execution_count": 205,
     "metadata": {},
     "output_type": "execute_result"
    }
   ],
   "source": [
    "math.log2(3)"
   ]
  },
  {
   "cell_type": "code",
   "execution_count": null,
   "metadata": {},
   "outputs": [],
   "source": []
  },
  {
   "cell_type": "code",
   "execution_count": null,
   "metadata": {},
   "outputs": [],
   "source": [
    "def ndcg(ys_true: torch.Tensor, ys_pred: torch.Tensor, gain_scheme: str = 'const') -> float:\n",
    "    ndcg_val = dcg(ys_true=ys_true, ys_pred=ys_pred, gain_scheme=gain_scheme) / \\\n",
    "        dcg(ys_true=ys_true, ys_pred=ys_true, gain_scheme=gain_scheme)\n",
    "    return ndcg_val"
   ]
  },
  {
   "cell_type": "markdown",
   "metadata": {},
   "source": [
    "# precision at k"
   ]
  },
  {
   "cell_type": "code",
   "execution_count": null,
   "metadata": {},
   "outputs": [],
   "source": []
  },
  {
   "cell_type": "code",
   "execution_count": null,
   "metadata": {},
   "outputs": [],
   "source": [
    "# def precission_at_k(ys_true: torch.Tensor, ys_pred: torch.Tensor, k: int) -> float:\n",
    "#     k = min(k, len(ys_true))\n",
    "# #     ys_true_sorted = torch.sort(ys_true, descending=True)\n",
    "#     ys_pred_sorted = torch.sort(ys_pred, descending=True)\n",
    "#     is_pred_1 = [ys_pred_sorted[0].numpy() == 1]\n",
    "#     is_pred_0 = [ys_pred_sorted[0].numpy() == 0]\n",
    "#     print(ys_pred_sorted[0])\n",
    "    \n",
    "#     ys_true_sorted = ys_true[ys_pred_sorted[1]]\n",
    "#     ys_true_sorted[is_pred_1] = torch.sort(ys_true_sorted[is_pred_1], descending=True)[0]\n",
    "#     ys_true_sorted[is_pred_0] = torch.sort(ys_true_sorted[is_pred_0], descending=True)[0]\n",
    "#     print(ys_true_sorted)\n",
    "    \n",
    "# #     ys_true_k = ys_true[ys_pred_sorted[1][:k]]\n",
    "# #     ys_pred_k = ys_pred[ys_pred_sorted[1][:k]]\n",
    "#     ys_true_k = ys_true_sorted[:k]\n",
    "#     ys_pred_k = ys_pred_sorted[0][:k]\n",
    "    \n",
    "#     ys_pred_k_tp = sum((ys_true_k == ys_pred_k) & (ys_pred_k == 1)).item()\n",
    "#     ys_true_k_tp = sum(ys_pred_k == 1).item()\n",
    "    \n",
    "#     if ys_true_k_tp == 0:\n",
    "#         prec_k_val = -1\n",
    "#     else:\n",
    "#         prec_k_val = ys_pred_k_tp / ys_true_k_tp\n",
    "    \n",
    "#     return prec_k_val"
   ]
  },
  {
   "cell_type": "code",
   "execution_count": 117,
   "metadata": {},
   "outputs": [],
   "source": [
    "# def precission_at_k(ys_true: torch.Tensor, ys_pred: torch.Tensor, k: int) -> float:\n",
    "#     k_max = k\n",
    "#     k = min(k, len(ys_true))\n",
    "#     ys_pred_sorted = torch.sort(ys_pred, descending=True)\n",
    "    \n",
    "# #     ys_true_sorted = torch.sort(ys_true, descending=True)\n",
    "# #     is_pred_1 = [ys_pred_sorted[0].numpy() == 1]\n",
    "# #     is_pred_0 = [ys_pred_sorted[0].numpy() == 0]\n",
    "# #     print(ys_pred_sorted[0])\n",
    "# #     ys_true_sorted = ys_true[ys_pred_sorted[1]]\n",
    "# #     ys_true_sorted[is_pred_1] = torch.sort(ys_true_sorted[is_pred_1], descending=True)[0]\n",
    "# #     ys_true_sorted[is_pred_0] = torch.sort(ys_true_sorted[is_pred_0], descending=True)[0]\n",
    "# #     print(ys_true_sorted)\n",
    "\n",
    "#     ys_true_sorted = ys_true[ys_pred_sorted[1]]\n",
    "    \n",
    "# #     if k:\n",
    "# #         for i in range(1, len(ys_true)):\n",
    "# #             y_pred_k_val = ys_pred_sorted[0][i]\n",
    "# #             y_pred_k_idx = [ys_pred_sorted[0].numpy() == y_pred_k_val.item()]\n",
    "# #             ys_true_sorted[y_pred_k_idx] = torch.sort(ys_true_sorted[y_pred_k_idx], descending=True)[0]\n",
    "    \n",
    "# #     ys_true_k = ys_true[ys_pred_sorted[1][:k]]\n",
    "# #     ys_pred_k = ys_pred[ys_pred_sorted[1][:k]]\n",
    "#     ys_true_k = ys_true_sorted[:k]\n",
    "#     ys_pred_k = ys_pred_sorted[0][:k]\n",
    "    \n",
    "#     print(ys_true_k)\n",
    "#     print(ys_pred_k)\n",
    "    \n",
    "# # #     ys_pred_k_tp = sum((ys_true_k == ys_pred_k) & (ys_pred_k == 1)).item()\n",
    "# # #     ys_true_k_tp = sum(ys_pred_k == 1).item()\n",
    "# # #     ys_true_k_tp = sum(ys_pred_k > 0).item()\n",
    "#     ys_pred_k_tp = sum((ys_true_k == 1)).item()\n",
    "#     ys_true_k_tp = len(ys_pred_k)\n",
    "#     print(ys_pred_k_tp)\n",
    "#     print(ys_true_k_tp)\n",
    "    \n",
    "#     if sum(ys_true_k).item() == 0:\n",
    "#         prec_k_val = -1\n",
    "#     else:\n",
    "#         prec_max = 0\n",
    "#         for i in range(1, len(ys_pred) + 1):\n",
    "#             ys_pred_i_tp = sum((ys_true_sorted[:i] == 1)).item()\n",
    "#             ys_true_i_tp = i\n",
    "#             prec_max = max(prec_max, (ys_pred_i_tp / ys_true_i_tp))\n",
    "            \n",
    "#         prec_k_val = ys_pred_k_tp / ys_true_k_tp / prec_max\n",
    "    \n",
    "#     return prec_k_val"
   ]
  },
  {
   "cell_type": "code",
   "execution_count": 125,
   "metadata": {},
   "outputs": [],
   "source": [
    "def precission_at_k(ys_true: torch.Tensor, ys_pred: torch.Tensor, k: int) -> float:\n",
    "    k_max = k\n",
    "    k = min(k, len(ys_true))\n",
    "    ys_pred_sorted = torch.sort(ys_pred, descending=True)\n",
    "    ys_true_sorted = ys_true[ys_pred_sorted[1]]\n",
    "    \n",
    "#     if k:\n",
    "#         for i in range(1, len(ys_true)):\n",
    "#             y_pred_k_val = ys_pred_sorted[0][i]\n",
    "#             y_pred_k_idx = [ys_pred_sorted[0].numpy() == y_pred_k_val.item()]\n",
    "#             ys_true_sorted[y_pred_k_idx] = torch.sort(ys_true_sorted[y_pred_k_idx], descending=True)[0]\n",
    "    \n",
    "#     ys_true_k = ys_true[ys_pred_sorted[1][:k]]\n",
    "#     ys_pred_k = ys_pred[ys_pred_sorted[1][:k]]\n",
    "    ys_true_k = ys_true_sorted[:k]\n",
    "    ys_pred_k = ys_pred_sorted[0][:k]\n",
    "    \n",
    "    print(ys_true_k)\n",
    "    print(ys_pred_k)\n",
    "    \n",
    "# #     ys_pred_k_tp = sum((ys_true_k == ys_pred_k) & (ys_pred_k == 1)).item()\n",
    "# #     ys_true_k_tp = sum(ys_pred_k == 1).item()\n",
    "# #     ys_true_k_tp = sum(ys_pred_k > 0).item()\n",
    "\n",
    "#     ys_pred_k_tp = sum((ys_true_k == 1)).item()\n",
    "   \n",
    "#     ys_true_k_tp = len(ys_pred_k)\n",
    "# #     print(ys_pred_k_tp)\n",
    "# #     print(ys_true_k_tp)\n",
    "    \n",
    "    if sum(ys_true).item() == 0:\n",
    "        prec_k_val = -1\n",
    "    else:\n",
    "#         prec_max = 0\n",
    "#         for i in range(1, len(ys_pred) + 1):\n",
    "#             ys_pred_i_tp = sum((ys_true_sorted[:i] == 1)).item()\n",
    "#             ys_true_i_tp = i\n",
    "#             prec_max = max(prec_max, (ys_pred_i_tp / ys_true_i_tp))\n",
    "#\n",
    "#         prec_k_val = ys_pred_k_tp / ys_true_k_tp / prec_max\n",
    "        \n",
    "        prec_k_val = sum(ys_true_k).item() / min(sum(ys_true).item(), k)\n",
    "    \n",
    "    return prec_k_val"
   ]
  },
  {
   "cell_type": "code",
   "execution_count": 126,
   "metadata": {},
   "outputs": [
    {
     "name": "stdout",
     "output_type": "stream",
     "text": [
      "tensor([0, 1, 0, 1, 1, 0, 0, 1])\n",
      "tensor([0.9000, 0.8000, 0.8000, 0.6000, 0.5000, 0.3000, 0.3000, 0.3000])\n"
     ]
    },
    {
     "data": {
      "text/plain": [
       "0.8"
      ]
     },
     "execution_count": 126,
     "metadata": {},
     "output_type": "execute_result"
    }
   ],
   "source": [
    "precission_at_k(\\\n",
    "    ys_true=torch.tensor([  0,   0,   1,    0,   1,   1,   0,   1,  1,   0,   0]), \\\n",
    "    ys_pred = torch.tensor([0.3, 0.9, 0.8, 0.8, 0.6, 0.5, 0.3, 0.3, 0.3, 0.2, 0.2]),\\\n",
    "    k = 8)"
   ]
  },
  {
   "cell_type": "code",
   "execution_count": 127,
   "metadata": {},
   "outputs": [
    {
     "name": "stdout",
     "output_type": "stream",
     "text": [
      "tensor([0, 0, 1, 0, 1])\n",
      "tensor([0.8000, 0.8000, 0.8000, 0.8000, 0.8000])\n"
     ]
    },
    {
     "data": {
      "text/plain": [
       "1.0"
      ]
     },
     "execution_count": 127,
     "metadata": {},
     "output_type": "execute_result"
    }
   ],
   "source": [
    "precission_at_k(\\\n",
    "    ys_true=torch.tensor([  0,   0,   1,    0,   1]), \\\n",
    "    ys_pred = torch.tensor([0.8, 0.8, 0.8, 0.8, 0.8]),\\\n",
    "    k = 5)"
   ]
  },
  {
   "cell_type": "code",
   "execution_count": null,
   "metadata": {},
   "outputs": [],
   "source": []
  },
  {
   "cell_type": "code",
   "execution_count": 319,
   "metadata": {},
   "outputs": [
    {
     "data": {
      "text/plain": [
       "torch.return_types.sort(\n",
       "values=tensor([77, 77,  3,  3,  2,  2,  2,  1,  1]),\n",
       "indices=tensor([2, 4, 0, 1, 6, 7, 8, 3, 5]))"
      ]
     },
     "execution_count": 319,
     "metadata": {},
     "output_type": "execute_result"
    }
   ],
   "source": [
    "ys_true = torch.tensor([2, 2, 2, 1, 1, 3, 1, 2, 3])\n",
    "ys_pred = torch.tensor([3, 3, 3, 1, 1, 1, 2, 2, 2])\n",
    "ys_true_sorted = torch.sort(ys_true, descending=True)\n",
    "ys_true_sorted\n",
    "ys_pred[[False,False,True,False,True,False,False,False,False]] = torch.tensor(77)\n",
    "ys_pred\n",
    "[ys_pred.numpy() == 77]\n",
    "ys_true[[ys_pred.numpy() == 77]]\n",
    "torch.sort(ys_pred, descending=True)"
   ]
  },
  {
   "cell_type": "code",
   "execution_count": 247,
   "metadata": {},
   "outputs": [
    {
     "data": {
      "text/plain": [
       "tensor([6, 7, 8])"
      ]
     },
     "execution_count": 247,
     "metadata": {},
     "output_type": "execute_result"
    }
   ],
   "source": [
    "ys_true_sorted[1][:3]"
   ]
  },
  {
   "cell_type": "code",
   "execution_count": 248,
   "metadata": {},
   "outputs": [
    {
     "data": {
      "text/plain": [
       "1"
      ]
     },
     "execution_count": 248,
     "metadata": {},
     "output_type": "execute_result"
    }
   ],
   "source": [
    "min(2,1)"
   ]
  },
  {
   "cell_type": "code",
   "execution_count": 249,
   "metadata": {},
   "outputs": [
    {
     "data": {
      "text/plain": [
       "9"
      ]
     },
     "execution_count": 249,
     "metadata": {},
     "output_type": "execute_result"
    }
   ],
   "source": [
    "len(ys_true)"
   ]
  },
  {
   "cell_type": "code",
   "execution_count": 262,
   "metadata": {},
   "outputs": [
    {
     "data": {
      "text/plain": [
       "tensor(3)"
      ]
     },
     "execution_count": 262,
     "metadata": {},
     "output_type": "execute_result"
    }
   ],
   "source": [
    "(ys_true == ys_pred) & (ys_true == 1)"
   ]
  },
  {
   "cell_type": "code",
   "execution_count": 257,
   "metadata": {},
   "outputs": [
    {
     "data": {
      "text/plain": [
       "tensor([False, False, False,  True,  True,  True, False, False, False])"
      ]
     },
     "execution_count": 257,
     "metadata": {},
     "output_type": "execute_result"
    }
   ],
   "source": [
    "(ys_true == 1)"
   ]
  },
  {
   "cell_type": "code",
   "execution_count": 260,
   "metadata": {},
   "outputs": [
    {
     "data": {
      "text/plain": [
       "3"
      ]
     },
     "execution_count": 260,
     "metadata": {},
     "output_type": "execute_result"
    }
   ],
   "source": [
    "sum((ys_true == 1)).item()"
   ]
  },
  {
   "cell_type": "code",
   "execution_count": null,
   "metadata": {},
   "outputs": [],
   "source": []
  },
  {
   "cell_type": "code",
   "execution_count": null,
   "metadata": {},
   "outputs": [],
   "source": []
  },
  {
   "cell_type": "markdown",
   "metadata": {},
   "source": [
    "# reciprocal rank"
   ]
  },
  {
   "cell_type": "code",
   "execution_count": 166,
   "metadata": {},
   "outputs": [],
   "source": [
    "def reciprocal_rank(ys_true: torch.Tensor, ys_pred: torch.Tensor) -> float:\n",
    "    ys_pred_sorted = torch.sort(ys_pred, descending=True)\n",
    "    ys_true_sorted = ys_true[ys_pred_sorted[1]]\n",
    "    print(ys_pred_sorted)\n",
    "    print(ys_true_sorted)\n",
    "    \n",
    "    if sum(ys_true_sorted.numpy() == 1) == 0:\n",
    "        return 0\n",
    "    else:\n",
    "        ys_true_idx = ((ys_true_sorted == 1).nonzero(as_tuple=True)[0])\n",
    "        return 1 / (ys_true_idx.item() + 1)\n",
    "    "
   ]
  },
  {
   "cell_type": "code",
   "execution_count": 167,
   "metadata": {},
   "outputs": [
    {
     "name": "stdout",
     "output_type": "stream",
     "text": [
      "torch.return_types.sort(\n",
      "values=tensor([7.0000, 5.0000, 3.0000, 2.0000, 0.8000]),\n",
      "indices=tensor([4, 3, 0, 1, 2]))\n",
      "tensor([0, 0, 0, 1, 0])\n",
      "tensor([3])\n"
     ]
    },
    {
     "data": {
      "text/plain": [
       "0.25"
      ]
     },
     "execution_count": 167,
     "metadata": {},
     "output_type": "execute_result"
    }
   ],
   "source": [
    "reciprocal_rank(\\\n",
    "    ys_true=torch.tensor([  0,   1,   0,    0,   0]), \\\n",
    "    ys_pred = torch.tensor([3, 2, 0.8, 5, 7]))"
   ]
  },
  {
   "cell_type": "code",
   "execution_count": 155,
   "metadata": {},
   "outputs": [
    {
     "data": {
      "text/plain": [
       "array([False, False,  True, False, False])"
      ]
     },
     "execution_count": 155,
     "metadata": {},
     "output_type": "execute_result"
    }
   ],
   "source": [
    "ys_true = torch.tensor([  0,   0,   1,    0,   0])\n",
    "ys_true == 1\n",
    "ys_true.numpy() == 1"
   ]
  },
  {
   "cell_type": "markdown",
   "metadata": {},
   "source": [
    "# p_found"
   ]
  },
  {
   "cell_type": "code",
   "execution_count": 170,
   "metadata": {},
   "outputs": [],
   "source": [
    "def p_found(ys_true: torch.Tensor, ys_pred: torch.Tensor, p_break: float = 0.15) -> float:\n",
    "    ys_pred_sorted = torch.sort(ys_pred, descending=True)\n",
    "    ys_true_sorted = ys_true[ys_pred_sorted[1]] # pRel\n",
    "    \n",
    "    pLook = torch.zeros(len(ys_true))\n",
    "    pLook[0] = 1\n",
    "    \n",
    "    for i in range(1, len(ys_true)):\n",
    "        pLook[i] = pLook[i - 1] * (1 - ys_true_sorted[i - 1]) * (1 - p_break)\n",
    "    \n",
    "    pFound = sum(pLook * ys_true_sorted).item()\n",
    "    \n",
    "    return pFound"
   ]
  },
  {
   "cell_type": "code",
   "execution_count": 171,
   "metadata": {},
   "outputs": [
    {
     "data": {
      "text/plain": [
       "0.9550000429153442"
      ]
     },
     "execution_count": 171,
     "metadata": {},
     "output_type": "execute_result"
    }
   ],
   "source": [
    "p_found(\\\n",
    "    ys_true=torch.tensor([  0.5,   1,   0.7,    0.5,   0.3]), \\\n",
    "    ys_pred = torch.tensor([3, 2, 0.8, 5, 7]))"
   ]
  },
  {
   "cell_type": "markdown",
   "metadata": {},
   "source": [
    "# average precision"
   ]
  },
  {
   "cell_type": "code",
   "execution_count": 184,
   "metadata": {},
   "outputs": [],
   "source": [
    "def average_precision(ys_true: torch.Tensor, ys_pred: torch.Tensor) -> float:\n",
    "    if sum(ys_true) == 0:\n",
    "        return -1\n",
    "    else:\n",
    "        ys_pred_sorted = torch.sort(ys_pred, descending=True)\n",
    "        ys_true_sorted = ys_true[ys_pred_sorted[1]]\n",
    "        ys_true_sum = sum(ys_true).item()\n",
    "        \n",
    "        avg_prec = 0\n",
    "        recall_k_prev = 0\n",
    "        for i in range(len(ys_true)):\n",
    "            recall_k = sum(ys_true_sorted[:(i + 1)]).item() / ys_true_sum\n",
    "            prec_k = sum(ys_true_sorted[:(i + 1)]).item() / (i + 1)\n",
    "            avg_prec_i = (recall_k - recall_k_prev) * prec_k\n",
    "            recall_k_prev = recall_k\n",
    "            \n",
    "            avg_prec += avg_prec_i\n",
    "            \n",
    "        return avg_prec"
   ]
  },
  {
   "cell_type": "code",
   "execution_count": 185,
   "metadata": {},
   "outputs": [
    {
     "data": {
      "text/plain": [
       "0.5005555532375975"
      ]
     },
     "execution_count": 185,
     "metadata": {},
     "output_type": "execute_result"
    }
   ],
   "source": [
    "average_precision(\\\n",
    "    ys_true=torch.tensor([  0.5,   1,   0.7,    0.5,   0.3]), \\\n",
    "    ys_pred = torch.tensor([3, 2, 0.8, 5, 7]))"
   ]
  },
  {
   "cell_type": "code",
   "execution_count": null,
   "metadata": {},
   "outputs": [],
   "source": []
  },
  {
   "cell_type": "code",
   "execution_count": null,
   "metadata": {},
   "outputs": [],
   "source": []
  },
  {
   "cell_type": "code",
   "execution_count": null,
   "metadata": {},
   "outputs": [],
   "source": []
  },
  {
   "cell_type": "code",
   "execution_count": null,
   "metadata": {},
   "outputs": [],
   "source": []
  },
  {
   "cell_type": "code",
   "execution_count": null,
   "metadata": {},
   "outputs": [],
   "source": []
  },
  {
   "cell_type": "code",
   "execution_count": null,
   "metadata": {},
   "outputs": [],
   "source": []
  },
  {
   "cell_type": "code",
   "execution_count": null,
   "metadata": {},
   "outputs": [],
   "source": []
  },
  {
   "cell_type": "code",
   "execution_count": null,
   "metadata": {},
   "outputs": [],
   "source": []
  },
  {
   "cell_type": "code",
   "execution_count": null,
   "metadata": {},
   "outputs": [],
   "source": []
  },
  {
   "cell_type": "code",
   "execution_count": null,
   "metadata": {},
   "outputs": [],
   "source": []
  },
  {
   "cell_type": "code",
   "execution_count": null,
   "metadata": {},
   "outputs": [],
   "source": []
  },
  {
   "cell_type": "code",
   "execution_count": null,
   "metadata": {},
   "outputs": [],
   "source": []
  },
  {
   "cell_type": "code",
   "execution_count": null,
   "metadata": {},
   "outputs": [],
   "source": []
  },
  {
   "cell_type": "code",
   "execution_count": null,
   "metadata": {},
   "outputs": [],
   "source": []
  },
  {
   "cell_type": "code",
   "execution_count": null,
   "metadata": {},
   "outputs": [],
   "source": []
  },
  {
   "cell_type": "code",
   "execution_count": null,
   "metadata": {},
   "outputs": [],
   "source": []
  },
  {
   "cell_type": "code",
   "execution_count": null,
   "metadata": {},
   "outputs": [],
   "source": []
  },
  {
   "cell_type": "code",
   "execution_count": null,
   "metadata": {},
   "outputs": [],
   "source": []
  },
  {
   "cell_type": "code",
   "execution_count": null,
   "metadata": {},
   "outputs": [],
   "source": []
  },
  {
   "cell_type": "code",
   "execution_count": null,
   "metadata": {},
   "outputs": [],
   "source": []
  },
  {
   "cell_type": "code",
   "execution_count": null,
   "metadata": {},
   "outputs": [],
   "source": []
  },
  {
   "cell_type": "code",
   "execution_count": null,
   "metadata": {},
   "outputs": [],
   "source": []
  },
  {
   "cell_type": "code",
   "execution_count": null,
   "metadata": {},
   "outputs": [],
   "source": []
  },
  {
   "cell_type": "code",
   "execution_count": null,
   "metadata": {},
   "outputs": [],
   "source": []
  },
  {
   "cell_type": "code",
   "execution_count": null,
   "metadata": {},
   "outputs": [],
   "source": []
  },
  {
   "cell_type": "code",
   "execution_count": null,
   "metadata": {},
   "outputs": [],
   "source": []
  },
  {
   "cell_type": "code",
   "execution_count": null,
   "metadata": {},
   "outputs": [],
   "source": []
  },
  {
   "cell_type": "code",
   "execution_count": null,
   "metadata": {},
   "outputs": [],
   "source": []
  },
  {
   "cell_type": "code",
   "execution_count": null,
   "metadata": {},
   "outputs": [],
   "source": []
  },
  {
   "cell_type": "code",
   "execution_count": null,
   "metadata": {},
   "outputs": [],
   "source": []
  },
  {
   "cell_type": "code",
   "execution_count": null,
   "metadata": {},
   "outputs": [],
   "source": []
  },
  {
   "cell_type": "code",
   "execution_count": null,
   "metadata": {},
   "outputs": [],
   "source": []
  },
  {
   "cell_type": "code",
   "execution_count": null,
   "metadata": {},
   "outputs": [],
   "source": []
  },
  {
   "cell_type": "code",
   "execution_count": null,
   "metadata": {},
   "outputs": [],
   "source": []
  },
  {
   "cell_type": "code",
   "execution_count": null,
   "metadata": {},
   "outputs": [],
   "source": []
  },
  {
   "cell_type": "code",
   "execution_count": null,
   "metadata": {},
   "outputs": [],
   "source": []
  },
  {
   "cell_type": "code",
   "execution_count": null,
   "metadata": {},
   "outputs": [],
   "source": []
  },
  {
   "cell_type": "code",
   "execution_count": null,
   "metadata": {},
   "outputs": [],
   "source": []
  },
  {
   "cell_type": "code",
   "execution_count": null,
   "metadata": {},
   "outputs": [],
   "source": []
  },
  {
   "cell_type": "code",
   "execution_count": null,
   "metadata": {},
   "outputs": [],
   "source": []
  },
  {
   "cell_type": "code",
   "execution_count": null,
   "metadata": {},
   "outputs": [],
   "source": []
  },
  {
   "cell_type": "code",
   "execution_count": null,
   "metadata": {},
   "outputs": [],
   "source": []
  },
  {
   "cell_type": "code",
   "execution_count": null,
   "metadata": {},
   "outputs": [],
   "source": []
  },
  {
   "cell_type": "code",
   "execution_count": null,
   "metadata": {},
   "outputs": [],
   "source": []
  },
  {
   "cell_type": "code",
   "execution_count": null,
   "metadata": {},
   "outputs": [],
   "source": []
  },
  {
   "cell_type": "code",
   "execution_count": null,
   "metadata": {},
   "outputs": [],
   "source": []
  },
  {
   "cell_type": "code",
   "execution_count": null,
   "metadata": {},
   "outputs": [],
   "source": []
  },
  {
   "cell_type": "code",
   "execution_count": null,
   "metadata": {},
   "outputs": [],
   "source": []
  },
  {
   "cell_type": "code",
   "execution_count": null,
   "metadata": {},
   "outputs": [],
   "source": []
  }
 ],
 "metadata": {
  "kernelspec": {
   "display_name": "Python 3",
   "language": "python",
   "name": "python3"
  },
  "language_info": {
   "codemirror_mode": {
    "name": "ipython",
    "version": 3
   },
   "file_extension": ".py",
   "mimetype": "text/x-python",
   "name": "python",
   "nbconvert_exporter": "python",
   "pygments_lexer": "ipython3",
   "version": "3.7.3"
  },
  "toc": {
   "base_numbering": 1,
   "nav_menu": {},
   "number_sections": true,
   "sideBar": true,
   "skip_h1_title": false,
   "title_cell": "Table of Contents",
   "title_sidebar": "Contents",
   "toc_cell": false,
   "toc_position": {
    "height": "calc(100% - 180px)",
    "left": "10px",
    "top": "150px",
    "width": "165px"
   },
   "toc_section_display": true,
   "toc_window_display": true
  },
  "varInspector": {
   "cols": {
    "lenName": 16,
    "lenType": 16,
    "lenVar": 40
   },
   "kernels_config": {
    "python": {
     "delete_cmd_postfix": "",
     "delete_cmd_prefix": "del ",
     "library": "var_list.py",
     "varRefreshCmd": "print(var_dic_list())"
    },
    "r": {
     "delete_cmd_postfix": ") ",
     "delete_cmd_prefix": "rm(",
     "library": "var_list.r",
     "varRefreshCmd": "cat(var_dic_list()) "
    }
   },
   "types_to_exclude": [
    "module",
    "function",
    "builtin_function_or_method",
    "instance",
    "_Feature"
   ],
   "window_display": false
  }
 },
 "nbformat": 4,
 "nbformat_minor": 4
}
