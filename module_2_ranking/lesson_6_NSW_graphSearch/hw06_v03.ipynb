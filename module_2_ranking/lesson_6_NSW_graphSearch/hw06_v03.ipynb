{
 "cells": [
  {
   "cell_type": "markdown",
   "metadata": {},
   "source": [
    "# template"
   ]
  },
  {
   "cell_type": "code",
   "execution_count": null,
   "metadata": {},
   "outputs": [],
   "source": [
    "from collections import OrderedDict, defaultdict\n",
    "from typing import Callable, Tuple, Dict, List\n",
    "\n",
    "import numpy as np\n",
    "from tqdm.auto import tqdm\n",
    "\n",
    "\n",
    "def distance(pointA: np.ndarray, documents: np.ndarray) -> np.ndarray:\n",
    "    # допишите ваш код здесь \n",
    "    pass\n",
    "\n",
    "\n",
    "def create_sw_graph(\n",
    "        data: np.ndarray,\n",
    "        num_candidates_for_choice_long: int = 10,\n",
    "        num_edges_long: int = 5,\n",
    "        num_candidates_for_choice_short: int = 10,\n",
    "        num_edges_short: int = 5,\n",
    "        use_sampling: bool = False,\n",
    "        sampling_share: float = 0.05,\n",
    "        dist_f: Callable = distance\n",
    "    ) -> Dict[int, List[int]]:\n",
    "    # допишите ваш код здесь \n",
    "    pass\n",
    "\n",
    "def nsw(query_point: np.ndarray, all_documents: np.ndarray, \n",
    "        graph_edges: Dict[int, List[int]],\n",
    "        search_k: int = 10, num_start_points: int = 5,\n",
    "        dist_f: Callable = distance) -> np.ndarray:\n",
    "    # допишите ваш код здесь \n",
    "    pass\n",
    "\n"
   ]
  },
  {
   "cell_type": "markdown",
   "metadata": {},
   "source": [
    "# code to send"
   ]
  },
  {
   "cell_type": "code",
   "execution_count": 1,
   "metadata": {},
   "outputs": [],
   "source": [
    "from collections import OrderedDict, defaultdict\n",
    "from typing import Callable, Tuple, Dict, List\n",
    "\n",
    "import numpy as np\n",
    "from tqdm.auto import tqdm\n",
    "\n",
    "\n",
    "def distance(pointA: np.ndarray, documents: np.ndarray) -> np.ndarray:\n",
    "    # допишите ваш код здесь \n",
    "    return np.sqrt(np.sum((documents - pointA) ** 2, axis=1)).reshape(-1,1)\n",
    "\n",
    "\n",
    "def create_sw_graph(\n",
    "        data: np.ndarray,\n",
    "        num_candidates_for_choice_long: int = 10,\n",
    "        num_edges_long: int = 5,\n",
    "        num_candidates_for_choice_short: int = 10,\n",
    "        num_edges_short: int = 5,\n",
    "        use_sampling: bool = False,\n",
    "        sampling_share: float = 0.05,\n",
    "        dist_f: Callable = distance\n",
    "    ) -> Dict[int, List[int]]:\n",
    "    # допишите ваш код здесь \n",
    "    dict_points = dict()\n",
    "    \n",
    "    for i in range(np.shape(data)[0]):\n",
    "        # random sampling for large datasets\n",
    "        if use_sampling:\n",
    "            N_points = int(sampling_share * np.shape(data)[0])\n",
    "            N_points_idx = np.random.choice(np.shape(data)[0], N_points, replace=False)\n",
    "            # distance from current point\n",
    "            dist_i = distance(data[i, ], data[N_points_idx, ])\n",
    "        else:\n",
    "            dist_i = distance(data[i, ], data)\n",
    "        \n",
    "        # get indices of sorted values\n",
    "        dist_i_argsort = np.argsort(dist_i, axis=0)\n",
    "        \n",
    "        # choose long edges (points)\n",
    "        num_edges_long = np.min((num_candidates_for_choice_long, num_edges_long))\n",
    "        long_rand_idx = np.random.choice(num_candidates_for_choice_long, num_edges_long,\\\n",
    "                                         replace=False)\n",
    "        long_idx = dist_i_argsort[-num_candidates_for_choice_long:][long_rand_idx]\n",
    "        \n",
    "        \n",
    "        # choose short edges (points)\n",
    "        num_edges_short = np.min((num_candidates_for_choice_short, num_edges_short))\n",
    "        short_rand_idx = np.random.choice(num_candidates_for_choice_short, num_edges_short,\\\n",
    "                                     replace=False)\n",
    "        short_idx = dist_i_argsort[1:num_candidates_for_choice_short+1][short_rand_idx]\n",
    "        \n",
    "        # collect points' indices to dict\n",
    "#         dict_points[i] = np.unique(np.concatenate(\\\n",
    "#             (long_idx, short_idx), axis=0).reshape(1,-1)[0]).tolist()\n",
    "        dict_points[i] = np.concatenate(\\\n",
    "            (long_idx, short_idx), axis=0).reshape(1,-1)[0].tolist()\n",
    "\n",
    "    \n",
    "    return dict_points\n",
    "\n",
    "def nsw(query_point: np.ndarray, all_documents: np.ndarray, \n",
    "        graph_edges: Dict[int, List[int]],\n",
    "        search_k: int = 10, num_start_points: int = 5,\n",
    "        dist_f: Callable = distance) -> np.ndarray:\n",
    "    # допишите ваш код здесь \n",
    "    ii = 0\n",
    "    jj = 0\n",
    "    visited_points_dict = OrderedDict()\n",
    "    seen_points_dict = OrderedDict()\n",
    "    \n",
    "    N_docs = np.shape(all_documents)[0]\n",
    "    \n",
    "    num_point_i = 0\n",
    "    while (num_start_points > num_point_i) or (len(seen_points_dict) < search_k):\n",
    "        jj += 1\n",
    "        \n",
    "#         new_start_point = np.random.choice(range(N_docs), 1)[0] ## EXTREMELY SLOW\n",
    "        new_start_point = np.random.randint(0, N_docs)\n",
    "        if new_start_point in visited_points_dict.keys():\n",
    "#             num_point_i += 1\n",
    "            continue\n",
    "            \n",
    "        if new_start_point in seen_points_dict.keys():\n",
    "            cur_dist = seen_points_dict[new_start_point]\n",
    "        else:\n",
    "            cur_dist = dist_f(pointA=query_point,\\\n",
    "                documents=all_documents[[new_start_point], ])[0][0]\n",
    "        \n",
    "        visited_points_dict[new_start_point] = cur_dist\n",
    "        is_new_point_added = False\n",
    "        \n",
    "        while not is_new_point_added:\n",
    "            ii += 1\n",
    "            \n",
    "            new_edges_num = graph_edges[new_start_point]\n",
    "            prev_new_start_point = new_start_point\n",
    "            \n",
    "            for edge_num in new_edges_num:\n",
    "                if edge_num not in seen_points_dict.keys():\n",
    "                    new_distance = dist_f(pointA=query_point,\\\n",
    "                        documents=all_documents[[edge_num], ])[0][0]\n",
    "                    seen_points_dict[edge_num] = new_distance\n",
    "                \n",
    "                if cur_dist > seen_points_dict[edge_num]:\n",
    "                    new_start_point = edge_num\n",
    "                    cur_dist = seen_points_dict[edge_num]\n",
    "            \n",
    "            if prev_new_start_point == new_start_point:\n",
    "                num_point_i += 1\n",
    "                break\n",
    "            \n",
    "            if new_start_point in visited_points_dict.keys():\n",
    "                num_point_i += 1\n",
    "                break\n",
    "            else:\n",
    "                visited_points_dict[new_start_point] = cur_dist\n",
    "    \n",
    "    print(ii)\n",
    "    print(jj)  \n",
    "    top_k_points_i = np.argsort(list(seen_points_dict.values()))[:search_k]\n",
    "    top_k_points_nums = np.array(list(seen_points_dict.keys()))[top_k_points_i]\n",
    "    return top_k_points_nums\n"
   ]
  },
  {
   "cell_type": "code",
   "execution_count": null,
   "metadata": {},
   "outputs": [],
   "source": []
  },
  {
   "cell_type": "markdown",
   "metadata": {},
   "source": [
    "# funs draft"
   ]
  },
  {
   "cell_type": "markdown",
   "metadata": {},
   "source": [
    "## distance"
   ]
  },
  {
   "cell_type": "code",
   "execution_count": 282,
   "metadata": {},
   "outputs": [],
   "source": [
    "def distance(pointA: np.ndarray, documents: np.ndarray) -> np.ndarray:\n",
    "    # допишите ваш код здесь \n",
    "    return np.sqrt(np.sum((documents - pointA) ** 2, axis=1)).reshape(-1,1)"
   ]
  },
  {
   "cell_type": "code",
   "execution_count": 80,
   "metadata": {},
   "outputs": [
    {
     "data": {
      "text/plain": [
       "array([[4.67432274e-310, 0.00000000e+000, 0.00000000e+000,\n",
       "        0.00000000e+000, 0.00000000e+000, 0.00000000e+000]])"
      ]
     },
     "execution_count": 80,
     "metadata": {},
     "output_type": "execute_result"
    }
   ],
   "source": [
    "np.ndarray((1, 6), dtype=float)"
   ]
  },
  {
   "cell_type": "code",
   "execution_count": 81,
   "metadata": {},
   "outputs": [
    {
     "data": {
      "text/plain": [
       "array([[0.00000000e+000, 4.67432231e-310, 1.02587682e-071,\n",
       "        9.06324828e-043, 4.27255707e+180, 7.94651531e-061],\n",
       "       [1.12547816e-153, 6.01347002e-154, 3.74162949e+233,\n",
       "        1.35717430e+131, 9.42218944e-096, 5.88365854e-062],\n",
       "       [4.61101863e+252, 4.55072025e+198, 2.87341591e+159,\n",
       "        6.09946325e-154, 5.51675406e-048, 6.01347002e-154],\n",
       "       [6.01353877e-154, 2.21294506e-052, 5.94084270e-038,\n",
       "        7.61402148e-010, 4.34905137e+199, 1.67354582e+243],\n",
       "       [1.05894728e-153, 8.96864382e+130, 1.72731109e+097,\n",
       "        9.08967387e+242, 5.36812262e+242, 5.50409548e+257]])"
      ]
     },
     "execution_count": 81,
     "metadata": {},
     "output_type": "execute_result"
    }
   ],
   "source": [
    "np.ndarray((5, 6), dtype=float)"
   ]
  },
  {
   "cell_type": "code",
   "execution_count": 82,
   "metadata": {},
   "outputs": [
    {
     "data": {
      "text/plain": [
       "array([[3, 0, 3],\n",
       "       [0, 1, 4],\n",
       "       [3, 2, 1],\n",
       "       [1, 2, 2],\n",
       "       [4, 4, 4],\n",
       "       [4, 4, 1]])"
      ]
     },
     "execution_count": 82,
     "metadata": {},
     "output_type": "execute_result"
    }
   ],
   "source": [
    "# np.zeros((4, 5))\n",
    "tst_arr1 = np.random.randint(low=5, size=(6,3))\n",
    "tst_arr1"
   ]
  },
  {
   "cell_type": "code",
   "execution_count": 83,
   "metadata": {},
   "outputs": [
    {
     "data": {
      "text/plain": [
       "array([3, 0, 3])"
      ]
     },
     "execution_count": 83,
     "metadata": {},
     "output_type": "execute_result"
    }
   ],
   "source": [
    "tst_arr0 = tst_arr1[0, ]\n",
    "tst_arr0"
   ]
  },
  {
   "cell_type": "code",
   "execution_count": 84,
   "metadata": {},
   "outputs": [
    {
     "data": {
      "text/plain": [
       "(3,)"
      ]
     },
     "execution_count": 84,
     "metadata": {},
     "output_type": "execute_result"
    }
   ],
   "source": [
    "np.shape(tst_arr0)"
   ]
  },
  {
   "cell_type": "code",
   "execution_count": 85,
   "metadata": {},
   "outputs": [
    {
     "data": {
      "text/plain": [
       "(6, 3)"
      ]
     },
     "execution_count": 85,
     "metadata": {},
     "output_type": "execute_result"
    }
   ],
   "source": [
    "np.shape(tst_arr1)"
   ]
  },
  {
   "cell_type": "code",
   "execution_count": 86,
   "metadata": {},
   "outputs": [
    {
     "data": {
      "text/plain": [
       "array([[ 0,  0,  0],\n",
       "       [ 9,  1,  1],\n",
       "       [ 0,  4,  4],\n",
       "       [ 4,  4,  1],\n",
       "       [ 1, 16,  1],\n",
       "       [ 1, 16,  4]])"
      ]
     },
     "execution_count": 86,
     "metadata": {},
     "output_type": "execute_result"
    }
   ],
   "source": [
    "cur_sum = (tst_arr1 - tst_arr0) ** 2\n",
    "cur_sum"
   ]
  },
  {
   "cell_type": "code",
   "execution_count": 87,
   "metadata": {},
   "outputs": [
    {
     "data": {
      "text/plain": [
       "array([[0.        ],\n",
       "       [3.31662479],\n",
       "       [2.82842712],\n",
       "       [3.        ],\n",
       "       [4.24264069],\n",
       "       [4.58257569]])"
      ]
     },
     "execution_count": 87,
     "metadata": {},
     "output_type": "execute_result"
    }
   ],
   "source": [
    "np.sqrt(np.sum(cur_sum, axis=1)).reshape(-1,1)"
   ]
  },
  {
   "cell_type": "code",
   "execution_count": 88,
   "metadata": {},
   "outputs": [
    {
     "data": {
      "text/plain": [
       "array([[0.        ],\n",
       "       [3.31662479],\n",
       "       [2.82842712],\n",
       "       [3.        ],\n",
       "       [4.24264069],\n",
       "       [4.58257569]])"
      ]
     },
     "execution_count": 88,
     "metadata": {},
     "output_type": "execute_result"
    }
   ],
   "source": [
    "np.linalg.norm(tst_arr1 - tst_arr0, axis=1, keepdims=True)"
   ]
  },
  {
   "cell_type": "code",
   "execution_count": 89,
   "metadata": {},
   "outputs": [
    {
     "data": {
      "text/plain": [
       "array([[0.        ],\n",
       "       [3.31662479],\n",
       "       [2.82842712],\n",
       "       [3.        ],\n",
       "       [4.24264069],\n",
       "       [4.58257569]])"
      ]
     },
     "execution_count": 89,
     "metadata": {},
     "output_type": "execute_result"
    }
   ],
   "source": [
    "distance(tst_arr1, tst_arr0)"
   ]
  },
  {
   "cell_type": "markdown",
   "metadata": {},
   "source": [
    "## create graph"
   ]
  },
  {
   "cell_type": "code",
   "execution_count": 43,
   "metadata": {},
   "outputs": [],
   "source": [
    "def create_sw_graph(\n",
    "        data: np.ndarray,\n",
    "        num_candidates_for_choice_long: int = 10,\n",
    "        num_edges_long: int = 5,\n",
    "        num_candidates_for_choice_short: int = 10,\n",
    "        num_edges_short: int = 5,\n",
    "        use_sampling: bool = False,\n",
    "        sampling_share: float = 0.05,\n",
    "        dist_f: Callable = distance\n",
    "    ) -> Dict[int, List[int]]:\n",
    "    # допишите ваш код здесь \n",
    "    dict_points = dict()\n",
    "    \n",
    "    for i in tqdm(range(np.shape(data)[0])):\n",
    "#     for i in range(np.shape(data)[0]):\n",
    "        # random sampling for large datasets\n",
    "        if use_sampling:\n",
    "            N_points = int(sampling_share * np.shape(data)[0])\n",
    "            N_points_idx = np.random.choice(np.shape(data)[0], N_points, replace=False)\n",
    "            # distance from current point\n",
    "            dist_i = distance(data[i, ], data[N_points_idx, ])\n",
    "        else:\n",
    "            dist_i = distance(data[i, ], data)\n",
    "        \n",
    "        # get indices of sorted values\n",
    "        dist_i_argsort = np.argsort(dist_i, axis=0)\n",
    "        \n",
    "        # choose long edges (points)\n",
    "        num_edges_long = np.min((num_candidates_for_choice_long, num_edges_long))\n",
    "        long_rand_idx = np.random.choice(num_candidates_for_choice_long, num_edges_long,\\\n",
    "                                         replace=False)\n",
    "        long_idx = dist_i_argsort[-num_candidates_for_choice_long:][long_rand_idx]\n",
    "        \n",
    "        \n",
    "        # choose short edges (points)\n",
    "        num_edges_short = np.min((num_candidates_for_choice_short, num_edges_short))\n",
    "        short_rand_idx = np.random.choice(num_candidates_for_choice_short, num_edges_short,\\\n",
    "                                     replace=False)\n",
    "        short_idx = dist_i_argsort[1:num_candidates_for_choice_short+1][short_rand_idx]\n",
    "        \n",
    "        # collect points' indices to dict\n",
    "#         dict_points[i] = np.unique(np.concatenate(\\\n",
    "#             (long_idx, short_idx), axis=0).reshape(1,-1)[0]).tolist()\n",
    "        dict_points[i] = np.concatenate(\\\n",
    "            (long_idx, short_idx), axis=0).reshape(1,-1)[0].tolist()\n",
    "\n",
    "    \n",
    "    return dict_points"
   ]
  },
  {
   "cell_type": "code",
   "execution_count": 320,
   "metadata": {},
   "outputs": [
    {
     "data": {
      "text/plain": [
       "array([[12, 14,  3],\n",
       "       [10, 12,  3],\n",
       "       [ 1,  2,  3],\n",
       "       [ 8,  0,  7],\n",
       "       [ 8,  1,  0],\n",
       "       [ 4, 14,  1],\n",
       "       [ 3,  4,  1],\n",
       "       [ 2,  4, 14],\n",
       "       [ 0,  2,  4],\n",
       "       [ 4,  4, 14],\n",
       "       [ 7, 13,  0]])"
      ]
     },
     "execution_count": 320,
     "metadata": {},
     "output_type": "execute_result"
    }
   ],
   "source": [
    "tst_arr1 = np.random.randint(15, size=(11,3))\n",
    "tst_arr0 = tst_arr1[0, ]\n",
    "tst_arr1"
   ]
  },
  {
   "cell_type": "code",
   "execution_count": 321,
   "metadata": {},
   "outputs": [
    {
     "data": {
      "text/plain": [
       "array([[ 0.        ],\n",
       "       [ 2.82842712],\n",
       "       [16.2788206 ],\n",
       "       [15.09966887],\n",
       "       [13.92838828],\n",
       "       [ 8.24621125],\n",
       "       [13.60147051],\n",
       "       [17.91647287],\n",
       "       [17.        ],\n",
       "       [16.88194302],\n",
       "       [ 5.91607978]])"
      ]
     },
     "execution_count": 321,
     "metadata": {},
     "output_type": "execute_result"
    }
   ],
   "source": [
    "t_dist = distance(tst_arr1, tst_arr0)\n",
    "t_dist"
   ]
  },
  {
   "cell_type": "code",
   "execution_count": 322,
   "metadata": {},
   "outputs": [
    {
     "data": {
      "text/plain": [
       "array([[2],\n",
       "       [9],\n",
       "       [8],\n",
       "       [7]])"
      ]
     },
     "execution_count": 322,
     "metadata": {},
     "output_type": "execute_result"
    }
   ],
   "source": [
    "np.argsort(t_dist, axis=0)[2:]\n",
    "t_arg_max = np.argsort(t_dist, axis=0)[-4:] # long choice cand\n",
    "t_arg_max"
   ]
  },
  {
   "cell_type": "code",
   "execution_count": 323,
   "metadata": {},
   "outputs": [
    {
     "data": {
      "text/plain": [
       "array([[ 0],\n",
       "       [ 1],\n",
       "       [10],\n",
       "       [ 5]])"
      ]
     },
     "execution_count": 323,
     "metadata": {},
     "output_type": "execute_result"
    }
   ],
   "source": [
    "np.argsort(t_dist, axis=0)[:4] # short choice cand"
   ]
  },
  {
   "cell_type": "code",
   "execution_count": 324,
   "metadata": {},
   "outputs": [
    {
     "data": {
      "text/plain": [
       "array([[ 0],\n",
       "       [10]])"
      ]
     },
     "execution_count": 324,
     "metadata": {},
     "output_type": "execute_result"
    }
   ],
   "source": [
    "np.argsort(t_dist, axis=0)[:4][[0,2]] # short choice cand"
   ]
  },
  {
   "cell_type": "code",
   "execution_count": 325,
   "metadata": {},
   "outputs": [
    {
     "data": {
      "text/plain": [
       "array([[1],\n",
       "       [5]])"
      ]
     },
     "execution_count": 325,
     "metadata": {},
     "output_type": "execute_result"
    }
   ],
   "source": [
    "np.argsort(t_dist, axis=0)[1:4+1][[0,2]] # short choice cand"
   ]
  },
  {
   "cell_type": "code",
   "execution_count": 326,
   "metadata": {},
   "outputs": [
    {
     "data": {
      "text/plain": [
       "array([[ 0],\n",
       "       [10]])"
      ]
     },
     "execution_count": 326,
     "metadata": {},
     "output_type": "execute_result"
    }
   ],
   "source": [
    "t_arg_min = np.argsort(t_dist, axis=0)[:4][np.array((0,2))] # short choice cand\n",
    "t_arg_min"
   ]
  },
  {
   "cell_type": "code",
   "execution_count": 327,
   "metadata": {},
   "outputs": [
    {
     "data": {
      "text/plain": [
       "array([1, 0, 2])"
      ]
     },
     "execution_count": 327,
     "metadata": {},
     "output_type": "execute_result"
    }
   ],
   "source": [
    "np.random.choice(3, 3, replace=False)"
   ]
  },
  {
   "cell_type": "code",
   "execution_count": 328,
   "metadata": {},
   "outputs": [
    {
     "data": {
      "text/plain": [
       "[5, 7, 2]"
      ]
     },
     "execution_count": 328,
     "metadata": {},
     "output_type": "execute_result"
    }
   ],
   "source": [
    "np.random.choice(10, 3, replace=False).tolist()"
   ]
  },
  {
   "cell_type": "code",
   "execution_count": 329,
   "metadata": {},
   "outputs": [
    {
     "data": {
      "text/plain": [
       "array([2, 9, 8, 7])"
      ]
     },
     "execution_count": 329,
     "metadata": {},
     "output_type": "execute_result"
    }
   ],
   "source": [
    "t_arg_max.reshape(1,-1)[0]"
   ]
  },
  {
   "cell_type": "code",
   "execution_count": 330,
   "metadata": {},
   "outputs": [
    {
     "data": {
      "text/plain": [
       "array([ 0, 10,  2,  9,  8,  7])"
      ]
     },
     "execution_count": 330,
     "metadata": {},
     "output_type": "execute_result"
    }
   ],
   "source": [
    "np.concatenate((t_arg_min.reshape(1,-1)[0], t_arg_max.reshape(1,-1)[0]))"
   ]
  },
  {
   "cell_type": "code",
   "execution_count": 331,
   "metadata": {},
   "outputs": [
    {
     "data": {
      "text/plain": [
       "array([ 0, 10,  2,  9,  8,  7])"
      ]
     },
     "execution_count": 331,
     "metadata": {},
     "output_type": "execute_result"
    }
   ],
   "source": [
    "np.concatenate((t_arg_min, t_arg_max), axis=0).reshape(1,-1)[0]"
   ]
  },
  {
   "cell_type": "code",
   "execution_count": 332,
   "metadata": {},
   "outputs": [
    {
     "data": {
      "text/plain": [
       "{0: [7, 9, 1, 2, 3, 1, 8, 5, 9, 7],\n",
       " 1: [7, 6, 8, 3, 5, 5, 8, 2, 9, 7],\n",
       " 2: [3, 1, 9, 6, 7, 1, 6, 3, 10, 9],\n",
       " 3: [0, 1, 8, 2, 9, 5, 10, 4, 1, 8],\n",
       " 4: [9, 0, 10, 2, 1, 9, 7, 2, 1, 8],\n",
       " 5: [3, 7, 6, 1, 8, 6, 0, 8, 9, 1],\n",
       " 6: [2, 1, 5, 0, 9, 0, 7, 4, 2, 8],\n",
       " 7: [9, 8, 1, 6, 4, 0, 2, 8, 1, 5],\n",
       " 8: [4, 7, 0, 3, 6, 7, 1, 6, 10, 3],\n",
       " 9: [5, 8, 6, 10, 0, 8, 4, 7, 5, 2],\n",
       " 10: [2, 8, 7, 5, 1, 6, 0, 4, 9, 3]}"
      ]
     },
     "execution_count": 332,
     "metadata": {},
     "output_type": "execute_result"
    }
   ],
   "source": [
    "create_sw_graph(data=tst_arr1)"
   ]
  },
  {
   "cell_type": "code",
   "execution_count": 333,
   "metadata": {},
   "outputs": [
    {
     "data": {
      "text/plain": [
       "1"
      ]
     },
     "execution_count": 333,
     "metadata": {},
     "output_type": "execute_result"
    }
   ],
   "source": [
    "int(0.2 * 7)"
   ]
  },
  {
   "cell_type": "markdown",
   "metadata": {},
   "source": [
    "## search nn"
   ]
  },
  {
   "cell_type": "code",
   "execution_count": 365,
   "metadata": {},
   "outputs": [],
   "source": [
    "# def nsw(query_point: np.ndarray, all_documents: np.ndarray, \n",
    "#         graph_edges: Dict[int, List[int]],\n",
    "#         search_k: int = 10, num_start_points: int = 5,\n",
    "#         dist_f: Callable = distance) -> np.ndarray:\n",
    "#     # допишите ваш код здесь \n",
    "#     choosen_points = []\n",
    "#     visited_points = []\n",
    "#     choosen_points_dist = []\n",
    "#     prev_start_points = []\n",
    "    \n",
    "#     N_docs = np.shape(all_documents)[0]\n",
    "# #     print('N_docs')\n",
    "# #     print(N_docs)\n",
    "    \n",
    "#     num_point_i = 0\n",
    "#     while (num_start_points > num_point_i) or (len(choosen_points) < search_k):\n",
    "# #     for num_point_i in range(num_start_points):\n",
    "# #     while (len(choosen_points) < search_k):\n",
    "# #     while (len(graph_edges) > len(choosen_points)) and (len(choosen_points) < search_k * 10):\n",
    "# #     for i in range(15):\n",
    "# #         print('i ' + str(i))\n",
    "        \n",
    "#         # init random point & start distance\n",
    "# #         new_start_point = np.random.choice(N_docs, 1)\n",
    "#         new_start_point = np.random.choice(np.setdiff1d(range(N_docs), visited_points), 1)\n",
    "# #         new_start_point = np.random.choice(np.setdiff1d(range(N_docs), choosen_points), 1)\n",
    "    \n",
    "# #         while new_start_point in choosen_points:\n",
    "# #         while (new_start_point in visited_points):\n",
    "# #             new_start_point = np.random.choice(N_docs, 1)\n",
    "#         visited_points.append(int(new_start_point))\n",
    "        \n",
    "#         cur_dist = dist_f(pointA=query_point, documents=all_documents[new_start_point, ])[0]\n",
    "#         is_new_point_added = False\n",
    "        \n",
    "#         while not is_new_point_added:\n",
    "\n",
    "# #             print('cur_dist')\n",
    "# #             print(cur_dist)\n",
    "# #             print(new_start_point)\n",
    "# #             print(graph_edges[int(new_start_point)])\n",
    "# #             print(all_documents[graph_edges[int(new_start_point)], ])\n",
    "\n",
    "#             # check for closer point with edge from start\n",
    "# #             new_edges_num = np.setdiff1d(graph_edges[int(new_start_point)], choosen_points)\n",
    "# #             new_edges_num = np.setdiff1d(new_edges_num, visited_points)\n",
    "# #             new_edges_num = np.setdiff1d(graph_edges[int(new_start_point)], visited_points)\n",
    "#             new_edges_num = graph_edges[int(new_start_point)]\n",
    "            \n",
    "# #             new_edges_num = np.setdiff1d(graph_edges[int(new_start_point)],\\\n",
    "# #                                          np.concatenate((choosen_points, visited_points)))\n",
    "            \n",
    "# #             new_distances = dist_f(pointA=all_documents[new_start_point, ],\\\n",
    "# #                                    documents=all_documents[new_edges_num, ])\n",
    "# #             if len(new_edges_num) == 0:\n",
    "# #                 break\n",
    "# #                 continue\n",
    "# #             if (len(new_edges_num) == 0):\n",
    "# #                 num_point_i += 1\n",
    "# #                 choosen_points.append(int(new_start_point))\n",
    "# #                 choosen_points_dist.append(float(cur_dist))\n",
    "# #                 is_new_point_added = True\n",
    "# #                 visited_points.append(int(new_start_point))\n",
    "# #                 print('empty edges array')\n",
    "# #                 break\n",
    "            \n",
    "#             new_distances = dist_f(pointA=query_point,\\\n",
    "#                                    documents=all_documents[new_edges_num, ])\n",
    "            \n",
    "# #             print('new_distances')\n",
    "# #             print(new_distances)\n",
    "# #             print(np.min(new_distances))\n",
    "# #             print(cur_dist)\n",
    "# #             print(np.min(new_distances) > cur_dist)\n",
    "            \n",
    "#             # if there is closer distance check choosen points & update cur_dist\n",
    "# #             try:\n",
    "#             if (np.min(new_distances) < cur_dist) and (len(new_edges_num) > 0):\n",
    "#                 cur_dist = np.min(new_distances)\n",
    "#                 new_start_point = new_edges_num[np.argmin(new_distances)]\n",
    "                \n",
    "#                 if new_start_point in visited_points:\n",
    "#                     num_point_i += 1\n",
    "#                     break\n",
    "#                 else:\n",
    "#                     visited_points.append(int(new_start_point))\n",
    "            \n",
    "#             elif (len(new_edges_num) > 0):\n",
    "#                 choosen_points.append(int(new_start_point))\n",
    "#                 choosen_points_dist.append(float(cur_dist))\n",
    "#                 visited_points.append(int(new_start_point))\n",
    "#                 num_point_i += 1\n",
    "#                 is_new_point_added = True\n",
    "# #             else:\n",
    "# #                 is_new_point_added = True\n",
    "# #                 visited_points.append(int(new_start_point))\n",
    "# #                 print('empty edges array')\n",
    "# #             except:\n",
    "# #                 print('new_distances')\n",
    "# #                 print(new_distances)\n",
    "# #                 print('cur_dist')\n",
    "# #                 print(cur_dist)\n",
    "# #                 print('new_edges_num')\n",
    "# #                 print(new_edges_num)\n",
    "                \n",
    "                \n",
    "# #         print('choosen_points ' + str(choosen_points))\n",
    "    \n",
    "#     return np.array(choosen_points)[np.argsort(choosen_points_dist)[:search_k]]\n"
   ]
  },
  {
   "cell_type": "code",
   "execution_count": 414,
   "metadata": {},
   "outputs": [],
   "source": [
    "def nsw(query_point: np.ndarray, all_documents: np.ndarray, \n",
    "        graph_edges: Dict[int, List[int]],\n",
    "        search_k: int = 10, num_start_points: int = 5,\n",
    "        dist_f: Callable = distance) -> np.ndarray:\n",
    "    # допишите ваш код здесь \n",
    "    ii = 0\n",
    "    jj = 0\n",
    "    visited_points_dict = OrderedDict()\n",
    "    seen_points_dict = OrderedDict()\n",
    "    \n",
    "    N_docs = np.shape(all_documents)[0]\n",
    "    \n",
    "    num_point_i = 0\n",
    "    while (num_start_points > num_point_i) or (len(seen_points_dict) < search_k):\n",
    "        jj += 1\n",
    "        \n",
    "#         new_start_point = np.random.choice(range(N_docs), 1)[0] ## EXTREMELY SLOW\n",
    "        new_start_point = np.random.randint(0, N_docs)\n",
    "        if new_start_point in visited_points_dict.keys():\n",
    "#             num_point_i += 1\n",
    "            continue\n",
    "            \n",
    "        if new_start_point in seen_points_dict.keys():\n",
    "            cur_dist = seen_points_dict[new_start_point]\n",
    "        else:\n",
    "            cur_dist = dist_f(pointA=query_point,\\\n",
    "                documents=all_documents[[new_start_point], ])[0][0]\n",
    "        \n",
    "        visited_points_dict[new_start_point] = cur_dist\n",
    "        is_new_point_added = False\n",
    "        \n",
    "        while not is_new_point_added:\n",
    "            ii += 1\n",
    "            \n",
    "            new_edges_num = graph_edges[new_start_point]\n",
    "            prev_new_start_point = new_start_point\n",
    "            \n",
    "            for edge_num in new_edges_num:\n",
    "                if edge_num not in seen_points_dict.keys():\n",
    "                    new_distance = dist_f(pointA=query_point,\\\n",
    "                        documents=all_documents[[edge_num], ])[0][0]\n",
    "                    seen_points_dict[edge_num] = new_distance\n",
    "                \n",
    "                if cur_dist > seen_points_dict[edge_num]:\n",
    "                    new_start_point = edge_num\n",
    "                    cur_dist = seen_points_dict[edge_num]\n",
    "            \n",
    "            if prev_new_start_point == new_start_point:\n",
    "                num_point_i += 1\n",
    "                break\n",
    "            \n",
    "            if new_start_point in visited_points_dict.keys():\n",
    "                num_point_i += 1\n",
    "                break\n",
    "            else:\n",
    "                visited_points_dict[new_start_point] = cur_dist\n",
    "    \n",
    "    print(ii)\n",
    "    print(jj)  \n",
    "    top_k_points_i = np.argsort(list(seen_points_dict.values()))[:search_k]\n",
    "    top_k_points_nums = np.array(list(seen_points_dict.keys()))[top_k_points_i]\n",
    "    return top_k_points_nums\n"
   ]
  },
  {
   "cell_type": "code",
   "execution_count": null,
   "metadata": {},
   "outputs": [],
   "source": []
  },
  {
   "cell_type": "code",
   "execution_count": 390,
   "metadata": {},
   "outputs": [],
   "source": [
    "%load_ext line_profiler"
   ]
  },
  {
   "cell_type": "code",
   "execution_count": 391,
   "metadata": {},
   "outputs": [
    {
     "name": "stdout",
     "output_type": "stream",
     "text": [
      "1954\n",
      "1000\n"
     ]
    }
   ],
   "source": [
    "%lprun -f nsw nsw(query_point=np.array((1,2,3)), all_documents=tst_arr1, graph_edges=t_sw_gr,\\\n",
    "    num_start_points=1000,\\\n",
    "    search_k=50)"
   ]
  },
  {
   "cell_type": "code",
   "execution_count": 417,
   "metadata": {},
   "outputs": [
    {
     "name": "stdout",
     "output_type": "stream",
     "text": [
      "2132\n",
      "1090\n",
      "CPU times: user 170 ms, sys: 362 µs, total: 170 ms\n",
      "Wall time: 165 ms\n"
     ]
    },
    {
     "data": {
      "text/plain": [
       "array([ 7353,  9193,  7017, 13964,  2079, 13232,  4372, 11377, 14128,\n",
       "        3788, 10516, 10572, 12669, 11803, 14740,  4284,  8298,  1696,\n",
       "        8271,  2371,  8997,  8941,  5741,  8697,  6548,  3350,  2668,\n",
       "       12062, 11537,  1925,  6427, 10817,  4989, 13639,  6106, 11894,\n",
       "        3844,  5634,  4466,  6959, 14288,  1633,  8660, 10760,  8089,\n",
       "        1722, 10378, 12567, 12347,  7258])"
      ]
     },
     "execution_count": 417,
     "metadata": {},
     "output_type": "execute_result"
    }
   ],
   "source": [
    "%%time\n",
    "nsw(query_point=np.array((1,2,3)), all_documents=tst_arr1, graph_edges=t_sw_gr,\\\n",
    "    num_start_points=1000,\\\n",
    "    search_k=50)"
   ]
  },
  {
   "cell_type": "code",
   "execution_count": 362,
   "metadata": {},
   "outputs": [
    {
     "name": "stdout",
     "output_type": "stream",
     "text": [
      "2355\n",
      "1228\n",
      "CPU times: user 200 ms, sys: 22 ms, total: 222 ms\n",
      "Wall time: 197 ms\n"
     ]
    },
    {
     "data": {
      "text/plain": [
       "array([ 2371, 11377,  3788,  8941,  6548,  8298,  8271, 12669, 10572,\n",
       "       14740, 10516, 11537,  5587, 14020, 10378,  6116,  4989, 12567,\n",
       "        1633, 11126, 10760,  4123,  7170, 11894, 13639, 10536, 10817,\n",
       "        7258, 12347,  6546, 14650, 14288,  8092,  5634,  6106,  7504,\n",
       "       14718,  1930, 12309,  5045, 13642,  5887,  5694,  3341, 11607,\n",
       "        9759,  5944,  1137,  2608,  2973])"
      ]
     },
     "execution_count": 362,
     "metadata": {},
     "output_type": "execute_result"
    }
   ],
   "source": [
    "%%time\n",
    "nsw(query_point=np.array((1,2,3)), all_documents=tst_arr1, graph_edges=t_sw_gr,\\\n",
    "    num_start_points=1000,\\\n",
    "    search_k=50)"
   ]
  },
  {
   "cell_type": "code",
   "execution_count": 4,
   "metadata": {},
   "outputs": [
    {
     "data": {
      "text/plain": [
       "False"
      ]
     },
     "execution_count": 4,
     "metadata": {},
     "output_type": "execute_result"
    }
   ],
   "source": [
    "(1,2) in [1,2,3]"
   ]
  },
  {
   "cell_type": "code",
   "execution_count": 47,
   "metadata": {},
   "outputs": [
    {
     "name": "stdout",
     "output_type": "stream",
     "text": [
      "CPU times: user 1.36 ms, sys: 0 ns, total: 1.36 ms\n",
      "Wall time: 782 µs\n"
     ]
    },
    {
     "data": {
      "text/plain": [
       "array([[14, 10, 14],\n",
       "       [ 9, 12, 12],\n",
       "       [ 8,  6,  1],\n",
       "       ...,\n",
       "       [ 5, 14,  0],\n",
       "       [10,  7,  3],\n",
       "       [ 0, 11, 13]])"
      ]
     },
     "execution_count": 47,
     "metadata": {},
     "output_type": "execute_result"
    }
   ],
   "source": [
    "%%time\n",
    "tst_arr1 = np.random.randint(15, size=(15000,3))\n",
    "tst_arr0 = tst_arr1[0, ]\n",
    "tst_arr1"
   ]
  },
  {
   "cell_type": "code",
   "execution_count": 48,
   "metadata": {},
   "outputs": [
    {
     "data": {
      "application/vnd.jupyter.widget-view+json": {
       "model_id": "006193f6e8df4d919237d388e023e8ea",
       "version_major": 2,
       "version_minor": 0
      },
      "text/plain": [
       "HBox(children=(FloatProgress(value=0.0, max=15000.0), HTML(value='')))"
      ]
     },
     "metadata": {},
     "output_type": "display_data"
    },
    {
     "name": "stdout",
     "output_type": "stream",
     "text": [
      "\n",
      "CPU times: user 26.6 s, sys: 205 ms, total: 26.8 s\n",
      "Wall time: 26.5 s\n"
     ]
    },
    {
     "data": {
      "text/plain": [
       "[5435, 2277, 3608, 10184, 7563, 1457, 10496, 10956, 14900, 11502]"
      ]
     },
     "execution_count": 48,
     "metadata": {},
     "output_type": "execute_result"
    }
   ],
   "source": [
    "%%time\n",
    "t_sw_gr = create_sw_graph(data=tst_arr1)\n",
    "t_sw_gr[int(np.array(0))]"
   ]
  },
  {
   "cell_type": "code",
   "execution_count": 377,
   "metadata": {},
   "outputs": [
    {
     "data": {
      "text/plain": [
       "{0: [5435, 2277, 3608, 10184, 7563, 1457, 10496, 10956, 14900, 11502],\n",
       " 1: [13304, 10184, 5435, 2943, 9878, 1, 1136, 7774, 10173, 14072],\n",
       " 2: [13503, 14731, 1847, 8075, 4637, 2, 7194, 12473, 10916, 11705],\n",
       " 3: [387, 4968, 12933, 14811, 3783, 14923, 3, 12457, 14684, 14096],\n",
       " 4: [569, 12095, 6745, 4518, 11229, 6094, 1507, 10951, 10833, 7717],\n",
       " 5: [13503, 5620, 8075, 7440, 14300, 5, 9360, 11496, 14895, 14338],\n",
       " 6: [3619, 12591, 5118, 7620, 7015, 13137, 6931, 12364, 12481, 13337],\n",
       " 7: [9633, 12874, 6745, 1464, 3416, 394, 11555, 8048, 3061, 6429],\n",
       " 8: [8016, 1557, 10893, 2365, 2546, 12387, 5460, 4359, 14826, 2824],\n",
       " 9: [7506, 12834, 12399, 6823, 1208, 3092, 11782, 6682, 9927, 2576],\n",
       " 10: [3862, 1721, 4968, 3783, 13279, 9421, 6690, 2173, 10, 9969],\n",
       " 11: [3242, 3274, 10893, 2137, 5507, 774, 1867, 6335, 13501, 12466],\n",
       " 12: [3353, 12874, 9940, 14824, 1464, 1677, 9608, 10050, 8112, 11898],\n",
       " 13: [13304, 4153, 5435, 1953, 14962, 10796, 8342, 3396, 3877, 4996],\n",
       " 14: [1953, 7975, 3608, 3132, 4153, 10878, 8140, 2533, 13071, 14],\n",
       " 15: [8588, 580, 12031, 7440, 373, 12955, 15, 1936, 2376, 6813],\n",
       " 16: [10839, 3862, 4409, 387, 14811, 7139, 10774, 7748, 6152, 5937],\n",
       " 17: [9878, 7975, 1953, 10184, 123, 10959, 10148, 10006, 13992, 17],\n",
       " 18: [7506, 3980, 6823, 5341, 5097, 4265, 18, 6097, 12983, 7291],\n",
       " 19: [387, 5435, 7563, 4968, 14811, 147, 11004, 771, 8632, 9859],\n",
       " 20: [373, 7440, 13503, 4968, 9310, 5907, 7797, 14933, 2487, 9950],\n",
       " 21: [4834, 3980, 13595, 10328, 12834, 8830, 9912, 12268, 4271, 3321],\n",
       " 22: [1557, 5265, 1993, 6875, 8575, 6431, 761, 12652, 11766, 12203],\n",
       " 23: [12874, 2186, 14090, 1464, 11229, 11944, 12386, 5047, 667, 3212],\n",
       " 24: [12874, 4023, 9940, 3416, 9633, 24, 3023, 9400, 8993, 3722],\n",
       " 25: [11216, 4888, 8842, 916, 10328, 2448, 1943, 320, 25, 5967],\n",
       " 26: [4834, 1789, 5341, 13595, 12834, 6984, 14918, 26, 3919, 5248],\n",
       " 27: [13595, 11229, 14824, 1464, 12874, 10072, 7711, 11256, 4656, 7677],\n",
       " 28: [1350, 7117, 4259, 11229, 7620, 10402, 8658, 12339, 9035, 13783],\n",
       " 29: [1350, 7620, 10252, 3741, 13945, 4482, 2206, 2151, 4598, 10957],\n",
       " 30: [9620, 1528, 4192, 4968, 4409, 2285, 1290, 7206, 12899, 5172],\n",
       " 31: [8575, 5265, 8016, 2546, 10893, 3182, 31, 13850, 12344, 4386],\n",
       " 32: [5097, 12834, 12399, 7506, 3980, 981, 2180, 8223, 8030, 32],\n",
       " 33: [569, 12874, 9940, 12095, 9633, 2541, 10637, 12379, 33, 2523],\n",
       " 34: [12095, 9633, 1464, 11229, 569, 34, 14189, 9014, 453, 14249],\n",
       " 35: [4834, 6823, 13595, 5097, 8055, 14504, 13887, 8014, 5319, 537],\n",
       " 36: [7117, 3619, 5118, 1503, 7015, 4721, 1483, 4501, 14417, 8266],\n",
       " 37: [4888, 10328, 8575, 11302, 10893, 105, 9430, 5831, 14609, 4431],\n",
       " 38: [8588, 14300, 8820, 373, 8075, 11802, 98, 965, 4861, 11592],\n",
       " 39: [12874, 9633, 578, 2186, 12095, 8172, 3124, 13508, 2047, 14348],\n",
       " 40: [3619, 7620, 4259, 7117, 12039, 13337, 2374, 11735, 11462, 6393],\n",
       " 41: [5507, 8728, 1789, 4888, 3242, 4577, 10943, 37, 41, 14466],\n",
       " 42: [14811, 4409, 10184, 9878, 4968, 12857, 8914, 9335, 3669, 5656],\n",
       " 43: [7975, 5435, 4153, 3132, 7563, 2971, 7071, 6113, 7201, 13309],\n",
       " 44: [3416, 9633, 9940, 6745, 1464, 11843, 44, 734, 3714, 4624],\n",
       " 45: [3542, 11216, 8842, 916, 1789, 12425, 9537, 8162, 7548, 14472],\n",
       " 46: [4409, 4888, 10328, 1789, 4968, 9854, 2821, 2120, 8938, 6886],\n",
       " 47: [12834, 5341, 13595, 7506, 8055, 2063, 5287, 12745, 4292, 47],\n",
       " 48: [8575, 5265, 2546, 1557, 2365, 6177, 2205, 5000, 3967, 12099],\n",
       " 49: [14300, 373, 4637, 14731, 13503, 2510, 12798, 3016, 14632, 6330],\n",
       " 50: [1464, 8575, 10893, 3274, 12095, 4940, 3546, 5113, 50, 3883],\n",
       " 51: [1847, 7440, 4637, 14731, 13503, 8702, 51, 12410, 8804, 13924],\n",
       " 52: [1721, 10839, 12933, 4409, 3862, 11019, 10558, 5347, 12528, 12043],\n",
       " 53: [9633, 5341, 14824, 12095, 12874, 7529, 3964, 775, 4253, 10101],\n",
       " 54: [1789, 8207, 11302, 5507, 1695, 9801, 7669, 7772, 4672, 12041],\n",
       " 55: [10893, 3274, 5265, 8728, 1993, 3930, 7830, 3488, 14628, 535],\n",
       " 56: [12031, 13503, 14300, 3716, 8588, 2558, 1670, 3352, 56, 7132],\n",
       " 57: [1721, 4409, 10839, 5576, 4968, 4249, 13655, 13615, 13793, 14726],\n",
       " 58: [11961, 14811, 10325, 387, 11689, 13228, 11092, 1398, 6262, 9734],\n",
       " 59: [10077, 7440, 7117, 4259, 1350, 8773, 476, 3330, 2633, 12464],\n",
       " 60: [3542, 8207, 9305, 2137, 1789, 2219, 5646, 60, 13636, 13167],\n",
       " 61: [1464, 4023, 9940, 11229, 9633, 5991, 9755, 5114, 5664, 12333],\n",
       " 62: [2407, 7882, 8055, 7506, 4834, 3561, 14640, 10049, 6597, 1465],\n",
       " 63: [3274, 1464, 9633, 11229, 10893, 3252, 14473, 3433, 2900, 2463],\n",
       " 64: [387, 4409, 5121, 3147, 10325, 1320, 7579, 2854, 9627, 2746],\n",
       " 65: [12834, 4834, 5097, 6823, 7506, 11523, 817, 12892, 7467, 5017],\n",
       " 66: [5435, 10107, 9878, 10184, 7975, 11184, 1278, 12950, 4235, 66],\n",
       " 67: [13503, 387, 14731, 3274, 373, 4332, 827, 969, 3597, 664],\n",
       " 68: [387, 9620, 1528, 4968, 3862, 6877, 5515, 3336, 5566, 6981],\n",
       " 69: [5265, 3274, 6875, 8575, 3242, 69, 2723, 5273, 12672, 14313],\n",
       " 70: [10077, 6400, 7620, 8542, 4259, 70, 11216, 8842, 6493, 12847],\n",
       " 71: [1464, 4023, 4518, 12095, 9633, 6418, 71, 11503, 14884, 11255],\n",
       " 72: [3862, 1721, 9620, 4968, 14811, 221, 8262, 8208, 4346, 14168],\n",
       " 73: [5121, 13279, 11689, 10325, 3147, 13556, 9776, 1746, 4856, 2961],\n",
       " 74: [7620, 582, 13031, 3741, 4259, 8956, 520, 9453, 1031, 10708],\n",
       " 75: [8842, 916, 1789, 3542, 4888, 10077, 8474, 8542, 7128, 5828],\n",
       " 76: [5265, 8016, 1557, 1993, 3274, 13952, 4640, 4144, 12014, 2159],\n",
       " 77: [1695, 70, 9305, 11216, 1789, 3581, 77, 7148, 4506, 1110],\n",
       " 78: [7440, 13503, 14811, 373, 4409, 7057, 126, 10309, 4020, 4232],\n",
       " 79: [2365, 3242, 2546, 5265, 8728, 2540, 4954, 79, 10829, 13335],\n",
       " 80: [1557, 8728, 2546, 5265, 3274, 13814, 282, 14156, 80, 6759],\n",
       " 81: [5118, 1350, 7117, 2392, 1503, 8774, 81, 12341, 5202, 13908],\n",
       " 82: [1350, 2392, 1503, 4259, 12591, 12191, 14004, 11588, 3952, 1086],\n",
       " 83: [8075, 14300, 13503, 8153, 7440, 11039, 8657, 13831, 938, 11614],\n",
       " 84: [387, 1721, 3783, 14811, 9620, 84, 8274, 2750, 9416, 11702],\n",
       " 85: [582, 13031, 10252, 1350, 7117, 10708, 520, 13996, 12844, 85],\n",
       " 86: [11229, 12095, 14824, 569, 1464, 7298, 7557, 86, 3096, 14009],\n",
       " 87: [12834, 8055, 13595, 5341, 4834, 1465, 10112, 10781, 87, 8693],\n",
       " 88: [5121, 387, 3147, 4625, 14811, 5209, 2772, 3587, 8123, 4376],\n",
       " 89: [1953, 2943, 7975, 3132, 123, 13229, 8374, 8661, 2704, 866],\n",
       " 90: [7117, 75, 7620, 1350, 10077, 5251, 1427, 11596, 13775, 13078],\n",
       " 91: [12874, 12095, 3416, 11229, 10893, 3686, 6067, 6632, 13584, 1852],\n",
       " 92: [1208, 5341, 7882, 4834, 13595, 1556, 9757, 9295, 2087, 10486],\n",
       " 93: [6823, 5341, 12834, 8055, 7506, 2587, 3849, 2321, 1083, 93],\n",
       " 94: [13595, 7882, 8055, 12834, 3980, 2654, 5597, 13197, 3385, 3393],\n",
       " 95: [9305, 5507, 10328, 8207, 2137, 2391, 7905, 12776, 4282, 13581],\n",
       " 96: [7440, 13503, 14731, 580, 14300, 6479, 11758, 7734, 3572, 2941],\n",
       " 97: [6823, 7563, 10184, 4834, 1953, 9833, 7399, 14736, 97, 4676],\n",
       " 98: [14300, 10032, 11977, 373, 13503, 2594, 7703, 8320, 11802, 102],\n",
       " 99: [3132, 2943, 5435, 2277, 7975, 4323, 99, 2315, 7477, 7699],\n",
       " 100: [8542, 7565, 4259, 7620, 7117, 14649, 7120, 3927, 6121, 8910],\n",
       " 101: [4153, 14962, 9878, 5435, 7563, 8654, 4864, 101, 13997, 14896],\n",
       " 102: [12031, 373, 14731, 13503, 8820, 102, 816, 14186, 1051, 1002],\n",
       " 103: [1557, 3274, 8016, 6875, 8728, 4305, 14819, 14773, 12246, 2046],\n",
       " 104: [5265, 10893, 1993, 1557, 6875, 2649, 1502, 11801, 8592, 8959],\n",
       " 105: [10893, 8575, 5507, 4888, 11302, 9422, 3191, 13356, 13847, 9594],\n",
       " 106: [9878, 5435, 13304, 7563, 3608, 10997, 5285, 1129, 5220, 9651],\n",
       " 107: [9305, 8207, 1789, 1695, 8842, 6350, 107, 3757, 11757, 11851],\n",
       " 108: [9633, 12095, 3416, 14824, 12874, 10722, 412, 1697, 3267, 108],\n",
       " 109: [3462, 4259, 10077, 8474, 1350, 7851, 11414, 8428, 13574, 9560],\n",
       " 110: [3608, 7975, 5435, 2277, 7563, 9986, 7754, 9288, 2083, 7638],\n",
       " 111: [8588, 14731, 373, 580, 13503, 3233, 2192, 8178, 111, 10405],\n",
       " 112: [4888, 5507, 11899, 70, 3542, 2905, 1581, 536, 4175, 112],\n",
       " 113: [12834, 13595, 5341, 2407, 1208, 4184, 3617, 5678, 8143, 13374],\n",
       " 114: [14731, 5391, 373, 7440, 13503, 12388, 247, 7278, 10783, 9125],\n",
       " 115: [10523, 14824, 7866, 2186, 14090, 584, 115, 12539, 8043, 4167],\n",
       " 116: [12834, 5341, 6823, 4834, 13595, 6223, 8227, 116, 5477, 173],\n",
       " 117: [8575, 3274, 8016, 5561, 1993, 12166, 5215, 1330, 117, 13677],\n",
       " 118: [5435, 10184, 9878, 7975, 13304, 4245, 2917, 2373, 3198, 13489],\n",
       " 119: [9878, 5435, 1953, 13304, 4153, 1509, 13825, 11152, 9612, 14161],\n",
       " 120: [14606, 373, 8075, 14731, 13503, 12781, 8303, 13284, 12716, 4730],\n",
       " 121: [2186, 14824, 14090, 569, 578, 6951, 13307, 8594, 10408, 5326],\n",
       " 122: [11689, 11961, 14811, 4625, 4409, 11022, 6631, 8123, 122, 432],\n",
       " 123: [6875, 8728, 3274, 1993, 2546, 5215, 5858, 6491, 5435, 6185],\n",
       " 124: [1789, 3542, 11216, 4888, 10328, 5864, 385, 13733, 4173, 390],\n",
       " 125: [1789, 4888, 5623, 11216, 2137, 13668, 10290, 4001, 14088, 11469],\n",
       " 126: [10325, 3862, 3783, 13279, 4968, 452, 4020, 2928, 5677, 2257],\n",
       " 127: [10184, 10107, 13304, 2943, 5435, 3519, 5596, 9058, 13361, 9407],\n",
       " 128: [10893, 1557, 5561, 5265, 1993, 3660, 1682, 7951, 11383, 11437],\n",
       " 129: [7164, 5576, 4409, 13279, 387, 12869, 5814, 9763, 11455, 11053],\n",
       " 130: [7620, 7117, 1350, 1464, 12095, 13251, 10547, 130, 2384, 13248],\n",
       " 131: [4192, 1528, 10839, 4382, 4968, 7310, 5566, 10723, 10979, 2619],\n",
       " 132: [3542, 11216, 10328, 11899, 4888, 1351, 10001, 13029, 14376, 9830],\n",
       " 133: [11229, 10523, 1464, 9633, 2186, 8268, 3199, 1325, 7633, 4897],\n",
       " 134: [7620, 1503, 4259, 2392, 8542, 5128, 8233, 7152, 6704, 11809],\n",
       " 135: [4409, 5576, 10325, 14811, 1528, 12612, 5606, 6391, 6936, 14814],\n",
       " 136: [1464, 11229, 12874, 3416, 9940, 1715, 7760, 6423, 9679, 136],\n",
       " 137: [8474, 10252, 4259, 7620, 13945, 12471, 9297, 11931, 10219, 13334],\n",
       " 138: [10184, 5435, 13304, 123, 3132, 9960, 13188, 11317, 11933, 9448],\n",
       " 139: [7563, 2943, 3132, 10184, 7975, 3868, 9779, 1476, 10304, 6377],\n",
       " 140: [8075, 4637, 5620, 13503, 8153, 140, 12286, 13967, 14702, 14193],\n",
       " 141: [5341, 1208, 3980, 6823, 5097, 9038, 13622, 523, 10180, 8088],\n",
       " 142: [10184, 4259, 7620, 7563, 1350, 9152, 10709, 142, 13006, 7285],\n",
       " 143: [8153, 13503, 14300, 373, 6656, 3547, 1783, 5110, 13472, 143],\n",
       " 144: [4259, 7117, 5435, 12591, 9878, 12711, 4109, 1707, 11752, 12623],\n",
       " 145: [12095, 12874, 14090, 9633, 578, 11174, 628, 6538, 14387, 10416],\n",
       " 146: [10893, 8728, 8575, 2365, 2546, 2540, 13108, 6947, 4954, 2158],\n",
       " 147: [387, 9878, 4968, 14811, 1953, 5755, 147, 8632, 452, 9571],\n",
       " 148: [7620, 12039, 1503, 7117, 5118, 12862, 5163, 5717, 13523, 5062],\n",
       " 149: [8588, 580, 7440, 14300, 3716, 11673, 4964, 1511, 4089, 2560],\n",
       " 150: [8820, 8588, 373, 14731, 12031, 2923, 10039, 279, 150, 2216],\n",
       " 151: [4888, 11302, 10328, 8842, 70, 4716, 11350, 3729, 14720, 14762],\n",
       " 152: [7620, 4259, 8542, 1350, 8474, 1976, 3271, 9518, 13078, 13239],\n",
       " 153: [7975, 5435, 9878, 10184, 3132, 1776, 12177, 5504, 10238, 153],\n",
       " 154: [8153, 14731, 13503, 373, 1847, 3033, 7819, 2981, 13898, 2778],\n",
       " 155: [11961, 10325, 11689, 4625, 3147, 14507, 1568, 1897, 6583, 155],\n",
       " 156: [7563, 10184, 3608, 2277, 9878, 8027, 6811, 942, 2547, 10483],\n",
       " 157: [11229, 7117, 7620, 14300, 12874, 7558, 9812, 12482, 262, 12938],\n",
       " 158: [916, 8842, 10328, 4888, 1789, 1111, 158, 12274, 8818, 11727],\n",
       " 159: [10523, 11229, 1464, 12095, 3353, 3026, 14081, 11255, 159, 6007],\n",
       " 160: [12834, 916, 10328, 1789, 2137, 8818, 11727, 1111, 8999, 158],\n",
       " 161: [4518, 569, 3353, 14824, 11229, 3096, 11728, 2471, 2980, 161],\n",
       " 162: [8055, 12834, 6823, 2407, 13595, 9295, 10486, 92, 14170, 9757],\n",
       " 163: [2137, 4888, 10328, 11899, 916, 14452, 5547, 5608, 8090, 4882],\n",
       " 164: [7164, 4192, 1528, 4968, 4382, 13205, 5599, 14043, 3333, 12561],\n",
       " 165: [9633, 12095, 6745, 12874, 1464, 11843, 13981, 12050, 4624, 7239],\n",
       " 166: [7440, 9310, 13503, 14731, 8820, 6866, 2775, 8845, 1132, 14550],\n",
       " 167: [12834, 10184, 4834, 5435, 1953, 13218, 2051, 3751, 2434, 3326],\n",
       " 168: [1789, 11899, 916, 8842, 11216, 1123, 11603, 868, 1888, 4129],\n",
       " 169: [12591, 4259, 7620, 1350, 13031, 1622, 3798, 11131, 8381, 3720],\n",
       " 170: [8728, 1993, 6875, 3274, 3242, 5680, 7865, 9701, 1853, 5716],\n",
       " 171: [2137, 4834, 10328, 4888, 5341, 12804, 6213, 12206, 13680, 8999],\n",
       " 172: [5118, 7620, 2392, 12039, 1503, 172, 9650, 9506, 11291, 11588],\n",
       " 173: [3132, 3608, 7563, 10184, 4153, 7864, 2543, 1472, 8596, 7956],\n",
       " 174: [13503, 1350, 373, 7117, 7440, 6521, 1199, 1966, 11959, 12964],\n",
       " 175: [11302, 8207, 9305, 8842, 1695, 1961, 12887, 2545, 11122, 175],\n",
       " 176: [3132, 7563, 2943, 2277, 1953, 1457, 1816, 176, 8169, 7450],\n",
       " 177: [8075, 14731, 373, 4637, 14300, 13931, 4539, 9597, 14232, 12394],\n",
       " 178: [12399, 2407, 13595, 3980, 5341, 178, 1255, 5771, 6736, 14089],\n",
       " 179: [3783, 4409, 4968, 1721, 3862, 7845, 9466, 14585, 12668, 10541],\n",
       " 180: [8588, 14300, 3716, 8820, 13503, 9814, 3980, 5568, 12931, 10039],\n",
       " 181: [14300, 6656, 14731, 5620, 13503, 13548, 14437, 9492, 7552, 14311],\n",
       " 182: [13595, 5097, 1208, 7882, 8055, 11323, 1880, 9209, 4191, 12224],\n",
       " 183: [12095, 4023, 11229, 6745, 569, 6879, 14369, 3088, 11923, 5134],\n",
       " 184: [3862, 5121, 1528, 4409, 14811, 5250, 12527, 3527, 14532, 7748],\n",
       " 185: [2137, 7563, 9878, 4409, 4834, 7613, 11940, 7612, 12916, 5077],\n",
       " 186: [3783, 9620, 12933, 1528, 4968, 9750, 12894, 4687, 8167, 12345],\n",
       " 187: [12095, 10523, 1464, 11229, 12874, 6705, 1793, 2834, 9235, 245],\n",
       " 188: [7117, 8474, 10077, 4259, 7620, 1007, 3924, 4592, 14987, 188],\n",
       " 189: [7620, 10077, 3462, 7117, 4259, 189, 14237, 11059, 8839, 624],\n",
       " 190: [3741, 10252, 13945, 1350, 3619, 10063, 8214, 4819, 11384, 12396],\n",
       " 191: [7440, 373, 14731, 13503, 8588, 4435, 8320, 6711, 13731, 13674],\n",
       " 192: [7164, 4968, 3147, 4409, 4192, 1494, 6844, 12358, 12125, 14180],\n",
       " 193: [6400, 5391, 75, 3462, 1350, 9982, 10082, 193, 14987, 188],\n",
       " 194: [2137, 3274, 1789, 10328, 11302, 4498, 194, 11378, 516, 1016],\n",
       " 195: [4409, 11961, 14811, 387, 13279, 12546, 1436, 6162, 5182, 195],\n",
       " 196: [8728, 2546, 3242, 2365, 8575, 2404, 9778, 6807, 12936, 3466],\n",
       " 197: [4153, 9878, 1953, 5435, 13304, 8823, 1647, 7508, 11423, 11696],\n",
       " 198: [5507, 4888, 3542, 1695, 1789, 13186, 12116, 4895, 4061, 5349],\n",
       " 199: [4409, 14811, 4382, 387, 13279, 13024, 10158, 12115, 2903, 14180],\n",
       " 200: [4888, 5623, 10328, 11216, 2137, 13536, 9899, 11101, 200, 12833],\n",
       " 201: [1993, 5561, 6875, 8575, 5265, 11035, 5669, 1829, 14288, 201],\n",
       " 202: [14606, 12031, 14300, 5103, 14731, 4848, 6674, 3369, 202, 11337],\n",
       " 203: [1557, 3242, 1993, 10893, 3274, 9218, 8315, 9563, 7331, 1967],\n",
       " 204: [4409, 14811, 7164, 3862, 387, 14261, 888, 5089, 11707, 4415],\n",
       " 205: [7620, 12874, 1350, 4259, 7117, 8768, 205, 169, 7121, 14909],\n",
       " 206: [14300, 9310, 5103, 11977, 7440, 825, 5767, 3290, 9470, 14517],\n",
       " 207: [12933, 9620, 10839, 1721, 3783, 7140, 6041, 14678, 1506, 13985],\n",
       " 208: [3242, 8016, 3274, 5561, 8575, 9778, 12813, 14083, 12816, 7105],\n",
       " 209: [3353, 9633, 11229, 2186, 14090, 4012, 10099, 2876, 14642, 12796],\n",
       " 210: [2186, 9633, 11229, 14824, 12095, 8402, 635, 210, 9351, 3384],\n",
       " 211: [12933, 1721, 14811, 387, 4968, 52, 211, 11019, 5347, 3781],\n",
       " 212: [14811, 1789, 8207, 9305, 387, 619, 9198, 10831, 9963, 1000],\n",
       " 213: [3353, 1464, 7866, 14824, 578, 681, 4859, 8402, 7055, 8779],\n",
       " 214: [14731, 10032, 373, 14300, 8153, 14010, 214, 9360, 5110, 1903],\n",
       " 215: [6875, 10893, 5265, 2546, 5561, 4350, 10121, 14743, 14654, 5157],\n",
       " 216: [4409, 3783, 4968, 1528, 9620, 2163, 7963, 12278, 7253, 13942],\n",
       " 217: [11229, 12095, 4518, 9633, 14090, 8239, 6297, 2239, 10782, 6890],\n",
       " 218: [14731, 5620, 14300, 13503, 7440, 9353, 14485, 7927, 14739, 143],\n",
       " 219: [1953, 9878, 13595, 5435, 12834, 10936, 9330, 5477, 173, 7896],\n",
       " 220: [1789, 10328, 4382, 14811, 4968, 5264, 2698, 1405, 5024, 4627],\n",
       " 221: [4192, 5576, 9620, 3862, 1528, 11626, 221, 8796, 2620, 4851],\n",
       " 222: [10328, 11216, 5623, 11899, 4888, 1845, 7197, 3321, 6390, 7448],\n",
       " 223: [12399, 5341, 7882, 3980, 13595, 3444, 2722, 4132, 7510, 10752],\n",
       " 224: [9310, 13503, 14606, 11977, 580, 7205, 224, 11036, 2184, 13854],\n",
       " 225: [6745, 9940, 12874, 14824, 12095, 2466, 13653, 9704, 937, 5091],\n",
       " 226: [10184, 1350, 7563, 1953, 9878, 226, 7619, 11131, 7421, 1010],\n",
       " 227: [4259, 7117, 9633, 11229, 12095, 9984, 8869, 227, 7224, 2313],\n",
       " 228: [13503, 11977, 8588, 373, 14731, 703, 1431, 9299, 228, 5160],\n",
       " 229: [5265, 2546, 8575, 8016, 3274, 9236, 8671, 14941, 14034, 8164],\n",
       " 230: [14300, 12031, 373, 13503, 3716, 230, 3980, 180, 12931, 2442],\n",
       " 231: [5118, 7563, 1953, 7117, 9878, 7873, 936, 7594, 14644, 9227],\n",
       " 232: [14811, 13279, 5121, 387, 4968, 13296, 9804, 232, 14604, 1222],\n",
       " 233: [1208, 4834, 6823, 12834, 5341, 5131, 12329, 9327, 4608, 8782],\n",
       " 234: [14300, 9310, 4637, 13503, 373, 2133, 234, 6514, 4719, 9321],\n",
       " 235: [12874, 13595, 12834, 5341, 14824, 1997, 1621, 3044, 955, 12973],\n",
       " 236: [3980, 7882, 8055, 13595, 1208, 3292, 5278, 3995, 6915, 5374],\n",
       " 237: [7117, 1350, 4259, 1503, 12039, 8193, 11413, 9513, 1197, 5202],\n",
       " 238: [7620, 4259, 75, 6400, 8542, 238, 9518, 14101, 8071, 13605],\n",
       " 239: [10032, 14731, 5620, 373, 6656, 9480, 8201, 7357, 4313, 10634],\n",
       " 240: [14731, 5103, 373, 7440, 14300, 14478, 240, 10489, 9222, 14638],\n",
       " 241: [2137, 70, 1789, 5507, 10328, 11436, 9429, 11929, 2328, 9561],\n",
       " 242: [14300, 7440, 8820, 8588, 14731, 11254, 5963, 3025, 242, 10629],\n",
       " 243: [3980, 5341, 6823, 5097, 7506, 6653, 13343, 6714, 8110, 1510],\n",
       " 244: [8542, 13031, 10252, 582, 1350, 14705, 697, 6925, 244, 10673],\n",
       " 245: [12874, 7866, 1464, 14090, 14824, 7924, 13999, 9436, 13948, 8597],\n",
       " 246: [7882, 1208, 12834, 13595, 4834, 10398, 14120, 6586, 14862, 14953],\n",
       " 247: [14731, 13503, 4259, 8542, 7620, 13442, 3646, 1779, 8380, 14947],\n",
       " 248: [4968, 1528, 387, 4625, 5576, 11044, 13205, 5599, 14043, 11524],\n",
       " 249: [8055, 7882, 1208, 13595, 2407, 9274, 10929, 249, 7614, 13428],\n",
       " 250: [4382, 5576, 7164, 14811, 387, 5167, 10306, 12941, 11644, 9124],\n",
       " 251: [11229, 7117, 12874, 9633, 1464, 251, 2673, 11077, 4488, 12888],\n",
       " 252: [7620, 10077, 582, 4259, 13945, 8744, 9595, 12073, 5705, 3383],\n",
       " 253: [8575, 1993, 3274, 8016, 6875, 4476, 7020, 4238, 4111, 11822],\n",
       " 254: [2407, 12834, 5341, 4834, 1208, 13468, 959, 2154, 1067, 254],\n",
       " 255: [4834, 13595, 7506, 5097, 3980, 5408, 3320, 4082, 4803, 255],\n",
       " 256: [10893, 14731, 7440, 13503, 3274, 8067, 5015, 3659, 13950, 256],\n",
       " 257: [4968, 11961, 10325, 387, 14811, 4763, 8151, 129, 2825, 8171],\n",
       " 258: [7882, 4834, 8055, 13595, 7506, 460, 258, 6033, 5066, 4107],\n",
       " 259: [5097, 12834, 13595, 5341, 4834, 5395, 13714, 13665, 12132, 1021],\n",
       " 260: [4023, 9633, 12874, 12095, 6745, 13384, 12926, 9017, 3178, 10690],\n",
       " 261: [14824, 12095, 7866, 3353, 1464, 2307, 4666, 261, 6230, 23],\n",
       " 262: [10893, 11229, 373, 1350, 9633, 262, 3458, 9812, 3948, 3324],\n",
       " 263: [4259, 8542, 75, 8474, 6400, 3639, 6460, 12515, 925, 4930],\n",
       " 264: [6656, 7440, 13503, 5620, 14731, 143, 264, 4787, 1783, 13472],\n",
       " 265: [8728, 1993, 8575, 6875, 8016, 11831, 554, 7270, 3551, 11951],\n",
       " 266: [10032, 373, 6656, 14731, 9310, 10854, 2901, 2261, 14134, 13884],\n",
       " 267: [7620, 7117, 7563, 4259, 9878, 9001, 13626, 12067, 631, 590],\n",
       " 268: [2186, 578, 11229, 12095, 7866, 5952, 13462, 11528, 13777, 1841],\n",
       " 269: [5097, 12399, 8055, 1208, 4834, 6323, 6972, 11977, 580, 10372],\n",
       " 270: [5576, 4409, 14811, 2137, 1789, 658, 270, 8488, 10136, 6367],\n",
       " 271: [4409, 10184, 5435, 14811, 9878, 271, 1819, 6865, 964, 10397],\n",
       " 272: [9633, 578, 2186, 11229, 12874, 9120, 14891, 11643, 9262, 3124],\n",
       " 273: [10184, 4968, 1953, 387, 4409, 12729, 12814, 4463, 5256, 5135],\n",
       " 274: [75, 7440, 373, 13503, 7117, 6235, 6342, 1490, 9539, 583],\n",
       " 275: [5391, 7620, 75, 7117, 4259, 13760, 7926, 1068, 486, 8276],\n",
       " 276: [578, 1464, 14824, 11229, 14090, 1366, 339, 4820, 6477, 5666],\n",
       " 277: [10893, 8575, 3274, 2365, 1557, 7108, 12472, 12344, 277, 8426],\n",
       " 278: [373, 10032, 7440, 4637, 5620, 278, 4504, 12949, 14639, 13548],\n",
       " 279: [3716, 14731, 7440, 11977, 12031, 279, 12323, 10526, 6464, 10588],\n",
       " 280: [6656, 7440, 14731, 5620, 373, 14831, 6356, 12271, 280, 8156],\n",
       " 281: [916, 11216, 10328, 1789, 8842, 7947, 9369, 9791, 10282, 281],\n",
       " 282: [2546, 3242, 3274, 1557, 8575, 13814, 12187, 1168, 1312, 80],\n",
       " 283: [9305, 10328, 4888, 916, 11302, 8753, 5406, 7942, 6040, 1347],\n",
       " 284: [1557, 2365, 5561, 3242, 2546, 3994, 11803, 1914, 8660, 8089],\n",
       " 285: [4834, 7506, 5341, 6823, 12834, 9158, 13625, 5259, 4100, 1923],\n",
       " 286: [1789, 9305, 8207, 11302, 10328, 3425, 8895, 9143, 13394, 13397],\n",
       " 287: [4834, 3980, 8055, 12399, 13595, 287, 7663, 2518, 6755, 1748],\n",
       " 288: [7882, 3980, 5097, 12399, 7506, 10318, 6500, 3062, 11278, 5130],\n",
       " 289: [9620, 4968, 12933, 387, 1528, 289, 13191, 14719, 9163, 12145],\n",
       " 290: [8055, 4834, 6823, 1208, 12399, 2576, 11442, 9874, 9927, 3092],\n",
       " 291: [373, 3716, 9310, 13503, 7440, 8304, 477, 11928, 291, 14888],\n",
       " 292: [7440, 387, 14811, 9310, 14731, 8431, 10271, 7169, 8775, 7001],\n",
       " 293: [11229, 12095, 3274, 1464, 8575, 10761, 521, 14254, 50, 3061],\n",
       " 294: [7563, 9878, 10184, 3132, 2943, 9647, 3532, 294, 3698, 11729],\n",
       " 295: [8055, 13595, 1208, 6823, 5341, 10024, 11088, 6742, 14501, 1429],\n",
       " 296: [5341, 4888, 12834, 10328, 2137, 2112, 9491, 296, 7586, 11631],\n",
       " 297: [2277, 1953, 9878, 7975, 10184, 6333, 10947, 14744, 9485, 6741],\n",
       " 298: [373, 6656, 8153, 14731, 7440, 6183, 9826, 7325, 298, 3583],\n",
       " 299: [9305, 8207, 1695, 3542, 4888, 8152, 13858, 14068, 299, 1498],\n",
       " 300: [14090, 11229, 12095, 14824, 6745, 300, 10706, 7496, 13122, 9608],\n",
       " 301: [7440, 5561, 8575, 13503, 3274, 9957, 380, 4295, 8603, 2697],\n",
       " 302: [4259, 1350, 5118, 7565, 1503, 11082, 9745, 13152, 2799, 8050],\n",
       " 303: [7117, 12039, 7620, 5118, 4259, 4008, 5383, 9745, 3451, 1809],\n",
       " 304: [8842, 1789, 11899, 10328, 2137, 304, 45, 14472, 12425, 9537],\n",
       " 305: [1789, 8207, 11216, 9305, 3542, 305, 11202, 3313, 7276, 1172],\n",
       " 306: [14606, 14300, 7440, 5103, 10032, 10680, 11917, 10776, 11922, 11893],\n",
       " 307: [11229, 1464, 12095, 14824, 2186, 307, 6109, 4952, 844, 6962],\n",
       " 308: [3741, 2392, 13945, 1350, 12591, 2912, 308, 2446, 4495, 5578],\n",
       " 309: [1208, 12399, 8055, 5341, 3980, 5444, 309, 12202, 5771, 1220],\n",
       " 310: [10328, 70, 2137, 9305, 8207, 8753, 11075, 3036, 4949, 859],\n",
       " 311: [7117, 11229, 7620, 14824, 9633, 5850, 2955, 8412, 14519, 11582],\n",
       " 312: [3980, 5097, 5341, 4834, 7882, 12628, 7077, 14013, 8375, 1516],\n",
       " 313: [4968, 14811, 12933, 3862, 5576, 7310, 7967, 6981, 5213, 57],\n",
       " 314: [1528, 4968, 10839, 387, 1721, 14781, 7211, 14882, 11234, 12038],\n",
       " 315: [6875, 8575, 8728, 10893, 3274, 1484, 9601, 315, 13345, 11264],\n",
       " 316: [10328, 11899, 1789, 2137, 4888, 5557, 10643, 4506, 1141, 1069],\n",
       " 317: [9878, 7563, 14962, 3132, 5435, 8295, 8583, 6120, 317, 9586],\n",
       " 318: [5623, 3542, 2137, 916, 70, 318, 1956, 5639, 4013, 3836],\n",
       " 319: [8575, 8016, 5561, 3274, 8728, 5616, 7312, 10836, 12176, 8994],\n",
       " 320: [70, 3542, 5623, 2137, 10328, 10371, 1577, 654, 2264, 7526],\n",
       " 321: [5561, 8016, 2546, 5265, 3274, 12243, 3276, 11345, 13318, 4343],\n",
       " 322: [13503, 10839, 7440, 14300, 373, 322, 10363, 12831, 3079, 10246],\n",
       " 323: [2365, 6875, 3274, 10893, 2546, 6219, 12622, 14138, 14048, 8149],\n",
       " 324: [11302, 8728, 2137, 3274, 1789, 14321, 14290, 6027, 13524, 2893],\n",
       " 325: [8207, 4888, 5507, 5623, 1789, 1587, 14069, 12920, 12265, 4341],\n",
       " 326: [1953, 5435, 7975, 4153, 123, 10700, 7879, 2217, 13180, 1983],\n",
       " 327: [1953, 123, 7563, 4153, 3608, 9425, 975, 10376, 13502, 9811],\n",
       " 328: [7882, 2407, 1208, 7506, 4834, 12370, 11820, 1191, 11247, 14175],\n",
       " 329: [10328, 1789, 14811, 9305, 4968, 2443, 9282, 3250, 7424, 8312],\n",
       " 330: [5097, 12399, 1208, 4834, 12834, 12940, 141, 11794, 4457, 7949],\n",
       " 331: [7117, 1350, 12591, 2392, 7015, 5578, 11513, 4479, 4495, 3467],\n",
       " 332: [7440, 14300, 373, 13503, 11977, 8890, 8178, 823, 10768, 332],\n",
       " 333: [7117, 8542, 3462, 1350, 7620, 6734, 7769, 333, 8026, 3879],\n",
       " 334: [8588, 13503, 14606, 14300, 14731, 3379, 2810, 13377, 2783, 4042],\n",
       " 335: [13595, 5341, 7882, 12834, 3980, 4777, 335, 9971, 13079, 12326],\n",
       " 336: [1993, 1557, 6875, 2546, 5265, 9254, 6104, 4007, 6641, 1306],\n",
       " 337: [4023, 1464, 12095, 14824, 9940, 337, 5179, 4680, 14042, 8186],\n",
       " 338: [8207, 5507, 1789, 10328, 9305, 12842, 3031, 6849, 9845, 5085],\n",
       " 339: [578, 12874, 10523, 14090, 12095, 4820, 5666, 12810, 10015, 276],\n",
       " 340: [3147, 387, 4625, 10325, 11689, 11718, 5532, 5067, 9410, 13705],\n",
       " 341: [5435, 7563, 3608, 4153, 13304, 6848, 10701, 8363, 4211, 341],\n",
       " 342: [8016, 2365, 5561, 6875, 8575, 7322, 14463, 739, 8615, 342],\n",
       " 343: [5103, 12031, 9310, 14606, 13503, 5731, 10648, 14099, 6866, 4670],\n",
       " 344: [3353, 1464, 11229, 4023, 9633, 3008, 2895, 2297, 344, 8235],\n",
       " 345: [12874, 11229, 1464, 4834, 5341, 2099, 5239, 13369, 3889, 161],\n",
       " 346: [12591, 3462, 7117, 1350, 7620, 8839, 9667, 12830, 5257, 10240],\n",
       " 347: [387, 4409, 5576, 9305, 4888, 10668, 3374, 11021, 4200, 10763],\n",
       " 348: [3980, 13595, 2137, 4834, 10328, 348, 12268, 4271, 8013, 3321],\n",
       " 349: [2277, 7563, 3608, 1953, 14962, 11179, 12767, 14212, 6496, 12349],\n",
       " 350: [4637, 373, 7440, 14300, 14606, 14855, 7688, 4151, 12152, 1969],\n",
       " 351: [3462, 8542, 6400, 1350, 7620, 13775, 12513, 11596, 351, 5251],\n",
       " 352: [8588, 14731, 580, 3716, 14300, 2885, 1629, 11017, 9019, 4578],\n",
       " 353: [582, 7620, 13945, 3741, 10252, 1979, 8871, 9534, 9794, 12083],\n",
       " 354: [7620, 7117, 1350, 4259, 8474, 10239, 11986, 7814, 5318, 14451],\n",
       " 355: [6875, 14300, 373, 13503, 3274, 5015, 3328, 10333, 6035, 14104],\n",
       " 356: [75, 10077, 8474, 4259, 7620, 14301, 356, 9225, 8751, 570],\n",
       " 357: [6745, 14824, 9633, 12095, 8575, 12536, 10530, 3554, 11274, 9967],\n",
       " 358: [2546, 8016, 6875, 5561, 5265, 6547, 12203, 5414, 5268, 6431],\n",
       " 359: [12399, 3980, 5341, 4834, 6823, 13525, 10463, 6563, 1973, 8223],\n",
       " 360: [1953, 7975, 2277, 7563, 10184, 1576, 360, 9000, 3198, 1525],\n",
       " 361: [3416, 1464, 578, 10523, 12874, 9062, 14143, 5551, 6705, 1070],\n",
       " 362: [9878, 4153, 3608, 13304, 123, 11063, 1450, 3746, 11900, 1311],\n",
       " 363: [3862, 14811, 3783, 4968, 12933, 8410, 9641, 7706, 6877, 10933],\n",
       " 364: [9305, 10328, 11216, 1789, 8207, 4993, 13106, 14589, 5420, 7750],\n",
       " 365: [1953, 14962, 7563, 10107, 2277, 11969, 3892, 12582, 6868, 365],\n",
       " 366: [5121, 387, 14811, 11961, 9620, 452, 12457, 2548, 5677, 7546],\n",
       " 367: [8820, 12031, 8588, 580, 373, 5617, 8019, 2579, 1896, 11605],\n",
       " 368: [6823, 5341, 4834, 12399, 13595, 1775, 9781, 1748, 4307, 9611],\n",
       " 369: [12834, 4834, 2137, 916, 13595, 3810, 369, 6436, 7265, 12566],\n",
       " 370: [12933, 1721, 3862, 4968, 387, 4230, 7957, 6401, 11324, 8432],\n",
       " 371: [10077, 8474, 3462, 8542, 7117, 2413, 333, 4677, 3859, 7934],\n",
       " 372: [12933, 14811, 387, 3862, 5576, 6367, 14868, 57, 13793, 9457],\n",
       " 373: [5341, 7506, 7882, 2407, 12834, 11977, 10032, 1847, 13503, 373],\n",
       " 374: [9310, 14300, 7440, 5103, 13503, 3105, 6194, 9719, 11893, 11740],\n",
       " 375: [11229, 9633, 578, 14824, 12874, 2720, 489, 375, 11128, 1846],\n",
       " 376: [8842, 9305, 8207, 10328, 11302, 13636, 7860, 12478, 7787, 6350],\n",
       " 377: [2407, 7882, 8055, 5341, 5097, 6953, 12946, 11479, 14894, 14881],\n",
       " 378: [11229, 9633, 13595, 12095, 5341, 3492, 14051, 6770, 13509, 3216],\n",
       " 379: [2277, 14962, 3608, 10107, 10184, 8834, 1975, 379, 12143, 1616],\n",
       " 380: [3242, 8728, 8016, 3274, 1993, 12559, 380, 409, 3873, 8537],\n",
       " 381: [2365, 6875, 8575, 3274, 5265, 12911, 7488, 2123, 7829, 14928],\n",
       " 382: [13031, 75, 7620, 10252, 4259, 2068, 5385, 12130, 10539, 3228],\n",
       " 383: [7563, 5435, 10107, 4153, 14962, 6537, 383, 7082, 1557, 3877],\n",
       " 384: [4834, 12834, 8055, 7506, 2407, 14024, 4100, 817, 12892, 4980],\n",
       " 385: [916, 70, 5623, 2137, 11899, 7142, 10276, 385, 2496, 10001],\n",
       " 386: [9633, 12874, 578, 11229, 1464, 3056, 5452, 784, 386, 1310],\n",
       " 387: [6745, 12095, 14090, 9940, 14824, 3783, 3147, 12933, 10839, 11689],\n",
       " 388: [9878, 7975, 10107, 5435, 14962, 11172, 4901, 3738, 810, 8103],\n",
       " 389: [1350, 7620, 4259, 5391, 75, 12715, 10789, 5346, 790, 10535],\n",
       " 390: [8842, 2137, 70, 5623, 10328, 5247, 2496, 2354, 390, 6683],\n",
       " 391: [4834, 5341, 13595, 1464, 12095, 2284, 9666, 9501, 10120, 9078],\n",
       " 392: [8575, 2365, 1557, 3242, 1993, 8270, 10965, 3616, 8996, 12387],\n",
       " 393: [4023, 1464, 14824, 9633, 9940, 2761, 108, 5662, 7836, 10839],\n",
       " 394: [14824, 6745, 4518, 12095, 9633, 3585, 394, 14319, 11345, 9446],\n",
       " 395: [2407, 8055, 4834, 7882, 3980, 395, 2574, 1812, 6306, 7705],\n",
       " 396: [9878, 3132, 2277, 5435, 10184, 8727, 396, 8596, 1472, 7619],\n",
       " 397: [3862, 10839, 3783, 12933, 4409, 11890, 13080, 12298, 11783, 10541],\n",
       " 398: [4834, 7506, 2407, 7882, 12834, 11015, 7398, 2578, 12371, 6696],\n",
       " 399: [13595, 10184, 4153, 7563, 4834, 10394, 1733, 8180, 10626, 13520],\n",
       " 400: [12591, 7015, 4259, 7117, 1350, 3760, 13738, 1712, 10440, 14879],\n",
       " 401: [10893, 8016, 3242, 6875, 8575, 3736, 14949, 10205, 6585, 4476],\n",
       " 402: [11899, 9305, 4888, 3542, 1695, 10864, 13691, 3628, 1750, 402],\n",
       " 403: [7117, 12039, 4259, 1503, 3741, 5558, 1066, 6136, 10856, 5898],\n",
       " 404: [12095, 11229, 9940, 9633, 569, 11843, 404, 7245, 11031, 8612],\n",
       " 405: [916, 5623, 1789, 2137, 11216, 6243, 9342, 7656, 2829, 6644],\n",
       " 406: [4409, 5121, 11961, 14811, 10325, 13507, 13878, 9380, 7675, 14970],\n",
       " 407: [7975, 5435, 10107, 13304, 1953, 11107, 3984, 4917, 14775, 407],\n",
       " 408: [3274, 5561, 8575, 3242, 1557, 11956, 6585, 10205, 4476, 14949],\n",
       " 409: [8575, 5265, 6875, 3274, 5561, 13617, 425, 11956, 9345, 2985],\n",
       " 410: [5561, 1993, 6875, 10893, 8016, 11430, 12811, 11338, 2981, 565],\n",
       " 411: [12834, 2407, 12399, 7882, 1208, 9966, 12656, 783, 1895, 13603],\n",
       " 412: [569, 9633, 1464, 11229, 14824, 11545, 3267, 9580, 1456, 8185],\n",
       " 413: [14300, 7440, 373, 14731, 5620, 11039, 9603, 9943, 14178, 552],\n",
       " 414: [8588, 14606, 9310, 373, 14300, 12999, 13403, 13787, 8042, 13820],\n",
       " 415: [3147, 4968, 14811, 387, 4409, 11309, 3935, 2345, 1977, 14678],\n",
       " 416: [14090, 9633, 12095, 1464, 7866, 10075, 5977, 2876, 2027, 10710],\n",
       " 417: [11229, 1464, 3274, 10893, 14824, 14656, 813, 3546, 13227, 9449],\n",
       " 418: [12031, 8820, 7440, 11977, 373, 5160, 9547, 1032, 3595, 2839],\n",
       " 419: [10107, 123, 2943, 13304, 9878, 10658, 14202, 7875, 4988, 466],\n",
       " 420: [11229, 12095, 9633, 14824, 578, 13669, 10416, 12346, 11308, 4843],\n",
       " 421: [5620, 14731, 13503, 8153, 14300, 4781, 2329, 8878, 4774, 3651],\n",
       " 422: [10893, 8575, 6875, 3274, 1557, 11960, 12921, 10222, 2740, 10886],\n",
       " 423: [10325, 387, 4409, 4968, 11961, 3634, 13648, 2232, 5825, 4524],\n",
       " 424: [7563, 9878, 4409, 5435, 4834, 6428, 439, 11478, 3706, 424],\n",
       " 425: [3274, 8575, 1557, 8016, 5265, 409, 666, 9085, 6203, 2380],\n",
       " 426: [8542, 8474, 7117, 75, 1350, 14765, 11461, 13082, 12134, 7799],\n",
       " 427: [14811, 9878, 387, 7563, 4409, 5004, 4741, 9817, 427, 14924],\n",
       " 428: [3274, 1993, 8575, 2365, 3242, 6619, 5306, 12367, 6523, 1632],\n",
       " 429: [373, 7440, 5103, 14300, 4968, 5445, 1343, 11889, 6924, 11632],\n",
       " 430: [12591, 1350, 2392, 7015, 4259, 11237, 430, 3668, 6172, 10644],\n",
       " 431: [11899, 70, 10328, 4888, 8842, 13527, 14689, 431, 4699, 1866],\n",
       " 432: [4192, 10325, 13279, 11689, 4625, 3587, 14142, 8123, 13844, 432],\n",
       " 433: [373, 14300, 1847, 14731, 7440, 8403, 2516, 3311, 8154, 433],\n",
       " 434: [9305, 2137, 1789, 8207, 8842, 6466, 5863, 8574, 3419, 5956],\n",
       " 435: [14811, 1789, 10328, 1695, 2137, 1202, 2814, 2738, 5906, 12784],\n",
       " 436: [7117, 1350, 7620, 13945, 4259, 11311, 12693, 9255, 7351, 9434],\n",
       " 437: [9310, 14731, 14811, 7440, 14300, 8431, 12613, 7169, 10271, 8775],\n",
       " 438: [13945, 10252, 4259, 10077, 7117, 2215, 798, 1955, 6633, 438],\n",
       " 439: [1789, 7563, 9878, 4834, 5435, 439, 5612, 11478, 3706, 3121],\n",
       " 440: [7866, 9633, 12095, 578, 10523, 3790, 9261, 8115, 217, 3630],\n",
       " 441: [10252, 1350, 3741, 7117, 13945, 13463, 441, 726, 1554, 11512],\n",
       " 442: [14824, 11229, 4023, 1464, 6745, 6795, 1954, 442, 6715, 7786],\n",
       " 443: [8575, 13503, 3274, 8153, 14300, 5529, 3902, 443, 11587, 10205],\n",
       " 444: [12095, 9633, 11229, 1464, 10893, 14853, 3283, 14309, 14515, 2107],\n",
       " 445: [70, 1789, 9305, 11302, 5507, 12426, 6599, 13607, 7904, 12575],\n",
       " 446: [4888, 10328, 4409, 387, 14811, 1494, 446, 11355, 9602, 9129],\n",
       " 447: [13595, 8055, 5097, 12834, 5341, 3568, 312, 3767, 1387, 5242],\n",
       " 448: [7565, 13945, 582, 1350, 1503, 448, 2188, 7114, 5062, 13881],\n",
       " 449: [1464, 11229, 6745, 4023, 569, 14442, 449, 3178, 13129, 12400],\n",
       " 450: [8016, 1557, 10893, 6875, 2546, 11061, 6824, 4911, 2571, 7728],\n",
       " 451: [12031, 13503, 7440, 9310, 373, 589, 5201, 13895, 3160, 8369],\n",
       " 452: [11961, 12933, 3147, 11689, 9620, 12457, 366, 452, 11651, 5677],\n",
       " 453: [14090, 2186, 12095, 1464, 12874, 4157, 5187, 12393, 453, 14189],\n",
       " 454: [13304, 1953, 10184, 4153, 9878, 2931, 11832, 4032, 9052, 12840],\n",
       " 455: [8575, 2365, 3274, 10893, 2546, 5088, 3466, 10790, 12653, 4355],\n",
       " 456: [3542, 916, 1789, 5507, 4888, 627, 3786, 6406, 515, 9159],\n",
       " 457: [10523, 14090, 14824, 9633, 1464, 11550, 2233, 2872, 2741, 6139],\n",
       " 458: [13031, 13945, 7117, 3619, 4259, 7417, 7820, 5333, 1685, 10442],\n",
       " 459: [9940, 1464, 12095, 14824, 569, 2980, 459, 6904, 7288, 985],\n",
       " 460: [4834, 5097, 2407, 7882, 5341, 258, 8153, 10032, 460, 4637],\n",
       " 461: [11689, 14811, 387, 4382, 4409, 2210, 6932, 10668, 11656, 12066],\n",
       " 462: [5620, 8075, 14300, 4637, 13503, 14981, 10198, 7819, 4861, 14858],\n",
       " 463: [8575, 10893, 6875, 3274, 5265, 9767, 3713, 11192, 10987, 14773],\n",
       " 464: [1789, 10328, 4192, 9305, 387, 11636, 10533, 619, 13834, 1261],\n",
       " 465: [6823, 4834, 7882, 1208, 13595, 7928, 13109, 5846, 465, 13464],\n",
       " 466: [13304, 2943, 5435, 10107, 9878, 2177, 9390, 1574, 7875, 466],\n",
       " 467: [10893, 8016, 6875, 1993, 3242, 13111, 2939, 8521, 467, 12214],\n",
       " 468: [10252, 4259, 1350, 13031, 582, 468, 11226, 7214, 6010, 14285],\n",
       " 469: [12399, 7506, 4834, 5097, 13595, 3831, 6589, 13679, 4294, 7378],\n",
       " 470: [14731, 13503, 7440, 8075, 14300, 13884, 6872, 9137, 470, 10797],\n",
       " 471: [1721, 12933, 10839, 9620, 4409, 5817, 14877, 11000, 4309, 10823],\n",
       " 472: [12095, 14824, 11229, 569, 9633, 6904, 8239, 3144, 11345, 3565],\n",
       " 473: [1953, 7563, 5435, 3132, 2943, 2769, 6949, 12384, 14741, 473],\n",
       " 474: [3783, 4409, 10839, 9620, 3862, 10462, 6996, 1906, 5001, 11957],\n",
       " 475: [12399, 7506, 3980, 13595, 6823, 13714, 2447, 12845, 8110, 8948],\n",
       " 476: [8542, 3462, 7620, 4259, 5391, 2633, 7828, 476, 9979, 13764],\n",
       " 477: [14731, 12031, 7440, 13503, 373, 11928, 14780, 548, 8304, 291],\n",
       " 478: [8588, 13503, 5103, 580, 9310, 4736, 9950, 11505, 5427, 12831],\n",
       " 479: [14731, 11977, 8588, 7440, 12031, 1399, 13839, 10650, 3146, 7547],\n",
       " 480: [7620, 6400, 4259, 7117, 1350, 1188, 6358, 480, 13011, 3330],\n",
       " 481: [3242, 8575, 8728, 1557, 2365, 1782, 481, 5779, 12197, 5697],\n",
       " 482: [12399, 13595, 5341, 1208, 12834, 733, 8692, 3090, 236, 4867],\n",
       " 483: [4888, 916, 5623, 10328, 11216, 7096, 12504, 630, 2830, 483],\n",
       " 484: [13503, 14300, 1350, 7440, 3462, 9667, 14413, 4594, 9571, 5454],\n",
       " 485: [1350, 10252, 13945, 582, 3741, 3357, 10792, 644, 12497, 10600],\n",
       " 486: [4259, 7117, 1350, 75, 10077, 486, 13132, 3517, 12755, 2936],\n",
       " 487: [8207, 11899, 3542, 9305, 10328, 5336, 14354, 8574, 11108, 487],\n",
       " 488: [4888, 5507, 8207, 9305, 1695, 2545, 5503, 175, 11122, 12887],\n",
       " 489: [12095, 14824, 2186, 1464, 14090, 8245, 11963, 489, 1883, 2720],\n",
       " 490: [1789, 5507, 10328, 8842, 3542, 10583, 13874, 1043, 5899, 13155],\n",
       " 491: [7882, 1208, 2407, 8055, 4834, 14392, 14218, 1382, 2065, 8692],\n",
       " 492: [916, 8842, 5623, 70, 11899, 8635, 492, 2388, 2354, 4893],\n",
       " 493: [4409, 11689, 4968, 9620, 14811, 1414, 10905, 9849, 10231, 6107],\n",
       " 494: [12095, 12874, 3416, 9940, 1464, 4414, 6145, 3315, 12044, 7333],\n",
       " 495: [4259, 7563, 7620, 1350, 2392, 1060, 6416, 9432, 11365, 12787],\n",
       " 496: [11689, 3147, 14811, 4968, 4409, 11348, 13342, 10883, 5012, 10042],\n",
       " 497: [2407, 8055, 7882, 5341, 1208, 13400, 7336, 7076, 1891, 902],\n",
       " 498: [8728, 1557, 8016, 3274, 5561, 11340, 12704, 498, 13495, 3440],\n",
       " 499: [14811, 373, 7440, 14731, 4968, 5933, 5153, 2679, 12298, 2603],\n",
       " 500: [1721, 3862, 387, 9620, 14811, 7706, 363, 6655, 14520, 3807],\n",
       " 501: [8820, 14606, 14300, 14731, 12031, 334, 13377, 14869, 3160, 4474],\n",
       " 502: [13304, 10184, 123, 10107, 4153, 4083, 2131, 13393, 14908, 5848],\n",
       " 503: [13595, 3542, 12399, 5341, 1789, 503, 3120, 7179, 5149, 12917],\n",
       " 504: [3862, 12933, 9620, 1721, 3783, 7141, 11559, 8984, 13873, 7211],\n",
       " 505: [3608, 1953, 4153, 10184, 2943, 13930, 4939, 8735, 12611, 7027],\n",
       " 506: [1464, 3416, 3274, 9633, 11229, 7354, 9196, 8899, 2171, 5583],\n",
       " 507: [10184, 4153, 2277, 5435, 7563, 9077, 2012, 5504, 349, 507],\n",
       " 508: [1789, 4888, 11216, 5623, 2137, 3985, 12756, 8627, 4705, 5358],\n",
       " 509: [13503, 387, 14811, 9310, 14731, 7933, 5169, 4218, 4228, 5713],\n",
       " 510: [1789, 1695, 2137, 4888, 10328, 510, 10718, 4321, 4891, 6339],\n",
       " 511: [4834, 8055, 5341, 12834, 3980, 14496, 1143, 4983, 4130, 9543],\n",
       " 512: [2137, 1789, 3242, 10328, 10893, 12846, 14267, 4528, 12897, 6839],\n",
       " 513: [11899, 2137, 11216, 3542, 4888, 304, 8162, 513, 45, 14472],\n",
       " 514: [6875, 1557, 8016, 3242, 3274, 5680, 1100, 14712, 9701, 170],\n",
       " 515: [4888, 916, 5507, 70, 11302, 4336, 536, 112, 14383, 4175],\n",
       " 516: [10328, 3242, 2137, 8728, 10893, 194, 13572, 1016, 6727, 4528],\n",
       " 517: [5097, 4834, 13595, 5341, 3980, 9366, 1516, 8375, 7068, 2251],\n",
       " 518: [13279, 4968, 3147, 387, 4409, 518, 13778, 2258, 10459, 1320],\n",
       " 519: [8055, 1208, 7882, 13595, 12399, 4582, 2049, 4132, 8581, 519],\n",
       " 520: [4259, 582, 5391, 3741, 13031, 520, 10708, 85, 13267, 6018],\n",
       " 521: [1464, 14824, 11229, 3274, 12874, 6429, 3061, 7843, 521, 14254],\n",
       " 522: [11229, 14090, 14824, 10523, 12095, 7093, 12986, 1717, 5140, 522],\n",
       " 523: [12399, 4834, 5341, 7506, 6823, 8287, 5513, 944, 11227, 6069],\n",
       " 524: [9878, 7975, 3608, 14962, 7563, 4565, 5626, 11729, 294, 11124],\n",
       " 525: [10523, 11229, 1464, 578, 2186, 2028, 525, 11174, 9123, 13292],\n",
       " 526: [2546, 3274, 8016, 5265, 1557, 11176, 1835, 7290, 9759, 10937],\n",
       " 527: [4409, 12933, 3862, 14811, 1528, 2248, 6645, 10488, 12508, 10462],\n",
       " 528: [1721, 14811, 1528, 4968, 3783, 9011, 1906, 8167, 10906, 12894],\n",
       " 529: [7440, 13503, 4968, 14731, 14300, 1757, 4230, 12976, 12733, 529],\n",
       " 530: [14731, 14300, 9310, 13503, 7440, 530, 12245, 11910, 6378, 14802],\n",
       " 531: [1953, 3608, 10107, 3132, 10184, 5093, 4910, 531, 12018, 6767],\n",
       " 532: [14731, 373, 7440, 12031, 580, 1294, 9315, 2579, 8890, 12593],\n",
       " 533: [9878, 7563, 2277, 14962, 7975, 10354, 176, 10202, 9001, 10894],\n",
       " 534: [2137, 5507, 10328, 1789, 3542, 4353, 6316, 9552, 12880, 1532],\n",
       " 535: [1993, 10893, 8575, 2546, 3242, 535, 3431, 6807, 2482, 6198],\n",
       " 536: [916, 10328, 5507, 3542, 70, 4336, 2905, 536, 1581, 112],\n",
       " 537: [6823, 4834, 2407, 1208, 13595, 35, 5319, 7822, 1486, 10614],\n",
       " 538: [2407, 7506, 12834, 13595, 3980, 10323, 919, 7251, 4508, 13958],\n",
       " 539: [8016, 8728, 1993, 3274, 3242, 539, 993, 3826, 1488, 1759],\n",
       " 540: [11899, 70, 4888, 916, 2137, 3728, 9615, 11722, 6569, 13527],\n",
       " 541: [1953, 3608, 10184, 123, 5435, 11236, 11987, 13918, 3557, 541],\n",
       " 542: [7440, 373, 8153, 10032, 8075, 552, 10284, 542, 11990, 8440],\n",
       " 543: [4888, 1789, 11216, 916, 3542, 11218, 2692, 543, 3158, 14587],\n",
       " 544: [12933, 4382, 4409, 5576, 4968, 12178, 12080, 12870, 8121, 544],\n",
       " 545: [4834, 8055, 5097, 7882, 1208, 4439, 182, 1880, 4191, 545],\n",
       " 546: [8575, 4888, 8728, 5507, 10893, 13752, 1593, 8856, 546, 13492],\n",
       " 547: [4968, 14811, 4625, 387, 11689, 6974, 3694, 13033, 1580, 547],\n",
       " 548: [12031, 3716, 7440, 373, 14606, 8304, 5552, 291, 548, 14888],\n",
       " 549: [3542, 11899, 2137, 1789, 9305, 1877, 11968, 6405, 3019, 11460],\n",
       " 550: [3741, 7117, 1350, 8542, 10077, 4559, 9873, 4850, 11461, 4177],\n",
       " 551: [8153, 13503, 1847, 10032, 6656, 7903, 5674, 11561, 3858, 13967],\n",
       " 552: [8075, 8153, 10032, 13503, 14731, 413, 3583, 9943, 11039, 9603],\n",
       " 553: [2137, 4409, 1789, 4888, 14811, 553, 988, 220, 4118, 4627],\n",
       " 554: [5265, 3242, 5561, 8728, 8016, 6626, 6732, 11951, 10033, 3551],\n",
       " 555: [2546, 1557, 6875, 5265, 10893, 555, 2534, 4362, 9803, 1228],\n",
       " 556: [13279, 10325, 14811, 4409, 4968, 6411, 12131, 13832, 13341, 556],\n",
       " 557: [12095, 13595, 9633, 12834, 4834, 391, 4557, 2980, 8545, 12210],\n",
       " 558: [7440, 14731, 13503, 14811, 373, 13715, 9568, 5069, 5993, 7359],\n",
       " 559: [5103, 3716, 14731, 8588, 14300, 11910, 2144, 2119, 11737, 10768],\n",
       " 560: [11302, 4888, 5507, 3274, 8575, 13091, 5772, 3483, 2430, 7607],\n",
       " 561: [8075, 8016, 7440, 8575, 14300, 3362, 12410, 12984, 11224, 9872],\n",
       " 562: [5435, 9878, 14811, 7563, 5121, 4877, 4653, 4942, 562, 2724],\n",
       " 563: [10184, 4153, 5435, 13304, 3608, 1336, 563, 11409, 341, 11145],\n",
       " 564: [10328, 9305, 4888, 11302, 2137, 8579, 546, 11665, 13752, 7950],\n",
       " 565: [6875, 3274, 8016, 5265, 2365, 10073, 11338, 11065, 12811, 1732],\n",
       " 566: [7882, 1208, 5097, 12834, 4834, 10049, 13585, 8693, 87, 566],\n",
       " 567: [8842, 5623, 11216, 3542, 10328, 3836, 6023, 7128, 567, 1332],\n",
       " 568: [4409, 4382, 7164, 14811, 5576, 14814, 3432, 939, 2907, 6391],\n",
       " 569: [4625, 11961, 387, 11689, 14811, 569, 7470, 6745, 4023, 3416],\n",
       " 570: [7620, 5391, 7117, 75, 1350, 570, 13633, 14983, 2481, 4636],\n",
       " 571: [13595, 12834, 12399, 2407, 4834, 2733, 11782, 13799, 3678, 8281],\n",
       " 572: [9940, 12095, 9633, 6745, 3416, 11763, 7557, 4014, 6842, 14454],\n",
       " 573: [8016, 6875, 8575, 1993, 5561, 1800, 7013, 5947, 8589, 573],\n",
       " 574: [12834, 5341, 3980, 1208, 2407, 236, 574, 1367, 6915, 3292],\n",
       " 575: [5265, 14300, 373, 13503, 7440, 1892, 12644, 14495, 3971, 10895],\n",
       " 576: [14300, 14606, 14811, 7440, 387, 2487, 10246, 14394, 576, 2679],\n",
       " 577: [123, 9878, 7563, 1953, 13304, 577, 8610, 14730, 13280, 6827],\n",
       " 578: [4409, 3862, 10325, 387, 4968, 10523, 7866, 578, 674, 14090],\n",
       " 579: [14811, 7440, 13503, 4968, 10839, 10289, 6041, 2110, 10246, 579],\n",
       " 580: [3980, 12399, 7882, 1208, 5097, 10372, 580, 10418, 8588, 12031],\n",
       " 581: [7506, 3980, 12834, 7882, 6823, 2586, 581, 9619, 6435, 2251],\n",
       " 582: [9305, 3542, 2137, 10328, 11302, 4259, 7620, 1350, 582, 13945],\n",
       " 583: [14300, 4259, 1350, 373, 14731, 2514, 6235, 9539, 583, 1844],\n",
       " 584: [14090, 12095, 11229, 10523, 12874, 6477, 12810, 1366, 10015, 276],\n",
       " 585: [4625, 10325, 4409, 4968, 3147, 785, 11540, 8530, 3634, 3263],\n",
       " 586: [7440, 373, 13503, 12031, 580, 586, 1032, 4961, 3595, 1415],\n",
       " 587: [1464, 11229, 14824, 10523, 9633, 8658, 587, 12864, 13783, 4596],\n",
       " 588: [10328, 8207, 5507, 11302, 1695, 7216, 7669, 1159, 10421, 588],\n",
       " 589: [14300, 1847, 13503, 12031, 11977, 102, 589, 14429, 1051, 8320],\n",
       " 590: [5435, 9878, 7620, 10184, 1350, 12067, 11361, 13626, 7743, 5381],\n",
       " 591: [7117, 6400, 7620, 3462, 4259, 3936, 6460, 7737, 6856, 13070],\n",
       " 592: [4834, 13595, 12834, 3980, 5097, 5164, 1814, 7324, 4777, 592],\n",
       " 593: [5391, 7620, 1350, 582, 13031, 1059, 12715, 10789, 9297, 13365],\n",
       " 594: [2186, 9633, 10523, 1464, 12874, 13821, 594, 1927, 8879, 6748],\n",
       " 595: [8055, 2407, 13595, 3980, 7882, 10861, 5592, 9625, 11278, 6486],\n",
       " 596: [9878, 3132, 4153, 13304, 7563, 4828, 12028, 8695, 1917, 4923],\n",
       " 597: [14300, 8575, 5620, 14731, 13503, 10375, 1729, 13514, 597, 8122],\n",
       " 598: [1847, 7440, 14731, 13503, 6656, 12227, 6340, 13716, 2607, 13469],\n",
       " 599: [3980, 7882, 2407, 13595, 8055, 14166, 5133, 7841, 8283, 599],\n",
       " 600: [13595, 1208, 12834, 5341, 3980, 5953, 1602, 13163, 4582, 4604],\n",
       " 601: [578, 12095, 12874, 1464, 11229, 681, 601, 5499, 7055, 14552],\n",
       " 602: [5507, 5623, 11899, 2137, 10328, 12829, 7574, 12489, 6084, 6808],\n",
       " 603: [4888, 5507, 11302, 1789, 1695, 11665, 6599, 12426, 677, 6240],\n",
       " 604: [10328, 8842, 3542, 5623, 4888, 2922, 4331, 11784, 3224, 1943],\n",
       " 605: [5097, 5341, 12834, 12399, 3980, 1912, 2255, 3148, 10415, 8105],\n",
       " 606: [2407, 7882, 5341, 5097, 4834, 13381, 606, 3625, 5225, 12966],\n",
       " 607: [3242, 8728, 10893, 8016, 1993, 607, 146, 12538, 2540, 10785],\n",
       " 608: [5391, 75, 7117, 1350, 3462, 608, 8132, 886, 7530, 7278],\n",
       " 609: [12039, 10252, 13945, 7117, 3741, 14886, 7429, 10695, 7114, 609],\n",
       " 610: [10893, 373, 13503, 3274, 5561, 750, 610, 9751, 12598, 876],\n",
       " 611: [10523, 3353, 12874, 11229, 12095, 9378, 611, 13147, 14294, 6770],\n",
       " 612: [10032, 7440, 580, 9310, 5103, 11797, 14427, 1947, 4854, 11612],\n",
       " 613: [1721, 14811, 4192, 4382, 5576, 5043, 8031, 4523, 2128, 12588],\n",
       " 614: [3147, 7563, 9878, 1953, 10184, 10842, 614, 5256, 3103, 10847],\n",
       " 615: [12834, 9878, 5435, 13595, 7563, 14914, 14483, 9372, 8056, 3984],\n",
       " 616: [12874, 14824, 11229, 9633, 7866, 11633, 9714, 6207, 13005, 4573],\n",
       " 617: [10893, 2365, 8016, 5265, 3242, 146, 5414, 7045, 9411, 617],\n",
       " 618: [3274, 6875, 8575, 8728, 5561, 14073, 10199, 13902, 12889, 3438],\n",
       " 619: [4888, 387, 4192, 4968, 14811, 11636, 11403, 13834, 1261, 5830],\n",
       " 620: [14090, 11229, 2186, 7866, 12874, 2640, 7335, 9292, 4451, 9051],\n",
       " 621: [5097, 1208, 5341, 4834, 13595, 14504, 3386, 1486, 7822, 537],\n",
       " 622: [4259, 7117, 14300, 8820, 14731, 2612, 622, 1490, 4135, 10915],\n",
       " 623: [5576, 4968, 387, 3147, 14811, 2825, 1897, 6825, 12869, 4251],\n",
       " 624: [3462, 6400, 8474, 8542, 5391, 189, 8839, 11059, 1848, 1657],\n",
       " 625: [13595, 5341, 12399, 4834, 3980, 6241, 14893, 625, 13063, 7002],\n",
       " 626: [3862, 4192, 3783, 4382, 387, 2274, 14351, 10296, 4213, 6476],\n",
       " 627: [916, 11302, 1789, 8842, 4888, 536, 6878, 2866, 9159, 456],\n",
       " 628: [12874, 10523, 14824, 1464, 578, 6538, 12049, 14387, 7679, 8906],\n",
       " 629: [14824, 12095, 3274, 569, 12874, 2979, 34, 9217, 9014, 3674],\n",
       " 630: [10328, 8842, 2137, 11216, 916, 14144, 6967, 630, 13105, 11394],\n",
       " 631: [2943, 5435, 10184, 9878, 7563, 9581, 12186, 267, 3240, 2270],\n",
       " 632: [12874, 9633, 14090, 14824, 578, 1049, 4489, 2880, 9309, 11810],\n",
       " 633: [1528, 4409, 14811, 12933, 3862, 2966, 12930, 3781, 5465, 8359],\n",
       " 634: [8728, 3274, 10893, 1993, 5561, 634, 969, 6666, 3015, 8537],\n",
       " 635: [1464, 12095, 12874, 11229, 9633, 416, 6166, 6070, 39, 12124],\n",
       " 636: [12874, 7866, 1464, 12095, 9633, 13518, 1742, 2466, 937, 8628],\n",
       " 637: [12399, 12834, 3980, 5341, 5097, 1659, 9762, 14782, 637, 10682],\n",
       " 638: [3980, 7882, 12834, 5341, 13595, 1355, 13035, 10561, 6542, 6050],\n",
       " 639: [12874, 9633, 12095, 7866, 2186, 13566, 639, 10305, 7626, 5518],\n",
       " 640: [3619, 2392, 7015, 1350, 4259, 3081, 12594, 2469, 4029, 8905],\n",
       " 641: [1953, 3608, 3132, 10184, 5435, 2993, 2661, 10757, 10619, 641],\n",
       " 642: [13595, 8842, 1789, 10328, 12834, 13105, 11116, 12656, 3510, 14305],\n",
       " 643: [14300, 5103, 14606, 14731, 12031, 4181, 12660, 8465, 9427, 13567],\n",
       " 644: [3741, 7117, 4259, 10252, 582, 3357, 644, 485, 13988, 8058],\n",
       " 645: [6875, 2365, 1993, 8016, 10893, 2355, 7306, 14332, 14956, 8701],\n",
       " 646: [12874, 12095, 14824, 8575, 6745, 8670, 6101, 4809, 12952, 8903],\n",
       " 647: [75, 5118, 1503, 2392, 7117, 647, 1101, 6704, 10168, 5605],\n",
       " 648: [10523, 11229, 12874, 7866, 1464, 11641, 6748, 4843, 9841, 7679],\n",
       " 649: [6745, 569, 12874, 9940, 14824, 13196, 649, 4379, 260, 661],\n",
       " 650: [1789, 4834, 2137, 12834, 70, 11263, 9491, 296, 14053, 3631],\n",
       " 651: [14824, 12874, 7866, 2186, 10523, 13372, 12517, 11388, 13853, 8362],\n",
       " 652: [7117, 7620, 3462, 1350, 5391, 652, 12854, 14544, 12519, 2827],\n",
       " 653: [1557, 2365, 3274, 8575, 10893, 13364, 5938, 6284, 3681, 14610],\n",
       " 654: [10328, 2137, 3542, 916, 1789, 3363, 11663, 14346, 654, 9271],\n",
       " 655: [13503, 4409, 5103, 14300, 373, 8410, 10489, 14379, 8477, 14638],\n",
       " 656: [916, 2137, 1789, 5623, 4888, 656, 14146, 9648, 7033, 1851],\n",
       " 657: [7563, 5435, 5341, 13595, 1953, 12324, 12626, 5735, 4551, 657],\n",
       " 658: [5576, 1789, 387, 2137, 14811, 10016, 6367, 7792, 8488, 270],\n",
       " 659: [3608, 10184, 7975, 9878, 5435, 5497, 5563, 13171, 4487, 10210],\n",
       " 660: [4968, 7563, 9878, 387, 14811, 14076, 11852, 14505, 2041, 5389],\n",
       " 661: [4023, 9633, 11229, 6745, 9940, 3178, 661, 13129, 14442, 4134],\n",
       " 662: [7440, 6656, 14300, 3274, 13503, 14342, 6140, 12644, 693, 662],\n",
       " 663: [13595, 5341, 11216, 4888, 5623, 6966, 9307, 6706, 9546, 2390],\n",
       " 664: [4409, 2137, 387, 13503, 4888, 11806, 4295, 2814, 1747, 9705],\n",
       " 665: [9878, 3147, 10184, 5435, 7563, 3402, 14067, 9119, 9454, 1842],\n",
       " 666: [1993, 8575, 3274, 10893, 1557, 9345, 5506, 2417, 1800, 1570],\n",
       " 667: [12095, 578, 9633, 1464, 14824, 5671, 2994, 23, 667, 1192],\n",
       " 668: [14731, 14300, 14811, 387, 14606, 5526, 1719, 1025, 11138, 13796],\n",
       " 669: [10184, 7563, 9878, 1953, 5341, 10376, 8912, 7901, 9971, 669],\n",
       " 670: [4625, 14811, 4409, 10325, 3147, 5851, 13832, 14995, 11799, 8885],\n",
       " 671: [10893, 5561, 14300, 373, 5620, 2862, 7374, 13174, 2246, 8681],\n",
       " 672: [4888, 1789, 11302, 8207, 2137, 672, 10764, 11372, 13093, 7500],\n",
       " 673: [8588, 8820, 580, 14731, 7440, 9697, 5173, 5446, 14685, 14258],\n",
       " 674: [1721, 4382, 9620, 387, 1528, 6152, 6623, 1451, 8688, 13879],\n",
       " 675: [11961, 387, 11689, 4625, 13279, 675, 7004, 14375, 12522, 8547],\n",
       " 676: [2137, 11899, 916, 8842, 10328, 676, 10019, 14360, 4260, 6441],\n",
       " 677: [4888, 10328, 1789, 9305, 2137, 11623, 14791, 3003, 14398, 5632],\n",
       " 678: [14731, 7440, 12031, 8588, 580, 1001, 10926, 2885, 479, 11040],\n",
       " 679: [13595, 12874, 4834, 14824, 5341, 679, 1140, 860, 12121, 7332],\n",
       " 680: [1953, 2277, 123, 10184, 5435, 680, 138, 9925, 6811, 2000],\n",
       " 681: [7866, 12095, 3353, 2186, 14824, 8057, 9120, 601, 9139, 4859],\n",
       " 682: [12874, 14824, 1464, 11229, 12095, 13312, 682, 2025, 2880, 4104],\n",
       " 683: [7506, 5341, 12834, 4834, 6823, 8035, 3320, 9543, 10821, 5408],\n",
       " 684: [9633, 578, 11229, 14090, 10523, 10674, 11135, 6686, 2055, 2491],\n",
       " 685: [5097, 13595, 2407, 12399, 4834, 685, 8833, 9748, 14540, 12329],\n",
       " 686: [4409, 7440, 387, 13503, 14731, 12280, 7094, 686, 8691, 4977],\n",
       " 687: [8207, 5507, 2137, 70, 10328, 712, 687, 4672, 5096, 10891],\n",
       " 688: [7866, 11229, 14090, 9633, 1464, 6109, 3710, 3244, 688, 1769],\n",
       " 689: [4409, 7440, 14811, 373, 4968, 1921, 2624, 8480, 689, 2050],\n",
       " 690: [12095, 1464, 14824, 11229, 9633, 1504, 9549, 11641, 4620, 12049],\n",
       " 691: [7117, 7620, 1350, 6400, 4259, 12849, 12686, 3271, 12515, 8953],\n",
       " 692: [1464, 10893, 11229, 3274, 12874, 3324, 10530, 13034, 12969, 7661],\n",
       " 693: [4637, 1993, 7440, 10893, 373, 1333, 9210, 8290, 7946, 4381],\n",
       " 694: [4834, 11229, 1464, 14824, 5341, 345, 10735, 13929, 8481, 5239],\n",
       " 695: [14962, 13304, 7563, 3608, 10184, 3226, 12239, 5948, 3111, 6848],\n",
       " 696: [3980, 7882, 5341, 12834, 2407, 3332, 8581, 13757, 13295, 10512],\n",
       " 697: [1350, 7117, 4259, 13031, 13945, 244, 697, 6584, 6158, 10673],\n",
       " 698: [3274, 1789, 8575, 4888, 11302, 9792, 5689, 1422, 698, 4375],\n",
       " 699: [3242, 10893, 8728, 6875, 2546, 8708, 80, 1265, 699, 7361],\n",
       " 700: [13304, 1953, 10184, 2277, 9878, 700, 6853, 2000, 10660, 1087],\n",
       " 701: [12874, 3416, 14824, 9940, 4023, 5060, 4560, 13944, 3655, 2260],\n",
       " 702: [9940, 6745, 4518, 14824, 12095, 1852, 10761, 6515, 9368, 7759],\n",
       " 703: [373, 8820, 12031, 14731, 11977, 7757, 703, 228, 12608, 9299],\n",
       " 704: [4409, 13279, 1953, 5435, 14811, 4990, 14094, 4579, 12408, 704],\n",
       " 705: [5623, 916, 2137, 8842, 4888, 13536, 14710, 5266, 9442, 14565],\n",
       " 706: [1464, 7620, 12095, 7117, 4259, 9901, 28, 4596, 85, 5691],\n",
       " 707: [12095, 11229, 13595, 12874, 1464, 13457, 2239, 13573, 12866, 6336],\n",
       " 708: [14824, 12834, 12095, 9633, 12874, 10072, 4908, 708, 8395, 12156],\n",
       " 709: [9940, 4518, 4023, 3416, 12874, 10403, 1328, 4266, 2865, 6698],\n",
       " 710: [2943, 3608, 10184, 5435, 4153, 975, 9425, 9811, 13502, 10376],\n",
       " 711: [3274, 7440, 5561, 13503, 14300, 6254, 4982, 9868, 610, 9920],\n",
       " 712: [4192, 8207, 4888, 10328, 2137, 4958, 14618, 712, 10862, 5096],\n",
       " 713: [4637, 1847, 13503, 7440, 14300, 5438, 10551, 10800, 551, 3858],\n",
       " 714: [1993, 5561, 8728, 8575, 1557, 13108, 3683, 714, 12689, 10536],\n",
       " 715: [9305, 8207, 10328, 2137, 1695, 13352, 12646, 6399, 8090, 5040],\n",
       " 716: [10893, 8575, 5507, 1789, 2137, 7284, 7091, 6078, 8967, 4618],\n",
       " 717: [2277, 2943, 3608, 5435, 10184, 6531, 2771, 12476, 11051, 14393],\n",
       " 718: [9633, 12874, 578, 1464, 11229, 718, 8810, 9157, 6772, 13999],\n",
       " 719: [8207, 11216, 8842, 1789, 4888, 14228, 3687, 12901, 2792, 12316],\n",
       " 720: [14090, 11229, 1464, 12095, 578, 6300, 2629, 720, 7693, 8806],\n",
       " 721: [10893, 3274, 1557, 5561, 3242, 10966, 3054, 8792, 6202, 13425],\n",
       " 722: [10077, 5391, 7620, 6400, 8542, 3639, 12513, 691, 12515, 263],\n",
       " 723: [1789, 4888, 12834, 70, 10328, 11995, 6454, 6436, 9537, 2450],\n",
       " 724: [123, 387, 7563, 4968, 14811, 9192, 13974, 14607, 7505, 14131],\n",
       " 725: [1350, 1503, 5118, 7565, 7620, 1144, 12186, 5323, 8919, 3613],\n",
       " 726: [10252, 7117, 7620, 3741, 13031, 7371, 13463, 10395, 441, 13988],\n",
       " 727: [5391, 7620, 4259, 7117, 1350, 3927, 1749, 6298, 6193, 727],\n",
       " 728: [10328, 3242, 4888, 10893, 8728, 5174, 5565, 6043, 2708, 14624],\n",
       " 729: [5121, 11689, 3147, 387, 4968, 11651, 2505, 12457, 452, 7546],\n",
       " 730: [8728, 1557, 8016, 3274, 5265, 10605, 13901, 6762, 7173, 730],\n",
       " 731: [11229, 12095, 3274, 3416, 9633, 13584, 6067, 6632, 12352, 12714],\n",
       " 732: [10893, 7440, 14731, 3274, 6875, 2229, 12284, 9810, 7480, 8562],\n",
       " 733: [12834, 7882, 12399, 8055, 2407, 8692, 11258, 482, 733, 8652],\n",
       " 734: [1464, 12874, 14824, 6745, 11229, 929, 734, 12050, 165, 4624],\n",
       " 735: [373, 14606, 14731, 7440, 8588, 11080, 1032, 1415, 11917, 14780],\n",
       " 736: [123, 2277, 3132, 10184, 9878, 9908, 14748, 5626, 736, 5890],\n",
       " 737: [10328, 2137, 3542, 1789, 70, 492, 4699, 6884, 10646, 13733],\n",
       " 738: [3980, 5341, 13595, 8055, 2407, 3998, 5595, 3770, 738, 10717],\n",
       " 739: [1993, 10893, 5265, 2365, 5561, 336, 739, 12281, 14463, 342],\n",
       " 740: [12591, 5118, 1503, 1350, 4259, 10155, 3676, 7285, 740, 3760],\n",
       " 741: [9878, 10184, 14962, 7975, 1953, 8519, 6868, 9485, 3574, 11046],\n",
       " 742: [9620, 387, 7440, 373, 14300, 6403, 742, 126, 13829, 4232],\n",
       " 743: [1953, 7563, 14811, 387, 10184, 5573, 4209, 3588, 8611, 6387],\n",
       " 744: [7440, 4888, 1789, 13503, 10328, 2952, 10446, 9269, 744, 6146],\n",
       " 745: [8075, 13503, 14731, 10032, 6656, 13895, 12227, 7778, 1889, 1982],\n",
       " 746: [7117, 13031, 10252, 1350, 7565, 8205, 7389, 3220, 6299, 3712],\n",
       " 747: [4834, 7506, 6823, 8055, 13595, 1942, 747, 8118, 14137, 8153],\n",
       " 748: [7117, 1350, 14824, 12095, 1464, 12322, 4418, 11169, 13354, 1685],\n",
       " 749: [10184, 2277, 2943, 10107, 9878, 7864, 13266, 9765, 7619, 7421],\n",
       " 750: [7440, 3274, 8575, 14300, 14731, 10711, 9751, 876, 750, 12598],\n",
       " 751: [4968, 2137, 4409, 1789, 14811, 11403, 11210, 7818, 1094, 6659],\n",
       " 752: [1695, 10328, 1789, 8207, 2137, 7942, 2684, 6765, 752, 54],\n",
       " 753: [1789, 10328, 11302, 8207, 9305, 9384, 9303, 14809, 5544, 3177],\n",
       " 754: [12834, 1208, 2407, 7882, 8055, 6889, 5784, 5808, 10112, 1843],\n",
       " 755: [3741, 7620, 7117, 7015, 13031, 12744, 6792, 3255, 10599, 7075],\n",
       " 756: [3416, 11229, 1464, 12874, 6745, 8993, 756, 9400, 11094, 3023],\n",
       " 757: [9310, 14731, 580, 14606, 7440, 3265, 1815, 1786, 13183, 14525],\n",
       " 758: [8575, 2365, 1557, 1993, 6875, 5571, 14463, 9254, 6104, 9990],\n",
       " 759: [8575, 6875, 8728, 8016, 3242, 12538, 10616, 759, 10785, 607],\n",
       " 760: [10893, 3274, 1789, 8575, 3242, 5426, 4295, 9705, 760, 14513],\n",
       " 761: [6875, 3274, 8728, 3242, 8016, 12203, 6092, 11766, 761, 6431],\n",
       " 762: [10893, 1557, 2546, 1993, 3274, 762, 104, 7555, 14074, 5399],\n",
       " 763: [5620, 1557, 373, 3274, 14731, 14890, 6266, 2573, 10497, 763],\n",
       " 764: [2186, 10523, 7866, 14824, 1464, 877, 7695, 11241, 11800, 13112],\n",
       " 765: [1847, 4637, 13503, 8575, 373, 14342, 3664, 13022, 6151, 6031],\n",
       " 766: [4023, 14824, 569, 6745, 9633, 766, 8650, 10475, 4639, 2242],\n",
       " 767: [7620, 9633, 1350, 7117, 4259, 8685, 12937, 10277, 11310, 5876],\n",
       " 768: [7620, 12874, 1464, 12095, 11229, 3630, 14041, 14127, 4390, 8357],\n",
       " 769: [2277, 4153, 7975, 5435, 1953, 12730, 4487, 2661, 14741, 1275],\n",
       " 770: [4153, 13304, 10184, 14962, 123, 4799, 710, 9185, 5835, 2019],\n",
       " 771: [5435, 14731, 14811, 7117, 14300, 10249, 6691, 9588, 3677, 4232],\n",
       " 772: [7440, 1847, 8075, 373, 8153, 772, 12138, 8040, 11104, 2593],\n",
       " 773: [2137, 1789, 1695, 4888, 5507, 773, 13062, 10991, 4933, 3459],\n",
       " 774: [10893, 5507, 1789, 11302, 3242, 1867, 11, 774, 12943, 13501],\n",
       " 775: [12095, 1464, 12874, 9633, 13595, 7529, 10350, 3964, 775, 11997],\n",
       " 776: [7440, 8153, 1847, 6656, 8075, 1550, 9329, 5635, 2162, 14579],\n",
       " 777: [8575, 8728, 3242, 10893, 3274, 10008, 1219, 797, 6800, 777],\n",
       " 778: [2277, 7975, 5435, 10184, 9878, 10131, 9847, 10397, 778, 2298],\n",
       " 779: [6656, 3716, 9310, 14300, 373, 14497, 9719, 779, 7882, 3649],\n",
       " 780: [4259, 7117, 1350, 10184, 12039, 13927, 7421, 7449, 1174, 8448],\n",
       " 781: [5435, 2943, 1953, 10184, 9878, 10869, 781, 10824, 10220, 10356],\n",
       " 782: [4259, 7117, 9878, 7620, 2277, 13762, 1109, 14205, 1349, 4562],\n",
       " 783: [4834, 12399, 3980, 5341, 7882, 12656, 3770, 12741, 2604, 411],\n",
       " 784: [3353, 12874, 3416, 12095, 11229, 3315, 12044, 784, 3269, 7333],\n",
       " 785: [11961, 14811, 11689, 13279, 387, 11540, 12009, 11764, 3634, 12814],\n",
       " 786: [12834, 6823, 5341, 2407, 4834, 834, 12587, 9550, 754, 12601],\n",
       " 787: [12591, 2392, 7117, 1350, 12039, 11723, 14644, 14237, 12524, 10709],\n",
       " 788: [8728, 6875, 3242, 8575, 1557, 14626, 11440, 11698, 5414, 2456],\n",
       " 789: [5576, 2137, 10328, 14811, 387, 6056, 789, 13051, 10888, 2080],\n",
       " 790: [4259, 3462, 75, 7620, 10077, 13382, 790, 13535, 3690, 11724],\n",
       " 791: [5341, 7882, 3980, 1208, 4834, 5637, 246, 9706, 12505, 14120],\n",
       " 792: [4888, 70, 8842, 1789, 916, 8962, 11508, 2991, 163, 3075],\n",
       " 793: [10893, 8016, 5561, 2365, 3274, 3860, 9451, 1732, 12498, 1653],\n",
       " 794: [10184, 9878, 5435, 5341, 6823, 97, 8912, 9833, 7399, 4676],\n",
       " 795: [1789, 10328, 3542, 11216, 2137, 3626, 8724, 13765, 1421, 14005],\n",
       " 796: [7975, 14962, 10184, 10107, 7563, 2453, 4120, 796, 7067, 4106],\n",
       " 797: [10893, 2365, 8728, 2546, 8016, 6524, 1898, 9870, 12521, 14054],\n",
       " 798: [13031, 10077, 13945, 4259, 7620, 798, 438, 2215, 6633, 1955],\n",
       " 799: [14731, 3716, 11977, 7440, 13503, 14957, 12483, 3874, 14708, 6196],\n",
       " 800: [9940, 11229, 9633, 4023, 3353, 12407, 12803, 3609, 2895, 8235],\n",
       " 801: [12874, 14824, 11229, 4259, 1350, 1926, 3811, 13324, 10640, 3498],\n",
       " 802: [10523, 7866, 14824, 12095, 2186, 4810, 39, 3914, 10556, 10206],\n",
       " 803: [8207, 11899, 1789, 3542, 4888, 12782, 1920, 10324, 2906, 8762],\n",
       " 804: [12095, 6745, 4023, 9633, 14824, 5134, 5640, 9959, 14369, 11923],\n",
       " 805: [12095, 11229, 7866, 10523, 9633, 5840, 13005, 6207, 8806, 9714],\n",
       " 806: [4625, 14811, 4409, 10325, 3147, 12131, 13341, 1660, 6411, 4668],\n",
       " 807: [12399, 5341, 12834, 6823, 1208, 6239, 8429, 10989, 807, 12491],\n",
       " 808: [1464, 9940, 12095, 14824, 12874, 4014, 11011, 808, 1919, 1600],\n",
       " 809: [2546, 6875, 3274, 8728, 10893, 11285, 9005, 11295, 809, 12816],\n",
       " 810: [14962, 10184, 2277, 5435, 3132, 11172, 3738, 810, 1145, 11157],\n",
       " 811: [5435, 2277, 3608, 14962, 1953, 9562, 9152, 4515, 9929, 1231],\n",
       " 812: [5103, 14731, 6656, 7440, 9310, 887, 867, 2901, 4053, 14973],\n",
       " 813: [1557, 5561, 8728, 10893, 2365, 2172, 4441, 813, 4119, 417],\n",
       " 814: [2546, 10893, 5265, 1557, 1993, 5730, 814, 12166, 1330, 1774],\n",
       " 815: [5391, 8542, 8474, 7620, 4259, 11986, 1334, 1572, 7330, 13424],\n",
       " 816: [11977, 8820, 14731, 580, 8588, 6711, 8482, 13731, 13362, 4435],\n",
       " 817: [8055, 7506, 7882, 6823, 5341, 4100, 11523, 5017, 14024, 384],\n",
       " 818: [11977, 14300, 1350, 4259, 7440, 4533, 12332, 6342, 13731, 10659],\n",
       " 819: [13595, 5341, 5435, 4259, 7117, 11695, 14051, 4189, 5495, 2265],\n",
       " 820: [10893, 14731, 8575, 373, 7440, 11240, 10446, 1250, 2706, 8913],\n",
       " 821: [7440, 580, 8588, 13503, 14731, 10618, 1004, 7099, 6081, 3550],\n",
       " 822: [14811, 13279, 4409, 11961, 4625, 8423, 8770, 8737, 822, 14299],\n",
       " 823: [14300, 11977, 14606, 7440, 14731, 13891, 6017, 10768, 904, 7824],\n",
       " 824: [5435, 10184, 10107, 3132, 1953, 3543, 13838, 5366, 6268, 6430],\n",
       " 825: [5620, 13503, 14606, 7440, 9310, 9587, 10854, 9470, 825, 9321],\n",
       " 826: [373, 580, 3716, 8820, 8588, 242, 11592, 2353, 5963, 14735],\n",
       " 827: [3274, 14300, 14811, 4968, 4409, 7328, 3597, 3065, 4447, 7480],\n",
       " 828: [2277, 5435, 7563, 3132, 2943, 8449, 7147, 2111, 10627, 5688],\n",
       " 829: [3608, 2277, 9878, 10184, 1953, 10968, 9383, 13994, 12995, 1616],\n",
       " 830: [5623, 11899, 4888, 1695, 2137, 3337, 6285, 4200, 830, 14523],\n",
       " 831: [4153, 123, 5435, 3132, 13304, 1999, 11703, 11754, 2728, 831],\n",
       " 832: [75, 1350, 10077, 6400, 4259, 832, 12923, 1419, 7828, 14828],\n",
       " 833: [7440, 14731, 9310, 13503, 14606, 4926, 11917, 4961, 9547, 3427],\n",
       " 834: [5341, 7506, 13595, 12834, 7882, 2304, 10603, 786, 834, 12587],\n",
       " 835: [3132, 10107, 1953, 9878, 7975, 835, 4106, 6733, 3743, 2012],\n",
       " 836: [1993, 3274, 8016, 1557, 6875, 5399, 8253, 12808, 9230, 11677],\n",
       " 837: [5265, 6875, 2546, 2365, 8575, 13952, 8377, 13345, 837, 1991],\n",
       " 838: [4259, 3619, 7565, 7117, 5118, 6231, 1335, 3970, 11733, 8292],\n",
       " 839: [2407, 13595, 3980, 12834, 4834, 11782, 5792, 839, 9632, 11572],\n",
       " 840: [7565, 4259, 2392, 1350, 5118, 6047, 840, 3115, 14260, 5969],\n",
       " 841: [582, 4259, 10252, 7565, 7117, 9097, 12437, 7835, 6273, 4819],\n",
       " 842: [3132, 1953, 7563, 14962, 2277, 8217, 7286, 11078, 10956, 11502],\n",
       " 843: [10328, 8842, 11899, 4888, 5623, 920, 3282, 8543, 11469, 13181],\n",
       " 844: [14824, 1464, 578, 12095, 11229, 6109, 4043, 7716, 844, 12586],\n",
       " 845: [12834, 12399, 2407, 13595, 8055, 2468, 2085, 1500, 11347, 8188],\n",
       " 846: [10328, 8207, 4888, 5576, 387, 5339, 7643, 4300, 3942, 846],\n",
       " 847: [4968, 12933, 1528, 10839, 14811, 13560, 6152, 8173, 3793, 2929],\n",
       " 848: [10328, 1789, 13595, 3542, 4834, 8918, 5063, 848, 9151, 5712],\n",
       " 849: [7620, 4259, 1464, 12095, 11229, 1337, 12056, 1588, 12649, 11349],\n",
       " 850: [5435, 4153, 1953, 13304, 10107, 3884, 14774, 9077, 7508, 14011],\n",
       " 851: [14731, 10893, 13503, 7440, 8575, 9810, 10517, 5429, 12149, 851],\n",
       " 852: [8575, 5507, 10328, 3274, 8728, 6776, 852, 12846, 14187, 1581],\n",
       " 853: [5620, 373, 7440, 13503, 10032, 853, 8231, 12032, 9438, 8626],\n",
       " 854: [10328, 2137, 5507, 1695, 1789, 12331, 445, 6051, 13607, 7842],\n",
       " 855: [1350, 9633, 1464, 4259, 11229, 251, 12888, 11077, 4488, 11486],\n",
       " 856: [123, 10184, 13304, 2277, 4153, 9016, 14361, 3162, 8599, 5340],\n",
       " 857: [1503, 2392, 12591, 4259, 7620, 1645, 2441, 857, 5672, 6490],\n",
       " 858: [569, 12095, 14824, 11229, 6745, 14253, 506, 9076, 9160, 10807],\n",
       " 859: [5507, 10328, 11216, 9305, 2137, 310, 9057, 3901, 7787, 488],\n",
       " 860: [14824, 1464, 4834, 11229, 12874, 9173, 14026, 7332, 4847, 3469],\n",
       " 861: [8075, 6656, 373, 1847, 4637, 2778, 462, 4861, 14858, 10198],\n",
       " 862: [7015, 1503, 5118, 12039, 1350, 13896, 8754, 13128, 14241, 13521],\n",
       " 863: [3274, 8575, 5561, 1993, 3242, 6155, 10151, 7652, 5005, 6090],\n",
       " 864: [10252, 7620, 3741, 12591, 7117, 893, 4190, 14365, 864, 11049],\n",
       " 865: [7117, 5391, 8474, 8542, 10077, 865, 1599, 6298, 6193, 1461],\n",
       " 866: [10184, 7563, 5435, 1953, 10107, 8776, 1187, 1277, 12266, 6313],\n",
       " 867: [14731, 10032, 13503, 7440, 373, 2901, 887, 4087, 1404, 266],\n",
       " 868: [916, 2137, 11216, 10328, 5623, 868, 8551, 11603, 8920, 5469],\n",
       " 869: [1350, 10184, 9878, 5435, 4259, 5142, 144, 4109, 10968, 12711],\n",
       " 870: [373, 8820, 7440, 5103, 9310, 2842, 3369, 14133, 3915, 7242],\n",
       " 871: [4888, 916, 1789, 3542, 11899, 11483, 5155, 12372, 2829, 871],\n",
       " 872: [70, 1789, 3542, 10328, 5623, 3480, 13300, 11827, 10985, 4122],\n",
       " 873: [4259, 3132, 9878, 5435, 1350, 7873, 11556, 2606, 5924, 13243],\n",
       " 874: [1208, 4834, 7506, 6823, 5341, 7591, 2611, 5348, 5407, 14450],\n",
       " 875: [7117, 5118, 582, 7620, 4259, 5062, 6910, 7114, 12607, 448],\n",
       " 876: [3274, 14731, 13503, 8153, 14300, 14232, 6301, 13931, 876, 6824],\n",
       " 877: [12874, 12095, 2186, 1464, 14824, 877, 7695, 133, 13112, 11241],\n",
       " 878: [10328, 2137, 9305, 1789, 1695, 1011, 10696, 4747, 12797, 12580],\n",
       " 879: [12031, 14300, 3716, 373, 14731, 7713, 11368, 13663, 5122, 10366],\n",
       " 880: [10839, 9620, 1528, 3783, 14811, 880, 2383, 2590, 1158, 8432],\n",
       " 881: [4834, 12095, 13595, 5341, 1464, 13558, 1365, 11695, 2954, 881],\n",
       " 882: [1208, 7506, 6823, 12834, 5097, 4797, 12063, 1356, 1447, 3525],\n",
       " 883: [14731, 14300, 8820, 11977, 12031, 4729, 13484, 10588, 883, 4526],\n",
       " 884: [1789, 2137, 11899, 4888, 10328, 884, 13254, 11067, 7197, 4761],\n",
       " 885: [10107, 2943, 13304, 1953, 10184, 14917, 11410, 2751, 5718, 11251],\n",
       " 886: [1350, 4259, 75, 10077, 5391, 608, 886, 8566, 1547, 2074],\n",
       " 887: [14300, 14731, 9310, 14606, 7440, 7165, 120, 12781, 887, 9489],\n",
       " 888: [5576, 4968, 387, 4192, 7164, 6934, 3629, 12178, 204, 8379],\n",
       " 889: [5265, 2546, 8728, 5561, 10893, 5147, 6003, 10879, 13720, 9891],\n",
       " 890: [4637, 13503, 10032, 14300, 6656, 11104, 4151, 4632, 890, 772],\n",
       " 891: [5341, 5097, 12834, 7882, 3980, 8024, 3578, 6516, 6743, 13215],\n",
       " 892: [5620, 13503, 6656, 3716, 8153, 4785, 6020, 5171, 7819, 14870],\n",
       " 893: [582, 3741, 13945, 7620, 10252, 893, 12584, 13261, 12991, 864],\n",
       " 894: [13595, 8055, 6823, 7506, 4834, 11659, 13311, 894, 8294, 9619],\n",
       " 895: [4259, 10252, 7117, 582, 13945, 6802, 11217, 244, 8487, 1798],\n",
       " 896: [9878, 1953, 3132, 3608, 2277, 0, 14854, 896, 8053, 13085],\n",
       " 897: [2546, 3274, 8575, 10893, 8016, 14384, 3825, 1724, 4350, 897],\n",
       " 898: [2137, 4888, 14811, 1789, 4409, 12682, 2432, 9396, 4161, 11911],\n",
       " 899: [1464, 1350, 12095, 7620, 11229, 12020, 9414, 2955, 1028, 5721],\n",
       " 900: [7440, 1847, 5103, 14300, 373, 8880, 13837, 11177, 9023, 8742],\n",
       " 901: [2137, 5623, 70, 11899, 8207, 5403, 7024, 1750, 10133, 14692],\n",
       " 902: [3980, 1208, 12399, 2407, 12834, 6060, 902, 10557, 3385, 11952],\n",
       " 903: [1789, 4888, 5507, 10328, 8575, 13910, 5426, 4172, 3426, 7568],\n",
       " 904: [13503, 580, 14300, 11977, 14731, 8890, 6258, 8178, 3896, 3233],\n",
       " 905: [6875, 1993, 8575, 5561, 3274, 14904, 4896, 2472, 10315, 5203],\n",
       " 906: [8728, 4888, 10893, 10328, 2137, 13901, 7650, 6085, 3483, 14466],\n",
       " 907: [4968, 14731, 7440, 13503, 14606, 9789, 10246, 576, 907, 6041],\n",
       " 908: [1350, 7563, 9878, 7117, 12834, 908, 4189, 10118, 11695, 5495],\n",
       " 909: [1789, 14811, 4968, 10328, 4409, 14355, 909, 3706, 4300, 3942],\n",
       " 910: [12834, 5341, 4834, 1464, 12874, 9654, 910, 3609, 13353, 9866],\n",
       " 911: [7620, 3741, 10252, 7565, 582, 2992, 2106, 6835, 1998, 11077],\n",
       " 912: [8075, 7440, 10032, 13503, 14300, 11990, 5768, 912, 13623, 552],\n",
       " 913: [2392, 1503, 12039, 7620, 7565, 12337, 6161, 11829, 13533, 913],\n",
       " 914: [12399, 13595, 5097, 4834, 6823, 4107, 7928, 6217, 523, 5066],\n",
       " 915: [387, 14811, 3862, 11961, 4409, 4518, 915, 10542, 4023, 1679],\n",
       " 916: [8474, 7620, 7117, 6400, 10077, 11216, 6493, 8842, 3765, 70],\n",
       " 917: [6745, 11229, 1464, 12095, 14824, 7628, 300, 11726, 7496, 6074],\n",
       " 918: [8575, 2137, 5507, 1789, 4888, 3501, 918, 10678, 14430, 12875],\n",
       " 919: [12399, 7882, 5097, 3980, 12834, 1356, 9176, 12922, 12406, 2572],\n",
       " 920: [8842, 70, 3542, 1789, 11899, 3282, 9604, 14157, 7383, 12090],\n",
       " 921: [5097, 8055, 6823, 13595, 1208, 6725, 14625, 14304, 921, 13211],\n",
       " 922: [3862, 3783, 4968, 10839, 9620, 528, 9293, 6833, 5801, 10962],\n",
       " 923: [7563, 5435, 1350, 10184, 7117, 11752, 1105, 5550, 7279, 869],\n",
       " 924: [7563, 9878, 10184, 5435, 7975, 2290, 14876, 4425, 2039, 8032],\n",
       " 925: [7117, 7620, 1350, 10077, 6400, 10064, 11596, 9518, 3639, 3271],\n",
       " 926: [9620, 1528, 4409, 14811, 4968, 2694, 5794, 12500, 10255, 13559],\n",
       " 927: [387, 4968, 7164, 4192, 1528, 8039, 927, 12075, 2323, 10900],\n",
       " 928: [9633, 4518, 12874, 14824, 4023, 7973, 9717, 11255, 9704, 9876],\n",
       " 929: [6745, 9633, 4023, 14824, 12095, 929, 44, 7239, 734, 4624],\n",
       " 930: [5507, 3542, 2137, 10328, 11216, 13167, 490, 10583, 10014, 930],\n",
       " 931: [1695, 1789, 2137, 8207, 916, 11333, 931, 9183, 9728, 2545],\n",
       " 932: [10077, 7620, 7117, 6400, 75, 134, 13749, 8317, 4426, 691],\n",
       " 933: [12834, 7506, 7882, 4834, 5341, 11542, 8828, 9942, 1830, 3223],\n",
       " 934: [8575, 6875, 3274, 10893, 1557, 8119, 11903, 3683, 11160, 4896],\n",
       " 935: [4409, 387, 14811, 373, 14300, 9281, 10462, 3375, 7432, 3153],\n",
       " 936: [10107, 2277, 5435, 7563, 10184, 1613, 231, 9929, 12384, 6949],\n",
       " 937: [9940, 4023, 14824, 3353, 9633, 2867, 5091, 225, 9704, 937],\n",
       " 938: [8153, 6656, 8075, 7440, 14300, 14632, 13831, 8657, 11039, 772],\n",
       " 939: [4192, 4968, 4409, 10325, 387, 3432, 6391, 12169, 14536, 11674],\n",
       " 940: [8075, 14300, 6656, 13503, 5620, 14831, 14255, 12059, 7898, 8657],\n",
       " 941: [5576, 4409, 14811, 2137, 4382, 3336, 9384, 7725, 11113, 4694],\n",
       " 942: [4153, 10184, 13304, 1953, 10107, 5658, 13614, 7434, 2887, 11933],\n",
       " 943: [8016, 5561, 8728, 3274, 10893, 7951, 1073, 10140, 2608, 13677],\n",
       " 944: [12399, 12834, 6823, 7506, 4834, 6069, 523, 1817, 944, 13785],\n",
       " 945: [4968, 3862, 10839, 387, 3783, 12453, 52, 11625, 2208, 4233],\n",
       " 946: [7440, 4409, 14731, 373, 387, 8361, 8761, 12779, 13162, 946],\n",
       " 947: [7563, 4409, 14811, 4968, 1953, 8466, 8963, 665, 6176, 4621],\n",
       " 948: [5507, 9305, 1789, 4888, 10328, 5534, 13397, 3470, 13394, 13858],\n",
       " 949: [4888, 2137, 70, 916, 10328, 8679, 4088, 168, 949, 1878],\n",
       " 950: [1350, 8474, 7620, 10077, 10252, 4588, 14509, 12510, 11219, 10872],\n",
       " 951: [7563, 5435, 9878, 7975, 10107, 951, 5762, 1683, 10478, 12139],\n",
       " 952: [14811, 5435, 4968, 7563, 5121, 952, 9974, 11852, 10658, 6797],\n",
       " 953: [5097, 1208, 12834, 4834, 13595, 3596, 9702, 10074, 13867, 7817],\n",
       " 954: [4968, 3783, 3862, 387, 12933, 13936, 5001, 5002, 954, 7724],\n",
       " 955: [12095, 14824, 4834, 5341, 13595, 955, 13123, 12973, 1267, 8859],\n",
       " 956: [4409, 1721, 10839, 3783, 1528, 956, 4272, 11393, 13793, 6476],\n",
       " 957: [14962, 3608, 2943, 5435, 7975, 9164, 11866, 957, 14273, 14131],\n",
       " 958: [9633, 7866, 1464, 12095, 12874, 9531, 4789, 7997, 9320, 4862],\n",
       " 959: [4834, 12834, 1208, 13595, 8055, 14959, 2154, 7841, 14166, 254],\n",
       " 960: [9878, 1953, 4834, 12834, 7563, 7532, 11700, 8222, 960, 8788],\n",
       " 961: [7117, 12874, 1350, 9633, 11229, 2918, 10967, 4374, 7437, 961],\n",
       " 962: [7117, 1503, 1350, 4259, 5118, 14838, 962, 9745, 2799, 3238],\n",
       " 963: [12399, 5341, 4834, 8055, 12834, 8784, 9723, 6736, 2762, 6469],\n",
       " 964: [14811, 1953, 387, 9878, 5435, 5087, 9847, 964, 13162, 271],\n",
       " 965: [14300, 373, 4637, 7440, 14731, 6365, 965, 4861, 11592, 14858],\n",
       " 966: [11229, 8575, 14824, 9633, 1464, 277, 4380, 10941, 12472, 966],\n",
       " 967: [7975, 3132, 4153, 10184, 7563, 5748, 7046, 967, 11934, 14341],\n",
       " 968: [10523, 2186, 9633, 12874, 3353, 968, 1207, 12336, 1489, 10232],\n",
       " 969: [5561, 10893, 14300, 13503, 14731, 8874, 7194, 7596, 10713, 732],\n",
       " 970: [4192, 4625, 4968, 13279, 10325, 14661, 14979, 6826, 970, 14961],\n",
       " 971: [14731, 4637, 13503, 5620, 1847, 14311, 9492, 14890, 5412, 8318],\n",
       " 972: [11899, 8207, 70, 9305, 4888, 13409, 972, 9444, 5081, 8564],\n",
       " 973: [9633, 12874, 12095, 11229, 1464, 12187, 2553, 14648, 14473, 14698],\n",
       " 974: [14731, 14606, 8075, 9310, 14300, 974, 2125, 1837, 11096, 8316],\n",
       " 975: [10184, 3608, 9878, 1953, 5435, 9335, 11146, 42, 2278, 9811],\n",
       " 976: [5097, 7506, 6823, 5341, 13595, 14975, 2997, 6165, 5896, 11542],\n",
       " 977: [10107, 14962, 5435, 10184, 3132, 8263, 10490, 977, 1731, 13583],\n",
       " 978: [4888, 12834, 10328, 2137, 12399, 5063, 335, 848, 10602, 8918],\n",
       " 979: [5265, 8575, 2546, 8016, 2365, 2460, 6639, 4028, 2910, 6043],\n",
       " 980: [11229, 12874, 13595, 5341, 12095, 11982, 161, 980, 5239, 13369],\n",
       " 981: [2407, 5341, 6823, 13595, 12399, 7352, 981, 3170, 2709, 8030],\n",
       " 982: [13031, 3741, 4259, 1350, 5118, 14663, 1079, 3210, 4027, 982],\n",
       " 983: [14824, 1464, 14090, 11229, 3353, 4192, 983, 13230, 4382, 3905],\n",
       " 984: [4259, 11229, 3274, 9633, 7620, 355, 6459, 984, 7673, 14104],\n",
       " 985: [3416, 4518, 12874, 6745, 569, 702, 3096, 14009, 4714, 8719],\n",
       " 986: [10328, 11216, 11899, 4888, 1789, 14444, 3447, 26, 14244, 12257],\n",
       " 987: [14731, 7440, 4637, 13503, 373, 9084, 12059, 6761, 13831, 1534],\n",
       " 988: [10328, 4382, 4968, 2137, 4888, 5264, 220, 988, 4627, 553],\n",
       " 989: [2546, 10893, 12874, 8575, 1464, 14169, 2221, 10048, 8545, 13206],\n",
       " 990: [2546, 8575, 2365, 10893, 6875, 990, 11220, 2820, 1531, 6442],\n",
       " 991: [4625, 4409, 4968, 11689, 387, 14299, 991, 1679, 10542, 7470],\n",
       " 992: [3716, 8820, 7440, 14300, 13503, 8799, 3175, 8018, 12112, 2594],\n",
       " 993: [5561, 8575, 3274, 3242, 5265, 6593, 539, 8354, 993, 6146],\n",
       " 994: [1789, 5507, 11302, 2137, 8207, 4709, 994, 5057, 14993, 1810],\n",
       " 995: [5620, 13503, 7440, 1847, 8153, 12353, 14500, 11568, 9649, 7365],\n",
       " 996: [123, 7975, 7563, 10184, 2277, 13059, 1917, 3797, 7569, 996],\n",
       " 997: [1208, 2407, 5341, 3980, 13595, 11318, 4485, 9273, 2247, 4884],\n",
       " 998: [10184, 1350, 9878, 7117, 3608, 11147, 6223, 10287, 10065, 14907],\n",
       " 999: [12591, 7015, 7620, 12039, 8474, 7452, 6893, 14224, 9325, 13271],\n",
       " ...}"
      ]
     },
     "execution_count": 377,
     "metadata": {},
     "output_type": "execute_result"
    }
   ],
   "source": [
    "t_sw_gr"
   ]
  },
  {
   "cell_type": "code",
   "execution_count": 343,
   "metadata": {},
   "outputs": [
    {
     "data": {
      "text/plain": [
       "False"
      ]
     },
     "execution_count": 343,
     "metadata": {},
     "output_type": "execute_result"
    }
   ],
   "source": [
    "np.Inf < 1"
   ]
  },
  {
   "cell_type": "code",
   "execution_count": 407,
   "metadata": {},
   "outputs": [
    {
     "data": {
      "text/plain": [
       "array([1])"
      ]
     },
     "execution_count": 407,
     "metadata": {},
     "output_type": "execute_result"
    }
   ],
   "source": [
    "np.setdiff1d([1,2,3], [2,3,4])"
   ]
  },
  {
   "cell_type": "code",
   "execution_count": 418,
   "metadata": {},
   "outputs": [
    {
     "data": {
      "text/plain": [
       "1"
      ]
     },
     "execution_count": 418,
     "metadata": {},
     "output_type": "execute_result"
    }
   ],
   "source": [
    "np.min(np.array((4,1,2,3)).reshape(-1,1))"
   ]
  },
  {
   "cell_type": "code",
   "execution_count": 444,
   "metadata": {},
   "outputs": [
    {
     "name": "stdout",
     "output_type": "stream",
     "text": [
      "ok\n"
     ]
    }
   ],
   "source": [
    "if (np.min(np.array((1,2,3)).reshape(-1,1)) < np.array((4))) and ([1,2]):\n",
    "    print('ok')"
   ]
  },
  {
   "cell_type": "code",
   "execution_count": 73,
   "metadata": {},
   "outputs": [
    {
     "data": {
      "text/plain": [
       "array([0, 3, 4])"
      ]
     },
     "execution_count": 73,
     "metadata": {},
     "output_type": "execute_result"
    }
   ],
   "source": [
    "np.setdiff1d(range(5), (1,2))"
   ]
  },
  {
   "cell_type": "code",
   "execution_count": 86,
   "metadata": {},
   "outputs": [
    {
     "data": {
      "text/plain": [
       "array([4])"
      ]
     },
     "execution_count": 86,
     "metadata": {},
     "output_type": "execute_result"
    }
   ],
   "source": [
    "np.random.choice(np.setdiff1d(range(5), (1,2)), 1)"
   ]
  },
  {
   "cell_type": "code",
   "execution_count": 108,
   "metadata": {},
   "outputs": [],
   "source": [
    "# np.min(new_distances)\n"
   ]
  },
  {
   "cell_type": "code",
   "execution_count": 140,
   "metadata": {},
   "outputs": [],
   "source": [
    "t_aa = []\n",
    "t_dd = dict()"
   ]
  },
  {
   "cell_type": "code",
   "execution_count": 138,
   "metadata": {},
   "outputs": [
    {
     "name": "stdout",
     "output_type": "stream",
     "text": [
      "84.8 ns ± 6.73 ns per loop (mean ± std. dev. of 7 runs, 10000000 loops each)\n"
     ]
    }
   ],
   "source": [
    "%timeit t_aa.append(1)"
   ]
  },
  {
   "cell_type": "code",
   "execution_count": 141,
   "metadata": {},
   "outputs": [
    {
     "name": "stdout",
     "output_type": "stream",
     "text": [
      "62.7 ns ± 3.98 ns per loop (mean ± std. dev. of 7 runs, 10000000 loops each)\n"
     ]
    }
   ],
   "source": [
    "%timeit t_dd[1] = True"
   ]
  },
  {
   "cell_type": "code",
   "execution_count": 148,
   "metadata": {},
   "outputs": [],
   "source": [
    "t_ar = np.array(range(1000)).tolist()"
   ]
  },
  {
   "cell_type": "code",
   "execution_count": 149,
   "metadata": {},
   "outputs": [
    {
     "name": "stdout",
     "output_type": "stream",
     "text": [
      "1.51 µs ± 136 ns per loop (mean ± std. dev. of 7 runs, 1000000 loops each)\n"
     ]
    }
   ],
   "source": [
    "%timeit 100 in t_ar"
   ]
  },
  {
   "cell_type": "code",
   "execution_count": 161,
   "metadata": {},
   "outputs": [],
   "source": [
    "dfd0 = defaultdict()\n",
    "dfd0[1] = True"
   ]
  },
  {
   "cell_type": "code",
   "execution_count": 162,
   "metadata": {},
   "outputs": [
    {
     "data": {
      "text/plain": [
       "defaultdict(None, {1: True})"
      ]
     },
     "execution_count": 162,
     "metadata": {},
     "output_type": "execute_result"
    }
   ],
   "source": [
    "dfd0"
   ]
  },
  {
   "cell_type": "code",
   "execution_count": 178,
   "metadata": {},
   "outputs": [
    {
     "data": {
      "text/plain": [
       "dict_keys([1])"
      ]
     },
     "execution_count": 178,
     "metadata": {},
     "output_type": "execute_result"
    }
   ],
   "source": [
    "dfd0.keys()"
   ]
  },
  {
   "cell_type": "code",
   "execution_count": 165,
   "metadata": {},
   "outputs": [
    {
     "data": {
      "text/plain": [
       "True"
      ]
     },
     "execution_count": 165,
     "metadata": {},
     "output_type": "execute_result"
    }
   ],
   "source": [
    "1 in dfd0.keys()"
   ]
  },
  {
   "cell_type": "code",
   "execution_count": 166,
   "metadata": {},
   "outputs": [
    {
     "data": {
      "text/plain": [
       "True"
      ]
     },
     "execution_count": 166,
     "metadata": {},
     "output_type": "execute_result"
    }
   ],
   "source": [
    "1 in dfd0"
   ]
  },
  {
   "cell_type": "code",
   "execution_count": 167,
   "metadata": {},
   "outputs": [
    {
     "data": {
      "text/plain": [
       "False"
      ]
     },
     "execution_count": 167,
     "metadata": {},
     "output_type": "execute_result"
    }
   ],
   "source": [
    "2 in dfd0"
   ]
  },
  {
   "cell_type": "code",
   "execution_count": 168,
   "metadata": {},
   "outputs": [
    {
     "data": {
      "text/plain": [
       "array([0, 1, 2])"
      ]
     },
     "execution_count": 168,
     "metadata": {},
     "output_type": "execute_result"
    }
   ],
   "source": [
    "np.setdiff1d(range(3), dfd0)"
   ]
  },
  {
   "cell_type": "code",
   "execution_count": 181,
   "metadata": {},
   "outputs": [
    {
     "name": "stdout",
     "output_type": "stream",
     "text": [
      "44.7 µs ± 4.99 µs per loop (mean ± std. dev. of 7 runs, 10000 loops each)\n"
     ]
    }
   ],
   "source": [
    "%timeit np.setdiff1d(range(3), list(dfd0.keys()))"
   ]
  },
  {
   "cell_type": "code",
   "execution_count": 182,
   "metadata": {},
   "outputs": [
    {
     "name": "stdout",
     "output_type": "stream",
     "text": [
      "48.3 µs ± 4.29 µs per loop (mean ± std. dev. of 7 runs, 10000 loops each)\n"
     ]
    }
   ],
   "source": [
    "%timeit np.setdiff1d(range(3), dfd0.keys())"
   ]
  },
  {
   "cell_type": "code",
   "execution_count": 183,
   "metadata": {},
   "outputs": [
    {
     "name": "stdout",
     "output_type": "stream",
     "text": [
      "40.9 µs ± 4.29 µs per loop (mean ± std. dev. of 7 runs, 10000 loops each)\n"
     ]
    }
   ],
   "source": [
    "%timeit np.setdiff1d(range(3), 1)"
   ]
  },
  {
   "cell_type": "code",
   "execution_count": 172,
   "metadata": {},
   "outputs": [
    {
     "data": {
      "text/plain": [
       "array([0, 2])"
      ]
     },
     "execution_count": 172,
     "metadata": {},
     "output_type": "execute_result"
    }
   ],
   "source": [
    "np.setdiff1d(range(3), [1])"
   ]
  },
  {
   "cell_type": "code",
   "execution_count": 194,
   "metadata": {},
   "outputs": [
    {
     "name": "stdout",
     "output_type": "stream",
     "text": [
      "0\n"
     ]
    }
   ],
   "source": [
    "for i in range(10):\n",
    "    if True:\n",
    "        print(i)\n",
    "        if True:\n",
    "            break"
   ]
  },
  {
   "cell_type": "code",
   "execution_count": 294,
   "metadata": {},
   "outputs": [
    {
     "name": "stdout",
     "output_type": "stream",
     "text": [
      "0\n",
      "1\n",
      "2\n",
      "3\n",
      "4\n",
      "5\n",
      "6\n",
      "7\n",
      "8\n",
      "9\n",
      "109\n"
     ]
    }
   ],
   "source": [
    "for i in range(10):\n",
    "    if True:\n",
    "        print(i)\n",
    "else:\n",
    "    print(i + 100)"
   ]
  },
  {
   "cell_type": "code",
   "execution_count": 305,
   "metadata": {},
   "outputs": [],
   "source": [
    "dfd0[2] = 5"
   ]
  },
  {
   "cell_type": "code",
   "execution_count": 306,
   "metadata": {},
   "outputs": [
    {
     "data": {
      "text/plain": [
       "2"
      ]
     },
     "execution_count": 306,
     "metadata": {},
     "output_type": "execute_result"
    }
   ],
   "source": [
    "len(dfd0)"
   ]
  },
  {
   "cell_type": "code",
   "execution_count": 314,
   "metadata": {},
   "outputs": [
    {
     "data": {
      "text/plain": [
       "array([0, 1])"
      ]
     },
     "execution_count": 314,
     "metadata": {},
     "output_type": "execute_result"
    }
   ],
   "source": [
    "# np.sort(dfd0)\n",
    "np.argsort(list(dfd0.values()))"
   ]
  },
  {
   "cell_type": "code",
   "execution_count": 419,
   "metadata": {},
   "outputs": [
    {
     "name": "stdout",
     "output_type": "stream",
     "text": [
      "41.8 µs ± 3.76 µs per loop (mean ± std. dev. of 7 runs, 10000 loops each)\n"
     ]
    }
   ],
   "source": [
    "%timeit np.random.choice(range(100), 1)"
   ]
  },
  {
   "cell_type": "code",
   "execution_count": 421,
   "metadata": {},
   "outputs": [
    {
     "name": "stdout",
     "output_type": "stream",
     "text": [
      "156 µs ± 7.02 µs per loop (mean ± std. dev. of 7 runs, 10000 loops each)\n"
     ]
    }
   ],
   "source": [
    "%timeit np.random.choice(range(1000), 1)"
   ]
  },
  {
   "cell_type": "code",
   "execution_count": 423,
   "metadata": {},
   "outputs": [
    {
     "name": "stdout",
     "output_type": "stream",
     "text": [
      "1.38 ms ± 81.1 µs per loop (mean ± std. dev. of 7 runs, 1000 loops each)\n"
     ]
    }
   ],
   "source": [
    "%timeit np.random.choice(range(10000), 1)"
   ]
  },
  {
   "cell_type": "code",
   "execution_count": 420,
   "metadata": {},
   "outputs": [
    {
     "name": "stdout",
     "output_type": "stream",
     "text": [
      "3.69 µs ± 348 ns per loop (mean ± std. dev. of 7 runs, 100000 loops each)\n"
     ]
    }
   ],
   "source": [
    "%timeit np.random.randint(0, 100)"
   ]
  },
  {
   "cell_type": "code",
   "execution_count": 422,
   "metadata": {},
   "outputs": [
    {
     "name": "stdout",
     "output_type": "stream",
     "text": [
      "3.84 µs ± 339 ns per loop (mean ± std. dev. of 7 runs, 100000 loops each)\n"
     ]
    }
   ],
   "source": [
    "%timeit np.random.randint(0, 1000)"
   ]
  },
  {
   "cell_type": "code",
   "execution_count": null,
   "metadata": {},
   "outputs": [],
   "source": []
  },
  {
   "cell_type": "code",
   "execution_count": null,
   "metadata": {},
   "outputs": [],
   "source": []
  },
  {
   "cell_type": "code",
   "execution_count": null,
   "metadata": {},
   "outputs": [],
   "source": []
  },
  {
   "cell_type": "code",
   "execution_count": null,
   "metadata": {},
   "outputs": [],
   "source": []
  },
  {
   "cell_type": "code",
   "execution_count": null,
   "metadata": {},
   "outputs": [],
   "source": []
  },
  {
   "cell_type": "code",
   "execution_count": null,
   "metadata": {},
   "outputs": [],
   "source": []
  },
  {
   "cell_type": "code",
   "execution_count": null,
   "metadata": {},
   "outputs": [],
   "source": []
  },
  {
   "cell_type": "code",
   "execution_count": null,
   "metadata": {},
   "outputs": [],
   "source": []
  },
  {
   "cell_type": "code",
   "execution_count": null,
   "metadata": {},
   "outputs": [],
   "source": []
  },
  {
   "cell_type": "code",
   "execution_count": null,
   "metadata": {},
   "outputs": [],
   "source": []
  },
  {
   "cell_type": "code",
   "execution_count": null,
   "metadata": {},
   "outputs": [],
   "source": []
  },
  {
   "cell_type": "code",
   "execution_count": null,
   "metadata": {},
   "outputs": [],
   "source": []
  },
  {
   "cell_type": "code",
   "execution_count": null,
   "metadata": {},
   "outputs": [],
   "source": []
  },
  {
   "cell_type": "code",
   "execution_count": null,
   "metadata": {},
   "outputs": [],
   "source": []
  },
  {
   "cell_type": "code",
   "execution_count": null,
   "metadata": {},
   "outputs": [],
   "source": []
  },
  {
   "cell_type": "code",
   "execution_count": null,
   "metadata": {},
   "outputs": [],
   "source": []
  },
  {
   "cell_type": "code",
   "execution_count": null,
   "metadata": {},
   "outputs": [],
   "source": []
  }
 ],
 "metadata": {
  "kernelspec": {
   "display_name": "Python 3",
   "language": "python",
   "name": "python3"
  },
  "language_info": {
   "codemirror_mode": {
    "name": "ipython",
    "version": 3
   },
   "file_extension": ".py",
   "mimetype": "text/x-python",
   "name": "python",
   "nbconvert_exporter": "python",
   "pygments_lexer": "ipython3",
   "version": "3.7.3"
  },
  "toc": {
   "base_numbering": 1,
   "nav_menu": {},
   "number_sections": true,
   "sideBar": true,
   "skip_h1_title": false,
   "title_cell": "Table of Contents",
   "title_sidebar": "Contents",
   "toc_cell": false,
   "toc_position": {
    "height": "calc(100% - 180px)",
    "left": "10px",
    "top": "150px",
    "width": "165px"
   },
   "toc_section_display": true,
   "toc_window_display": true
  },
  "varInspector": {
   "cols": {
    "lenName": 16,
    "lenType": 16,
    "lenVar": 40
   },
   "kernels_config": {
    "python": {
     "delete_cmd_postfix": "",
     "delete_cmd_prefix": "del ",
     "library": "var_list.py",
     "varRefreshCmd": "print(var_dic_list())"
    },
    "r": {
     "delete_cmd_postfix": ") ",
     "delete_cmd_prefix": "rm(",
     "library": "var_list.r",
     "varRefreshCmd": "cat(var_dic_list()) "
    }
   },
   "types_to_exclude": [
    "module",
    "function",
    "builtin_function_or_method",
    "instance",
    "_Feature"
   ],
   "window_display": false
  }
 },
 "nbformat": 4,
 "nbformat_minor": 4
}
