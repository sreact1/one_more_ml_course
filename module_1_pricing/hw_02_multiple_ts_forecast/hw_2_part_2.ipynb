{
 "cells": [
  {
   "cell_type": "code",
   "execution_count": 22,
   "metadata": {},
   "outputs": [],
   "source": [
    "import pandas as pd\n",
    "import numpy as np\n",
    "import matplotlib.pyplot as plt\n",
    "import seaborn as sns"
   ]
  },
  {
   "cell_type": "code",
   "execution_count": null,
   "metadata": {},
   "outputs": [],
   "source": []
  },
  {
   "cell_type": "code",
   "execution_count": 217,
   "metadata": {},
   "outputs": [
    {
     "data": {
      "text/html": [
       "<div>\n",
       "<style scoped>\n",
       "    .dataframe tbody tr th:only-of-type {\n",
       "        vertical-align: middle;\n",
       "    }\n",
       "\n",
       "    .dataframe tbody tr th {\n",
       "        vertical-align: top;\n",
       "    }\n",
       "\n",
       "    .dataframe thead th {\n",
       "        text-align: right;\n",
       "    }\n",
       "</style>\n",
       "<table border=\"1\" class=\"dataframe\">\n",
       "  <thead>\n",
       "    <tr style=\"text-align: right;\">\n",
       "      <th></th>\n",
       "      <th>dates</th>\n",
       "      <th>SKU</th>\n",
       "    </tr>\n",
       "  </thead>\n",
       "  <tbody>\n",
       "    <tr>\n",
       "      <th>0</th>\n",
       "      <td>2018-12-17</td>\n",
       "      <td>98255</td>\n",
       "    </tr>\n",
       "    <tr>\n",
       "      <th>1</th>\n",
       "      <td>2018-12-21</td>\n",
       "      <td>98255</td>\n",
       "    </tr>\n",
       "    <tr>\n",
       "      <th>2</th>\n",
       "      <td>2018-12-22</td>\n",
       "      <td>98255</td>\n",
       "    </tr>\n",
       "    <tr>\n",
       "      <th>3</th>\n",
       "      <td>2018-12-23</td>\n",
       "      <td>98255</td>\n",
       "    </tr>\n",
       "    <tr>\n",
       "      <th>4</th>\n",
       "      <td>2018-12-24</td>\n",
       "      <td>98255</td>\n",
       "    </tr>\n",
       "  </tbody>\n",
       "</table>\n",
       "</div>"
      ],
      "text/plain": [
       "        dates    SKU\n",
       "0  2018-12-17  98255\n",
       "1  2018-12-21  98255\n",
       "2  2018-12-22  98255\n",
       "3  2018-12-23  98255\n",
       "4  2018-12-24  98255"
      ]
     },
     "execution_count": 217,
     "metadata": {},
     "output_type": "execute_result"
    }
   ],
   "source": [
    "## read data\n",
    "test_df = pd.read_csv('hw_data/test.csv')\n",
    "test_df.head()"
   ]
  },
  {
   "cell_type": "code",
   "execution_count": 218,
   "metadata": {},
   "outputs": [
    {
     "data": {
      "text/plain": [
       "(175, 2)"
      ]
     },
     "execution_count": 218,
     "metadata": {},
     "output_type": "execute_result"
    }
   ],
   "source": [
    "test_df.shape"
   ]
  },
  {
   "cell_type": "code",
   "execution_count": 219,
   "metadata": {
    "scrolled": true
   },
   "outputs": [
    {
     "data": {
      "text/html": [
       "<div>\n",
       "<style scoped>\n",
       "    .dataframe tbody tr th:only-of-type {\n",
       "        vertical-align: middle;\n",
       "    }\n",
       "\n",
       "    .dataframe tbody tr th {\n",
       "        vertical-align: top;\n",
       "    }\n",
       "\n",
       "    .dataframe thead th {\n",
       "        text-align: right;\n",
       "    }\n",
       "</style>\n",
       "<table border=\"1\" class=\"dataframe\">\n",
       "  <thead>\n",
       "    <tr style=\"text-align: right;\">\n",
       "      <th></th>\n",
       "      <th>sku_id</th>\n",
       "      <th>fincode</th>\n",
       "      <th>ui1_code</th>\n",
       "      <th>ui2_code</th>\n",
       "      <th>ui3_code</th>\n",
       "      <th>vendor</th>\n",
       "      <th>brand_code</th>\n",
       "      <th>creation_date</th>\n",
       "      <th>expiration_date</th>\n",
       "    </tr>\n",
       "  </thead>\n",
       "  <tbody>\n",
       "    <tr>\n",
       "      <th>0</th>\n",
       "      <td>43207</td>\n",
       "      <td>A1</td>\n",
       "      <td>A10</td>\n",
       "      <td>A1000</td>\n",
       "      <td>A1000001</td>\n",
       "      <td>A10001</td>\n",
       "      <td>A1000001</td>\n",
       "      <td>2018-01-01</td>\n",
       "      <td>2200-01-01 00:00:00</td>\n",
       "    </tr>\n",
       "    <tr>\n",
       "      <th>1</th>\n",
       "      <td>87209</td>\n",
       "      <td>UA</td>\n",
       "      <td>UA1</td>\n",
       "      <td>UA100</td>\n",
       "      <td>UA10000</td>\n",
       "      <td>BLW9FG</td>\n",
       "      <td>484JDFU5</td>\n",
       "      <td>2019-09-05</td>\n",
       "      <td>2200-01-01 00:00:00</td>\n",
       "    </tr>\n",
       "    <tr>\n",
       "      <th>2</th>\n",
       "      <td>33513</td>\n",
       "      <td>G9</td>\n",
       "      <td>G91</td>\n",
       "      <td>G9100</td>\n",
       "      <td>G910003</td>\n",
       "      <td>7I77VL</td>\n",
       "      <td>MMC2P4Y3</td>\n",
       "      <td>2018-07-21</td>\n",
       "      <td>2200-01-01 00:00:00</td>\n",
       "    </tr>\n",
       "    <tr>\n",
       "      <th>3</th>\n",
       "      <td>47505</td>\n",
       "      <td>AQ</td>\n",
       "      <td>AQ1</td>\n",
       "      <td>AQ100</td>\n",
       "      <td>AQ10000</td>\n",
       "      <td>4HJSP5</td>\n",
       "      <td>8FYENEWM</td>\n",
       "      <td>2018-03-26</td>\n",
       "      <td>2200-01-01 00:00:00</td>\n",
       "    </tr>\n",
       "    <tr>\n",
       "      <th>4</th>\n",
       "      <td>53350</td>\n",
       "      <td>6L</td>\n",
       "      <td>6L1</td>\n",
       "      <td>6L100</td>\n",
       "      <td>6L10005</td>\n",
       "      <td>JSOSD5</td>\n",
       "      <td>YTE7JS4H</td>\n",
       "      <td>2018-11-30</td>\n",
       "      <td>2200-01-01 00:00:00</td>\n",
       "    </tr>\n",
       "  </tbody>\n",
       "</table>\n",
       "</div>"
      ],
      "text/plain": [
       "   sku_id fincode ui1_code ui2_code  ui3_code  vendor brand_code  \\\n",
       "0   43207      A1      A10    A1000  A1000001  A10001   A1000001   \n",
       "1   87209      UA      UA1    UA100   UA10000  BLW9FG   484JDFU5   \n",
       "2   33513      G9      G91    G9100   G910003  7I77VL   MMC2P4Y3   \n",
       "3   47505      AQ      AQ1    AQ100   AQ10000  4HJSP5   8FYENEWM   \n",
       "4   53350      6L      6L1    6L100   6L10005  JSOSD5   YTE7JS4H   \n",
       "\n",
       "  creation_date      expiration_date  \n",
       "0    2018-01-01  2200-01-01 00:00:00  \n",
       "1    2019-09-05  2200-01-01 00:00:00  \n",
       "2    2018-07-21  2200-01-01 00:00:00  \n",
       "3    2018-03-26  2200-01-01 00:00:00  \n",
       "4    2018-11-30  2200-01-01 00:00:00  "
      ]
     },
     "execution_count": 219,
     "metadata": {},
     "output_type": "execute_result"
    }
   ],
   "source": [
    "## read data\n",
    "fst_gr_sku = pd.read_csv('hw_data/first_group_sku.csv')\n",
    "sec_gr_sku = pd.read_csv('hw_data/second_group_sku.csv')\n",
    "trd_gr_sku = pd.read_csv('hw_data/third_group_sku.csv')\n",
    "conc_df = pd.read_csv('hw_data/conc_df.csv')\n",
    "promo_df = pd.read_csv('hw_data/promo_1510002.csv')\n",
    "\n",
    "sku_dict = pd.read_csv('hw_data/sku_dict.csv')\n",
    "sku_dict.head()"
   ]
  },
  {
   "cell_type": "code",
   "execution_count": null,
   "metadata": {},
   "outputs": [],
   "source": []
  },
  {
   "cell_type": "markdown",
   "metadata": {},
   "source": [
    "# EDA"
   ]
  },
  {
   "cell_type": "code",
   "execution_count": 220,
   "metadata": {},
   "outputs": [
    {
     "name": "stdout",
     "output_type": "stream",
     "text": [
      "<class 'pandas.core.frame.DataFrame'>\n",
      "RangeIndex: 175 entries, 0 to 174\n",
      "Data columns (total 2 columns):\n",
      " #   Column  Non-Null Count  Dtype \n",
      "---  ------  --------------  ----- \n",
      " 0   dates   175 non-null    object\n",
      " 1   SKU     175 non-null    int64 \n",
      "dtypes: int64(1), object(1)\n",
      "memory usage: 2.9+ KB\n"
     ]
    }
   ],
   "source": [
    "test_df.info()"
   ]
  },
  {
   "cell_type": "code",
   "execution_count": 221,
   "metadata": {},
   "outputs": [
    {
     "data": {
      "text/html": [
       "<div>\n",
       "<style scoped>\n",
       "    .dataframe tbody tr th:only-of-type {\n",
       "        vertical-align: middle;\n",
       "    }\n",
       "\n",
       "    .dataframe tbody tr th {\n",
       "        vertical-align: top;\n",
       "    }\n",
       "\n",
       "    .dataframe thead th {\n",
       "        text-align: right;\n",
       "    }\n",
       "</style>\n",
       "<table border=\"1\" class=\"dataframe\">\n",
       "  <thead>\n",
       "    <tr style=\"text-align: right;\">\n",
       "      <th></th>\n",
       "      <th>dates</th>\n",
       "      <th>SKU</th>\n",
       "      <th>price_per_sku</th>\n",
       "      <th>num_purchases</th>\n",
       "    </tr>\n",
       "  </thead>\n",
       "  <tbody>\n",
       "    <tr>\n",
       "      <th>0</th>\n",
       "      <td>2018-04-20</td>\n",
       "      <td>32950</td>\n",
       "      <td>422.975</td>\n",
       "      <td>3</td>\n",
       "    </tr>\n",
       "    <tr>\n",
       "      <th>1</th>\n",
       "      <td>2018-04-24</td>\n",
       "      <td>32950</td>\n",
       "      <td>429.275</td>\n",
       "      <td>3</td>\n",
       "    </tr>\n",
       "    <tr>\n",
       "      <th>2</th>\n",
       "      <td>2018-04-27</td>\n",
       "      <td>32950</td>\n",
       "      <td>435.100</td>\n",
       "      <td>3</td>\n",
       "    </tr>\n",
       "    <tr>\n",
       "      <th>3</th>\n",
       "      <td>2018-04-30</td>\n",
       "      <td>32950</td>\n",
       "      <td>NaN</td>\n",
       "      <td>1</td>\n",
       "    </tr>\n",
       "    <tr>\n",
       "      <th>4</th>\n",
       "      <td>2018-05-03</td>\n",
       "      <td>32950</td>\n",
       "      <td>440.950</td>\n",
       "      <td>2</td>\n",
       "    </tr>\n",
       "  </tbody>\n",
       "</table>\n",
       "</div>"
      ],
      "text/plain": [
       "        dates    SKU  price_per_sku  num_purchases\n",
       "0  2018-04-20  32950        422.975              3\n",
       "1  2018-04-24  32950        429.275              3\n",
       "2  2018-04-27  32950        435.100              3\n",
       "3  2018-04-30  32950            NaN              1\n",
       "4  2018-05-03  32950        440.950              2"
      ]
     },
     "execution_count": 221,
     "metadata": {},
     "output_type": "execute_result"
    }
   ],
   "source": [
    "fst_gr_sku.head()"
   ]
  },
  {
   "cell_type": "code",
   "execution_count": 185,
   "metadata": {},
   "outputs": [
    {
     "data": {
      "text/html": [
       "<div>\n",
       "<style scoped>\n",
       "    .dataframe tbody tr th:only-of-type {\n",
       "        vertical-align: middle;\n",
       "    }\n",
       "\n",
       "    .dataframe tbody tr th {\n",
       "        vertical-align: top;\n",
       "    }\n",
       "\n",
       "    .dataframe thead th {\n",
       "        text-align: right;\n",
       "    }\n",
       "</style>\n",
       "<table border=\"1\" class=\"dataframe\">\n",
       "  <thead>\n",
       "    <tr style=\"text-align: right;\">\n",
       "      <th></th>\n",
       "      <th>dates</th>\n",
       "      <th>SKU</th>\n",
       "      <th>price_per_sku</th>\n",
       "      <th>num_purchases</th>\n",
       "    </tr>\n",
       "  </thead>\n",
       "  <tbody>\n",
       "    <tr>\n",
       "      <th>0</th>\n",
       "      <td>2018-04-19</td>\n",
       "      <td>10334</td>\n",
       "      <td>92.890</td>\n",
       "      <td>10</td>\n",
       "    </tr>\n",
       "    <tr>\n",
       "      <th>1</th>\n",
       "      <td>2018-04-20</td>\n",
       "      <td>10334</td>\n",
       "      <td>92.890</td>\n",
       "      <td>11</td>\n",
       "    </tr>\n",
       "    <tr>\n",
       "      <th>2</th>\n",
       "      <td>2018-04-21</td>\n",
       "      <td>10334</td>\n",
       "      <td>92.890</td>\n",
       "      <td>10</td>\n",
       "    </tr>\n",
       "    <tr>\n",
       "      <th>3</th>\n",
       "      <td>2018-04-22</td>\n",
       "      <td>10334</td>\n",
       "      <td>92.890</td>\n",
       "      <td>12</td>\n",
       "    </tr>\n",
       "    <tr>\n",
       "      <th>4</th>\n",
       "      <td>2018-04-23</td>\n",
       "      <td>10334</td>\n",
       "      <td>92.456</td>\n",
       "      <td>10</td>\n",
       "    </tr>\n",
       "  </tbody>\n",
       "</table>\n",
       "</div>"
      ],
      "text/plain": [
       "        dates    SKU  price_per_sku  num_purchases\n",
       "0  2018-04-19  10334         92.890             10\n",
       "1  2018-04-20  10334         92.890             11\n",
       "2  2018-04-21  10334         92.890             10\n",
       "3  2018-04-22  10334         92.890             12\n",
       "4  2018-04-23  10334         92.456             10"
      ]
     },
     "execution_count": 185,
     "metadata": {},
     "output_type": "execute_result"
    }
   ],
   "source": [
    "sec_gr_sku.head()"
   ]
  },
  {
   "cell_type": "code",
   "execution_count": 186,
   "metadata": {},
   "outputs": [
    {
     "data": {
      "text/html": [
       "<div>\n",
       "<style scoped>\n",
       "    .dataframe tbody tr th:only-of-type {\n",
       "        vertical-align: middle;\n",
       "    }\n",
       "\n",
       "    .dataframe tbody tr th {\n",
       "        vertical-align: top;\n",
       "    }\n",
       "\n",
       "    .dataframe thead th {\n",
       "        text-align: right;\n",
       "    }\n",
       "</style>\n",
       "<table border=\"1\" class=\"dataframe\">\n",
       "  <thead>\n",
       "    <tr style=\"text-align: right;\">\n",
       "      <th></th>\n",
       "      <th>dates</th>\n",
       "      <th>SKU</th>\n",
       "      <th>price_per_sku</th>\n",
       "      <th>num_purchases</th>\n",
       "    </tr>\n",
       "  </thead>\n",
       "  <tbody>\n",
       "    <tr>\n",
       "      <th>0</th>\n",
       "      <td>2018-04-22</td>\n",
       "      <td>11050</td>\n",
       "      <td>101.575</td>\n",
       "      <td>10</td>\n",
       "    </tr>\n",
       "    <tr>\n",
       "      <th>1</th>\n",
       "      <td>2018-04-23</td>\n",
       "      <td>11050</td>\n",
       "      <td>101.344</td>\n",
       "      <td>9</td>\n",
       "    </tr>\n",
       "    <tr>\n",
       "      <th>2</th>\n",
       "      <td>2018-04-25</td>\n",
       "      <td>11050</td>\n",
       "      <td>101.344</td>\n",
       "      <td>9</td>\n",
       "    </tr>\n",
       "    <tr>\n",
       "      <th>3</th>\n",
       "      <td>2018-04-26</td>\n",
       "      <td>11050</td>\n",
       "      <td>101.344</td>\n",
       "      <td>9</td>\n",
       "    </tr>\n",
       "    <tr>\n",
       "      <th>4</th>\n",
       "      <td>2018-04-27</td>\n",
       "      <td>11050</td>\n",
       "      <td>101.344</td>\n",
       "      <td>10</td>\n",
       "    </tr>\n",
       "  </tbody>\n",
       "</table>\n",
       "</div>"
      ],
      "text/plain": [
       "        dates    SKU  price_per_sku  num_purchases\n",
       "0  2018-04-22  11050        101.575             10\n",
       "1  2018-04-23  11050        101.344              9\n",
       "2  2018-04-25  11050        101.344              9\n",
       "3  2018-04-26  11050        101.344              9\n",
       "4  2018-04-27  11050        101.344             10"
      ]
     },
     "execution_count": 186,
     "metadata": {},
     "output_type": "execute_result"
    }
   ],
   "source": [
    "trd_gr_sku.head()"
   ]
  },
  {
   "cell_type": "code",
   "execution_count": 228,
   "metadata": {},
   "outputs": [
    {
     "data": {
      "text/plain": [
       "array([98255, 68211, 60870, 32950, 24125, 69997, 57561, 78833, 43678,\n",
       "       11050, 72784, 64619, 17812, 83329, 89272, 90611, 36096, 80631,\n",
       "       54404, 84395, 19632, 38767, 80308, 10334, 49661])"
      ]
     },
     "execution_count": 228,
     "metadata": {},
     "output_type": "execute_result"
    }
   ],
   "source": [
    "test_df.SKU.unique()"
   ]
  },
  {
   "cell_type": "code",
   "execution_count": 229,
   "metadata": {},
   "outputs": [
    {
     "data": {
      "text/plain": [
       "0       True\n",
       "1       True\n",
       "2       True\n",
       "3       True\n",
       "4       True\n",
       "        ... \n",
       "3004    True\n",
       "3005    True\n",
       "3006    True\n",
       "3007    True\n",
       "3008    True\n",
       "Name: SKU, Length: 3009, dtype: bool"
      ]
     },
     "execution_count": 229,
     "metadata": {},
     "output_type": "execute_result"
    }
   ],
   "source": [
    "conc_df.SKU.isin(test_df.SKU)"
   ]
  },
  {
   "cell_type": "code",
   "execution_count": 189,
   "metadata": {},
   "outputs": [
    {
     "data": {
      "text/html": [
       "<div>\n",
       "<style scoped>\n",
       "    .dataframe tbody tr th:only-of-type {\n",
       "        vertical-align: middle;\n",
       "    }\n",
       "\n",
       "    .dataframe tbody tr th {\n",
       "        vertical-align: top;\n",
       "    }\n",
       "\n",
       "    .dataframe thead th {\n",
       "        text-align: right;\n",
       "    }\n",
       "</style>\n",
       "<table border=\"1\" class=\"dataframe\">\n",
       "  <thead>\n",
       "    <tr style=\"text-align: right;\">\n",
       "      <th></th>\n",
       "      <th>SKU</th>\n",
       "      <th>year</th>\n",
       "      <th>week_num</th>\n",
       "      <th>ret_net_code</th>\n",
       "      <th>price_per_sku</th>\n",
       "    </tr>\n",
       "  </thead>\n",
       "  <tbody>\n",
       "    <tr>\n",
       "      <th>0</th>\n",
       "      <td>84395</td>\n",
       "      <td>2019</td>\n",
       "      <td>18</td>\n",
       "      <td>1</td>\n",
       "      <td>164.69400</td>\n",
       "    </tr>\n",
       "    <tr>\n",
       "      <th>1</th>\n",
       "      <td>84395</td>\n",
       "      <td>2019</td>\n",
       "      <td>18</td>\n",
       "      <td>2</td>\n",
       "      <td>164.69400</td>\n",
       "    </tr>\n",
       "    <tr>\n",
       "      <th>2</th>\n",
       "      <td>84395</td>\n",
       "      <td>2019</td>\n",
       "      <td>18</td>\n",
       "      <td>3</td>\n",
       "      <td>134.50010</td>\n",
       "    </tr>\n",
       "    <tr>\n",
       "      <th>3</th>\n",
       "      <td>84395</td>\n",
       "      <td>2019</td>\n",
       "      <td>22</td>\n",
       "      <td>1</td>\n",
       "      <td>165.19800</td>\n",
       "    </tr>\n",
       "    <tr>\n",
       "      <th>4</th>\n",
       "      <td>84395</td>\n",
       "      <td>2019</td>\n",
       "      <td>22</td>\n",
       "      <td>2</td>\n",
       "      <td>136.28835</td>\n",
       "    </tr>\n",
       "  </tbody>\n",
       "</table>\n",
       "</div>"
      ],
      "text/plain": [
       "     SKU  year  week_num  ret_net_code  price_per_sku\n",
       "0  84395  2019        18             1      164.69400\n",
       "1  84395  2019        18             2      164.69400\n",
       "2  84395  2019        18             3      134.50010\n",
       "3  84395  2019        22             1      165.19800\n",
       "4  84395  2019        22             2      136.28835"
      ]
     },
     "execution_count": 189,
     "metadata": {},
     "output_type": "execute_result"
    }
   ],
   "source": [
    "conc_df.head()"
   ]
  },
  {
   "cell_type": "code",
   "execution_count": 190,
   "metadata": {},
   "outputs": [
    {
     "data": {
      "text/html": [
       "<div>\n",
       "<style scoped>\n",
       "    .dataframe tbody tr th:only-of-type {\n",
       "        vertical-align: middle;\n",
       "    }\n",
       "\n",
       "    .dataframe tbody tr th {\n",
       "        vertical-align: top;\n",
       "    }\n",
       "\n",
       "    .dataframe thead th {\n",
       "        text-align: right;\n",
       "    }\n",
       "</style>\n",
       "<table border=\"1\" class=\"dataframe\">\n",
       "  <thead>\n",
       "    <tr style=\"text-align: right;\">\n",
       "      <th></th>\n",
       "      <th>year</th>\n",
       "      <th>week_num</th>\n",
       "      <th>SKU</th>\n",
       "      <th>discount</th>\n",
       "    </tr>\n",
       "  </thead>\n",
       "  <tbody>\n",
       "    <tr>\n",
       "      <th>0</th>\n",
       "      <td>2019</td>\n",
       "      <td>1</td>\n",
       "      <td>90611</td>\n",
       "      <td>0.9</td>\n",
       "    </tr>\n",
       "    <tr>\n",
       "      <th>1</th>\n",
       "      <td>2019</td>\n",
       "      <td>2</td>\n",
       "      <td>10334</td>\n",
       "      <td>0.9</td>\n",
       "    </tr>\n",
       "    <tr>\n",
       "      <th>2</th>\n",
       "      <td>2019</td>\n",
       "      <td>3</td>\n",
       "      <td>68211</td>\n",
       "      <td>0.9</td>\n",
       "    </tr>\n",
       "    <tr>\n",
       "      <th>3</th>\n",
       "      <td>2019</td>\n",
       "      <td>4</td>\n",
       "      <td>10334</td>\n",
       "      <td>0.9</td>\n",
       "    </tr>\n",
       "    <tr>\n",
       "      <th>4</th>\n",
       "      <td>2019</td>\n",
       "      <td>5</td>\n",
       "      <td>72784</td>\n",
       "      <td>0.8</td>\n",
       "    </tr>\n",
       "  </tbody>\n",
       "</table>\n",
       "</div>"
      ],
      "text/plain": [
       "   year  week_num    SKU  discount\n",
       "0  2019         1  90611       0.9\n",
       "1  2019         2  10334       0.9\n",
       "2  2019         3  68211       0.9\n",
       "3  2019         4  10334       0.9\n",
       "4  2019         5  72784       0.8"
      ]
     },
     "execution_count": 190,
     "metadata": {},
     "output_type": "execute_result"
    }
   ],
   "source": [
    "promo_df.SKU.isin(test_df.SKU) # True\n",
    "promo_df.head()"
   ]
  },
  {
   "cell_type": "code",
   "execution_count": 191,
   "metadata": {},
   "outputs": [
    {
     "name": "stderr",
     "output_type": "stream",
     "text": [
      "/opt/tljh/user/lib/python3.7/site-packages/ipykernel_launcher.py:4: FutureWarning: Series.dt.weekofyear and Series.dt.week have been deprecated.  Please use Series.dt.isocalendar().week instead.\n",
      "  after removing the cwd from sys.path.\n"
     ]
    },
    {
     "data": {
      "text/html": [
       "<div>\n",
       "<style scoped>\n",
       "    .dataframe tbody tr th:only-of-type {\n",
       "        vertical-align: middle;\n",
       "    }\n",
       "\n",
       "    .dataframe tbody tr th {\n",
       "        vertical-align: top;\n",
       "    }\n",
       "\n",
       "    .dataframe thead th {\n",
       "        text-align: right;\n",
       "    }\n",
       "</style>\n",
       "<table border=\"1\" class=\"dataframe\">\n",
       "  <thead>\n",
       "    <tr style=\"text-align: right;\">\n",
       "      <th></th>\n",
       "      <th>dates</th>\n",
       "      <th>SKU</th>\n",
       "      <th>price_per_sku</th>\n",
       "      <th>num_purchases</th>\n",
       "      <th>year</th>\n",
       "      <th>week_num</th>\n",
       "      <th>date_week</th>\n",
       "    </tr>\n",
       "  </thead>\n",
       "  <tbody>\n",
       "    <tr>\n",
       "      <th>0</th>\n",
       "      <td>2018-04-20</td>\n",
       "      <td>32950</td>\n",
       "      <td>422.975</td>\n",
       "      <td>3</td>\n",
       "      <td>2018</td>\n",
       "      <td>16</td>\n",
       "      <td>2018-04-22</td>\n",
       "    </tr>\n",
       "    <tr>\n",
       "      <th>1</th>\n",
       "      <td>2018-04-24</td>\n",
       "      <td>32950</td>\n",
       "      <td>429.275</td>\n",
       "      <td>3</td>\n",
       "      <td>2018</td>\n",
       "      <td>17</td>\n",
       "      <td>2018-04-29</td>\n",
       "    </tr>\n",
       "    <tr>\n",
       "      <th>2</th>\n",
       "      <td>2018-04-27</td>\n",
       "      <td>32950</td>\n",
       "      <td>435.100</td>\n",
       "      <td>3</td>\n",
       "      <td>2018</td>\n",
       "      <td>17</td>\n",
       "      <td>2018-04-29</td>\n",
       "    </tr>\n",
       "    <tr>\n",
       "      <th>3</th>\n",
       "      <td>2018-04-30</td>\n",
       "      <td>32950</td>\n",
       "      <td>NaN</td>\n",
       "      <td>1</td>\n",
       "      <td>2018</td>\n",
       "      <td>18</td>\n",
       "      <td>2018-05-06</td>\n",
       "    </tr>\n",
       "    <tr>\n",
       "      <th>4</th>\n",
       "      <td>2018-05-03</td>\n",
       "      <td>32950</td>\n",
       "      <td>440.950</td>\n",
       "      <td>2</td>\n",
       "      <td>2018</td>\n",
       "      <td>18</td>\n",
       "      <td>2018-05-06</td>\n",
       "    </tr>\n",
       "  </tbody>\n",
       "</table>\n",
       "</div>"
      ],
      "text/plain": [
       "       dates    SKU  price_per_sku  num_purchases  year  week_num  date_week\n",
       "0 2018-04-20  32950        422.975              3  2018        16 2018-04-22\n",
       "1 2018-04-24  32950        429.275              3  2018        17 2018-04-29\n",
       "2 2018-04-27  32950        435.100              3  2018        17 2018-04-29\n",
       "3 2018-04-30  32950            NaN              1  2018        18 2018-05-06\n",
       "4 2018-05-03  32950        440.950              2  2018        18 2018-05-06"
      ]
     },
     "execution_count": 191,
     "metadata": {},
     "output_type": "execute_result"
    }
   ],
   "source": [
    "ttl_sku_df = fst_gr_sku.append(sec_gr_sku).append(trd_gr_sku)\n",
    "ttl_sku_df['dates'] = pd.to_datetime(ttl_sku_df['dates'])\n",
    "ttl_sku_df['year'] = ttl_sku_df.dates.dt.year\n",
    "ttl_sku_df['week_num'] = ttl_sku_df.dates.dt.week\n",
    "ttl_sku_df['date_week'] = pd.to_datetime((ttl_sku_df.year.astype(str) + \\\n",
    "    ttl_sku_df.week_num.astype(str) + '0'), format='%Y%W%w')\n",
    "ttl_sku_df.head()"
   ]
  },
  {
   "cell_type": "code",
   "execution_count": 192,
   "metadata": {},
   "outputs": [],
   "source": [
    "ttl_sku_df = ttl_sku_df.merge(sku_dict, left_on = 'SKU', right_on = 'sku_id', how='left').merge(\\\n",
    "    conc_df, on = ['SKU', 'year', 'week_num'], how='left', suffixes=('', '_comp')).merge(\\\n",
    "    promo_df, on = ['SKU', 'year', 'week_num'], how='left')"
   ]
  },
  {
   "cell_type": "code",
   "execution_count": 193,
   "metadata": {},
   "outputs": [
    {
     "data": {
      "text/html": [
       "<div>\n",
       "<style scoped>\n",
       "    .dataframe tbody tr th:only-of-type {\n",
       "        vertical-align: middle;\n",
       "    }\n",
       "\n",
       "    .dataframe tbody tr th {\n",
       "        vertical-align: top;\n",
       "    }\n",
       "\n",
       "    .dataframe thead th {\n",
       "        text-align: right;\n",
       "    }\n",
       "</style>\n",
       "<table border=\"1\" class=\"dataframe\">\n",
       "  <thead>\n",
       "    <tr style=\"text-align: right;\">\n",
       "      <th></th>\n",
       "      <th>dates</th>\n",
       "      <th>SKU</th>\n",
       "      <th>price_per_sku</th>\n",
       "      <th>num_purchases</th>\n",
       "      <th>year</th>\n",
       "      <th>week_num</th>\n",
       "      <th>date_week</th>\n",
       "      <th>sku_id</th>\n",
       "      <th>fincode</th>\n",
       "      <th>ui1_code</th>\n",
       "      <th>ui2_code</th>\n",
       "      <th>ui3_code</th>\n",
       "      <th>vendor</th>\n",
       "      <th>brand_code</th>\n",
       "      <th>creation_date</th>\n",
       "      <th>expiration_date</th>\n",
       "      <th>ret_net_code</th>\n",
       "      <th>price_per_sku_comp</th>\n",
       "      <th>discount</th>\n",
       "    </tr>\n",
       "  </thead>\n",
       "  <tbody>\n",
       "    <tr>\n",
       "      <th>0</th>\n",
       "      <td>2018-04-20</td>\n",
       "      <td>32950</td>\n",
       "      <td>422.975</td>\n",
       "      <td>3</td>\n",
       "      <td>2018</td>\n",
       "      <td>16</td>\n",
       "      <td>2018-04-22</td>\n",
       "      <td>32950</td>\n",
       "      <td>FE</td>\n",
       "      <td>FE1</td>\n",
       "      <td>FE100</td>\n",
       "      <td>FE10000</td>\n",
       "      <td>AO59EQ</td>\n",
       "      <td>3FAIRJ4W</td>\n",
       "      <td>2018-01-15</td>\n",
       "      <td>2200-01-01 00:00:00</td>\n",
       "      <td>NaN</td>\n",
       "      <td>NaN</td>\n",
       "      <td>NaN</td>\n",
       "    </tr>\n",
       "    <tr>\n",
       "      <th>1</th>\n",
       "      <td>2018-04-24</td>\n",
       "      <td>32950</td>\n",
       "      <td>429.275</td>\n",
       "      <td>3</td>\n",
       "      <td>2018</td>\n",
       "      <td>17</td>\n",
       "      <td>2018-04-29</td>\n",
       "      <td>32950</td>\n",
       "      <td>FE</td>\n",
       "      <td>FE1</td>\n",
       "      <td>FE100</td>\n",
       "      <td>FE10000</td>\n",
       "      <td>AO59EQ</td>\n",
       "      <td>3FAIRJ4W</td>\n",
       "      <td>2018-01-15</td>\n",
       "      <td>2200-01-01 00:00:00</td>\n",
       "      <td>NaN</td>\n",
       "      <td>NaN</td>\n",
       "      <td>NaN</td>\n",
       "    </tr>\n",
       "    <tr>\n",
       "      <th>2</th>\n",
       "      <td>2018-04-27</td>\n",
       "      <td>32950</td>\n",
       "      <td>435.100</td>\n",
       "      <td>3</td>\n",
       "      <td>2018</td>\n",
       "      <td>17</td>\n",
       "      <td>2018-04-29</td>\n",
       "      <td>32950</td>\n",
       "      <td>FE</td>\n",
       "      <td>FE1</td>\n",
       "      <td>FE100</td>\n",
       "      <td>FE10000</td>\n",
       "      <td>AO59EQ</td>\n",
       "      <td>3FAIRJ4W</td>\n",
       "      <td>2018-01-15</td>\n",
       "      <td>2200-01-01 00:00:00</td>\n",
       "      <td>NaN</td>\n",
       "      <td>NaN</td>\n",
       "      <td>NaN</td>\n",
       "    </tr>\n",
       "    <tr>\n",
       "      <th>3</th>\n",
       "      <td>2018-04-30</td>\n",
       "      <td>32950</td>\n",
       "      <td>NaN</td>\n",
       "      <td>1</td>\n",
       "      <td>2018</td>\n",
       "      <td>18</td>\n",
       "      <td>2018-05-06</td>\n",
       "      <td>32950</td>\n",
       "      <td>FE</td>\n",
       "      <td>FE1</td>\n",
       "      <td>FE100</td>\n",
       "      <td>FE10000</td>\n",
       "      <td>AO59EQ</td>\n",
       "      <td>3FAIRJ4W</td>\n",
       "      <td>2018-01-15</td>\n",
       "      <td>2200-01-01 00:00:00</td>\n",
       "      <td>NaN</td>\n",
       "      <td>NaN</td>\n",
       "      <td>NaN</td>\n",
       "    </tr>\n",
       "    <tr>\n",
       "      <th>4</th>\n",
       "      <td>2018-05-03</td>\n",
       "      <td>32950</td>\n",
       "      <td>440.950</td>\n",
       "      <td>2</td>\n",
       "      <td>2018</td>\n",
       "      <td>18</td>\n",
       "      <td>2018-05-06</td>\n",
       "      <td>32950</td>\n",
       "      <td>FE</td>\n",
       "      <td>FE1</td>\n",
       "      <td>FE100</td>\n",
       "      <td>FE10000</td>\n",
       "      <td>AO59EQ</td>\n",
       "      <td>3FAIRJ4W</td>\n",
       "      <td>2018-01-15</td>\n",
       "      <td>2200-01-01 00:00:00</td>\n",
       "      <td>NaN</td>\n",
       "      <td>NaN</td>\n",
       "      <td>NaN</td>\n",
       "    </tr>\n",
       "  </tbody>\n",
       "</table>\n",
       "</div>"
      ],
      "text/plain": [
       "       dates    SKU  price_per_sku  num_purchases  year  week_num  date_week  \\\n",
       "0 2018-04-20  32950        422.975              3  2018        16 2018-04-22   \n",
       "1 2018-04-24  32950        429.275              3  2018        17 2018-04-29   \n",
       "2 2018-04-27  32950        435.100              3  2018        17 2018-04-29   \n",
       "3 2018-04-30  32950            NaN              1  2018        18 2018-05-06   \n",
       "4 2018-05-03  32950        440.950              2  2018        18 2018-05-06   \n",
       "\n",
       "   sku_id fincode ui1_code ui2_code ui3_code  vendor brand_code creation_date  \\\n",
       "0   32950      FE      FE1    FE100  FE10000  AO59EQ   3FAIRJ4W    2018-01-15   \n",
       "1   32950      FE      FE1    FE100  FE10000  AO59EQ   3FAIRJ4W    2018-01-15   \n",
       "2   32950      FE      FE1    FE100  FE10000  AO59EQ   3FAIRJ4W    2018-01-15   \n",
       "3   32950      FE      FE1    FE100  FE10000  AO59EQ   3FAIRJ4W    2018-01-15   \n",
       "4   32950      FE      FE1    FE100  FE10000  AO59EQ   3FAIRJ4W    2018-01-15   \n",
       "\n",
       "       expiration_date  ret_net_code  price_per_sku_comp  discount  \n",
       "0  2200-01-01 00:00:00           NaN                 NaN       NaN  \n",
       "1  2200-01-01 00:00:00           NaN                 NaN       NaN  \n",
       "2  2200-01-01 00:00:00           NaN                 NaN       NaN  \n",
       "3  2200-01-01 00:00:00           NaN                 NaN       NaN  \n",
       "4  2200-01-01 00:00:00           NaN                 NaN       NaN  "
      ]
     },
     "execution_count": 193,
     "metadata": {},
     "output_type": "execute_result"
    }
   ],
   "source": [
    "ttl_sku_df.head()"
   ]
  },
  {
   "cell_type": "markdown",
   "metadata": {},
   "source": [
    "## fill na in price"
   ]
  },
  {
   "cell_type": "code",
   "execution_count": 222,
   "metadata": {},
   "outputs": [
    {
     "data": {
      "text/html": [
       "<div>\n",
       "<style scoped>\n",
       "    .dataframe tbody tr th:only-of-type {\n",
       "        vertical-align: middle;\n",
       "    }\n",
       "\n",
       "    .dataframe tbody tr th {\n",
       "        vertical-align: top;\n",
       "    }\n",
       "\n",
       "    .dataframe thead th {\n",
       "        text-align: right;\n",
       "    }\n",
       "</style>\n",
       "<table border=\"1\" class=\"dataframe\">\n",
       "  <thead>\n",
       "    <tr style=\"text-align: right;\">\n",
       "      <th></th>\n",
       "      <th>dd</th>\n",
       "    </tr>\n",
       "  </thead>\n",
       "  <tbody>\n",
       "    <tr>\n",
       "      <th>0</th>\n",
       "      <td>1.0</td>\n",
       "    </tr>\n",
       "    <tr>\n",
       "      <th>1</th>\n",
       "      <td>1.0</td>\n",
       "    </tr>\n",
       "    <tr>\n",
       "      <th>2</th>\n",
       "      <td>2.0</td>\n",
       "    </tr>\n",
       "  </tbody>\n",
       "</table>\n",
       "</div>"
      ],
      "text/plain": [
       "    dd\n",
       "0  1.0\n",
       "1  1.0\n",
       "2  2.0"
      ]
     },
     "execution_count": 222,
     "metadata": {},
     "output_type": "execute_result"
    }
   ],
   "source": [
    "d={'dd': (1,None,2)}\n",
    "pd.DataFrame(d).fillna(method='ffill')"
   ]
  },
  {
   "cell_type": "code",
   "execution_count": 223,
   "metadata": {},
   "outputs": [],
   "source": [
    "def fillna_fw(x):\n",
    "#     d={'ddt': (1,None,2)}\n",
    "#     return x.fillna(method='ffill')\n",
    "    return x"
   ]
  },
  {
   "cell_type": "code",
   "execution_count": 224,
   "metadata": {},
   "outputs": [],
   "source": [
    "# df.groupby(\"name\").transform(lambda x: x.fillna(x.mean()))\n",
    "# ttl_sku_df.groupby('SKU', as_index=False).apply(price_per_sku, fillna_fw)\n",
    "ttl_sku_df[\"price_per_sku\"] = ttl_sku_df.groupby(\"SKU\", as_index=False \\\n",
    "    )['price_per_sku'].transform(lambda x: x.fillna(method='ffill'))"
   ]
  },
  {
   "cell_type": "code",
   "execution_count": 225,
   "metadata": {},
   "outputs": [
    {
     "data": {
      "text/plain": [
       "(20062, 20)"
      ]
     },
     "execution_count": 225,
     "metadata": {},
     "output_type": "execute_result"
    }
   ],
   "source": [
    "ttl_sku_df.shape"
   ]
  },
  {
   "cell_type": "code",
   "execution_count": 226,
   "metadata": {},
   "outputs": [
    {
     "data": {
      "text/plain": [
       "count    20062.000000\n",
       "mean       120.028684\n",
       "std         40.746719\n",
       "min         63.000000\n",
       "25%         93.156000\n",
       "50%        117.643000\n",
       "75%        136.370000\n",
       "max        486.325000\n",
       "Name: price_per_sku_real, dtype: float64"
      ]
     },
     "execution_count": 226,
     "metadata": {},
     "output_type": "execute_result"
    }
   ],
   "source": [
    "ttl_sku_df['price_per_sku_real'] = ttl_sku_df['price_per_sku']\n",
    "ttl_sku_df['discount'].describe()\n",
    "ttl_sku_df.loc[ttl_sku_df.discount > 0, 'price_per_sku_real'] = \\\n",
    "    (ttl_sku_df.loc[ttl_sku_df.discount > 0, 'price_per_sku'] / \\\n",
    "     ttl_sku_df.loc[ttl_sku_df.discount > 0, 'discount'])\n",
    "ttl_sku_df['price_per_sku_real'].describe()"
   ]
  },
  {
   "cell_type": "code",
   "execution_count": 227,
   "metadata": {},
   "outputs": [
    {
     "name": "stdout",
     "output_type": "stream",
     "text": [
      "<class 'pandas.core.frame.DataFrame'>\n",
      "Int64Index: 20062 entries, 0 to 20061\n",
      "Data columns (total 20 columns):\n",
      " #   Column              Non-Null Count  Dtype         \n",
      "---  ------              --------------  -----         \n",
      " 0   dates               20062 non-null  datetime64[ns]\n",
      " 1   SKU                 20062 non-null  int64         \n",
      " 2   price_per_sku       20062 non-null  float64       \n",
      " 3   num_purchases       20062 non-null  int64         \n",
      " 4   year                20062 non-null  int64         \n",
      " 5   week_num            20062 non-null  int64         \n",
      " 6   date_week           20062 non-null  datetime64[ns]\n",
      " 7   sku_id              20062 non-null  int64         \n",
      " 8   fincode             20062 non-null  object        \n",
      " 9   ui1_code            20062 non-null  object        \n",
      " 10  ui2_code            20062 non-null  object        \n",
      " 11  ui3_code            20062 non-null  object        \n",
      " 12  vendor              20062 non-null  object        \n",
      " 13  brand_code          20062 non-null  object        \n",
      " 14  creation_date       20062 non-null  object        \n",
      " 15  expiration_date     20062 non-null  object        \n",
      " 16  ret_net_code        15036 non-null  float64       \n",
      " 17  price_per_sku_comp  15036 non-null  float64       \n",
      " 18  discount            272 non-null    float64       \n",
      " 19  price_per_sku_real  20062 non-null  float64       \n",
      "dtypes: datetime64[ns](2), float64(5), int64(5), object(8)\n",
      "memory usage: 3.2+ MB\n"
     ]
    }
   ],
   "source": [
    "ttl_sku_df.info()"
   ]
  },
  {
   "cell_type": "code",
   "execution_count": null,
   "metadata": {},
   "outputs": [],
   "source": []
  },
  {
   "cell_type": "code",
   "execution_count": null,
   "metadata": {},
   "outputs": [],
   "source": []
  },
  {
   "cell_type": "markdown",
   "metadata": {},
   "source": [
    "## explore 1 sku 98255"
   ]
  },
  {
   "cell_type": "code",
   "execution_count": 157,
   "metadata": {},
   "outputs": [
    {
     "data": {
      "text/html": [
       "<div>\n",
       "<style scoped>\n",
       "    .dataframe tbody tr th:only-of-type {\n",
       "        vertical-align: middle;\n",
       "    }\n",
       "\n",
       "    .dataframe tbody tr th {\n",
       "        vertical-align: top;\n",
       "    }\n",
       "\n",
       "    .dataframe thead tr th {\n",
       "        text-align: left;\n",
       "    }\n",
       "\n",
       "    .dataframe thead tr:last-of-type th {\n",
       "        text-align: right;\n",
       "    }\n",
       "</style>\n",
       "<table border=\"1\" class=\"dataframe\">\n",
       "  <thead>\n",
       "    <tr>\n",
       "      <th></th>\n",
       "      <th>price_per_sku</th>\n",
       "      <th>price_per_sku_real</th>\n",
       "    </tr>\n",
       "    <tr>\n",
       "      <th>SKU</th>\n",
       "      <th>98255</th>\n",
       "      <th>98255</th>\n",
       "    </tr>\n",
       "    <tr>\n",
       "      <th>dates</th>\n",
       "      <th></th>\n",
       "      <th></th>\n",
       "    </tr>\n",
       "  </thead>\n",
       "  <tbody>\n",
       "    <tr>\n",
       "      <th>2018-07-29</th>\n",
       "      <td>65.639</td>\n",
       "      <td>65.639</td>\n",
       "    </tr>\n",
       "    <tr>\n",
       "      <th>2018-07-30</th>\n",
       "      <td>65.940</td>\n",
       "      <td>65.940</td>\n",
       "    </tr>\n",
       "    <tr>\n",
       "      <th>2018-07-31</th>\n",
       "      <td>65.940</td>\n",
       "      <td>65.940</td>\n",
       "    </tr>\n",
       "    <tr>\n",
       "      <th>2018-08-02</th>\n",
       "      <td>65.940</td>\n",
       "      <td>65.940</td>\n",
       "    </tr>\n",
       "    <tr>\n",
       "      <th>2018-08-04</th>\n",
       "      <td>65.940</td>\n",
       "      <td>65.940</td>\n",
       "    </tr>\n",
       "  </tbody>\n",
       "</table>\n",
       "</div>"
      ],
      "text/plain": [
       "           price_per_sku price_per_sku_real\n",
       "SKU                98255              98255\n",
       "dates                                      \n",
       "2018-07-29        65.639             65.639\n",
       "2018-07-30        65.940             65.940\n",
       "2018-07-31        65.940             65.940\n",
       "2018-08-02        65.940             65.940\n",
       "2018-08-04        65.940             65.940"
      ]
     },
     "execution_count": 157,
     "metadata": {},
     "output_type": "execute_result"
    }
   ],
   "source": [
    "sku_98255 = ttl_sku_df.loc[ttl_sku_df.SKU == 98255]\n",
    "sku_98255_test = test_df.loc[test_df.SKU == 98255]\n",
    "sku_98255_pivot = sku_98255.pivot_table(index='dates', values=['price_per_sku', 'price_per_sku_real'], columns='SKU')\n",
    "sku_98255_pivot.head()"
   ]
  },
  {
   "cell_type": "code",
   "execution_count": 158,
   "metadata": {},
   "outputs": [
    {
     "data": {
      "text/plain": [
       "dates\n",
       "2018-07-29    98255\n",
       "2018-07-30    98255\n",
       "2018-07-31    98255\n",
       "2018-08-02    98255\n",
       "2018-08-04    98255\n",
       "Name: SKU, dtype: int64"
      ]
     },
     "execution_count": 158,
     "metadata": {},
     "output_type": "execute_result"
    }
   ],
   "source": [
    "sku_98255.set_index(sku_98255.dates, inplace=True)\n",
    "sku_98255['SKU'].head()"
   ]
  },
  {
   "cell_type": "code",
   "execution_count": 159,
   "metadata": {},
   "outputs": [
    {
     "data": {
      "text/plain": [
       "<matplotlib.axes._subplots.AxesSubplot at 0x7fafcf1ca358>"
      ]
     },
     "execution_count": 159,
     "metadata": {},
     "output_type": "execute_result"
    },
    {
     "data": {
      "image/png": "[encoded data removed]",
      "text/plain": [
       "<Figure size 864x576 with 1 Axes>"
      ]
     },
     "metadata": {
      "needs_background": "light"
     },
     "output_type": "display_data"
    }
   ],
   "source": [
    "plt.figure(figsize=(12,8))\n",
    "sns.lineplot(data=sku_98255_pivot)"
   ]
  },
  {
   "cell_type": "code",
   "execution_count": 160,
   "metadata": {},
   "outputs": [],
   "source": [
    "from statsmodels.tsa.ar_model import AutoReg\n",
    "from statsmodels.tsa.arima.model import ARIMA\n",
    "from statsmodels.tsa.statespace.sarimax import SARIMAX\n",
    "from statsmodels.tsa.vector_ar.var_model import VAR\n",
    "from statsmodels.tsa.statespace.varmax import VARMAX\n",
    "from statsmodels.tsa.holtwinters import SimpleExpSmoothing\n",
    "\n",
    "from pandas.plotting import autocorrelation_plot\n",
    "\n",
    "import pmdarima\n",
    "\n",
    "import tsfresh"
   ]
  },
  {
   "cell_type": "code",
   "execution_count": 161,
   "metadata": {},
   "outputs": [
    {
     "data": {
      "text/plain": [
       "<matplotlib.axes._subplots.AxesSubplot at 0x7faff0f29390>"
      ]
     },
     "execution_count": 161,
     "metadata": {},
     "output_type": "execute_result"
    },
    {
     "data": {
      "image/png": "[encoded data removed]",
      "text/plain": [
       "<Figure size 864x576 with 1 Axes>"
      ]
     },
     "metadata": {
      "needs_background": "light"
     },
     "output_type": "display_data"
    }
   ],
   "source": [
    "plt.figure(figsize=(12,8))\n",
    "autocorrelation_plot(sku_98255.price_per_sku.values)"
   ]
  },
  {
   "cell_type": "code",
   "execution_count": 162,
   "metadata": {},
   "outputs": [],
   "source": [
    "# # %%time\n",
    "# pm_auro1 = pmdarima.auto_arima(y = sku_98255['price_per_sku'], n_fits=1000, X = pd.to_datetime(sku_98255[['dates']]))\n",
    "# # pm_auro1.predict(start = len(sku_98255), end = len(sku_98255) + len(sku_98255_test) - 1, n_periods=7)\n",
    "# pm_auro1.predict(X=pd.to_datetime(sku_98255_test[['dates']]), n_periods=7)"
   ]
  },
  {
   "cell_type": "code",
   "execution_count": 163,
   "metadata": {},
   "outputs": [
    {
     "data": {
      "text/plain": [
       "dates\n",
       "2018-07-29    65.639\n",
       "2018-07-30    65.940\n",
       "2018-07-31    65.940\n",
       "2018-08-02    65.940\n",
       "2018-08-04    65.940\n",
       "               ...  \n",
       "2018-11-24    67.186\n",
       "2018-11-27    68.593\n",
       "2018-11-28    68.593\n",
       "2018-11-29    68.593\n",
       "2018-11-30    68.593\n",
       "Name: price_per_sku, Length: 81, dtype: float64"
      ]
     },
     "execution_count": 163,
     "metadata": {},
     "output_type": "execute_result"
    }
   ],
   "source": [
    "sku_98255['price_per_sku'][:-10]"
   ]
  },
  {
   "cell_type": "code",
   "execution_count": 121,
   "metadata": {},
   "outputs": [
    {
     "name": "stderr",
     "output_type": "stream",
     "text": [
      "/home/jupyter-e.kozhevnikov-1/.local/lib/python3.7/site-packages/pmdarima/arima/_validation.py:35: UserWarning: information_criterion cannot be 'oob' with out_of_sample_size = 0. Falling back to information criterion = aic.\n",
      "  warnings.warn('information_criterion cannot be \\'oob\\' with '\n"
     ]
    },
    {
     "name": "stdout",
     "output_type": "stream",
     "text": [
      "Performing stepwise search to minimize aic\n",
      " ARIMA(3,1,3)(3,0,3)[7] intercept   : AIC=68.228, Time=1.42 sec\n",
      " ARIMA(0,1,0)(0,0,0)[7] intercept   : AIC=46.361, Time=0.04 sec\n",
      " ARIMA(1,1,0)(1,0,0)[7] intercept   : AIC=49.478, Time=0.08 sec\n",
      " ARIMA(0,1,1)(0,0,1)[7] intercept   : AIC=49.443, Time=0.09 sec\n",
      " ARIMA(0,1,0)(0,0,0)[7]             : AIC=45.450, Time=0.02 sec\n",
      " ARIMA(0,1,0)(1,0,0)[7] intercept   : AIC=47.494, Time=0.05 sec\n",
      " ARIMA(0,1,0)(0,0,1)[7] intercept   : AIC=47.467, Time=0.09 sec\n",
      " ARIMA(0,1,0)(1,0,1)[7] intercept   : AIC=49.510, Time=0.22 sec\n",
      " ARIMA(1,1,0)(0,0,0)[7] intercept   : AIC=48.348, Time=0.07 sec\n",
      " ARIMA(0,1,1)(0,0,0)[7] intercept   : AIC=48.345, Time=0.05 sec\n",
      " ARIMA(1,1,1)(0,0,0)[7] intercept   : AIC=49.950, Time=0.05 sec\n",
      "\n",
      "Best model:  ARIMA(0,1,0)(0,0,0)[7]          \n",
      "Total fit time: 2.222 seconds\n",
      "                               SARIMAX Results                                \n",
      "==============================================================================\n",
      "Dep. Variable:                      y   No. Observations:                   81\n",
      "Model:               SARIMAX(0, 1, 0)   Log Likelihood                 -21.725\n",
      "Date:                Sun, 14 Feb 2021   AIC                             45.450\n",
      "Time:                        14:49:07   BIC                             47.832\n",
      "Sample:                             0   HQIC                            46.405\n",
      "                                 - 81                                         \n",
      "Covariance Type:                  opg                                         \n",
      "==============================================================================\n",
      "                 coef    std err          z      P>|z|      [0.025      0.975]\n",
      "------------------------------------------------------------------------------\n",
      "sigma2         0.1008      0.007     14.401      0.000       0.087       0.115\n",
      "===================================================================================\n",
      "Ljung-Box (Q):                       41.42   Jarque-Bera (JB):               233.92\n",
      "Prob(Q):                              0.41   Prob(JB):                         0.00\n",
      "Heteroskedasticity (H):               2.51   Skew:                             0.84\n",
      "Prob(H) (two-sided):                  0.02   Kurtosis:                        11.20\n",
      "===================================================================================\n",
      "\n",
      "Warnings:\n",
      "[1] Covariance matrix calculated using the outer product of gradients (complex-step).\n",
      "CPU times: user 4.57 s, sys: 4.66 s, total: 9.23 s\n",
      "Wall time: 2.25 s\n"
     ]
    },
    {
     "data": {
      "text/plain": [
       "array([68.593, 68.593, 68.593, 68.593, 68.593, 68.593, 68.593])"
      ]
     },
     "execution_count": 121,
     "metadata": {},
     "output_type": "execute_result"
    }
   ],
   "source": [
    "%%time\n",
    "pm_auro1 = pmdarima.auto_arima(y = sku_98255['price_per_sku_real'][:-10], n_fits=100,\n",
    "    max_p=15, max_d=15, max_q=15, start_p=1, start_q=1, start_P=5, start_Q=5, m=7, information_criterion='oob',\n",
    "    max_P=12, max_D=12, max_order=15, trace=True, maxiter=3)\n",
    "print(pm_auro1.summary())\n",
    "pm_auro1.predict(n_periods=7, )"
   ]
  },
  {
   "cell_type": "code",
   "execution_count": 73,
   "metadata": {},
   "outputs": [
    {
     "data": {
      "text/plain": [
       "<matplotlib.axes._subplots.AxesSubplot at 0x7fb1193487b8>"
      ]
     },
     "execution_count": 73,
     "metadata": {},
     "output_type": "execute_result"
    },
    {
     "data": {
      "image/png": "[encoded data removed]",
      "text/plain": [
       "<Figure size 432x288 with 1 Axes>"
      ]
     },
     "metadata": {
      "needs_background": "light"
     },
     "output_type": "display_data"
    }
   ],
   "source": [
    "sku_98255['price_per_sku'].plot()"
   ]
  },
  {
   "cell_type": "code",
   "execution_count": 94,
   "metadata": {},
   "outputs": [
    {
     "name": "stderr",
     "output_type": "stream",
     "text": [
      "/opt/tljh/user/lib/python3.7/site-packages/statsmodels/tsa/statespace/sarimax.py:963: UserWarning: Non-stationary starting autoregressive parameters found. Using zeros as starting parameters.\n",
      "  warn('Non-stationary starting autoregressive parameters'\n",
      "/opt/tljh/user/lib/python3.7/site-packages/statsmodels/tsa/statespace/sarimax.py:975: UserWarning: Non-invertible starting MA parameters found. Using zeros as starting parameters.\n",
      "  warn('Non-invertible starting MA parameters found.'\n",
      "/opt/tljh/user/lib/python3.7/site-packages/statsmodels/base/model.py:568: ConvergenceWarning: Maximum Likelihood optimization failed to converge. Check mle_retvals\n",
      "  \"Check mle_retvals\", ConvergenceWarning)\n"
     ]
    }
   ],
   "source": [
    "# Seasonal Autoregressive Integrated Moving-Average \n",
    "SARIMA = SARIMAX(sku_98255.price_per_sku.values, order=(13,1,13), seasonal= (0,0,0,0))\n",
    "SARIMA_model = SARIMA.fit()"
   ]
  },
  {
   "cell_type": "code",
   "execution_count": 96,
   "metadata": {},
   "outputs": [
    {
     "data": {
      "text/plain": [
       "array([67.14716295, 67.07363209, 66.88103754, 66.75168021, 66.92303856,\n",
       "       66.94552969, 66.85301919])"
      ]
     },
     "execution_count": 96,
     "metadata": {},
     "output_type": "execute_result"
    }
   ],
   "source": [
    "SARIMA_model.predict(start =len(sku_98255), end= len(sku_98255) + len(sku_98255_test)-1)"
   ]
  },
  {
   "cell_type": "code",
   "execution_count": 91,
   "metadata": {},
   "outputs": [
    {
     "data": {
      "text/plain": [
       "array([65.639, 65.94 , 65.94 , 65.94 , 65.94 , 65.94 , 65.821, 65.821,\n",
       "       65.821, 65.821, 65.821, 65.821, 66.36 , 66.36 , 66.36 , 66.36 ,\n",
       "       66.36 , 66.36 , 66.234, 66.234, 66.234, 67.284, 67.284, 67.284,\n",
       "       67.284, 67.284, 67.41 , 67.41 , 67.41 , 67.41 , 66.78 , 66.78 ,\n",
       "       66.78 , 66.78 , 66.78 , 66.78 , 67.403, 67.403, 66.192, 66.192,\n",
       "       66.192, 66.192, 66.192, 66.822, 66.822, 66.822, 66.822, 66.64 ,\n",
       "       66.64 , 66.64 , 66.64 , 66.64 , 66.731, 66.731, 66.731, 67.704,\n",
       "       67.704, 67.704, 67.704, 68.117, 68.117, 68.117, 68.117, 68.117,\n",
       "       68.117, 68.117, 68.236, 68.236, 68.236, 68.236, 67.41 , 67.41 ,\n",
       "       67.41 , 67.41 , 67.186, 67.186, 67.186, 68.593, 68.593, 68.593,\n",
       "       68.593, 68.593, 68.593, 67.032, 67.032, 67.032, 67.032, 67.032,\n",
       "       67.116, 67.116, 67.116])"
      ]
     },
     "execution_count": 91,
     "metadata": {},
     "output_type": "execute_result"
    }
   ],
   "source": [
    "sku_98255.price_per_sku.values"
   ]
  },
  {
   "cell_type": "markdown",
   "metadata": {},
   "source": [
    "## explore 1 sku 68211"
   ]
  },
  {
   "cell_type": "code",
   "execution_count": 100,
   "metadata": {},
   "outputs": [
    {
     "data": {
      "text/html": [
       "<div>\n",
       "<style scoped>\n",
       "    .dataframe tbody tr th:only-of-type {\n",
       "        vertical-align: middle;\n",
       "    }\n",
       "\n",
       "    .dataframe tbody tr th {\n",
       "        vertical-align: top;\n",
       "    }\n",
       "\n",
       "    .dataframe thead tr th {\n",
       "        text-align: left;\n",
       "    }\n",
       "\n",
       "    .dataframe thead tr:last-of-type th {\n",
       "        text-align: right;\n",
       "    }\n",
       "</style>\n",
       "<table border=\"1\" class=\"dataframe\">\n",
       "  <thead>\n",
       "    <tr>\n",
       "      <th></th>\n",
       "      <th>price_per_sku</th>\n",
       "      <th>price_per_sku_real</th>\n",
       "    </tr>\n",
       "    <tr>\n",
       "      <th>SKU</th>\n",
       "      <th>68211</th>\n",
       "      <th>68211</th>\n",
       "    </tr>\n",
       "    <tr>\n",
       "      <th>dates</th>\n",
       "      <th></th>\n",
       "      <th></th>\n",
       "    </tr>\n",
       "  </thead>\n",
       "  <tbody>\n",
       "    <tr>\n",
       "      <th>2018-03-07</th>\n",
       "      <td>160.008</td>\n",
       "      <td>160.008</td>\n",
       "    </tr>\n",
       "    <tr>\n",
       "      <th>2018-03-08</th>\n",
       "      <td>160.008</td>\n",
       "      <td>160.008</td>\n",
       "    </tr>\n",
       "    <tr>\n",
       "      <th>2018-03-11</th>\n",
       "      <td>160.008</td>\n",
       "      <td>160.008</td>\n",
       "    </tr>\n",
       "    <tr>\n",
       "      <th>2018-03-12</th>\n",
       "      <td>160.190</td>\n",
       "      <td>160.190</td>\n",
       "    </tr>\n",
       "    <tr>\n",
       "      <th>2018-03-14</th>\n",
       "      <td>160.190</td>\n",
       "      <td>160.190</td>\n",
       "    </tr>\n",
       "  </tbody>\n",
       "</table>\n",
       "</div>"
      ],
      "text/plain": [
       "           price_per_sku price_per_sku_real\n",
       "SKU                68211              68211\n",
       "dates                                      \n",
       "2018-03-07       160.008            160.008\n",
       "2018-03-08       160.008            160.008\n",
       "2018-03-11       160.008            160.008\n",
       "2018-03-12       160.190            160.190\n",
       "2018-03-14       160.190            160.190"
      ]
     },
     "execution_count": 100,
     "metadata": {},
     "output_type": "execute_result"
    }
   ],
   "source": [
    "## 1.2 ## explore 1 sku 68211\n",
    "\n",
    "sku_68211 = ttl_sku_df.loc[ttl_sku_df.SKU == 68211]\n",
    "sku_68211_test = test_df.loc[test_df.SKU == 68211]\n",
    "sku_68211_pivot = sku_68211.pivot_table(index='dates', values=['price_per_sku', 'price_per_sku_real'], columns='SKU')\n",
    "sku_68211_pivot.head()"
   ]
  },
  {
   "cell_type": "code",
   "execution_count": 107,
   "metadata": {},
   "outputs": [
    {
     "data": {
      "text/plain": [
       "<matplotlib.axes._subplots.AxesSubplot at 0x7fb1194289b0>"
      ]
     },
     "execution_count": 107,
     "metadata": {},
     "output_type": "execute_result"
    },
    {
     "data": {
      "image/png": "[encoded data removed]",
      "text/plain": [
       "<Figure size 864x576 with 1 Axes>"
      ]
     },
     "metadata": {
      "needs_background": "light"
     },
     "output_type": "display_data"
    }
   ],
   "source": [
    "plt.figure(figsize=(12,8))\n",
    "autocorrelation_plot(sku_68211.price_per_sku_real.values)"
   ]
  },
  {
   "cell_type": "code",
   "execution_count": 106,
   "metadata": {},
   "outputs": [
    {
     "data": {
      "text/plain": [
       "<matplotlib.axes._subplots.AxesSubplot at 0x7fb1193db7b8>"
      ]
     },
     "execution_count": 106,
     "metadata": {},
     "output_type": "execute_result"
    },
    {
     "data": {
      "image/png": "[encoded data removed]",
      "text/plain": [
       "<Figure size 432x288 with 1 Axes>"
      ]
     },
     "metadata": {
      "needs_background": "light"
     },
     "output_type": "display_data"
    }
   ],
   "source": [
    "sku_68211['price_per_sku_real'].plot()"
   ]
  },
  {
   "cell_type": "code",
   "execution_count": 127,
   "metadata": {
    "scrolled": true
   },
   "outputs": [
    {
     "name": "stderr",
     "output_type": "stream",
     "text": [
      "/home/jupyter-e.kozhevnikov-1/.local/lib/python3.7/site-packages/pmdarima/arima/_validation.py:35: UserWarning: information_criterion cannot be 'oob' with out_of_sample_size = 0. Falling back to information criterion = aic.\n",
      "  warnings.warn('information_criterion cannot be \\'oob\\' with '\n"
     ]
    },
    {
     "name": "stdout",
     "output_type": "stream",
     "text": [
      "Performing stepwise search to minimize aic\n",
      " ARIMA(1,1,1)(5,0,5)[7] intercept   : AIC=433.661, Time=2.17 sec\n",
      " ARIMA(0,1,0)(0,0,0)[7] intercept   : AIC=445.071, Time=0.04 sec\n",
      " ARIMA(1,1,0)(1,0,0)[7] intercept   : AIC=422.717, Time=0.12 sec\n",
      " ARIMA(0,1,1)(0,0,1)[7] intercept   : AIC=416.873, Time=0.11 sec\n",
      " ARIMA(0,1,0)(0,0,0)[7]             : AIC=443.271, Time=0.01 sec\n",
      " ARIMA(0,1,1)(0,0,0)[7] intercept   : AIC=417.202, Time=0.03 sec\n",
      " ARIMA(0,1,1)(1,0,1)[7] intercept   : AIC=418.506, Time=0.10 sec\n",
      " ARIMA(0,1,1)(0,0,2)[7] intercept   : AIC=416.881, Time=0.17 sec\n",
      " ARIMA(0,1,1)(1,0,0)[7] intercept   : AIC=416.669, Time=0.08 sec\n",
      " ARIMA(0,1,1)(2,0,0)[7] intercept   : AIC=417.297, Time=0.19 sec\n",
      " ARIMA(0,1,1)(2,0,1)[7] intercept   : AIC=418.656, Time=0.23 sec\n",
      " ARIMA(0,1,0)(1,0,0)[7] intercept   : AIC=447.020, Time=0.08 sec\n",
      " ARIMA(1,1,1)(1,0,0)[7] intercept   : AIC=418.504, Time=0.12 sec\n",
      " ARIMA(0,1,2)(1,0,0)[7] intercept   : AIC=417.304, Time=0.11 sec\n",
      " ARIMA(1,1,2)(1,0,0)[7] intercept   : AIC=419.876, Time=0.10 sec\n",
      " ARIMA(0,1,1)(1,0,0)[7]             : AIC=415.096, Time=0.04 sec\n",
      " ARIMA(0,1,1)(0,0,0)[7]             : AIC=415.843, Time=0.02 sec\n",
      " ARIMA(0,1,1)(2,0,0)[7]             : AIC=415.207, Time=0.10 sec\n",
      " ARIMA(0,1,1)(1,0,1)[7]             : AIC=417.332, Time=0.08 sec\n",
      " ARIMA(0,1,1)(0,0,1)[7]             : AIC=415.595, Time=0.08 sec\n",
      " ARIMA(0,1,1)(2,0,1)[7]             : AIC=417.388, Time=0.09 sec\n",
      " ARIMA(0,1,0)(1,0,0)[7]             : AIC=445.229, Time=0.02 sec\n",
      " ARIMA(1,1,1)(1,0,0)[7]             : AIC=416.697, Time=0.05 sec\n",
      " ARIMA(0,1,2)(1,0,0)[7]             : AIC=416.180, Time=0.04 sec\n",
      " ARIMA(1,1,0)(1,0,0)[7]             : AIC=421.190, Time=0.04 sec\n",
      " ARIMA(1,1,2)(1,0,0)[7]             : AIC=419.008, Time=0.06 sec\n",
      "\n",
      "Best model:  ARIMA(0,1,1)(1,0,0)[7]          \n",
      "Total fit time: 4.344 seconds\n",
      "                                     SARIMAX Results                                      \n",
      "==========================================================================================\n",
      "Dep. Variable:                                  y   No. Observations:                  245\n",
      "Model:             SARIMAX(0, 1, 1)x(1, 0, [], 7)   Log Likelihood                -204.548\n",
      "Date:                            Sun, 14 Feb 2021   AIC                            415.096\n",
      "Time:                                    14:53:38   BIC                            425.587\n",
      "Sample:                                         0   HQIC                           419.321\n",
      "                                            - 245                                         \n",
      "Covariance Type:                              opg                                         \n",
      "==============================================================================\n",
      "                 coef    std err          z      P>|z|      [0.025      0.975]\n",
      "------------------------------------------------------------------------------\n",
      "ma.L1         -0.3875      0.022    -17.414      0.000      -0.431      -0.344\n",
      "ar.S.L7       -0.1134      0.067     -1.690      0.091      -0.245       0.018\n",
      "sigma2         0.3128      0.010     32.865      0.000       0.294       0.331\n",
      "===================================================================================\n",
      "Ljung-Box (Q):                       64.86   Jarque-Bera (JB):             20657.67\n",
      "Prob(Q):                              0.01   Prob(JB):                         0.00\n",
      "Heteroskedasticity (H):              40.24   Skew:                             2.29\n",
      "Prob(H) (two-sided):                  0.00   Kurtosis:                        47.84\n",
      "===================================================================================\n",
      "\n",
      "Warnings:\n",
      "[1] Covariance matrix calculated using the outer product of gradients (complex-step).\n",
      "CPU times: user 18.4 s, sys: 15.1 s, total: 33.4 s\n",
      "Wall time: 4.37 s\n"
     ]
    },
    {
     "data": {
      "text/plain": [
       "array([164.26705206, 164.26705206, 164.26705206, 164.26705206,\n",
       "       164.4790387 , 164.4790387 , 164.4790387 , 164.469959  ,\n",
       "       164.469959  , 164.469959  ])"
      ]
     },
     "execution_count": 127,
     "metadata": {},
     "output_type": "execute_result"
    }
   ],
   "source": [
    "# %%time\n",
    "# pm_auro1 = pmdarima.auto_arima(y = sku_68211['price_per_sku_real'][:-10], n_fits=100,\n",
    "#     max_p=15, max_d=15, max_q=15, start_p=1, start_q=1, start_P=5, start_Q=5, m=7, information_criterion='oob',\n",
    "#     max_P=12, max_D=12, max_Q=12, max_order=15,\n",
    "# #     stepwise=False, \n",
    "#     trace=True, maxiter=3)\n",
    "# print(pm_auro1.summary())\n",
    "# pm_auro1.predict(n_periods=10)"
   ]
  },
  {
   "cell_type": "code",
   "execution_count": null,
   "metadata": {},
   "outputs": [],
   "source": [
    "%%time\n",
    "pm_auro1 = pmdarima.auto_arima(y = sku_68211['price_per_sku_real'][:-10], n_fits=100,\n",
    "    max_p=15, max_d=15, max_q=15, start_p=1, start_q=1, start_P=5, start_Q=5, m=7, information_criterion='oob',\n",
    "    max_P=12, max_D=12, max_order=15, trace=True, maxiter=3)\n",
    "print(pm_auro1.summary())\n",
    "pm_auro1.predict(n_periods=10)"
   ]
  },
  {
   "cell_type": "code",
   "execution_count": null,
   "metadata": {},
   "outputs": [],
   "source": []
  },
  {
   "cell_type": "markdown",
   "metadata": {},
   "source": [
    "# Data preparetion"
   ]
  },
  {
   "cell_type": "code",
   "execution_count": 230,
   "metadata": {},
   "outputs": [],
   "source": [
    "sku_to_predict = test_df.SKU.unique()"
   ]
  },
  {
   "cell_type": "code",
   "execution_count": 231,
   "metadata": {},
   "outputs": [
    {
     "data": {
      "text/plain": [
       "array([98255, 68211, 60870, 32950, 24125, 69997, 57561, 78833, 43678,\n",
       "       11050, 72784, 64619, 17812, 83329, 89272, 90611, 36096, 80631,\n",
       "       54404, 84395, 19632, 38767, 80308, 10334, 49661])"
      ]
     },
     "execution_count": 231,
     "metadata": {},
     "output_type": "execute_result"
    }
   ],
   "source": [
    "sku_to_predict"
   ]
  },
  {
   "cell_type": "code",
   "execution_count": 232,
   "metadata": {},
   "outputs": [
    {
     "data": {
      "text/html": [
       "<div>\n",
       "<style scoped>\n",
       "    .dataframe tbody tr th:only-of-type {\n",
       "        vertical-align: middle;\n",
       "    }\n",
       "\n",
       "    .dataframe tbody tr th {\n",
       "        vertical-align: top;\n",
       "    }\n",
       "\n",
       "    .dataframe thead th {\n",
       "        text-align: right;\n",
       "    }\n",
       "</style>\n",
       "<table border=\"1\" class=\"dataframe\">\n",
       "  <thead>\n",
       "    <tr style=\"text-align: right;\">\n",
       "      <th></th>\n",
       "      <th>dates</th>\n",
       "      <th>SKU</th>\n",
       "      <th>predict</th>\n",
       "    </tr>\n",
       "  </thead>\n",
       "  <tbody>\n",
       "    <tr>\n",
       "      <th>0</th>\n",
       "      <td>2018-12-17</td>\n",
       "      <td>98255</td>\n",
       "      <td>0</td>\n",
       "    </tr>\n",
       "    <tr>\n",
       "      <th>1</th>\n",
       "      <td>2018-12-21</td>\n",
       "      <td>98255</td>\n",
       "      <td>0</td>\n",
       "    </tr>\n",
       "    <tr>\n",
       "      <th>2</th>\n",
       "      <td>2018-12-22</td>\n",
       "      <td>98255</td>\n",
       "      <td>0</td>\n",
       "    </tr>\n",
       "    <tr>\n",
       "      <th>3</th>\n",
       "      <td>2018-12-23</td>\n",
       "      <td>98255</td>\n",
       "      <td>0</td>\n",
       "    </tr>\n",
       "    <tr>\n",
       "      <th>4</th>\n",
       "      <td>2018-12-24</td>\n",
       "      <td>98255</td>\n",
       "      <td>0</td>\n",
       "    </tr>\n",
       "  </tbody>\n",
       "</table>\n",
       "</div>"
      ],
      "text/plain": [
       "        dates    SKU  predict\n",
       "0  2018-12-17  98255        0\n",
       "1  2018-12-21  98255        0\n",
       "2  2018-12-22  98255        0\n",
       "3  2018-12-23  98255        0\n",
       "4  2018-12-24  98255        0"
      ]
     },
     "execution_count": 232,
     "metadata": {},
     "output_type": "execute_result"
    }
   ],
   "source": [
    "test_df['predict'] = 0\n",
    "test_df.head()"
   ]
  },
  {
   "cell_type": "code",
   "execution_count": 235,
   "metadata": {},
   "outputs": [
    {
     "data": {
      "text/plain": [
       "(175, 3)"
      ]
     },
     "execution_count": 235,
     "metadata": {},
     "output_type": "execute_result"
    }
   ],
   "source": [
    "test_df.shape"
   ]
  },
  {
   "cell_type": "code",
   "execution_count": 236,
   "metadata": {},
   "outputs": [
    {
     "name": "stderr",
     "output_type": "stream",
     "text": [
      "/home/jupyter-e.kozhevnikov-1/.local/lib/python3.7/site-packages/pmdarima/arima/_validation.py:35: UserWarning: information_criterion cannot be 'oob' with out_of_sample_size = 0. Falling back to information criterion = aic.\n",
      "  warnings.warn('information_criterion cannot be \\'oob\\' with '\n"
     ]
    },
    {
     "name": "stdout",
     "output_type": "stream",
     "text": [
      "Performing stepwise search to minimize aic\n",
      " ARIMA(1,1,1)(5,0,5)[7] intercept   : AIC=85.729, Time=1.01 sec\n",
      " ARIMA(0,1,0)(0,0,0)[7] intercept   : AIC=65.900, Time=0.04 sec\n",
      " ARIMA(1,1,0)(1,0,0)[7] intercept   : AIC=69.504, Time=0.07 sec\n",
      " ARIMA(0,1,1)(0,0,1)[7] intercept   : AIC=69.492, Time=0.05 sec\n",
      " ARIMA(0,1,0)(0,0,0)[7]             : AIC=64.107, Time=0.01 sec\n",
      " ARIMA(0,1,0)(1,0,0)[7] intercept   : AIC=67.518, Time=0.04 sec\n",
      " ARIMA(0,1,0)(0,0,1)[7] intercept   : AIC=67.508, Time=0.04 sec\n",
      " ARIMA(0,1,0)(1,0,1)[7] intercept   : AIC=69.629, Time=0.06 sec\n",
      " ARIMA(1,1,0)(0,0,0)[7] intercept   : AIC=67.899, Time=0.02 sec\n",
      " ARIMA(0,1,1)(0,0,0)[7] intercept   : AIC=67.899, Time=0.02 sec\n",
      " ARIMA(1,1,1)(0,0,0)[7] intercept   : AIC=69.782, Time=0.03 sec\n",
      "\n",
      "Best model:  ARIMA(0,1,0)(0,0,0)[7]          \n",
      "Total fit time: 1.415 seconds\n",
      "Performing stepwise search to minimize aic\n"
     ]
    },
    {
     "name": "stderr",
     "output_type": "stream",
     "text": [
      "/home/jupyter-e.kozhevnikov-1/.local/lib/python3.7/site-packages/pmdarima/arima/_validation.py:35: UserWarning: information_criterion cannot be 'oob' with out_of_sample_size = 0. Falling back to information criterion = aic.\n",
      "  warnings.warn('information_criterion cannot be \\'oob\\' with '\n"
     ]
    },
    {
     "name": "stdout",
     "output_type": "stream",
     "text": [
      " ARIMA(1,1,1)(5,0,5)[7] intercept   : AIC=443.553, Time=1.88 sec\n",
      " ARIMA(0,1,0)(0,0,0)[7] intercept   : AIC=455.937, Time=0.05 sec\n",
      " ARIMA(1,1,0)(1,0,0)[7] intercept   : AIC=432.901, Time=0.12 sec\n",
      " ARIMA(0,1,1)(0,0,1)[7] intercept   : AIC=426.994, Time=0.15 sec\n",
      " ARIMA(0,1,0)(0,0,0)[7]             : AIC=454.292, Time=0.03 sec\n",
      " ARIMA(0,1,1)(0,0,0)[7] intercept   : AIC=427.675, Time=0.04 sec\n",
      " ARIMA(0,1,1)(1,0,1)[7] intercept   : AIC=428.518, Time=0.12 sec\n",
      " ARIMA(0,1,1)(0,0,2)[7] intercept   : AIC=426.963, Time=0.22 sec\n",
      " ARIMA(0,1,1)(1,0,2)[7] intercept   : AIC=428.959, Time=0.25 sec\n",
      " ARIMA(0,1,1)(0,0,3)[7] intercept   : AIC=428.551, Time=0.37 sec\n",
      " ARIMA(0,1,1)(1,0,3)[7] intercept   : AIC=430.604, Time=0.43 sec\n",
      " ARIMA(0,1,0)(0,0,2)[7] intercept   : AIC=458.313, Time=0.17 sec\n",
      " ARIMA(1,1,1)(0,0,2)[7] intercept   : AIC=428.635, Time=0.21 sec\n",
      " ARIMA(0,1,2)(0,0,2)[7] intercept   : AIC=427.522, Time=0.26 sec\n",
      " ARIMA(1,1,0)(0,0,2)[7] intercept   : AIC=433.556, Time=0.18 sec\n",
      " ARIMA(1,1,2)(0,0,2)[7] intercept   : AIC=432.899, Time=0.29 sec\n",
      " ARIMA(0,1,1)(0,0,2)[7]             : AIC=426.206, Time=0.12 sec\n",
      " ARIMA(0,1,1)(0,0,1)[7]             : AIC=426.174, Time=0.05 sec\n",
      " ARIMA(0,1,1)(0,0,0)[7]             : AIC=426.667, Time=0.02 sec\n",
      " ARIMA(0,1,1)(1,0,1)[7]             : AIC=427.729, Time=0.06 sec\n",
      " ARIMA(0,1,1)(1,0,0)[7]             : AIC=425.603, Time=0.05 sec\n",
      " ARIMA(0,1,1)(2,0,0)[7]             : AIC=425.527, Time=0.10 sec\n",
      " ARIMA(0,1,1)(3,0,0)[7]             : AIC=427.164, Time=0.18 sec\n",
      " ARIMA(0,1,1)(2,0,1)[7]             : AIC=427.784, Time=0.09 sec\n",
      " ARIMA(0,1,1)(3,0,1)[7]             : AIC=429.479, Time=0.19 sec\n",
      " ARIMA(0,1,0)(2,0,0)[7]             : AIC=456.514, Time=0.08 sec\n",
      " ARIMA(1,1,1)(2,0,0)[7]             : AIC=427.144, Time=0.11 sec\n",
      " ARIMA(0,1,2)(2,0,0)[7]             : AIC=426.265, Time=0.14 sec\n",
      " ARIMA(1,1,0)(2,0,0)[7]             : AIC=431.948, Time=0.13 sec\n",
      " ARIMA(1,1,2)(2,0,0)[7]             : AIC=431.609, Time=0.14 sec\n",
      " ARIMA(0,1,1)(2,0,0)[7] intercept   : AIC=426.877, Time=0.19 sec\n",
      "\n",
      "Best model:  ARIMA(0,1,1)(2,0,0)[7]          \n",
      "Total fit time: 6.444 seconds\n"
     ]
    },
    {
     "name": "stderr",
     "output_type": "stream",
     "text": [
      "/home/jupyter-e.kozhevnikov-1/.local/lib/python3.7/site-packages/pmdarima/arima/_validation.py:35: UserWarning: information_criterion cannot be 'oob' with out_of_sample_size = 0. Falling back to information criterion = aic.\n",
      "  warnings.warn('information_criterion cannot be \\'oob\\' with '\n"
     ]
    },
    {
     "name": "stdout",
     "output_type": "stream",
     "text": [
      "Performing stepwise search to minimize aic\n",
      " ARIMA(1,1,1)(5,0,5)[7] intercept   : AIC=-390.027, Time=7.34 sec\n",
      " ARIMA(0,1,0)(0,0,0)[7] intercept   : AIC=-413.253, Time=0.14 sec\n",
      " ARIMA(1,1,0)(1,0,0)[7] intercept   : AIC=-409.637, Time=0.20 sec\n",
      " ARIMA(0,1,1)(0,0,1)[7] intercept   : AIC=-409.642, Time=0.19 sec\n",
      " ARIMA(0,1,0)(0,0,0)[7]             : AIC=-412.888, Time=0.05 sec\n",
      " ARIMA(0,1,0)(1,0,0)[7] intercept   : AIC=-411.626, Time=0.10 sec\n",
      " ARIMA(0,1,0)(0,0,1)[7] intercept   : AIC=-411.631, Time=0.22 sec\n",
      " ARIMA(0,1,0)(1,0,1)[7] intercept   : AIC=-409.631, Time=0.19 sec\n",
      " ARIMA(1,1,0)(0,0,0)[7] intercept   : AIC=-411.261, Time=0.08 sec\n",
      " ARIMA(0,1,1)(0,0,0)[7] intercept   : AIC=-411.261, Time=0.10 sec\n",
      " ARIMA(1,1,1)(0,0,0)[7] intercept   : AIC=-409.256, Time=0.09 sec\n",
      "\n",
      "Best model:  ARIMA(0,1,0)(0,0,0)[7] intercept\n",
      "Total fit time: 8.726 seconds\n"
     ]
    },
    {
     "name": "stderr",
     "output_type": "stream",
     "text": [
      "/home/jupyter-e.kozhevnikov-1/.local/lib/python3.7/site-packages/pmdarima/arima/_validation.py:35: UserWarning: information_criterion cannot be 'oob' with out_of_sample_size = 0. Falling back to information criterion = aic.\n",
      "  warnings.warn('information_criterion cannot be \\'oob\\' with '\n"
     ]
    },
    {
     "name": "stdout",
     "output_type": "stream",
     "text": [
      "Performing stepwise search to minimize aic\n",
      " ARIMA(1,1,1)(5,0,5)[7] intercept   : AIC=878.604, Time=1.15 sec\n",
      " ARIMA(0,1,0)(0,0,0)[7] intercept   : AIC=855.714, Time=0.01 sec\n",
      " ARIMA(1,1,0)(1,0,0)[7] intercept   : AIC=859.360, Time=0.07 sec\n",
      " ARIMA(0,1,1)(0,0,1)[7] intercept   : AIC=859.371, Time=0.06 sec\n",
      " ARIMA(0,1,0)(0,0,0)[7]             : AIC=854.069, Time=0.01 sec\n",
      " ARIMA(0,1,0)(1,0,0)[7] intercept   : AIC=857.589, Time=0.05 sec\n",
      " ARIMA(0,1,0)(0,0,1)[7] intercept   : AIC=857.571, Time=0.04 sec\n",
      " ARIMA(0,1,0)(1,0,1)[7] intercept   : AIC=859.577, Time=0.11 sec\n",
      " ARIMA(1,1,0)(0,0,0)[7] intercept   : AIC=857.455, Time=0.04 sec\n",
      " ARIMA(0,1,1)(0,0,0)[7] intercept   : AIC=857.471, Time=0.05 sec\n",
      " ARIMA(1,1,1)(0,0,0)[7] intercept   : AIC=859.628, Time=0.04 sec\n",
      "\n",
      "Best model:  ARIMA(0,1,0)(0,0,0)[7]          \n",
      "Total fit time: 1.683 seconds\n",
      "Performing stepwise search to minimize aic\n"
     ]
    },
    {
     "name": "stderr",
     "output_type": "stream",
     "text": [
      "/home/jupyter-e.kozhevnikov-1/.local/lib/python3.7/site-packages/pmdarima/arima/_validation.py:35: UserWarning: information_criterion cannot be 'oob' with out_of_sample_size = 0. Falling back to information criterion = aic.\n",
      "  warnings.warn('information_criterion cannot be \\'oob\\' with '\n"
     ]
    },
    {
     "name": "stdout",
     "output_type": "stream",
     "text": [
      " ARIMA(1,1,1)(5,0,5)[7] intercept   : AIC=4.536, Time=3.45 sec\n",
      " ARIMA(0,1,0)(0,0,0)[7] intercept   : AIC=-19.466, Time=0.07 sec\n",
      " ARIMA(1,1,0)(1,0,0)[7] intercept   : AIC=-15.466, Time=0.13 sec\n",
      " ARIMA(0,1,1)(0,0,1)[7] intercept   : AIC=-15.466, Time=0.22 sec\n",
      " ARIMA(0,1,0)(0,0,0)[7]             : AIC=-21.211, Time=0.06 sec\n",
      " ARIMA(0,1,0)(1,0,0)[7] intercept   : AIC=-17.466, Time=0.17 sec\n",
      " ARIMA(0,1,0)(0,0,1)[7] intercept   : AIC=-17.466, Time=0.10 sec\n",
      " ARIMA(0,1,0)(1,0,1)[7] intercept   : AIC=-15.466, Time=0.12 sec\n",
      " ARIMA(1,1,0)(0,0,0)[7] intercept   : AIC=-17.466, Time=0.04 sec\n",
      " ARIMA(0,1,1)(0,0,0)[7] intercept   : AIC=-17.466, Time=0.06 sec\n",
      " ARIMA(1,1,1)(0,0,0)[7] intercept   : AIC=-15.466, Time=0.06 sec\n",
      "\n",
      "Best model:  ARIMA(0,1,0)(0,0,0)[7]          \n",
      "Total fit time: 4.499 seconds\n",
      "Performing stepwise search to minimize aic\n"
     ]
    },
    {
     "name": "stderr",
     "output_type": "stream",
     "text": [
      "/home/jupyter-e.kozhevnikov-1/.local/lib/python3.7/site-packages/pmdarima/arima/_validation.py:35: UserWarning: information_criterion cannot be 'oob' with out_of_sample_size = 0. Falling back to information criterion = aic.\n",
      "  warnings.warn('information_criterion cannot be \\'oob\\' with '\n"
     ]
    },
    {
     "name": "stdout",
     "output_type": "stream",
     "text": [
      " ARIMA(1,1,1)(5,0,5)[7] intercept   : AIC=84.623, Time=0.71 sec\n",
      " ARIMA(0,1,0)(0,0,0)[7] intercept   : AIC=70.627, Time=0.02 sec\n",
      " ARIMA(1,1,0)(1,0,0)[7] intercept   : AIC=74.626, Time=0.04 sec\n",
      " ARIMA(0,1,1)(0,0,1)[7] intercept   : AIC=74.627, Time=0.06 sec\n",
      " ARIMA(0,1,0)(0,0,0)[7]             : AIC=68.628, Time=0.01 sec\n",
      " ARIMA(0,1,0)(1,0,0)[7] intercept   : AIC=72.626, Time=0.03 sec\n",
      " ARIMA(0,1,0)(0,0,1)[7] intercept   : AIC=72.626, Time=0.03 sec\n",
      " ARIMA(0,1,0)(1,0,1)[7] intercept   : AIC=74.626, Time=0.03 sec\n",
      " ARIMA(1,1,0)(0,0,0)[7] intercept   : AIC=72.627, Time=0.02 sec\n",
      " ARIMA(0,1,1)(0,0,0)[7] intercept   : AIC=72.627, Time=0.02 sec\n",
      " ARIMA(1,1,1)(0,0,0)[7] intercept   : AIC=74.627, Time=0.03 sec\n",
      "\n",
      "Best model:  ARIMA(0,1,0)(0,0,0)[7]          \n",
      "Total fit time: 1.011 seconds\n",
      "Performing stepwise search to minimize aic\n"
     ]
    },
    {
     "name": "stderr",
     "output_type": "stream",
     "text": [
      "/home/jupyter-e.kozhevnikov-1/.local/lib/python3.7/site-packages/pmdarima/arima/_validation.py:35: UserWarning: information_criterion cannot be 'oob' with out_of_sample_size = 0. Falling back to information criterion = aic.\n",
      "  warnings.warn('information_criterion cannot be \\'oob\\' with '\n"
     ]
    },
    {
     "name": "stdout",
     "output_type": "stream",
     "text": [
      " ARIMA(1,1,1)(5,0,5)[7] intercept   : AIC=700.562, Time=4.59 sec\n",
      " ARIMA(0,1,0)(0,0,0)[7] intercept   : AIC=693.948, Time=0.07 sec\n",
      " ARIMA(1,1,0)(1,0,0)[7] intercept   : AIC=683.635, Time=0.18 sec\n",
      " ARIMA(0,1,1)(0,0,1)[7] intercept   : AIC=682.515, Time=0.12 sec\n",
      " ARIMA(0,1,0)(0,0,0)[7]             : AIC=692.450, Time=0.02 sec\n",
      " ARIMA(0,1,1)(0,0,0)[7] intercept   : AIC=681.147, Time=0.06 sec\n",
      " ARIMA(0,1,1)(1,0,0)[7] intercept   : AIC=682.511, Time=0.12 sec\n",
      " ARIMA(0,1,1)(1,0,1)[7] intercept   : AIC=684.520, Time=0.18 sec\n",
      " ARIMA(1,1,1)(0,0,0)[7] intercept   : AIC=682.817, Time=0.09 sec\n",
      " ARIMA(0,1,2)(0,0,0)[7] intercept   : AIC=682.697, Time=0.07 sec\n",
      " ARIMA(1,1,0)(0,0,0)[7] intercept   : AIC=682.102, Time=0.04 sec\n",
      " ARIMA(1,1,2)(0,0,0)[7] intercept   : AIC=685.286, Time=0.08 sec\n",
      " ARIMA(0,1,1)(0,0,0)[7]             : AIC=680.012, Time=0.04 sec\n",
      " ARIMA(0,1,1)(1,0,0)[7]             : AIC=681.488, Time=0.07 sec\n",
      " ARIMA(0,1,1)(0,0,1)[7]             : AIC=681.481, Time=0.08 sec\n",
      " ARIMA(0,1,1)(1,0,1)[7]             : AIC=683.490, Time=0.11 sec\n",
      " ARIMA(1,1,1)(0,0,0)[7]             : AIC=681.782, Time=0.05 sec\n",
      " ARIMA(0,1,2)(0,0,0)[7]             : AIC=681.667, Time=0.03 sec\n",
      " ARIMA(1,1,0)(0,0,0)[7]             : AIC=680.871, Time=0.02 sec\n",
      " ARIMA(1,1,2)(0,0,0)[7]             : AIC=684.132, Time=0.04 sec\n",
      "\n",
      "Best model:  ARIMA(0,1,1)(0,0,0)[7]          \n",
      "Total fit time: 6.085 seconds\n",
      "Performing stepwise search to minimize aic\n"
     ]
    },
    {
     "name": "stderr",
     "output_type": "stream",
     "text": [
      "/home/jupyter-e.kozhevnikov-1/.local/lib/python3.7/site-packages/pmdarima/arima/_validation.py:35: UserWarning: information_criterion cannot be 'oob' with out_of_sample_size = 0. Falling back to information criterion = aic.\n",
      "  warnings.warn('information_criterion cannot be \\'oob\\' with '\n"
     ]
    },
    {
     "name": "stdout",
     "output_type": "stream",
     "text": [
      " ARIMA(1,1,1)(5,0,5)[7] intercept   : AIC=533.639, Time=0.82 sec\n",
      " ARIMA(0,1,0)(0,0,0)[7] intercept   : AIC=513.987, Time=0.01 sec\n",
      " ARIMA(1,1,0)(1,0,0)[7] intercept   : AIC=517.857, Time=0.04 sec\n",
      " ARIMA(0,1,1)(0,0,1)[7] intercept   : AIC=517.840, Time=0.04 sec\n",
      " ARIMA(0,1,0)(0,0,0)[7]             : AIC=512.025, Time=0.01 sec\n",
      " ARIMA(0,1,0)(1,0,0)[7] intercept   : AIC=515.877, Time=0.03 sec\n",
      " ARIMA(0,1,0)(0,0,1)[7] intercept   : AIC=515.867, Time=0.03 sec\n",
      " ARIMA(0,1,0)(1,0,1)[7] intercept   : AIC=517.889, Time=0.04 sec\n",
      " ARIMA(1,1,0)(0,0,0)[7] intercept   : AIC=515.933, Time=0.02 sec\n",
      " ARIMA(0,1,1)(0,0,0)[7] intercept   : AIC=515.913, Time=0.04 sec\n",
      " ARIMA(1,1,1)(0,0,0)[7] intercept   : AIC=516.717, Time=0.05 sec\n",
      "\n",
      "Best model:  ARIMA(0,1,0)(0,0,0)[7]          \n",
      "Total fit time: 1.148 seconds\n",
      "Performing stepwise search to minimize aic\n"
     ]
    },
    {
     "name": "stderr",
     "output_type": "stream",
     "text": [
      "/home/jupyter-e.kozhevnikov-1/.local/lib/python3.7/site-packages/pmdarima/arima/_validation.py:35: UserWarning: information_criterion cannot be 'oob' with out_of_sample_size = 0. Falling back to information criterion = aic.\n",
      "  warnings.warn('information_criterion cannot be \\'oob\\' with '\n"
     ]
    },
    {
     "name": "stdout",
     "output_type": "stream",
     "text": [
      " ARIMA(1,1,1)(5,0,5)[7] intercept   : AIC=inf, Time=2.00 sec\n",
      " ARIMA(0,1,0)(0,0,0)[7] intercept   : AIC=605.669, Time=0.09 sec\n",
      " ARIMA(1,1,0)(1,0,0)[7] intercept   : AIC=608.399, Time=0.08 sec\n",
      " ARIMA(0,1,1)(0,0,1)[7] intercept   : AIC=608.353, Time=0.11 sec\n",
      " ARIMA(0,1,0)(0,0,0)[7]             : AIC=603.779, Time=0.02 sec\n",
      " ARIMA(0,1,0)(1,0,0)[7] intercept   : AIC=606.509, Time=0.07 sec\n",
      " ARIMA(0,1,0)(0,0,1)[7] intercept   : AIC=606.486, Time=0.08 sec\n",
      " ARIMA(0,1,0)(1,0,1)[7] intercept   : AIC=608.486, Time=0.11 sec\n",
      " ARIMA(1,1,0)(0,0,0)[7] intercept   : AIC=607.668, Time=0.03 sec\n",
      " ARIMA(0,1,1)(0,0,0)[7] intercept   : AIC=607.668, Time=0.04 sec\n",
      " ARIMA(1,1,1)(0,0,0)[7] intercept   : AIC=609.668, Time=0.04 sec\n",
      "\n",
      "Best model:  ARIMA(0,1,0)(0,0,0)[7]          \n",
      "Total fit time: 2.700 seconds\n",
      "Performing stepwise search to minimize aic\n"
     ]
    },
    {
     "name": "stderr",
     "output_type": "stream",
     "text": [
      "/home/jupyter-e.kozhevnikov-1/.local/lib/python3.7/site-packages/pmdarima/arima/_validation.py:35: UserWarning: information_criterion cannot be 'oob' with out_of_sample_size = 0. Falling back to information criterion = aic.\n",
      "  warnings.warn('information_criterion cannot be \\'oob\\' with '\n"
     ]
    },
    {
     "name": "stdout",
     "output_type": "stream",
     "text": [
      " ARIMA(1,1,1)(5,0,5)[7] intercept   : AIC=635.519, Time=20.37 sec\n",
      " ARIMA(0,1,0)(0,0,0)[7] intercept   : AIC=707.812, Time=0.25 sec\n",
      " ARIMA(1,1,0)(1,0,0)[7] intercept   : AIC=622.561, Time=0.96 sec\n",
      " ARIMA(0,1,1)(0,0,1)[7] intercept   : AIC=618.896, Time=0.95 sec\n",
      " ARIMA(0,1,0)(0,0,0)[7]             : AIC=706.287, Time=0.10 sec\n",
      " ARIMA(0,1,1)(0,0,0)[7] intercept   : AIC=616.994, Time=0.18 sec\n",
      " ARIMA(0,1,1)(1,0,0)[7] intercept   : AIC=618.891, Time=0.57 sec\n",
      " ARIMA(0,1,1)(1,0,1)[7] intercept   : AIC=620.893, Time=0.83 sec\n",
      " ARIMA(1,1,1)(0,0,0)[7] intercept   : AIC=618.990, Time=0.24 sec\n",
      " ARIMA(0,1,2)(0,0,0)[7] intercept   : AIC=618.989, Time=0.30 sec\n",
      " ARIMA(1,1,0)(0,0,0)[7] intercept   : AIC=620.771, Time=0.21 sec\n",
      " ARIMA(1,1,2)(0,0,0)[7] intercept   : AIC=624.436, Time=0.35 sec\n",
      " ARIMA(0,1,1)(0,0,0)[7]             : AIC=615.796, Time=0.11 sec\n",
      " ARIMA(0,1,1)(1,0,0)[7]             : AIC=617.676, Time=0.28 sec\n",
      " ARIMA(0,1,1)(0,0,1)[7]             : AIC=617.676, Time=0.45 sec\n",
      " ARIMA(0,1,1)(1,0,1)[7]             : AIC=619.678, Time=0.45 sec\n",
      " ARIMA(1,1,1)(0,0,0)[7]             : AIC=617.788, Time=0.16 sec\n",
      " ARIMA(0,1,2)(0,0,0)[7]             : AIC=617.788, Time=0.10 sec\n",
      " ARIMA(1,1,0)(0,0,0)[7]             : AIC=619.491, Time=0.26 sec\n",
      " ARIMA(1,1,2)(0,0,0)[7]             : AIC=622.352, Time=0.12 sec\n",
      "\n",
      "Best model:  ARIMA(0,1,1)(0,0,0)[7]          \n",
      "Total fit time: 27.308 seconds\n",
      "Performing stepwise search to minimize aic\n"
     ]
    },
    {
     "name": "stderr",
     "output_type": "stream",
     "text": [
      "/home/jupyter-e.kozhevnikov-1/.local/lib/python3.7/site-packages/pmdarima/arima/_validation.py:35: UserWarning: information_criterion cannot be 'oob' with out_of_sample_size = 0. Falling back to information criterion = aic.\n",
      "  warnings.warn('information_criterion cannot be \\'oob\\' with '\n"
     ]
    },
    {
     "name": "stdout",
     "output_type": "stream",
     "text": [
      " ARIMA(1,1,1)(5,0,5)[7] intercept   : AIC=833.196, Time=8.84 sec\n",
      " ARIMA(0,1,0)(0,0,0)[7] intercept   : AIC=840.920, Time=0.07 sec\n",
      " ARIMA(1,1,0)(1,0,0)[7] intercept   : AIC=829.243, Time=0.26 sec\n",
      " ARIMA(0,1,1)(0,0,1)[7] intercept   : AIC=828.190, Time=0.47 sec\n",
      " ARIMA(0,1,0)(0,0,0)[7]             : AIC=839.605, Time=0.04 sec\n",
      " ARIMA(0,1,1)(0,0,0)[7] intercept   : AIC=830.922, Time=0.10 sec\n",
      " ARIMA(0,1,1)(1,0,1)[7] intercept   : AIC=830.200, Time=0.48 sec\n",
      " ARIMA(0,1,1)(0,0,2)[7] intercept   : AIC=829.930, Time=0.71 sec\n",
      " ARIMA(0,1,1)(1,0,0)[7] intercept   : AIC=828.137, Time=0.29 sec\n",
      " ARIMA(0,1,1)(2,0,0)[7] intercept   : AIC=830.082, Time=0.73 sec\n",
      " ARIMA(0,1,1)(2,0,1)[7] intercept   : AIC=832.154, Time=1.50 sec\n",
      " ARIMA(0,1,0)(1,0,0)[7] intercept   : AIC=839.396, Time=0.13 sec\n",
      " ARIMA(1,1,1)(1,0,0)[7] intercept   : AIC=829.282, Time=0.56 sec\n",
      " ARIMA(0,1,2)(1,0,0)[7] intercept   : AIC=827.946, Time=0.19 sec\n",
      " ARIMA(0,1,2)(0,0,0)[7] intercept   : AIC=831.952, Time=0.12 sec\n",
      " ARIMA(0,1,2)(2,0,0)[7] intercept   : AIC=829.728, Time=0.82 sec\n",
      " ARIMA(0,1,2)(1,0,1)[7] intercept   : AIC=829.928, Time=0.49 sec\n",
      " ARIMA(0,1,2)(0,0,1)[7] intercept   : AIC=827.763, Time=0.50 sec\n",
      " ARIMA(0,1,2)(0,0,2)[7] intercept   : AIC=829.732, Time=1.11 sec\n",
      " ARIMA(0,1,2)(1,0,2)[7] intercept   : AIC=832.138, Time=1.26 sec\n",
      " ARIMA(1,1,2)(0,0,1)[7] intercept   : AIC=831.931, Time=0.34 sec\n",
      " ARIMA(0,1,3)(0,0,1)[7] intercept   : AIC=810.764, Time=0.50 sec\n",
      " ARIMA(0,1,3)(0,0,0)[7] intercept   : AIC=818.969, Time=0.14 sec\n",
      " ARIMA(0,1,3)(1,0,1)[7] intercept   : AIC=813.083, Time=0.78 sec\n",
      " ARIMA(0,1,3)(0,0,2)[7] intercept   : AIC=813.092, Time=1.18 sec\n",
      " ARIMA(0,1,3)(1,0,0)[7] intercept   : AIC=809.792, Time=0.28 sec\n",
      " ARIMA(0,1,3)(2,0,0)[7] intercept   : AIC=811.226, Time=1.21 sec\n",
      " ARIMA(0,1,3)(2,0,1)[7] intercept   : AIC=814.558, Time=1.08 sec\n",
      " ARIMA(1,1,3)(1,0,0)[7] intercept   : AIC=941.699, Time=0.64 sec\n",
      " ARIMA(0,1,4)(1,0,0)[7] intercept   : AIC=800.331, Time=0.29 sec\n",
      " ARIMA(0,1,4)(0,0,0)[7] intercept   : AIC=805.242, Time=0.24 sec\n",
      " ARIMA(0,1,4)(2,0,0)[7] intercept   : AIC=801.911, Time=0.49 sec\n",
      " ARIMA(0,1,4)(1,0,1)[7] intercept   : AIC=802.173, Time=0.31 sec\n",
      " ARIMA(0,1,4)(0,0,1)[7] intercept   : AIC=800.362, Time=0.32 sec\n",
      " ARIMA(0,1,4)(2,0,1)[7] intercept   : AIC=804.798, Time=0.97 sec\n",
      " ARIMA(1,1,4)(1,0,0)[7] intercept   : AIC=789.513, Time=0.35 sec\n",
      " ARIMA(1,1,4)(0,0,0)[7] intercept   : AIC=791.334, Time=0.25 sec\n",
      " ARIMA(1,1,4)(2,0,0)[7] intercept   : AIC=791.260, Time=0.91 sec\n",
      " ARIMA(1,1,4)(1,0,1)[7] intercept   : AIC=791.525, Time=0.66 sec\n",
      " ARIMA(1,1,4)(0,0,1)[7] intercept   : AIC=789.517, Time=0.78 sec\n",
      " ARIMA(1,1,4)(2,0,1)[7] intercept   : AIC=793.536, Time=0.88 sec\n",
      " ARIMA(2,1,4)(1,0,0)[7] intercept   : AIC=888.210, Time=0.48 sec\n",
      " ARIMA(1,1,5)(1,0,0)[7] intercept   : AIC=787.290, Time=0.39 sec\n",
      " ARIMA(1,1,5)(0,0,0)[7] intercept   : AIC=790.392, Time=0.38 sec\n",
      " ARIMA(1,1,5)(2,0,0)[7] intercept   : AIC=788.948, Time=0.70 sec\n",
      " ARIMA(1,1,5)(1,0,1)[7] intercept   : AIC=789.259, Time=0.85 sec\n",
      " ARIMA(1,1,5)(0,0,1)[7] intercept   : AIC=787.259, Time=0.88 sec\n",
      " ARIMA(1,1,5)(0,0,2)[7] intercept   : AIC=789.785, Time=1.62 sec\n",
      " ARIMA(1,1,5)(1,0,2)[7] intercept   : AIC=791.170, Time=2.04 sec\n",
      " ARIMA(0,1,5)(0,0,1)[7] intercept   : AIC=786.846, Time=0.86 sec\n",
      " ARIMA(0,1,5)(0,0,0)[7] intercept   : AIC=790.539, Time=0.17 sec\n",
      " ARIMA(0,1,5)(1,0,1)[7] intercept   : AIC=788.839, Time=0.48 sec\n",
      " ARIMA(0,1,5)(0,0,2)[7] intercept   : AIC=789.472, Time=1.14 sec\n",
      " ARIMA(0,1,5)(1,0,0)[7] intercept   : AIC=786.542, Time=0.22 sec\n",
      " ARIMA(0,1,5)(2,0,0)[7] intercept   : AIC=788.070, Time=1.07 sec\n",
      " ARIMA(0,1,5)(2,0,1)[7] intercept   : AIC=790.749, Time=1.48 sec\n",
      " ARIMA(0,1,6)(1,0,0)[7] intercept   : AIC=784.820, Time=0.54 sec\n",
      " ARIMA(0,1,6)(0,0,0)[7] intercept   : AIC=787.241, Time=0.40 sec\n",
      " ARIMA(0,1,6)(2,0,0)[7] intercept   : AIC=786.568, Time=0.94 sec\n",
      " ARIMA(0,1,6)(1,0,1)[7] intercept   : AIC=786.900, Time=1.06 sec\n",
      " ARIMA(0,1,6)(0,0,1)[7] intercept   : AIC=784.890, Time=0.73 sec\n",
      " ARIMA(0,1,6)(2,0,1)[7] intercept   : AIC=788.898, Time=1.50 sec\n",
      " ARIMA(1,1,6)(1,0,0)[7] intercept   : AIC=787.556, Time=0.56 sec\n",
      " ARIMA(0,1,6)(1,0,0)[7]             : AIC=798.090, Time=0.31 sec\n",
      "\n",
      "Best model:  ARIMA(0,1,6)(1,0,0)[7] intercept\n",
      "Total fit time: 50.227 seconds\n",
      "Performing stepwise search to minimize aic\n"
     ]
    },
    {
     "name": "stderr",
     "output_type": "stream",
     "text": [
      "/home/jupyter-e.kozhevnikov-1/.local/lib/python3.7/site-packages/pmdarima/arima/_validation.py:35: UserWarning: information_criterion cannot be 'oob' with out_of_sample_size = 0. Falling back to information criterion = aic.\n",
      "  warnings.warn('information_criterion cannot be \\'oob\\' with '\n"
     ]
    },
    {
     "name": "stdout",
     "output_type": "stream",
     "text": [
      " ARIMA(1,0,1)(5,0,5)[7] intercept   : AIC=295.336, Time=3.81 sec\n",
      " ARIMA(0,0,0)(0,0,0)[7] intercept   : AIC=346.027, Time=0.03 sec\n",
      " ARIMA(1,0,0)(1,0,0)[7] intercept   : AIC=277.146, Time=0.08 sec\n",
      " ARIMA(0,0,1)(0,0,1)[7] intercept   : AIC=299.370, Time=0.28 sec\n",
      " ARIMA(0,0,0)(0,0,0)[7]             : AIC=1315.415, Time=0.01 sec\n",
      " ARIMA(1,0,0)(0,0,0)[7] intercept   : AIC=275.143, Time=0.03 sec\n",
      " ARIMA(1,0,0)(0,0,1)[7] intercept   : AIC=277.143, Time=0.15 sec\n",
      " ARIMA(1,0,0)(1,0,1)[7] intercept   : AIC=inf, Time=0.13 sec\n",
      " ARIMA(2,0,0)(0,0,0)[7] intercept   : AIC=274.257, Time=0.05 sec\n",
      " ARIMA(2,0,0)(1,0,0)[7] intercept   : AIC=276.257, Time=0.24 sec\n",
      " ARIMA(2,0,0)(0,0,1)[7] intercept   : AIC=276.257, Time=0.12 sec\n",
      " ARIMA(2,0,0)(1,0,1)[7] intercept   : AIC=inf, Time=0.32 sec\n",
      " ARIMA(3,0,0)(0,0,0)[7] intercept   : AIC=271.790, Time=0.11 sec\n",
      " ARIMA(3,0,0)(1,0,0)[7] intercept   : AIC=273.789, Time=0.58 sec\n",
      " ARIMA(3,0,0)(0,0,1)[7] intercept   : AIC=273.790, Time=0.24 sec\n",
      " ARIMA(3,0,0)(1,0,1)[7] intercept   : AIC=inf, Time=0.32 sec\n",
      " ARIMA(4,0,0)(0,0,0)[7] intercept   : AIC=273.022, Time=0.17 sec\n",
      " ARIMA(3,0,1)(0,0,0)[7] intercept   : AIC=275.641, Time=0.07 sec\n",
      " ARIMA(2,0,1)(0,0,0)[7] intercept   : AIC=4674.571, Time=0.03 sec\n",
      " ARIMA(4,0,1)(0,0,0)[7] intercept   : AIC=275.812, Time=0.05 sec\n",
      " ARIMA(3,0,0)(0,0,0)[7]             : AIC=13261.294, Time=0.02 sec\n",
      "\n",
      "Best model:  ARIMA(3,0,0)(0,0,0)[7] intercept\n",
      "Total fit time: 6.871 seconds\n",
      "Performing stepwise search to minimize aic\n"
     ]
    },
    {
     "name": "stderr",
     "output_type": "stream",
     "text": [
      "/home/jupyter-e.kozhevnikov-1/.local/lib/python3.7/site-packages/pmdarima/arima/_validation.py:35: UserWarning: information_criterion cannot be 'oob' with out_of_sample_size = 0. Falling back to information criterion = aic.\n",
      "  warnings.warn('information_criterion cannot be \\'oob\\' with '\n"
     ]
    },
    {
     "name": "stdout",
     "output_type": "stream",
     "text": [
      " ARIMA(1,1,1)(5,0,5)[7] intercept   : AIC=645.690, Time=5.33 sec\n",
      " ARIMA(0,1,0)(0,0,0)[7] intercept   : AIC=641.357, Time=0.10 sec\n",
      " ARIMA(1,1,0)(1,0,0)[7] intercept   : AIC=632.096, Time=0.23 sec\n",
      " ARIMA(0,1,1)(0,0,1)[7] intercept   : AIC=630.630, Time=0.37 sec\n",
      " ARIMA(0,1,0)(0,0,0)[7]             : AIC=639.642, Time=0.05 sec\n",
      " ARIMA(0,1,1)(0,0,0)[7] intercept   : AIC=632.243, Time=0.08 sec\n",
      " ARIMA(0,1,1)(1,0,1)[7] intercept   : AIC=632.626, Time=0.41 sec\n",
      " ARIMA(0,1,1)(0,0,2)[7] intercept   : AIC=632.606, Time=0.74 sec\n",
      " ARIMA(0,1,1)(1,0,0)[7] intercept   : AIC=630.588, Time=0.18 sec\n",
      " ARIMA(0,1,1)(2,0,0)[7] intercept   : AIC=632.588, Time=1.05 sec\n",
      " ARIMA(0,1,1)(2,0,1)[7] intercept   : AIC=634.588, Time=0.83 sec\n",
      " ARIMA(0,1,0)(1,0,0)[7] intercept   : AIC=642.406, Time=0.10 sec\n",
      " ARIMA(1,1,1)(1,0,0)[7] intercept   : AIC=631.290, Time=0.30 sec\n",
      " ARIMA(0,1,2)(1,0,0)[7] intercept   : AIC=631.291, Time=0.18 sec\n",
      " ARIMA(1,1,2)(1,0,0)[7] intercept   : AIC=630.115, Time=0.18 sec\n",
      " ARIMA(1,1,2)(0,0,0)[7] intercept   : AIC=632.870, Time=0.12 sec\n",
      " ARIMA(1,1,2)(2,0,0)[7] intercept   : AIC=632.084, Time=0.98 sec\n",
      " ARIMA(1,1,2)(1,0,1)[7] intercept   : AIC=632.485, Time=0.46 sec\n",
      " ARIMA(1,1,2)(0,0,1)[7] intercept   : AIC=630.315, Time=0.26 sec\n",
      " ARIMA(1,1,2)(2,0,1)[7] intercept   : AIC=634.447, Time=0.47 sec\n",
      " ARIMA(2,1,2)(1,0,0)[7] intercept   : AIC=648.517, Time=0.40 sec\n",
      " ARIMA(1,1,3)(1,0,0)[7] intercept   : AIC=620.179, Time=0.46 sec\n",
      " ARIMA(1,1,3)(0,0,0)[7] intercept   : AIC=622.677, Time=0.12 sec\n",
      " ARIMA(1,1,3)(2,0,0)[7] intercept   : AIC=621.964, Time=0.82 sec\n",
      " ARIMA(1,1,3)(1,0,1)[7] intercept   : AIC=622.911, Time=0.46 sec\n",
      " ARIMA(1,1,3)(0,0,1)[7] intercept   : AIC=621.081, Time=0.38 sec\n",
      " ARIMA(1,1,3)(2,0,1)[7] intercept   : AIC=624.843, Time=1.17 sec\n",
      " ARIMA(0,1,3)(1,0,0)[7] intercept   : AIC=622.944, Time=0.21 sec\n",
      " ARIMA(2,1,3)(1,0,0)[7] intercept   : AIC=632.471, Time=0.44 sec\n",
      " ARIMA(1,1,4)(1,0,0)[7] intercept   : AIC=617.324, Time=0.35 sec\n",
      " ARIMA(1,1,4)(0,0,0)[7] intercept   : AIC=618.880, Time=0.17 sec\n",
      " ARIMA(1,1,4)(2,0,0)[7] intercept   : AIC=619.244, Time=0.97 sec\n",
      " ARIMA(1,1,4)(1,0,1)[7] intercept   : AIC=619.018, Time=0.64 sec\n",
      " ARIMA(1,1,4)(0,0,1)[7] intercept   : AIC=617.132, Time=0.63 sec\n",
      " ARIMA(1,1,4)(0,0,2)[7] intercept   : AIC=619.312, Time=1.43 sec\n",
      " ARIMA(1,1,4)(1,0,2)[7] intercept   : AIC=622.505, Time=1.09 sec\n",
      " ARIMA(0,1,4)(0,0,1)[7] intercept   : AIC=618.988, Time=0.65 sec\n",
      " ARIMA(2,1,4)(0,0,1)[7] intercept   : AIC=612.469, Time=0.40 sec\n",
      " ARIMA(2,1,4)(0,0,0)[7] intercept   : AIC=612.073, Time=0.15 sec\n",
      " ARIMA(2,1,4)(1,0,0)[7] intercept   : AIC=612.393, Time=0.55 sec\n",
      " ARIMA(2,1,4)(1,0,1)[7] intercept   : AIC=614.468, Time=0.76 sec\n",
      " ARIMA(2,1,3)(0,0,0)[7] intercept   : AIC=635.707, Time=0.21 sec\n",
      " ARIMA(3,1,4)(0,0,0)[7] intercept   : AIC=inf, Time=0.11 sec\n",
      " ARIMA(2,1,5)(0,0,0)[7] intercept   : AIC=inf, Time=0.16 sec\n",
      " ARIMA(1,1,5)(0,0,0)[7] intercept   : AIC=616.668, Time=0.24 sec\n",
      " ARIMA(3,1,3)(0,0,0)[7] intercept   : AIC=638.468, Time=0.13 sec\n",
      " ARIMA(3,1,5)(0,0,0)[7] intercept   : AIC=652.169, Time=0.24 sec\n",
      " ARIMA(2,1,4)(0,0,0)[7]             : AIC=615.830, Time=0.10 sec\n",
      "\n",
      "Best model:  ARIMA(2,1,4)(0,0,0)[7] intercept\n",
      "Total fit time: 25.952 seconds\n",
      "Performing stepwise search to minimize aic\n"
     ]
    },
    {
     "name": "stderr",
     "output_type": "stream",
     "text": [
      "/home/jupyter-e.kozhevnikov-1/.local/lib/python3.7/site-packages/pmdarima/arima/_validation.py:35: UserWarning: information_criterion cannot be 'oob' with out_of_sample_size = 0. Falling back to information criterion = aic.\n",
      "  warnings.warn('information_criterion cannot be \\'oob\\' with '\n"
     ]
    },
    {
     "name": "stdout",
     "output_type": "stream",
     "text": [
      " ARIMA(1,1,1)(5,0,5)[7] intercept   : AIC=704.184, Time=5.58 sec\n",
      " ARIMA(0,1,0)(0,0,0)[7] intercept   : AIC=693.828, Time=0.03 sec\n",
      " ARIMA(1,1,0)(1,0,0)[7] intercept   : AIC=687.425, Time=0.22 sec\n",
      " ARIMA(0,1,1)(0,0,1)[7] intercept   : AIC=687.128, Time=0.10 sec\n",
      " ARIMA(0,1,0)(0,0,0)[7]             : AIC=692.088, Time=0.01 sec\n",
      " ARIMA(0,1,1)(0,0,0)[7] intercept   : AIC=688.677, Time=0.07 sec\n",
      " ARIMA(0,1,1)(1,0,1)[7] intercept   : AIC=687.684, Time=0.17 sec\n",
      " ARIMA(0,1,1)(0,0,2)[7] intercept   : AIC=686.785, Time=0.35 sec\n",
      " ARIMA(0,1,1)(1,0,2)[7] intercept   : AIC=689.020, Time=0.56 sec\n",
      " ARIMA(0,1,1)(0,0,3)[7] intercept   : AIC=688.719, Time=0.87 sec\n",
      " ARIMA(0,1,1)(1,0,3)[7] intercept   : AIC=690.782, Time=1.24 sec\n",
      " ARIMA(0,1,0)(0,0,2)[7] intercept   : AIC=694.203, Time=0.43 sec\n",
      " ARIMA(1,1,1)(0,0,2)[7] intercept   : AIC=688.637, Time=0.70 sec\n",
      " ARIMA(0,1,2)(0,0,2)[7] intercept   : AIC=687.156, Time=0.76 sec\n",
      " ARIMA(1,1,0)(0,0,2)[7] intercept   : AIC=687.901, Time=0.38 sec\n",
      " ARIMA(1,1,2)(0,0,2)[7] intercept   : AIC=690.040, Time=1.09 sec\n",
      " ARIMA(0,1,1)(0,0,2)[7]             : AIC=685.197, Time=0.35 sec\n",
      " ARIMA(0,1,1)(0,0,1)[7]             : AIC=685.609, Time=0.18 sec\n",
      " ARIMA(0,1,1)(1,0,2)[7]             : AIC=687.447, Time=0.41 sec\n",
      " ARIMA(0,1,1)(0,0,3)[7]             : AIC=687.123, Time=0.53 sec\n",
      " ARIMA(0,1,1)(1,0,1)[7]             : AIC=686.154, Time=0.11 sec\n",
      " ARIMA(0,1,1)(1,0,3)[7]             : AIC=689.195, Time=0.69 sec\n",
      " ARIMA(0,1,0)(0,0,2)[7]             : AIC=692.608, Time=0.24 sec\n",
      " ARIMA(1,1,1)(0,0,2)[7]             : AIC=687.109, Time=0.39 sec\n",
      " ARIMA(0,1,2)(0,0,2)[7]             : AIC=685.748, Time=0.23 sec\n",
      " ARIMA(1,1,0)(0,0,2)[7]             : AIC=686.264, Time=0.26 sec\n",
      " ARIMA(1,1,2)(0,0,2)[7]             : AIC=688.492, Time=0.31 sec\n",
      "\n",
      "Best model:  ARIMA(0,1,1)(0,0,2)[7]          \n",
      "Total fit time: 16.323 seconds\n",
      "Performing stepwise search to minimize aic\n"
     ]
    },
    {
     "name": "stderr",
     "output_type": "stream",
     "text": [
      "/home/jupyter-e.kozhevnikov-1/.local/lib/python3.7/site-packages/pmdarima/arima/_validation.py:35: UserWarning: information_criterion cannot be 'oob' with out_of_sample_size = 0. Falling back to information criterion = aic.\n",
      "  warnings.warn('information_criterion cannot be \\'oob\\' with '\n"
     ]
    },
    {
     "name": "stdout",
     "output_type": "stream",
     "text": [
      " ARIMA(1,1,1)(5,0,5)[7] intercept   : AIC=102.995, Time=15.48 sec\n",
      " ARIMA(0,1,0)(0,0,0)[7] intercept   : AIC=88.906, Time=0.23 sec\n",
      " ARIMA(1,1,0)(1,0,0)[7] intercept   : AIC=92.874, Time=0.79 sec\n",
      " ARIMA(0,1,1)(0,0,1)[7] intercept   : AIC=92.893, Time=1.06 sec\n",
      " ARIMA(0,1,0)(0,0,0)[7]             : AIC=87.452, Time=0.20 sec\n",
      " ARIMA(0,1,0)(1,0,0)[7] intercept   : AIC=90.874, Time=0.57 sec\n",
      " ARIMA(0,1,0)(0,0,1)[7] intercept   : AIC=90.874, Time=0.53 sec\n",
      " ARIMA(0,1,0)(1,0,1)[7] intercept   : AIC=92.945, Time=0.42 sec\n",
      " ARIMA(1,1,0)(0,0,0)[7] intercept   : AIC=90.906, Time=0.36 sec\n",
      " ARIMA(0,1,1)(0,0,0)[7] intercept   : AIC=90.906, Time=0.20 sec\n",
      " ARIMA(1,1,1)(0,0,0)[7] intercept   : AIC=92.906, Time=0.32 sec\n",
      "\n",
      "Best model:  ARIMA(0,1,0)(0,0,0)[7]          \n",
      "Total fit time: 20.199 seconds\n",
      "Performing stepwise search to minimize aic\n"
     ]
    },
    {
     "name": "stderr",
     "output_type": "stream",
     "text": [
      "/home/jupyter-e.kozhevnikov-1/.local/lib/python3.7/site-packages/pmdarima/arima/_validation.py:35: UserWarning: information_criterion cannot be 'oob' with out_of_sample_size = 0. Falling back to information criterion = aic.\n",
      "  warnings.warn('information_criterion cannot be \\'oob\\' with '\n"
     ]
    },
    {
     "name": "stdout",
     "output_type": "stream",
     "text": [
      " ARIMA(1,1,1)(5,0,5)[7] intercept   : AIC=1016.013, Time=7.35 sec\n",
      " ARIMA(0,1,0)(0,0,0)[7] intercept   : AIC=1010.489, Time=0.06 sec\n",
      " ARIMA(1,1,0)(1,0,0)[7] intercept   : AIC=1009.180, Time=0.23 sec\n",
      " ARIMA(0,1,1)(0,0,1)[7] intercept   : AIC=1008.530, Time=0.22 sec\n",
      " ARIMA(0,1,0)(0,0,0)[7]             : AIC=1008.655, Time=0.02 sec\n",
      " ARIMA(0,1,1)(0,0,0)[7] intercept   : AIC=1008.515, Time=0.10 sec\n",
      " ARIMA(0,1,1)(1,0,0)[7] intercept   : AIC=1009.031, Time=0.28 sec\n",
      " ARIMA(0,1,1)(1,0,1)[7] intercept   : AIC=1011.868, Time=0.37 sec\n",
      " ARIMA(1,1,1)(0,0,0)[7] intercept   : AIC=1010.401, Time=0.12 sec\n",
      " ARIMA(0,1,2)(0,0,0)[7] intercept   : AIC=1010.360, Time=0.07 sec\n",
      " ARIMA(1,1,0)(0,0,0)[7] intercept   : AIC=1008.601, Time=0.05 sec\n",
      " ARIMA(1,1,2)(0,0,0)[7] intercept   : AIC=1012.484, Time=0.07 sec\n",
      " ARIMA(0,1,1)(0,0,0)[7]             : AIC=1006.721, Time=0.03 sec\n",
      " ARIMA(0,1,1)(1,0,0)[7]             : AIC=1007.281, Time=0.13 sec\n",
      " ARIMA(0,1,1)(0,0,1)[7]             : AIC=1006.801, Time=0.19 sec\n",
      " ARIMA(0,1,1)(1,0,1)[7]             : AIC=1010.098, Time=0.18 sec\n",
      " ARIMA(1,1,1)(0,0,0)[7]             : AIC=1008.629, Time=0.12 sec\n",
      " ARIMA(0,1,2)(0,0,0)[7]             : AIC=1008.588, Time=0.04 sec\n",
      " ARIMA(1,1,0)(0,0,0)[7]             : AIC=1006.800, Time=0.02 sec\n",
      " ARIMA(1,1,2)(0,0,0)[7]             : AIC=1010.698, Time=0.03 sec\n",
      "\n",
      "Best model:  ARIMA(0,1,1)(0,0,0)[7]          \n",
      "Total fit time: 9.729 seconds\n",
      "Performing stepwise search to minimize aic\n"
     ]
    },
    {
     "name": "stderr",
     "output_type": "stream",
     "text": [
      "/home/jupyter-e.kozhevnikov-1/.local/lib/python3.7/site-packages/pmdarima/arima/_validation.py:35: UserWarning: information_criterion cannot be 'oob' with out_of_sample_size = 0. Falling back to information criterion = aic.\n",
      "  warnings.warn('information_criterion cannot be \\'oob\\' with '\n"
     ]
    },
    {
     "name": "stdout",
     "output_type": "stream",
     "text": [
      " ARIMA(1,1,1)(5,0,5)[7] intercept   : AIC=218.859, Time=3.55 sec\n",
      " ARIMA(0,1,0)(0,0,0)[7] intercept   : AIC=199.677, Time=0.03 sec\n",
      " ARIMA(1,1,0)(1,0,0)[7] intercept   : AIC=203.412, Time=0.16 sec\n",
      " ARIMA(0,1,1)(0,0,1)[7] intercept   : AIC=203.414, Time=0.21 sec\n",
      " ARIMA(0,1,0)(0,0,0)[7]             : AIC=197.714, Time=0.02 sec\n",
      " ARIMA(0,1,0)(1,0,0)[7] intercept   : AIC=201.414, Time=0.17 sec\n",
      " ARIMA(0,1,0)(0,0,1)[7] intercept   : AIC=201.417, Time=0.10 sec\n",
      " ARIMA(0,1,0)(1,0,1)[7] intercept   : AIC=203.414, Time=0.20 sec\n",
      " ARIMA(1,1,0)(0,0,0)[7] intercept   : AIC=201.677, Time=0.04 sec\n",
      " ARIMA(0,1,1)(0,0,0)[7] intercept   : AIC=201.677, Time=0.06 sec\n",
      " ARIMA(1,1,1)(0,0,0)[7] intercept   : AIC=203.541, Time=0.04 sec\n",
      "\n",
      "Best model:  ARIMA(0,1,0)(0,0,0)[7]          \n",
      "Total fit time: 4.612 seconds\n",
      "Performing stepwise search to minimize aic\n"
     ]
    },
    {
     "name": "stderr",
     "output_type": "stream",
     "text": [
      "/home/jupyter-e.kozhevnikov-1/.local/lib/python3.7/site-packages/pmdarima/arima/_validation.py:35: UserWarning: information_criterion cannot be 'oob' with out_of_sample_size = 0. Falling back to information criterion = aic.\n",
      "  warnings.warn('information_criterion cannot be \\'oob\\' with '\n"
     ]
    },
    {
     "name": "stdout",
     "output_type": "stream",
     "text": [
      " ARIMA(1,1,1)(5,0,5)[7] intercept   : AIC=304.007, Time=15.58 sec\n",
      " ARIMA(0,1,0)(0,0,0)[7] intercept   : AIC=280.903, Time=0.15 sec\n",
      " ARIMA(1,1,0)(1,0,0)[7] intercept   : AIC=284.903, Time=0.43 sec\n",
      " ARIMA(0,1,1)(0,0,1)[7] intercept   : AIC=284.903, Time=0.43 sec\n",
      " ARIMA(0,1,0)(0,0,0)[7]             : AIC=279.092, Time=0.08 sec\n",
      " ARIMA(0,1,0)(1,0,0)[7] intercept   : AIC=282.903, Time=0.22 sec\n",
      " ARIMA(0,1,0)(0,0,1)[7] intercept   : AIC=282.903, Time=0.32 sec\n",
      " ARIMA(0,1,0)(1,0,1)[7] intercept   : AIC=284.903, Time=0.40 sec\n",
      " ARIMA(1,1,0)(0,0,0)[7] intercept   : AIC=282.903, Time=0.61 sec\n",
      " ARIMA(0,1,1)(0,0,0)[7] intercept   : AIC=282.903, Time=0.12 sec\n",
      " ARIMA(1,1,1)(0,0,0)[7] intercept   : AIC=284.903, Time=0.13 sec\n",
      "\n",
      "Best model:  ARIMA(0,1,0)(0,0,0)[7]          \n",
      "Total fit time: 18.528 seconds\n",
      "Performing stepwise search to minimize aic\n"
     ]
    },
    {
     "name": "stderr",
     "output_type": "stream",
     "text": [
      "/home/jupyter-e.kozhevnikov-1/.local/lib/python3.7/site-packages/pmdarima/arima/_validation.py:35: UserWarning: information_criterion cannot be 'oob' with out_of_sample_size = 0. Falling back to information criterion = aic.\n",
      "  warnings.warn('information_criterion cannot be \\'oob\\' with '\n"
     ]
    },
    {
     "name": "stdout",
     "output_type": "stream",
     "text": [
      " ARIMA(1,1,1)(5,0,5)[7] intercept   : AIC=384.371, Time=20.89 sec\n",
      " ARIMA(0,1,0)(0,0,0)[7] intercept   : AIC=460.802, Time=0.19 sec\n",
      " ARIMA(1,1,0)(1,0,0)[7] intercept   : AIC=372.074, Time=0.68 sec\n",
      " ARIMA(0,1,1)(0,0,1)[7] intercept   : AIC=365.683, Time=0.74 sec\n",
      " ARIMA(0,1,0)(0,0,0)[7]             : AIC=459.044, Time=0.12 sec\n",
      " ARIMA(0,1,1)(0,0,0)[7] intercept   : AIC=364.139, Time=0.19 sec\n",
      " ARIMA(0,1,1)(1,0,0)[7] intercept   : AIC=365.605, Time=0.55 sec\n",
      " ARIMA(0,1,1)(1,0,1)[7] intercept   : AIC=367.664, Time=0.63 sec\n",
      " ARIMA(1,1,1)(0,0,0)[7] intercept   : AIC=365.840, Time=0.24 sec\n",
      " ARIMA(0,1,2)(0,0,0)[7] intercept   : AIC=365.715, Time=0.22 sec\n",
      " ARIMA(1,1,0)(0,0,0)[7] intercept   : AIC=370.430, Time=0.14 sec\n",
      " ARIMA(1,1,2)(0,0,0)[7] intercept   : AIC=368.083, Time=0.30 sec\n",
      " ARIMA(0,1,1)(0,0,0)[7]             : AIC=362.556, Time=0.06 sec\n",
      " ARIMA(0,1,1)(1,0,0)[7]             : AIC=364.004, Time=0.29 sec\n",
      " ARIMA(0,1,1)(0,0,1)[7]             : AIC=363.995, Time=0.52 sec\n",
      " ARIMA(0,1,1)(1,0,1)[7]             : AIC=366.077, Time=0.83 sec\n",
      " ARIMA(1,1,1)(0,0,0)[7]             : AIC=364.267, Time=0.17 sec\n",
      " ARIMA(0,1,2)(0,0,0)[7]             : AIC=364.112, Time=0.10 sec\n",
      " ARIMA(1,1,0)(0,0,0)[7]             : AIC=368.804, Time=0.06 sec\n",
      " ARIMA(1,1,2)(0,0,0)[7]             : AIC=366.417, Time=0.11 sec\n",
      "\n",
      "Best model:  ARIMA(0,1,1)(0,0,0)[7]          \n",
      "Total fit time: 27.113 seconds\n"
     ]
    },
    {
     "name": "stderr",
     "output_type": "stream",
     "text": [
      "/home/jupyter-e.kozhevnikov-1/.local/lib/python3.7/site-packages/pmdarima/arima/_validation.py:35: UserWarning: information_criterion cannot be 'oob' with out_of_sample_size = 0. Falling back to information criterion = aic.\n",
      "  warnings.warn('information_criterion cannot be \\'oob\\' with '\n"
     ]
    },
    {
     "name": "stdout",
     "output_type": "stream",
     "text": [
      "Performing stepwise search to minimize aic\n",
      " ARIMA(1,1,1)(5,0,5)[7] intercept   : AIC=-546.643, Time=19.95 sec\n",
      " ARIMA(0,1,0)(0,0,0)[7] intercept   : AIC=-569.539, Time=0.48 sec\n",
      " ARIMA(1,1,0)(1,0,0)[7] intercept   : AIC=-565.546, Time=0.71 sec\n",
      " ARIMA(0,1,1)(0,0,1)[7] intercept   : AIC=-565.546, Time=0.83 sec\n",
      " ARIMA(0,1,0)(0,0,0)[7]             : AIC=-570.659, Time=0.12 sec\n",
      " ARIMA(0,1,0)(1,0,0)[7] intercept   : AIC=-567.546, Time=0.48 sec\n",
      " ARIMA(0,1,0)(0,0,1)[7] intercept   : AIC=-567.546, Time=0.98 sec\n",
      " ARIMA(0,1,0)(1,0,1)[7] intercept   : AIC=-565.550, Time=0.64 sec\n",
      " ARIMA(1,1,0)(0,0,0)[7] intercept   : AIC=-567.540, Time=0.77 sec\n",
      " ARIMA(0,1,1)(0,0,0)[7] intercept   : AIC=-567.540, Time=0.75 sec\n",
      " ARIMA(1,1,1)(0,0,0)[7] intercept   : AIC=-565.540, Time=0.79 sec\n",
      "\n",
      "Best model:  ARIMA(0,1,0)(0,0,0)[7]          \n",
      "Total fit time: 26.582 seconds\n",
      "Performing stepwise search to minimize aic\n"
     ]
    },
    {
     "name": "stderr",
     "output_type": "stream",
     "text": [
      "/home/jupyter-e.kozhevnikov-1/.local/lib/python3.7/site-packages/pmdarima/arima/_validation.py:35: UserWarning: information_criterion cannot be 'oob' with out_of_sample_size = 0. Falling back to information criterion = aic.\n",
      "  warnings.warn('information_criterion cannot be \\'oob\\' with '\n"
     ]
    },
    {
     "name": "stdout",
     "output_type": "stream",
     "text": [
      " ARIMA(1,1,1)(5,0,5)[7] intercept   : AIC=262.949, Time=10.92 sec\n",
      " ARIMA(0,1,0)(0,0,0)[7] intercept   : AIC=238.950, Time=0.07 sec\n",
      " ARIMA(1,1,0)(1,0,0)[7] intercept   : AIC=242.950, Time=0.84 sec\n",
      " ARIMA(0,1,1)(0,0,1)[7] intercept   : AIC=242.950, Time=0.47 sec\n",
      " ARIMA(0,1,0)(0,0,0)[7]             : AIC=236.952, Time=0.08 sec\n",
      " ARIMA(0,1,0)(1,0,0)[7] intercept   : AIC=240.950, Time=0.27 sec\n",
      " ARIMA(0,1,0)(0,0,1)[7] intercept   : AIC=240.950, Time=0.54 sec\n",
      " ARIMA(0,1,0)(1,0,1)[7] intercept   : AIC=242.950, Time=0.68 sec\n",
      " ARIMA(1,1,0)(0,0,0)[7] intercept   : AIC=240.950, Time=0.22 sec\n",
      " ARIMA(0,1,1)(0,0,0)[7] intercept   : AIC=240.950, Time=0.10 sec\n",
      " ARIMA(1,1,1)(0,0,0)[7] intercept   : AIC=242.950, Time=0.13 sec\n",
      "\n",
      "Best model:  ARIMA(0,1,0)(0,0,0)[7]          \n",
      "Total fit time: 14.381 seconds\n",
      "Performing stepwise search to minimize aic\n"
     ]
    },
    {
     "name": "stderr",
     "output_type": "stream",
     "text": [
      "/home/jupyter-e.kozhevnikov-1/.local/lib/python3.7/site-packages/pmdarima/arima/_validation.py:35: UserWarning: information_criterion cannot be 'oob' with out_of_sample_size = 0. Falling back to information criterion = aic.\n",
      "  warnings.warn('information_criterion cannot be \\'oob\\' with '\n"
     ]
    },
    {
     "name": "stdout",
     "output_type": "stream",
     "text": [
      " ARIMA(1,1,1)(5,0,5)[7] intercept   : AIC=825.016, Time=8.09 sec\n",
      " ARIMA(0,1,0)(0,0,0)[7] intercept   : AIC=823.081, Time=0.11 sec\n",
      " ARIMA(1,1,0)(1,0,0)[7] intercept   : AIC=818.804, Time=0.29 sec\n",
      " ARIMA(0,1,1)(0,0,1)[7] intercept   : AIC=818.428, Time=0.48 sec\n",
      " ARIMA(0,1,0)(0,0,0)[7]             : AIC=821.851, Time=0.03 sec\n",
      " ARIMA(0,1,1)(0,0,0)[7] intercept   : AIC=816.447, Time=0.10 sec\n",
      " ARIMA(0,1,1)(1,0,0)[7] intercept   : AIC=818.431, Time=0.34 sec\n",
      " ARIMA(0,1,1)(1,0,1)[7] intercept   : AIC=820.244, Time=0.48 sec\n",
      " ARIMA(1,1,1)(0,0,0)[7] intercept   : AIC=818.070, Time=0.16 sec\n",
      " ARIMA(0,1,2)(0,0,0)[7] intercept   : AIC=818.084, Time=0.09 sec\n",
      " ARIMA(1,1,0)(0,0,0)[7] intercept   : AIC=816.850, Time=0.06 sec\n",
      " ARIMA(1,1,2)(0,0,0)[7] intercept   : AIC=820.423, Time=0.08 sec\n",
      " ARIMA(0,1,1)(0,0,0)[7]             : AIC=815.539, Time=0.03 sec\n",
      " ARIMA(0,1,1)(1,0,0)[7]             : AIC=817.512, Time=0.14 sec\n",
      " ARIMA(0,1,1)(0,0,1)[7]             : AIC=817.494, Time=0.27 sec\n",
      " ARIMA(0,1,1)(1,0,1)[7]             : AIC=819.282, Time=0.22 sec\n",
      " ARIMA(1,1,1)(0,0,0)[7]             : AIC=817.295, Time=0.09 sec\n",
      " ARIMA(0,1,2)(0,0,0)[7]             : AIC=817.293, Time=0.04 sec\n",
      " ARIMA(1,1,0)(0,0,0)[7]             : AIC=815.882, Time=0.03 sec\n",
      " ARIMA(1,1,2)(0,0,0)[7]             : AIC=819.528, Time=0.04 sec\n",
      "\n",
      "Best model:  ARIMA(0,1,1)(0,0,0)[7]          \n",
      "Total fit time: 11.227 seconds\n",
      "Performing stepwise search to minimize aic\n"
     ]
    },
    {
     "name": "stderr",
     "output_type": "stream",
     "text": [
      "/home/jupyter-e.kozhevnikov-1/.local/lib/python3.7/site-packages/pmdarima/arima/_validation.py:35: UserWarning: information_criterion cannot be 'oob' with out_of_sample_size = 0. Falling back to information criterion = aic.\n",
      "  warnings.warn('information_criterion cannot be \\'oob\\' with '\n"
     ]
    },
    {
     "name": "stdout",
     "output_type": "stream",
     "text": [
      " ARIMA(1,1,1)(5,0,5)[7] intercept   : AIC=-443.140, Time=26.19 sec\n",
      " ARIMA(0,1,0)(0,0,0)[7] intercept   : AIC=-466.379, Time=0.37 sec\n",
      " ARIMA(1,1,0)(1,0,0)[7] intercept   : AIC=-462.795, Time=0.78 sec\n",
      " ARIMA(0,1,1)(0,0,1)[7] intercept   : AIC=-462.803, Time=0.94 sec\n",
      " ARIMA(0,1,0)(0,0,0)[7]             : AIC=-468.119, Time=0.14 sec\n",
      " ARIMA(0,1,0)(1,0,0)[7] intercept   : AIC=-464.795, Time=0.39 sec\n",
      " ARIMA(0,1,0)(0,0,1)[7] intercept   : AIC=-464.803, Time=1.36 sec\n",
      " ARIMA(0,1,0)(1,0,1)[7] intercept   : AIC=-462.778, Time=0.61 sec\n",
      " ARIMA(1,1,0)(0,0,0)[7] intercept   : AIC=-464.379, Time=0.58 sec\n",
      " ARIMA(0,1,1)(0,0,0)[7] intercept   : AIC=-464.379, Time=0.39 sec\n",
      " ARIMA(1,1,1)(0,0,0)[7] intercept   : AIC=-462.379, Time=1.38 sec\n",
      "\n",
      "Best model:  ARIMA(0,1,0)(0,0,0)[7]          \n",
      "Total fit time: 33.196 seconds\n",
      "Performing stepwise search to minimize aic\n"
     ]
    },
    {
     "name": "stderr",
     "output_type": "stream",
     "text": [
      "/home/jupyter-e.kozhevnikov-1/.local/lib/python3.7/site-packages/pmdarima/arima/_validation.py:35: UserWarning: information_criterion cannot be 'oob' with out_of_sample_size = 0. Falling back to information criterion = aic.\n",
      "  warnings.warn('information_criterion cannot be \\'oob\\' with '\n"
     ]
    },
    {
     "name": "stdout",
     "output_type": "stream",
     "text": [
      " ARIMA(1,1,1)(5,0,5)[7] intercept   : AIC=713.897, Time=8.13 sec\n",
      " ARIMA(0,1,0)(0,0,0)[7] intercept   : AIC=702.007, Time=0.13 sec\n",
      " ARIMA(1,1,0)(1,0,0)[7] intercept   : AIC=703.133, Time=0.27 sec\n",
      " ARIMA(0,1,1)(0,0,1)[7] intercept   : AIC=703.044, Time=0.38 sec\n",
      " ARIMA(0,1,0)(0,0,0)[7]             : AIC=700.545, Time=0.03 sec\n",
      " ARIMA(0,1,0)(1,0,0)[7] intercept   : AIC=701.276, Time=0.12 sec\n",
      " ARIMA(0,1,0)(0,0,1)[7] intercept   : AIC=701.175, Time=0.19 sec\n",
      " ARIMA(0,1,0)(1,0,1)[7] intercept   : AIC=703.260, Time=0.14 sec\n",
      " ARIMA(1,1,0)(0,0,0)[7] intercept   : AIC=704.006, Time=0.04 sec\n",
      " ARIMA(0,1,1)(0,0,0)[7] intercept   : AIC=704.006, Time=0.06 sec\n",
      " ARIMA(1,1,1)(0,0,0)[7] intercept   : AIC=706.006, Time=0.09 sec\n",
      "\n",
      "Best model:  ARIMA(0,1,0)(0,0,0)[7]          \n",
      "Total fit time: 9.607 seconds\n",
      "Performing stepwise search to minimize aic\n"
     ]
    },
    {
     "name": "stderr",
     "output_type": "stream",
     "text": [
      "/home/jupyter-e.kozhevnikov-1/.local/lib/python3.7/site-packages/pmdarima/arima/_validation.py:35: UserWarning: information_criterion cannot be 'oob' with out_of_sample_size = 0. Falling back to information criterion = aic.\n",
      "  warnings.warn('information_criterion cannot be \\'oob\\' with '\n"
     ]
    },
    {
     "name": "stdout",
     "output_type": "stream",
     "text": [
      " ARIMA(1,1,1)(5,0,5)[7] intercept   : AIC=-41.779, Time=19.64 sec\n",
      " ARIMA(0,1,0)(0,0,0)[7] intercept   : AIC=-65.789, Time=0.18 sec\n",
      " ARIMA(1,1,0)(1,0,0)[7] intercept   : AIC=-61.789, Time=0.76 sec\n",
      " ARIMA(0,1,1)(0,0,1)[7] intercept   : AIC=-61.789, Time=1.04 sec\n",
      " ARIMA(0,1,0)(0,0,0)[7]             : AIC=-67.355, Time=0.12 sec\n",
      " ARIMA(0,1,0)(1,0,0)[7] intercept   : AIC=-63.789, Time=0.24 sec\n",
      " ARIMA(0,1,0)(0,0,1)[7] intercept   : AIC=-63.789, Time=0.55 sec\n",
      " ARIMA(0,1,0)(1,0,1)[7] intercept   : AIC=-61.789, Time=0.89 sec\n",
      " ARIMA(1,1,0)(0,0,0)[7] intercept   : AIC=-63.789, Time=0.23 sec\n",
      " ARIMA(0,1,1)(0,0,0)[7] intercept   : AIC=-63.789, Time=0.15 sec\n",
      " ARIMA(1,1,1)(0,0,0)[7] intercept   : AIC=-61.789, Time=0.20 sec\n",
      "\n",
      "Best model:  ARIMA(0,1,0)(0,0,0)[7]          \n",
      "Total fit time: 24.052 seconds\n",
      "CPU times: user 15min 9s, sys: 12min 50s, total: 27min 59s\n",
      "Wall time: 6min\n"
     ]
    }
   ],
   "source": [
    "%%time\n",
    "\n",
    "for sku_i in sku_to_predict:\n",
    "    # subset train df\n",
    "    cur_train_df = ttl_sku_df.loc[ttl_sku_df.SKU == sku_i, ] \n",
    "\n",
    "    # fit auto sarima\n",
    "    cur_auto_1 = pmdarima.auto_arima(y = cur_train_df['price_per_sku_real'], n_fits=100,\n",
    "        max_p=15, max_d=15, max_q=15, start_p=1, start_q=1, start_P=5, start_Q=5, m=7, information_criterion='oob',\n",
    "        max_P=12, max_D=12, max_Q=12, max_order=15, trace=True, maxiter=3)\n",
    "    \n",
    "    # get len of predict from test_df\n",
    "    frcst_len = len(test_df.loc[test_df.SKU == sku_i, ])\n",
    "    \n",
    "    # add predict to test_df\n",
    "    test_df.loc[test_df.SKU == sku_i, 'predict'] = cur_auto_1.predict(n_periods=frcst_len)\n",
    "    \n",
    "    \n",
    "    \n",
    "    "
   ]
  },
  {
   "cell_type": "code",
   "execution_count": 237,
   "metadata": {},
   "outputs": [],
   "source": [
    "test_df.columns = ['dates', 'SKU', 'price_per_sku']"
   ]
  },
  {
   "cell_type": "code",
   "execution_count": 238,
   "metadata": {},
   "outputs": [
    {
     "data": {
      "text/html": [
       "<div>\n",
       "<style scoped>\n",
       "    .dataframe tbody tr th:only-of-type {\n",
       "        vertical-align: middle;\n",
       "    }\n",
       "\n",
       "    .dataframe tbody tr th {\n",
       "        vertical-align: top;\n",
       "    }\n",
       "\n",
       "    .dataframe thead th {\n",
       "        text-align: right;\n",
       "    }\n",
       "</style>\n",
       "<table border=\"1\" class=\"dataframe\">\n",
       "  <thead>\n",
       "    <tr style=\"text-align: right;\">\n",
       "      <th></th>\n",
       "      <th>dates</th>\n",
       "      <th>SKU</th>\n",
       "      <th>price_per_sku</th>\n",
       "    </tr>\n",
       "  </thead>\n",
       "  <tbody>\n",
       "    <tr>\n",
       "      <th>0</th>\n",
       "      <td>2018-12-17</td>\n",
       "      <td>98255</td>\n",
       "      <td>67.116</td>\n",
       "    </tr>\n",
       "    <tr>\n",
       "      <th>1</th>\n",
       "      <td>2018-12-21</td>\n",
       "      <td>98255</td>\n",
       "      <td>67.116</td>\n",
       "    </tr>\n",
       "    <tr>\n",
       "      <th>2</th>\n",
       "      <td>2018-12-22</td>\n",
       "      <td>98255</td>\n",
       "      <td>67.116</td>\n",
       "    </tr>\n",
       "    <tr>\n",
       "      <th>3</th>\n",
       "      <td>2018-12-23</td>\n",
       "      <td>98255</td>\n",
       "      <td>67.116</td>\n",
       "    </tr>\n",
       "    <tr>\n",
       "      <th>4</th>\n",
       "      <td>2018-12-24</td>\n",
       "      <td>98255</td>\n",
       "      <td>67.116</td>\n",
       "    </tr>\n",
       "  </tbody>\n",
       "</table>\n",
       "</div>"
      ],
      "text/plain": [
       "        dates    SKU  price_per_sku\n",
       "0  2018-12-17  98255         67.116\n",
       "1  2018-12-21  98255         67.116\n",
       "2  2018-12-22  98255         67.116\n",
       "3  2018-12-23  98255         67.116\n",
       "4  2018-12-24  98255         67.116"
      ]
     },
     "execution_count": 238,
     "metadata": {},
     "output_type": "execute_result"
    }
   ],
   "source": [
    "test_df.head()"
   ]
  },
  {
   "cell_type": "code",
   "execution_count": 239,
   "metadata": {},
   "outputs": [
    {
     "name": "stdout",
     "output_type": "stream",
     "text": [
      "<class 'pandas.core.frame.DataFrame'>\n",
      "RangeIndex: 175 entries, 0 to 174\n",
      "Data columns (total 3 columns):\n",
      " #   Column         Non-Null Count  Dtype  \n",
      "---  ------         --------------  -----  \n",
      " 0   dates          175 non-null    object \n",
      " 1   SKU            175 non-null    int64  \n",
      " 2   price_per_sku  175 non-null    float64\n",
      "dtypes: float64(1), int64(1), object(1)\n",
      "memory usage: 4.2+ KB\n"
     ]
    }
   ],
   "source": [
    "test_df.info()"
   ]
  },
  {
   "cell_type": "code",
   "execution_count": 240,
   "metadata": {},
   "outputs": [
    {
     "data": {
      "text/html": [
       "<div>\n",
       "<style scoped>\n",
       "    .dataframe tbody tr th:only-of-type {\n",
       "        vertical-align: middle;\n",
       "    }\n",
       "\n",
       "    .dataframe tbody tr th {\n",
       "        vertical-align: top;\n",
       "    }\n",
       "\n",
       "    .dataframe thead th {\n",
       "        text-align: right;\n",
       "    }\n",
       "</style>\n",
       "<table border=\"1\" class=\"dataframe\">\n",
       "  <thead>\n",
       "    <tr style=\"text-align: right;\">\n",
       "      <th></th>\n",
       "      <th>SKU</th>\n",
       "      <th>price_per_sku</th>\n",
       "    </tr>\n",
       "  </thead>\n",
       "  <tbody>\n",
       "    <tr>\n",
       "      <th>count</th>\n",
       "      <td>175.000000</td>\n",
       "      <td>175.000000</td>\n",
       "    </tr>\n",
       "    <tr>\n",
       "      <th>mean</th>\n",
       "      <td>56727.400000</td>\n",
       "      <td>138.354849</td>\n",
       "    </tr>\n",
       "    <tr>\n",
       "      <th>std</th>\n",
       "      <td>26456.220602</td>\n",
       "      <td>79.420896</td>\n",
       "    </tr>\n",
       "    <tr>\n",
       "      <th>min</th>\n",
       "      <td>10334.000000</td>\n",
       "      <td>67.116000</td>\n",
       "    </tr>\n",
       "    <tr>\n",
       "      <th>25%</th>\n",
       "      <td>36096.000000</td>\n",
       "      <td>92.257000</td>\n",
       "    </tr>\n",
       "    <tr>\n",
       "      <th>50%</th>\n",
       "      <td>60870.000000</td>\n",
       "      <td>119.568000</td>\n",
       "    </tr>\n",
       "    <tr>\n",
       "      <th>75%</th>\n",
       "      <td>80308.000000</td>\n",
       "      <td>149.710000</td>\n",
       "    </tr>\n",
       "    <tr>\n",
       "      <th>max</th>\n",
       "      <td>98255.000000</td>\n",
       "      <td>454.175000</td>\n",
       "    </tr>\n",
       "  </tbody>\n",
       "</table>\n",
       "</div>"
      ],
      "text/plain": [
       "                SKU  price_per_sku\n",
       "count    175.000000     175.000000\n",
       "mean   56727.400000     138.354849\n",
       "std    26456.220602      79.420896\n",
       "min    10334.000000      67.116000\n",
       "25%    36096.000000      92.257000\n",
       "50%    60870.000000     119.568000\n",
       "75%    80308.000000     149.710000\n",
       "max    98255.000000     454.175000"
      ]
     },
     "execution_count": 240,
     "metadata": {},
     "output_type": "execute_result"
    }
   ],
   "source": [
    "test_df.describe()"
   ]
  },
  {
   "cell_type": "code",
   "execution_count": 241,
   "metadata": {},
   "outputs": [],
   "source": [
    "test_df.to_csv('prediction.csv', index=False)"
   ]
  },
  {
   "cell_type": "code",
   "execution_count": null,
   "metadata": {},
   "outputs": [],
   "source": []
  },
  {
   "cell_type": "code",
   "execution_count": null,
   "metadata": {},
   "outputs": [],
   "source": []
  },
  {
   "cell_type": "code",
   "execution_count": null,
   "metadata": {},
   "outputs": [],
   "source": []
  },
  {
   "cell_type": "code",
   "execution_count": null,
   "metadata": {},
   "outputs": [],
   "source": []
  },
  {
   "cell_type": "code",
   "execution_count": null,
   "metadata": {},
   "outputs": [],
   "source": []
  },
  {
   "cell_type": "code",
   "execution_count": null,
   "metadata": {},
   "outputs": [],
   "source": []
  },
  {
   "cell_type": "code",
   "execution_count": null,
   "metadata": {},
   "outputs": [],
   "source": []
  },
  {
   "cell_type": "code",
   "execution_count": null,
   "metadata": {},
   "outputs": [],
   "source": [
    "\n",
    "\n",
    "\n",
    "\n",
    "\n",
    "\n",
    "\n",
    "\n",
    "\n",
    "\n",
    "\n",
    "\n",
    "\n",
    "\n",
    "\n",
    "\n",
    "\n",
    "\n",
    "\n",
    "\n",
    "\n",
    "\n",
    "\n",
    "\n",
    "\n",
    "\n",
    "\n",
    "\n",
    "\n",
    "\n",
    "\n",
    "\n",
    "\n",
    "\n",
    "\n",
    "\n",
    "\n",
    "\n",
    "\n",
    "\n",
    "\n",
    "\n",
    "\n",
    "\n",
    "\n",
    "\n",
    "\n",
    "\n",
    "\n",
    "\n",
    "\n",
    "\n",
    "\n",
    "\n",
    "\n",
    "\n",
    "\n",
    "\n",
    "\n"
   ]
  }
 ],
 "metadata": {
  "kernelspec": {
   "display_name": "Python 3",
   "language": "python",
   "name": "python3"
  },
  "language_info": {
   "codemirror_mode": {
    "name": "ipython",
    "version": 3
   },
   "file_extension": ".py",
   "mimetype": "text/x-python",
   "name": "python",
   "nbconvert_exporter": "python",
   "pygments_lexer": "ipython3",
   "version": "3.7.3"
  },
  "toc": {
   "base_numbering": 1,
   "nav_menu": {},
   "number_sections": true,
   "sideBar": true,
   "skip_h1_title": false,
   "title_cell": "Table of Contents",
   "title_sidebar": "Contents",
   "toc_cell": false,
   "toc_position": {
    "height": "calc(100% - 180px)",
    "left": "10px",
    "top": "150px",
    "width": "165px"
   },
   "toc_section_display": true,
   "toc_window_display": true
  },
  "varInspector": {
   "cols": {
    "lenName": 16,
    "lenType": 16,
    "lenVar": 40
   },
   "kernels_config": {
    "python": {
     "delete_cmd_postfix": "",
     "delete_cmd_prefix": "del ",
     "library": "var_list.py",
     "varRefreshCmd": "print(var_dic_list())"
    },
    "r": {
     "delete_cmd_postfix": ") ",
     "delete_cmd_prefix": "rm(",
     "library": "var_list.r",
     "varRefreshCmd": "cat(var_dic_list()) "
    }
   },
   "types_to_exclude": [
    "module",
    "function",
    "builtin_function_or_method",
    "instance",
    "_Feature"
   ],
   "window_display": false
  }
 },
 "nbformat": 4,
 "nbformat_minor": 4
}
